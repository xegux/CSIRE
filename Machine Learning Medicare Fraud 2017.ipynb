{
 "cells": [
  {
   "cell_type": "code",
   "execution_count": 18,
   "metadata": {},
   "outputs": [],
   "source": [
    "#some of these we do not need\n",
    "\n",
    "import pandas as pd\n",
    "import numpy as np\n",
    "#import matplotlib.pyplot as plt\n",
    "#from tqdm import tqdm_notebook, tqdm\n",
    "#import glob, os, csv\n",
    "#import plotly.plotly as py\n",
    "#import plotly.graph_objs as go\n",
    "#import plotly.figure_factory as ff\n",
    "#import plotly\n",
    "#from sklearn.preprocessing import LabelEncoder"
   ]
  },
  {
   "cell_type": "code",
   "execution_count": 2,
   "metadata": {},
   "outputs": [
    {
     "name": "stdout",
     "output_type": "stream",
     "text": [
      "The data has a size of (901177, 1169)\n"
     ]
    }
   ],
   "source": [
    "#import final dataset\n",
    "\n",
    "new_main_2017 = pd.read_csv('data/npi_exclusion_generic_2017_us.csv', low_memory=False)\n",
    "print(\"The data has a size of {}\".format(new_main_2017.shape))"
   ]
  },
  {
   "cell_type": "code",
   "execution_count": 3,
   "metadata": {},
   "outputs": [
    {
     "data": {
      "text/html": [
       "<div>\n",
       "<style scoped>\n",
       "    .dataframe tbody tr th:only-of-type {\n",
       "        vertical-align: middle;\n",
       "    }\n",
       "\n",
       "    .dataframe tbody tr th {\n",
       "        vertical-align: top;\n",
       "    }\n",
       "\n",
       "    .dataframe thead th {\n",
       "        text-align: right;\n",
       "    }\n",
       "</style>\n",
       "<table border=\"1\" class=\"dataframe\">\n",
       "  <thead>\n",
       "    <tr style=\"text-align: right;\">\n",
       "      <th></th>\n",
       "      <th>Unnamed: 0</th>\n",
       "      <th>npi</th>\n",
       "      <th>is_excluded</th>\n",
       "      <th>year</th>\n",
       "      <th>total_claim_count</th>\n",
       "      <th>0.9 % SODIUM CHLORIDE</th>\n",
       "      <th>AA 5 %/CALCIUM/LYTES/DEXT 20 %</th>\n",
       "      <th>ABACAVIR SULFATE</th>\n",
       "      <th>ABACAVIR SULFATE/LAMIVUDINE</th>\n",
       "      <th>ABACAVIR/LAMIVUDINE/ZIDOVUDINE</th>\n",
       "      <th>...</th>\n",
       "      <th>ZANAMIVIR</th>\n",
       "      <th>ZIDOVUDINE</th>\n",
       "      <th>ZILEUTON</th>\n",
       "      <th>ZIPRASIDONE HCL</th>\n",
       "      <th>ZIPRASIDONE MESYLATE</th>\n",
       "      <th>ZOLEDRONIC ACID</th>\n",
       "      <th>ZOLMITRIPTAN</th>\n",
       "      <th>ZOLPIDEM TARTRATE</th>\n",
       "      <th>ZONISAMIDE</th>\n",
       "      <th>ZOSTER VACCINE LIVE/PF</th>\n",
       "    </tr>\n",
       "  </thead>\n",
       "  <tbody>\n",
       "    <tr>\n",
       "      <th>0</th>\n",
       "      <td>0</td>\n",
       "      <td>1003000126</td>\n",
       "      <td>0</td>\n",
       "      <td>2017</td>\n",
       "      <td>385</td>\n",
       "      <td>0.0</td>\n",
       "      <td>0.0</td>\n",
       "      <td>0.0</td>\n",
       "      <td>0.0</td>\n",
       "      <td>0.0</td>\n",
       "      <td>...</td>\n",
       "      <td>0.0</td>\n",
       "      <td>0.0</td>\n",
       "      <td>0.0</td>\n",
       "      <td>0.0</td>\n",
       "      <td>0.0</td>\n",
       "      <td>0.0</td>\n",
       "      <td>0.0</td>\n",
       "      <td>0.0</td>\n",
       "      <td>0.0</td>\n",
       "      <td>0.0</td>\n",
       "    </tr>\n",
       "  </tbody>\n",
       "</table>\n",
       "<p>1 rows × 1169 columns</p>\n",
       "</div>"
      ],
      "text/plain": [
       "   Unnamed: 0         npi  is_excluded  year  total_claim_count  \\\n",
       "0           0  1003000126            0  2017                385   \n",
       "\n",
       "   0.9 % SODIUM CHLORIDE  AA 5 %/CALCIUM/LYTES/DEXT 20 %  ABACAVIR SULFATE  \\\n",
       "0                    0.0                             0.0               0.0   \n",
       "\n",
       "   ABACAVIR SULFATE/LAMIVUDINE  ABACAVIR/LAMIVUDINE/ZIDOVUDINE  ...  \\\n",
       "0                          0.0                             0.0  ...   \n",
       "\n",
       "   ZANAMIVIR  ZIDOVUDINE  ZILEUTON  ZIPRASIDONE HCL  ZIPRASIDONE MESYLATE  \\\n",
       "0        0.0         0.0       0.0              0.0                   0.0   \n",
       "\n",
       "   ZOLEDRONIC ACID  ZOLMITRIPTAN  ZOLPIDEM TARTRATE  ZONISAMIDE  \\\n",
       "0              0.0           0.0                0.0         0.0   \n",
       "\n",
       "   ZOSTER VACCINE LIVE/PF  \n",
       "0                     0.0  \n",
       "\n",
       "[1 rows x 1169 columns]"
      ]
     },
     "execution_count": 3,
     "metadata": {},
     "output_type": "execute_result"
    }
   ],
   "source": [
    "new_main_2017.head(1)"
   ]
  },
  {
   "cell_type": "code",
   "execution_count": 4,
   "metadata": {},
   "outputs": [],
   "source": [
    "new_main_2017.drop(['Unnamed: 0','npi','year'], axis=1, inplace = True)"
   ]
  },
  {
   "cell_type": "code",
   "execution_count": 5,
   "metadata": {},
   "outputs": [
    {
     "data": {
      "text/html": [
       "<div>\n",
       "<style scoped>\n",
       "    .dataframe tbody tr th:only-of-type {\n",
       "        vertical-align: middle;\n",
       "    }\n",
       "\n",
       "    .dataframe tbody tr th {\n",
       "        vertical-align: top;\n",
       "    }\n",
       "\n",
       "    .dataframe thead th {\n",
       "        text-align: right;\n",
       "    }\n",
       "</style>\n",
       "<table border=\"1\" class=\"dataframe\">\n",
       "  <thead>\n",
       "    <tr style=\"text-align: right;\">\n",
       "      <th></th>\n",
       "      <th>is_excluded</th>\n",
       "      <th>total_claim_count</th>\n",
       "      <th>0.9 % SODIUM CHLORIDE</th>\n",
       "      <th>AA 5 %/CALCIUM/LYTES/DEXT 20 %</th>\n",
       "      <th>ABACAVIR SULFATE</th>\n",
       "      <th>ABACAVIR SULFATE/LAMIVUDINE</th>\n",
       "      <th>ABACAVIR/LAMIVUDINE/ZIDOVUDINE</th>\n",
       "      <th>ABATACEPT</th>\n",
       "      <th>ABATACEPT/MALTOSE</th>\n",
       "      <th>ABIRATERONE ACETATE</th>\n",
       "      <th>...</th>\n",
       "      <th>ZANAMIVIR</th>\n",
       "      <th>ZIDOVUDINE</th>\n",
       "      <th>ZILEUTON</th>\n",
       "      <th>ZIPRASIDONE HCL</th>\n",
       "      <th>ZIPRASIDONE MESYLATE</th>\n",
       "      <th>ZOLEDRONIC ACID</th>\n",
       "      <th>ZOLMITRIPTAN</th>\n",
       "      <th>ZOLPIDEM TARTRATE</th>\n",
       "      <th>ZONISAMIDE</th>\n",
       "      <th>ZOSTER VACCINE LIVE/PF</th>\n",
       "    </tr>\n",
       "  </thead>\n",
       "  <tbody>\n",
       "    <tr>\n",
       "      <th>0</th>\n",
       "      <td>0</td>\n",
       "      <td>385</td>\n",
       "      <td>0.0</td>\n",
       "      <td>0.0</td>\n",
       "      <td>0.0</td>\n",
       "      <td>0.0</td>\n",
       "      <td>0.0</td>\n",
       "      <td>0.0</td>\n",
       "      <td>0.0</td>\n",
       "      <td>0.0</td>\n",
       "      <td>...</td>\n",
       "      <td>0.0</td>\n",
       "      <td>0.0</td>\n",
       "      <td>0.0</td>\n",
       "      <td>0.0</td>\n",
       "      <td>0.0</td>\n",
       "      <td>0.0</td>\n",
       "      <td>0.0</td>\n",
       "      <td>0.0</td>\n",
       "      <td>0.0</td>\n",
       "      <td>0.0</td>\n",
       "    </tr>\n",
       "  </tbody>\n",
       "</table>\n",
       "<p>1 rows × 1166 columns</p>\n",
       "</div>"
      ],
      "text/plain": [
       "   is_excluded  total_claim_count  0.9 % SODIUM CHLORIDE  \\\n",
       "0            0                385                    0.0   \n",
       "\n",
       "   AA 5 %/CALCIUM/LYTES/DEXT 20 %  ABACAVIR SULFATE  \\\n",
       "0                             0.0               0.0   \n",
       "\n",
       "   ABACAVIR SULFATE/LAMIVUDINE  ABACAVIR/LAMIVUDINE/ZIDOVUDINE  ABATACEPT  \\\n",
       "0                          0.0                             0.0        0.0   \n",
       "\n",
       "   ABATACEPT/MALTOSE  ABIRATERONE ACETATE  ...  ZANAMIVIR  ZIDOVUDINE  \\\n",
       "0                0.0                  0.0  ...        0.0         0.0   \n",
       "\n",
       "   ZILEUTON  ZIPRASIDONE HCL  ZIPRASIDONE MESYLATE  ZOLEDRONIC ACID  \\\n",
       "0       0.0              0.0                   0.0              0.0   \n",
       "\n",
       "   ZOLMITRIPTAN  ZOLPIDEM TARTRATE  ZONISAMIDE  ZOSTER VACCINE LIVE/PF  \n",
       "0           0.0                0.0         0.0                     0.0  \n",
       "\n",
       "[1 rows x 1166 columns]"
      ]
     },
     "execution_count": 5,
     "metadata": {},
     "output_type": "execute_result"
    }
   ],
   "source": [
    "new_main_2017.head(1)"
   ]
  },
  {
   "cell_type": "code",
   "execution_count": 6,
   "metadata": {},
   "outputs": [
    {
     "data": {
      "text/plain": [
       "99"
      ]
     },
     "execution_count": 6,
     "metadata": {},
     "output_type": "execute_result"
    }
   ],
   "source": [
    "len(new_main_2017[new_main_2017['is_excluded'] == 1])"
   ]
  },
  {
   "cell_type": "code",
   "execution_count": 7,
   "metadata": {},
   "outputs": [],
   "source": [
    "dropIndex = new_main_2017[new_main_2017['is_excluded'] == 1].index"
   ]
  },
  {
   "cell_type": "code",
   "execution_count": 8,
   "metadata": {},
   "outputs": [
    {
     "data": {
      "text/plain": [
       "901078"
      ]
     },
     "execution_count": 8,
     "metadata": {},
     "output_type": "execute_result"
    }
   ],
   "source": [
    "len(new_main_2017[new_main_2017['is_excluded'] == 0])"
   ]
  },
  {
   "cell_type": "code",
   "execution_count": 9,
   "metadata": {},
   "outputs": [],
   "source": [
    "only_excluded = new_main_2017[new_main_2017['is_excluded'] == 1]\n",
    "new_main_2017.drop(dropIndex, inplace = True)\n",
    "new_main_2017 = new_main_2017.sample(frac=1)\n",
    "random_sample = new_main_2017.iloc[0:85000]\n",
    "new_df = pd.concat([only_excluded, random_sample])\n",
    "new_main_2017 = new_main_2017.drop(new_main_2017.iloc[0:85000].index, axis = 0)\n",
    "new_df = new_df.sample(frac=1)\n",
    "#part_d_df.iloc[0:85000].index"
   ]
  },
  {
   "cell_type": "code",
   "execution_count": 10,
   "metadata": {},
   "outputs": [
    {
     "data": {
      "text/html": [
       "<div>\n",
       "<style scoped>\n",
       "    .dataframe tbody tr th:only-of-type {\n",
       "        vertical-align: middle;\n",
       "    }\n",
       "\n",
       "    .dataframe tbody tr th {\n",
       "        vertical-align: top;\n",
       "    }\n",
       "\n",
       "    .dataframe thead th {\n",
       "        text-align: right;\n",
       "    }\n",
       "</style>\n",
       "<table border=\"1\" class=\"dataframe\">\n",
       "  <thead>\n",
       "    <tr style=\"text-align: right;\">\n",
       "      <th></th>\n",
       "      <th>is_excluded</th>\n",
       "      <th>total_claim_count</th>\n",
       "      <th>0.9 % SODIUM CHLORIDE</th>\n",
       "      <th>AA 5 %/CALCIUM/LYTES/DEXT 20 %</th>\n",
       "      <th>ABACAVIR SULFATE</th>\n",
       "      <th>ABACAVIR SULFATE/LAMIVUDINE</th>\n",
       "      <th>ABACAVIR/LAMIVUDINE/ZIDOVUDINE</th>\n",
       "      <th>ABATACEPT</th>\n",
       "      <th>ABATACEPT/MALTOSE</th>\n",
       "      <th>ABIRATERONE ACETATE</th>\n",
       "      <th>...</th>\n",
       "      <th>ZANAMIVIR</th>\n",
       "      <th>ZIDOVUDINE</th>\n",
       "      <th>ZILEUTON</th>\n",
       "      <th>ZIPRASIDONE HCL</th>\n",
       "      <th>ZIPRASIDONE MESYLATE</th>\n",
       "      <th>ZOLEDRONIC ACID</th>\n",
       "      <th>ZOLMITRIPTAN</th>\n",
       "      <th>ZOLPIDEM TARTRATE</th>\n",
       "      <th>ZONISAMIDE</th>\n",
       "      <th>ZOSTER VACCINE LIVE/PF</th>\n",
       "    </tr>\n",
       "  </thead>\n",
       "  <tbody>\n",
       "    <tr>\n",
       "      <th>897589</th>\n",
       "      <td>0</td>\n",
       "      <td>1406</td>\n",
       "      <td>0.0</td>\n",
       "      <td>0.0</td>\n",
       "      <td>0.0</td>\n",
       "      <td>0.0</td>\n",
       "      <td>0.0</td>\n",
       "      <td>0.0</td>\n",
       "      <td>0.0</td>\n",
       "      <td>0.0</td>\n",
       "      <td>...</td>\n",
       "      <td>0.0</td>\n",
       "      <td>0.0</td>\n",
       "      <td>0.0</td>\n",
       "      <td>0.0</td>\n",
       "      <td>0.0</td>\n",
       "      <td>0.0</td>\n",
       "      <td>0.0</td>\n",
       "      <td>0.0</td>\n",
       "      <td>0.0</td>\n",
       "      <td>0.0</td>\n",
       "    </tr>\n",
       "    <tr>\n",
       "      <th>654757</th>\n",
       "      <td>0</td>\n",
       "      <td>23</td>\n",
       "      <td>0.0</td>\n",
       "      <td>0.0</td>\n",
       "      <td>0.0</td>\n",
       "      <td>0.0</td>\n",
       "      <td>0.0</td>\n",
       "      <td>0.0</td>\n",
       "      <td>0.0</td>\n",
       "      <td>0.0</td>\n",
       "      <td>...</td>\n",
       "      <td>0.0</td>\n",
       "      <td>0.0</td>\n",
       "      <td>0.0</td>\n",
       "      <td>0.0</td>\n",
       "      <td>0.0</td>\n",
       "      <td>0.0</td>\n",
       "      <td>0.0</td>\n",
       "      <td>0.0</td>\n",
       "      <td>0.0</td>\n",
       "      <td>0.0</td>\n",
       "    </tr>\n",
       "    <tr>\n",
       "      <th>872816</th>\n",
       "      <td>0</td>\n",
       "      <td>61</td>\n",
       "      <td>0.0</td>\n",
       "      <td>0.0</td>\n",
       "      <td>0.0</td>\n",
       "      <td>0.0</td>\n",
       "      <td>0.0</td>\n",
       "      <td>0.0</td>\n",
       "      <td>0.0</td>\n",
       "      <td>0.0</td>\n",
       "      <td>...</td>\n",
       "      <td>0.0</td>\n",
       "      <td>0.0</td>\n",
       "      <td>0.0</td>\n",
       "      <td>0.0</td>\n",
       "      <td>0.0</td>\n",
       "      <td>0.0</td>\n",
       "      <td>0.0</td>\n",
       "      <td>0.0</td>\n",
       "      <td>0.0</td>\n",
       "      <td>0.0</td>\n",
       "    </tr>\n",
       "    <tr>\n",
       "      <th>518847</th>\n",
       "      <td>0</td>\n",
       "      <td>2901</td>\n",
       "      <td>0.0</td>\n",
       "      <td>0.0</td>\n",
       "      <td>0.0</td>\n",
       "      <td>0.0</td>\n",
       "      <td>0.0</td>\n",
       "      <td>0.0</td>\n",
       "      <td>0.0</td>\n",
       "      <td>0.0</td>\n",
       "      <td>...</td>\n",
       "      <td>0.0</td>\n",
       "      <td>0.0</td>\n",
       "      <td>0.0</td>\n",
       "      <td>0.0</td>\n",
       "      <td>0.0</td>\n",
       "      <td>0.0</td>\n",
       "      <td>0.0</td>\n",
       "      <td>0.0</td>\n",
       "      <td>0.0</td>\n",
       "      <td>0.0</td>\n",
       "    </tr>\n",
       "    <tr>\n",
       "      <th>357473</th>\n",
       "      <td>0</td>\n",
       "      <td>13</td>\n",
       "      <td>0.0</td>\n",
       "      <td>0.0</td>\n",
       "      <td>0.0</td>\n",
       "      <td>0.0</td>\n",
       "      <td>0.0</td>\n",
       "      <td>0.0</td>\n",
       "      <td>0.0</td>\n",
       "      <td>0.0</td>\n",
       "      <td>...</td>\n",
       "      <td>0.0</td>\n",
       "      <td>0.0</td>\n",
       "      <td>0.0</td>\n",
       "      <td>0.0</td>\n",
       "      <td>0.0</td>\n",
       "      <td>0.0</td>\n",
       "      <td>0.0</td>\n",
       "      <td>0.0</td>\n",
       "      <td>0.0</td>\n",
       "      <td>0.0</td>\n",
       "    </tr>\n",
       "  </tbody>\n",
       "</table>\n",
       "<p>5 rows × 1166 columns</p>\n",
       "</div>"
      ],
      "text/plain": [
       "        is_excluded  total_claim_count  0.9 % SODIUM CHLORIDE  \\\n",
       "897589            0               1406                    0.0   \n",
       "654757            0                 23                    0.0   \n",
       "872816            0                 61                    0.0   \n",
       "518847            0               2901                    0.0   \n",
       "357473            0                 13                    0.0   \n",
       "\n",
       "        AA 5 %/CALCIUM/LYTES/DEXT 20 %  ABACAVIR SULFATE  \\\n",
       "897589                             0.0               0.0   \n",
       "654757                             0.0               0.0   \n",
       "872816                             0.0               0.0   \n",
       "518847                             0.0               0.0   \n",
       "357473                             0.0               0.0   \n",
       "\n",
       "        ABACAVIR SULFATE/LAMIVUDINE  ABACAVIR/LAMIVUDINE/ZIDOVUDINE  \\\n",
       "897589                          0.0                             0.0   \n",
       "654757                          0.0                             0.0   \n",
       "872816                          0.0                             0.0   \n",
       "518847                          0.0                             0.0   \n",
       "357473                          0.0                             0.0   \n",
       "\n",
       "        ABATACEPT  ABATACEPT/MALTOSE  ABIRATERONE ACETATE  ...  ZANAMIVIR  \\\n",
       "897589        0.0                0.0                  0.0  ...        0.0   \n",
       "654757        0.0                0.0                  0.0  ...        0.0   \n",
       "872816        0.0                0.0                  0.0  ...        0.0   \n",
       "518847        0.0                0.0                  0.0  ...        0.0   \n",
       "357473        0.0                0.0                  0.0  ...        0.0   \n",
       "\n",
       "        ZIDOVUDINE  ZILEUTON  ZIPRASIDONE HCL  ZIPRASIDONE MESYLATE  \\\n",
       "897589         0.0       0.0              0.0                   0.0   \n",
       "654757         0.0       0.0              0.0                   0.0   \n",
       "872816         0.0       0.0              0.0                   0.0   \n",
       "518847         0.0       0.0              0.0                   0.0   \n",
       "357473         0.0       0.0              0.0                   0.0   \n",
       "\n",
       "        ZOLEDRONIC ACID  ZOLMITRIPTAN  ZOLPIDEM TARTRATE  ZONISAMIDE  \\\n",
       "897589              0.0           0.0                0.0         0.0   \n",
       "654757              0.0           0.0                0.0         0.0   \n",
       "872816              0.0           0.0                0.0         0.0   \n",
       "518847              0.0           0.0                0.0         0.0   \n",
       "357473              0.0           0.0                0.0         0.0   \n",
       "\n",
       "        ZOSTER VACCINE LIVE/PF  \n",
       "897589                     0.0  \n",
       "654757                     0.0  \n",
       "872816                     0.0  \n",
       "518847                     0.0  \n",
       "357473                     0.0  \n",
       "\n",
       "[5 rows x 1166 columns]"
      ]
     },
     "execution_count": 10,
     "metadata": {},
     "output_type": "execute_result"
    }
   ],
   "source": [
    "#new_df.drop(['Unnamed: 0'], axis=1, inplace = True)\n",
    "new_df.head()"
   ]
  },
  {
   "cell_type": "markdown",
   "metadata": {},
   "source": []
  },
  {
   "cell_type": "code",
   "execution_count": 11,
   "metadata": {},
   "outputs": [
    {
     "data": {
      "text/html": [
       "<div>\n",
       "<style scoped>\n",
       "    .dataframe tbody tr th:only-of-type {\n",
       "        vertical-align: middle;\n",
       "    }\n",
       "\n",
       "    .dataframe tbody tr th {\n",
       "        vertical-align: top;\n",
       "    }\n",
       "\n",
       "    .dataframe thead th {\n",
       "        text-align: right;\n",
       "    }\n",
       "</style>\n",
       "<table border=\"1\" class=\"dataframe\">\n",
       "  <thead>\n",
       "    <tr style=\"text-align: right;\">\n",
       "      <th></th>\n",
       "      <th>is_excluded</th>\n",
       "      <th>total_claim_count</th>\n",
       "      <th>0.9 % SODIUM CHLORIDE</th>\n",
       "      <th>AA 5 %/CALCIUM/LYTES/DEXT 20 %</th>\n",
       "      <th>ABACAVIR SULFATE</th>\n",
       "      <th>ABACAVIR SULFATE/LAMIVUDINE</th>\n",
       "      <th>ABACAVIR/LAMIVUDINE/ZIDOVUDINE</th>\n",
       "      <th>ABATACEPT</th>\n",
       "      <th>ABATACEPT/MALTOSE</th>\n",
       "      <th>ABIRATERONE ACETATE</th>\n",
       "      <th>...</th>\n",
       "      <th>ZANAMIVIR</th>\n",
       "      <th>ZIDOVUDINE</th>\n",
       "      <th>ZILEUTON</th>\n",
       "      <th>ZIPRASIDONE HCL</th>\n",
       "      <th>ZIPRASIDONE MESYLATE</th>\n",
       "      <th>ZOLEDRONIC ACID</th>\n",
       "      <th>ZOLMITRIPTAN</th>\n",
       "      <th>ZOLPIDEM TARTRATE</th>\n",
       "      <th>ZONISAMIDE</th>\n",
       "      <th>ZOSTER VACCINE LIVE/PF</th>\n",
       "    </tr>\n",
       "  </thead>\n",
       "  <tbody>\n",
       "    <tr>\n",
       "      <th>count</th>\n",
       "      <td>816078.0</td>\n",
       "      <td>816078.000000</td>\n",
       "      <td>816078.000000</td>\n",
       "      <td>816078.000000</td>\n",
       "      <td>816078.000000</td>\n",
       "      <td>816078.000000</td>\n",
       "      <td>816078.000000</td>\n",
       "      <td>816078.000000</td>\n",
       "      <td>816078.000000</td>\n",
       "      <td>816078.000000</td>\n",
       "      <td>...</td>\n",
       "      <td>816078.000000</td>\n",
       "      <td>816078.000000</td>\n",
       "      <td>816078.000000</td>\n",
       "      <td>816078.000000</td>\n",
       "      <td>816078.000000</td>\n",
       "      <td>816078.000000</td>\n",
       "      <td>816078.000000</td>\n",
       "      <td>816078.000000</td>\n",
       "      <td>816078.000000</td>\n",
       "      <td>816078.000000</td>\n",
       "    </tr>\n",
       "    <tr>\n",
       "      <th>mean</th>\n",
       "      <td>0.0</td>\n",
       "      <td>1375.249944</td>\n",
       "      <td>0.143931</td>\n",
       "      <td>0.000097</td>\n",
       "      <td>0.051859</td>\n",
       "      <td>0.085067</td>\n",
       "      <td>0.004935</td>\n",
       "      <td>0.042823</td>\n",
       "      <td>0.006052</td>\n",
       "      <td>0.085779</td>\n",
       "      <td>...</td>\n",
       "      <td>0.000021</td>\n",
       "      <td>0.008638</td>\n",
       "      <td>0.001899</td>\n",
       "      <td>0.905765</td>\n",
       "      <td>0.002840</td>\n",
       "      <td>0.001854</td>\n",
       "      <td>0.022286</td>\n",
       "      <td>7.957478</td>\n",
       "      <td>0.329233</td>\n",
       "      <td>0.438750</td>\n",
       "    </tr>\n",
       "    <tr>\n",
       "      <th>std</th>\n",
       "      <td>0.0</td>\n",
       "      <td>3164.471052</td>\n",
       "      <td>2.830180</td>\n",
       "      <td>0.067015</td>\n",
       "      <td>1.433963</td>\n",
       "      <td>2.343461</td>\n",
       "      <td>0.310908</td>\n",
       "      <td>1.347955</td>\n",
       "      <td>1.436514</td>\n",
       "      <td>2.135644</td>\n",
       "      <td>...</td>\n",
       "      <td>0.018818</td>\n",
       "      <td>0.433987</td>\n",
       "      <td>0.196439</td>\n",
       "      <td>8.516720</td>\n",
       "      <td>0.262333</td>\n",
       "      <td>0.233326</td>\n",
       "      <td>0.662125</td>\n",
       "      <td>27.660821</td>\n",
       "      <td>5.392470</td>\n",
       "      <td>48.583059</td>\n",
       "    </tr>\n",
       "    <tr>\n",
       "      <th>min</th>\n",
       "      <td>0.0</td>\n",
       "      <td>11.000000</td>\n",
       "      <td>0.000000</td>\n",
       "      <td>0.000000</td>\n",
       "      <td>0.000000</td>\n",
       "      <td>0.000000</td>\n",
       "      <td>0.000000</td>\n",
       "      <td>0.000000</td>\n",
       "      <td>0.000000</td>\n",
       "      <td>0.000000</td>\n",
       "      <td>...</td>\n",
       "      <td>0.000000</td>\n",
       "      <td>0.000000</td>\n",
       "      <td>0.000000</td>\n",
       "      <td>0.000000</td>\n",
       "      <td>0.000000</td>\n",
       "      <td>0.000000</td>\n",
       "      <td>0.000000</td>\n",
       "      <td>0.000000</td>\n",
       "      <td>0.000000</td>\n",
       "      <td>0.000000</td>\n",
       "    </tr>\n",
       "    <tr>\n",
       "      <th>25%</th>\n",
       "      <td>0.0</td>\n",
       "      <td>51.000000</td>\n",
       "      <td>0.000000</td>\n",
       "      <td>0.000000</td>\n",
       "      <td>0.000000</td>\n",
       "      <td>0.000000</td>\n",
       "      <td>0.000000</td>\n",
       "      <td>0.000000</td>\n",
       "      <td>0.000000</td>\n",
       "      <td>0.000000</td>\n",
       "      <td>...</td>\n",
       "      <td>0.000000</td>\n",
       "      <td>0.000000</td>\n",
       "      <td>0.000000</td>\n",
       "      <td>0.000000</td>\n",
       "      <td>0.000000</td>\n",
       "      <td>0.000000</td>\n",
       "      <td>0.000000</td>\n",
       "      <td>0.000000</td>\n",
       "      <td>0.000000</td>\n",
       "      <td>0.000000</td>\n",
       "    </tr>\n",
       "    <tr>\n",
       "      <th>50%</th>\n",
       "      <td>0.0</td>\n",
       "      <td>213.000000</td>\n",
       "      <td>0.000000</td>\n",
       "      <td>0.000000</td>\n",
       "      <td>0.000000</td>\n",
       "      <td>0.000000</td>\n",
       "      <td>0.000000</td>\n",
       "      <td>0.000000</td>\n",
       "      <td>0.000000</td>\n",
       "      <td>0.000000</td>\n",
       "      <td>...</td>\n",
       "      <td>0.000000</td>\n",
       "      <td>0.000000</td>\n",
       "      <td>0.000000</td>\n",
       "      <td>0.000000</td>\n",
       "      <td>0.000000</td>\n",
       "      <td>0.000000</td>\n",
       "      <td>0.000000</td>\n",
       "      <td>0.000000</td>\n",
       "      <td>0.000000</td>\n",
       "      <td>0.000000</td>\n",
       "    </tr>\n",
       "    <tr>\n",
       "      <th>75%</th>\n",
       "      <td>0.0</td>\n",
       "      <td>1220.000000</td>\n",
       "      <td>0.000000</td>\n",
       "      <td>0.000000</td>\n",
       "      <td>0.000000</td>\n",
       "      <td>0.000000</td>\n",
       "      <td>0.000000</td>\n",
       "      <td>0.000000</td>\n",
       "      <td>0.000000</td>\n",
       "      <td>0.000000</td>\n",
       "      <td>...</td>\n",
       "      <td>0.000000</td>\n",
       "      <td>0.000000</td>\n",
       "      <td>0.000000</td>\n",
       "      <td>0.000000</td>\n",
       "      <td>0.000000</td>\n",
       "      <td>0.000000</td>\n",
       "      <td>0.000000</td>\n",
       "      <td>0.000000</td>\n",
       "      <td>0.000000</td>\n",
       "      <td>0.000000</td>\n",
       "    </tr>\n",
       "    <tr>\n",
       "      <th>max</th>\n",
       "      <td>0.0</td>\n",
       "      <td>437447.000000</td>\n",
       "      <td>521.000000</td>\n",
       "      <td>56.000000</td>\n",
       "      <td>169.000000</td>\n",
       "      <td>280.000000</td>\n",
       "      <td>65.000000</td>\n",
       "      <td>370.000000</td>\n",
       "      <td>1223.000000</td>\n",
       "      <td>325.000000</td>\n",
       "      <td>...</td>\n",
       "      <td>17.000000</td>\n",
       "      <td>89.000000</td>\n",
       "      <td>81.000000</td>\n",
       "      <td>864.000000</td>\n",
       "      <td>60.000000</td>\n",
       "      <td>76.000000</td>\n",
       "      <td>99.000000</td>\n",
       "      <td>2341.000000</td>\n",
       "      <td>871.000000</td>\n",
       "      <td>21913.000000</td>\n",
       "    </tr>\n",
       "  </tbody>\n",
       "</table>\n",
       "<p>8 rows × 1166 columns</p>\n",
       "</div>"
      ],
      "text/plain": [
       "       is_excluded  total_claim_count  0.9 % SODIUM CHLORIDE  \\\n",
       "count     816078.0      816078.000000          816078.000000   \n",
       "mean           0.0        1375.249944               0.143931   \n",
       "std            0.0        3164.471052               2.830180   \n",
       "min            0.0          11.000000               0.000000   \n",
       "25%            0.0          51.000000               0.000000   \n",
       "50%            0.0         213.000000               0.000000   \n",
       "75%            0.0        1220.000000               0.000000   \n",
       "max            0.0      437447.000000             521.000000   \n",
       "\n",
       "       AA 5 %/CALCIUM/LYTES/DEXT 20 %  ABACAVIR SULFATE  \\\n",
       "count                   816078.000000     816078.000000   \n",
       "mean                         0.000097          0.051859   \n",
       "std                          0.067015          1.433963   \n",
       "min                          0.000000          0.000000   \n",
       "25%                          0.000000          0.000000   \n",
       "50%                          0.000000          0.000000   \n",
       "75%                          0.000000          0.000000   \n",
       "max                         56.000000        169.000000   \n",
       "\n",
       "       ABACAVIR SULFATE/LAMIVUDINE  ABACAVIR/LAMIVUDINE/ZIDOVUDINE  \\\n",
       "count                816078.000000                   816078.000000   \n",
       "mean                      0.085067                        0.004935   \n",
       "std                       2.343461                        0.310908   \n",
       "min                       0.000000                        0.000000   \n",
       "25%                       0.000000                        0.000000   \n",
       "50%                       0.000000                        0.000000   \n",
       "75%                       0.000000                        0.000000   \n",
       "max                     280.000000                       65.000000   \n",
       "\n",
       "           ABATACEPT  ABATACEPT/MALTOSE  ABIRATERONE ACETATE  ...  \\\n",
       "count  816078.000000      816078.000000        816078.000000  ...   \n",
       "mean        0.042823           0.006052             0.085779  ...   \n",
       "std         1.347955           1.436514             2.135644  ...   \n",
       "min         0.000000           0.000000             0.000000  ...   \n",
       "25%         0.000000           0.000000             0.000000  ...   \n",
       "50%         0.000000           0.000000             0.000000  ...   \n",
       "75%         0.000000           0.000000             0.000000  ...   \n",
       "max       370.000000        1223.000000           325.000000  ...   \n",
       "\n",
       "           ZANAMIVIR     ZIDOVUDINE       ZILEUTON  ZIPRASIDONE HCL  \\\n",
       "count  816078.000000  816078.000000  816078.000000    816078.000000   \n",
       "mean        0.000021       0.008638       0.001899         0.905765   \n",
       "std         0.018818       0.433987       0.196439         8.516720   \n",
       "min         0.000000       0.000000       0.000000         0.000000   \n",
       "25%         0.000000       0.000000       0.000000         0.000000   \n",
       "50%         0.000000       0.000000       0.000000         0.000000   \n",
       "75%         0.000000       0.000000       0.000000         0.000000   \n",
       "max        17.000000      89.000000      81.000000       864.000000   \n",
       "\n",
       "       ZIPRASIDONE MESYLATE  ZOLEDRONIC ACID   ZOLMITRIPTAN  \\\n",
       "count         816078.000000    816078.000000  816078.000000   \n",
       "mean               0.002840         0.001854       0.022286   \n",
       "std                0.262333         0.233326       0.662125   \n",
       "min                0.000000         0.000000       0.000000   \n",
       "25%                0.000000         0.000000       0.000000   \n",
       "50%                0.000000         0.000000       0.000000   \n",
       "75%                0.000000         0.000000       0.000000   \n",
       "max               60.000000        76.000000      99.000000   \n",
       "\n",
       "       ZOLPIDEM TARTRATE     ZONISAMIDE  ZOSTER VACCINE LIVE/PF  \n",
       "count      816078.000000  816078.000000           816078.000000  \n",
       "mean            7.957478       0.329233                0.438750  \n",
       "std            27.660821       5.392470               48.583059  \n",
       "min             0.000000       0.000000                0.000000  \n",
       "25%             0.000000       0.000000                0.000000  \n",
       "50%             0.000000       0.000000                0.000000  \n",
       "75%             0.000000       0.000000                0.000000  \n",
       "max          2341.000000     871.000000            21913.000000  \n",
       "\n",
       "[8 rows x 1166 columns]"
      ]
     },
     "execution_count": 11,
     "metadata": {},
     "output_type": "execute_result"
    }
   ],
   "source": [
    "new_main_2017.describe()"
   ]
  },
  {
   "cell_type": "code",
   "execution_count": 12,
   "metadata": {},
   "outputs": [],
   "source": [
    "import math"
   ]
  },
  {
   "cell_type": "code",
   "execution_count": 13,
   "metadata": {},
   "outputs": [],
   "source": [
    "from sklearn import decomposition\n",
    "from sklearn.ensemble import RandomForestClassifier\n",
    "from sklearn.model_selection import train_test_split\n",
    "from sklearn.metrics import confusion_matrix, roc_curve, roc_auc_score, auc\n",
    "from sklearn.utils import resample\n",
    "from sklearn.preprocessing import label_binarize\n",
    "from sklearn.svm import SVC\n",
    "from scipy.stats import pointbiserialr"
   ]
  },
  {
   "cell_type": "code",
   "execution_count": 14,
   "metadata": {
    "scrolled": true
   },
   "outputs": [
    {
     "data": {
      "text/html": [
       "<div>\n",
       "<style scoped>\n",
       "    .dataframe tbody tr th:only-of-type {\n",
       "        vertical-align: middle;\n",
       "    }\n",
       "\n",
       "    .dataframe tbody tr th {\n",
       "        vertical-align: top;\n",
       "    }\n",
       "\n",
       "    .dataframe thead th {\n",
       "        text-align: right;\n",
       "    }\n",
       "</style>\n",
       "<table border=\"1\" class=\"dataframe\">\n",
       "  <thead>\n",
       "    <tr style=\"text-align: right;\">\n",
       "      <th></th>\n",
       "      <th>is_excluded</th>\n",
       "      <th>total_claim_count</th>\n",
       "      <th>0.9 % SODIUM CHLORIDE</th>\n",
       "      <th>AA 5 %/CALCIUM/LYTES/DEXT 20 %</th>\n",
       "      <th>ABACAVIR SULFATE</th>\n",
       "      <th>ABACAVIR SULFATE/LAMIVUDINE</th>\n",
       "      <th>ABACAVIR/LAMIVUDINE/ZIDOVUDINE</th>\n",
       "      <th>ABATACEPT</th>\n",
       "      <th>ABATACEPT/MALTOSE</th>\n",
       "      <th>ABIRATERONE ACETATE</th>\n",
       "      <th>...</th>\n",
       "      <th>ZANAMIVIR</th>\n",
       "      <th>ZIDOVUDINE</th>\n",
       "      <th>ZILEUTON</th>\n",
       "      <th>ZIPRASIDONE HCL</th>\n",
       "      <th>ZIPRASIDONE MESYLATE</th>\n",
       "      <th>ZOLEDRONIC ACID</th>\n",
       "      <th>ZOLMITRIPTAN</th>\n",
       "      <th>ZOLPIDEM TARTRATE</th>\n",
       "      <th>ZONISAMIDE</th>\n",
       "      <th>ZOSTER VACCINE LIVE/PF</th>\n",
       "    </tr>\n",
       "  </thead>\n",
       "  <tbody>\n",
       "    <tr>\n",
       "      <th>count</th>\n",
       "      <td>1000000.0</td>\n",
       "      <td>1000000.000000</td>\n",
       "      <td>1000000.000000</td>\n",
       "      <td>1000000.0</td>\n",
       "      <td>1000000.0</td>\n",
       "      <td>1000000.0</td>\n",
       "      <td>1000000.0</td>\n",
       "      <td>1000000.0</td>\n",
       "      <td>1000000.0</td>\n",
       "      <td>1000000.0</td>\n",
       "      <td>...</td>\n",
       "      <td>1000000.0</td>\n",
       "      <td>1000000.0</td>\n",
       "      <td>1000000.0</td>\n",
       "      <td>1000000.000000</td>\n",
       "      <td>1000000.0</td>\n",
       "      <td>1000000.0</td>\n",
       "      <td>1000000.0</td>\n",
       "      <td>1000000.000000</td>\n",
       "      <td>1000000.000000</td>\n",
       "      <td>1000000.000000</td>\n",
       "    </tr>\n",
       "    <tr>\n",
       "      <th>mean</th>\n",
       "      <td>1.0</td>\n",
       "      <td>2135.646000</td>\n",
       "      <td>0.193686</td>\n",
       "      <td>0.0</td>\n",
       "      <td>0.0</td>\n",
       "      <td>0.0</td>\n",
       "      <td>0.0</td>\n",
       "      <td>0.0</td>\n",
       "      <td>0.0</td>\n",
       "      <td>0.0</td>\n",
       "      <td>...</td>\n",
       "      <td>0.0</td>\n",
       "      <td>0.0</td>\n",
       "      <td>0.0</td>\n",
       "      <td>0.597676</td>\n",
       "      <td>0.0</td>\n",
       "      <td>0.0</td>\n",
       "      <td>0.0</td>\n",
       "      <td>17.012612</td>\n",
       "      <td>0.170442</td>\n",
       "      <td>0.161568</td>\n",
       "    </tr>\n",
       "    <tr>\n",
       "      <th>std</th>\n",
       "      <td>0.0</td>\n",
       "      <td>3979.987991</td>\n",
       "      <td>1.908540</td>\n",
       "      <td>0.0</td>\n",
       "      <td>0.0</td>\n",
       "      <td>0.0</td>\n",
       "      <td>0.0</td>\n",
       "      <td>0.0</td>\n",
       "      <td>0.0</td>\n",
       "      <td>0.0</td>\n",
       "      <td>...</td>\n",
       "      <td>0.0</td>\n",
       "      <td>0.0</td>\n",
       "      <td>0.0</td>\n",
       "      <td>2.941353</td>\n",
       "      <td>0.0</td>\n",
       "      <td>0.0</td>\n",
       "      <td>0.0</td>\n",
       "      <td>46.661442</td>\n",
       "      <td>1.693655</td>\n",
       "      <td>1.599683</td>\n",
       "    </tr>\n",
       "    <tr>\n",
       "      <th>min</th>\n",
       "      <td>1.0</td>\n",
       "      <td>11.000000</td>\n",
       "      <td>0.000000</td>\n",
       "      <td>0.0</td>\n",
       "      <td>0.0</td>\n",
       "      <td>0.0</td>\n",
       "      <td>0.0</td>\n",
       "      <td>0.0</td>\n",
       "      <td>0.0</td>\n",
       "      <td>0.0</td>\n",
       "      <td>...</td>\n",
       "      <td>0.0</td>\n",
       "      <td>0.0</td>\n",
       "      <td>0.0</td>\n",
       "      <td>0.000000</td>\n",
       "      <td>0.0</td>\n",
       "      <td>0.0</td>\n",
       "      <td>0.0</td>\n",
       "      <td>0.000000</td>\n",
       "      <td>0.000000</td>\n",
       "      <td>0.000000</td>\n",
       "    </tr>\n",
       "    <tr>\n",
       "      <th>25%</th>\n",
       "      <td>1.0</td>\n",
       "      <td>41.000000</td>\n",
       "      <td>0.000000</td>\n",
       "      <td>0.0</td>\n",
       "      <td>0.0</td>\n",
       "      <td>0.0</td>\n",
       "      <td>0.0</td>\n",
       "      <td>0.0</td>\n",
       "      <td>0.0</td>\n",
       "      <td>0.0</td>\n",
       "      <td>...</td>\n",
       "      <td>0.0</td>\n",
       "      <td>0.0</td>\n",
       "      <td>0.0</td>\n",
       "      <td>0.000000</td>\n",
       "      <td>0.0</td>\n",
       "      <td>0.0</td>\n",
       "      <td>0.0</td>\n",
       "      <td>0.000000</td>\n",
       "      <td>0.000000</td>\n",
       "      <td>0.000000</td>\n",
       "    </tr>\n",
       "    <tr>\n",
       "      <th>50%</th>\n",
       "      <td>1.0</td>\n",
       "      <td>349.000000</td>\n",
       "      <td>0.000000</td>\n",
       "      <td>0.0</td>\n",
       "      <td>0.0</td>\n",
       "      <td>0.0</td>\n",
       "      <td>0.0</td>\n",
       "      <td>0.0</td>\n",
       "      <td>0.0</td>\n",
       "      <td>0.0</td>\n",
       "      <td>...</td>\n",
       "      <td>0.0</td>\n",
       "      <td>0.0</td>\n",
       "      <td>0.0</td>\n",
       "      <td>0.000000</td>\n",
       "      <td>0.0</td>\n",
       "      <td>0.0</td>\n",
       "      <td>0.0</td>\n",
       "      <td>0.000000</td>\n",
       "      <td>0.000000</td>\n",
       "      <td>0.000000</td>\n",
       "    </tr>\n",
       "    <tr>\n",
       "      <th>75%</th>\n",
       "      <td>1.0</td>\n",
       "      <td>2272.000000</td>\n",
       "      <td>0.000000</td>\n",
       "      <td>0.0</td>\n",
       "      <td>0.0</td>\n",
       "      <td>0.0</td>\n",
       "      <td>0.0</td>\n",
       "      <td>0.0</td>\n",
       "      <td>0.0</td>\n",
       "      <td>0.0</td>\n",
       "      <td>...</td>\n",
       "      <td>0.0</td>\n",
       "      <td>0.0</td>\n",
       "      <td>0.0</td>\n",
       "      <td>0.000000</td>\n",
       "      <td>0.0</td>\n",
       "      <td>0.0</td>\n",
       "      <td>0.0</td>\n",
       "      <td>16.000000</td>\n",
       "      <td>0.000000</td>\n",
       "      <td>0.000000</td>\n",
       "    </tr>\n",
       "    <tr>\n",
       "      <th>max</th>\n",
       "      <td>1.0</td>\n",
       "      <td>25719.000000</td>\n",
       "      <td>19.000000</td>\n",
       "      <td>0.0</td>\n",
       "      <td>0.0</td>\n",
       "      <td>0.0</td>\n",
       "      <td>0.0</td>\n",
       "      <td>0.0</td>\n",
       "      <td>0.0</td>\n",
       "      <td>0.0</td>\n",
       "      <td>...</td>\n",
       "      <td>0.0</td>\n",
       "      <td>0.0</td>\n",
       "      <td>0.0</td>\n",
       "      <td>18.000000</td>\n",
       "      <td>0.0</td>\n",
       "      <td>0.0</td>\n",
       "      <td>0.0</td>\n",
       "      <td>269.000000</td>\n",
       "      <td>17.000000</td>\n",
       "      <td>16.000000</td>\n",
       "    </tr>\n",
       "  </tbody>\n",
       "</table>\n",
       "<p>8 rows × 1166 columns</p>\n",
       "</div>"
      ],
      "text/plain": [
       "       is_excluded  total_claim_count  0.9 % SODIUM CHLORIDE  \\\n",
       "count    1000000.0     1000000.000000         1000000.000000   \n",
       "mean           1.0        2135.646000               0.193686   \n",
       "std            0.0        3979.987991               1.908540   \n",
       "min            1.0          11.000000               0.000000   \n",
       "25%            1.0          41.000000               0.000000   \n",
       "50%            1.0         349.000000               0.000000   \n",
       "75%            1.0        2272.000000               0.000000   \n",
       "max            1.0       25719.000000              19.000000   \n",
       "\n",
       "       AA 5 %/CALCIUM/LYTES/DEXT 20 %  ABACAVIR SULFATE  \\\n",
       "count                       1000000.0         1000000.0   \n",
       "mean                              0.0               0.0   \n",
       "std                               0.0               0.0   \n",
       "min                               0.0               0.0   \n",
       "25%                               0.0               0.0   \n",
       "50%                               0.0               0.0   \n",
       "75%                               0.0               0.0   \n",
       "max                               0.0               0.0   \n",
       "\n",
       "       ABACAVIR SULFATE/LAMIVUDINE  ABACAVIR/LAMIVUDINE/ZIDOVUDINE  ABATACEPT  \\\n",
       "count                    1000000.0                       1000000.0  1000000.0   \n",
       "mean                           0.0                             0.0        0.0   \n",
       "std                            0.0                             0.0        0.0   \n",
       "min                            0.0                             0.0        0.0   \n",
       "25%                            0.0                             0.0        0.0   \n",
       "50%                            0.0                             0.0        0.0   \n",
       "75%                            0.0                             0.0        0.0   \n",
       "max                            0.0                             0.0        0.0   \n",
       "\n",
       "       ABATACEPT/MALTOSE  ABIRATERONE ACETATE  ...  ZANAMIVIR  ZIDOVUDINE  \\\n",
       "count          1000000.0            1000000.0  ...  1000000.0   1000000.0   \n",
       "mean                 0.0                  0.0  ...        0.0         0.0   \n",
       "std                  0.0                  0.0  ...        0.0         0.0   \n",
       "min                  0.0                  0.0  ...        0.0         0.0   \n",
       "25%                  0.0                  0.0  ...        0.0         0.0   \n",
       "50%                  0.0                  0.0  ...        0.0         0.0   \n",
       "75%                  0.0                  0.0  ...        0.0         0.0   \n",
       "max                  0.0                  0.0  ...        0.0         0.0   \n",
       "\n",
       "        ZILEUTON  ZIPRASIDONE HCL  ZIPRASIDONE MESYLATE  ZOLEDRONIC ACID  \\\n",
       "count  1000000.0   1000000.000000             1000000.0        1000000.0   \n",
       "mean         0.0         0.597676                   0.0              0.0   \n",
       "std          0.0         2.941353                   0.0              0.0   \n",
       "min          0.0         0.000000                   0.0              0.0   \n",
       "25%          0.0         0.000000                   0.0              0.0   \n",
       "50%          0.0         0.000000                   0.0              0.0   \n",
       "75%          0.0         0.000000                   0.0              0.0   \n",
       "max          0.0        18.000000                   0.0              0.0   \n",
       "\n",
       "       ZOLMITRIPTAN  ZOLPIDEM TARTRATE      ZONISAMIDE  ZOSTER VACCINE LIVE/PF  \n",
       "count     1000000.0     1000000.000000  1000000.000000          1000000.000000  \n",
       "mean            0.0          17.012612        0.170442                0.161568  \n",
       "std             0.0          46.661442        1.693655                1.599683  \n",
       "min             0.0           0.000000        0.000000                0.000000  \n",
       "25%             0.0           0.000000        0.000000                0.000000  \n",
       "50%             0.0           0.000000        0.000000                0.000000  \n",
       "75%             0.0          16.000000        0.000000                0.000000  \n",
       "max             0.0         269.000000       17.000000               16.000000  \n",
       "\n",
       "[8 rows x 1166 columns]"
      ]
     },
     "execution_count": 14,
     "metadata": {},
     "output_type": "execute_result"
    }
   ],
   "source": [
    "#part_d_excluded = new_df[new_df[\"is_excluded\"]==1]\n",
    "\n",
    "fudge = resample(only_excluded, replace=True, n_samples=1000000, random_state = 0)\n",
    "#fudge.drop(['Unnamed: 0'], axis=1, inplace = True)\n",
    "fudge.describe()"
   ]
  },
  {
   "cell_type": "code",
   "execution_count": 15,
   "metadata": {},
   "outputs": [],
   "source": [
    "std = fudge.describe().loc[\"std\"]\n",
    "#std = std[0:26]"
   ]
  },
  {
   "cell_type": "code",
   "execution_count": 16,
   "metadata": {},
   "outputs": [],
   "source": [
    "rtstd = std.map(lambda x : math.sqrt(x)/2) #use half of square root of standard deviation as the range for gaussian normal\n",
    "rtstd = rtstd.to_dict()"
   ]
  },
  {
   "cell_type": "code",
   "execution_count": 19,
   "metadata": {},
   "outputs": [
    {
     "name": "stderr",
     "output_type": "stream",
     "text": [
      "C:\\ProgramData\\Anaconda3\\lib\\site-packages\\ipykernel_launcher.py:3: SettingWithCopyWarning: \n",
      "A value is trying to be set on a copy of a slice from a DataFrame.\n",
      "Try using .loc[row_indexer,col_indexer] = value instead\n",
      "\n",
      "See the caveats in the documentation: http://pandas.pydata.org/pandas-docs/stable/indexing.html#indexing-view-versus-copy\n",
      "  This is separate from the ipykernel package so we can avoid doing imports until\n"
     ]
    },
    {
     "ename": "MemoryError",
     "evalue": "",
     "output_type": "error",
     "traceback": [
      "\u001b[1;31m---------------------------------------------------------------------------\u001b[0m",
      "\u001b[1;31mMemoryError\u001b[0m                               Traceback (most recent call last)",
      "\u001b[1;32m<ipython-input-19-369efd2e5296>\u001b[0m in \u001b[0;36m<module>\u001b[1;34m\u001b[0m\n\u001b[0;32m      2\u001b[0m     \u001b[1;31m#fudge[key] = fudge[key].map(lambda x: (np.random.normal(x, rtstd[key])))\u001b[0m\u001b[1;33m\u001b[0m\u001b[1;33m\u001b[0m\u001b[1;33m\u001b[0m\u001b[0m\n\u001b[0;32m      3\u001b[0m     \u001b[0mfudge\u001b[0m\u001b[1;33m[\u001b[0m\u001b[0mkey\u001b[0m\u001b[1;33m]\u001b[0m \u001b[1;33m=\u001b[0m \u001b[0mfudge\u001b[0m\u001b[1;33m[\u001b[0m\u001b[0mkey\u001b[0m\u001b[1;33m]\u001b[0m\u001b[1;33m.\u001b[0m\u001b[0mmap\u001b[0m\u001b[1;33m(\u001b[0m\u001b[1;32mlambda\u001b[0m \u001b[0mx\u001b[0m\u001b[1;33m:\u001b[0m \u001b[1;33m(\u001b[0m\u001b[0mnp\u001b[0m\u001b[1;33m.\u001b[0m\u001b[0mrandom\u001b[0m\u001b[1;33m.\u001b[0m\u001b[0mnormal\u001b[0m\u001b[1;33m(\u001b[0m\u001b[0mx\u001b[0m\u001b[1;33m,\u001b[0m \u001b[1;36m2\u001b[0m\u001b[1;33m)\u001b[0m\u001b[1;33m)\u001b[0m\u001b[1;33m)\u001b[0m\u001b[1;33m\u001b[0m\u001b[1;33m\u001b[0m\u001b[0m\n\u001b[1;32m----> 4\u001b[1;33m \u001b[0mfudge\u001b[0m \u001b[1;33m=\u001b[0m \u001b[0mfudge\u001b[0m\u001b[1;33m[\u001b[0m\u001b[0mfudge\u001b[0m\u001b[1;33m>=\u001b[0m\u001b[1;36m0\u001b[0m\u001b[1;33m]\u001b[0m\u001b[1;33m\u001b[0m\u001b[1;33m\u001b[0m\u001b[0m\n\u001b[0m\u001b[0;32m      5\u001b[0m \u001b[0mfudge\u001b[0m\u001b[1;33m.\u001b[0m\u001b[0mdropna\u001b[0m\u001b[1;33m(\u001b[0m\u001b[0minplace\u001b[0m \u001b[1;33m=\u001b[0m \u001b[1;32mTrue\u001b[0m\u001b[1;33m)\u001b[0m\u001b[1;33m\u001b[0m\u001b[1;33m\u001b[0m\u001b[0m\n",
      "\u001b[1;32mC:\\ProgramData\\Anaconda3\\lib\\site-packages\\pandas\\core\\frame.py\u001b[0m in \u001b[0;36m__getitem__\u001b[1;34m(self, key)\u001b[0m\n\u001b[0;32m   2912\u001b[0m         \u001b[1;31m# Do we have a (boolean) DataFrame?\u001b[0m\u001b[1;33m\u001b[0m\u001b[1;33m\u001b[0m\u001b[1;33m\u001b[0m\u001b[0m\n\u001b[0;32m   2913\u001b[0m         \u001b[1;32mif\u001b[0m \u001b[0misinstance\u001b[0m\u001b[1;33m(\u001b[0m\u001b[0mkey\u001b[0m\u001b[1;33m,\u001b[0m \u001b[0mDataFrame\u001b[0m\u001b[1;33m)\u001b[0m\u001b[1;33m:\u001b[0m\u001b[1;33m\u001b[0m\u001b[1;33m\u001b[0m\u001b[0m\n\u001b[1;32m-> 2914\u001b[1;33m             \u001b[1;32mreturn\u001b[0m \u001b[0mself\u001b[0m\u001b[1;33m.\u001b[0m\u001b[0m_getitem_frame\u001b[0m\u001b[1;33m(\u001b[0m\u001b[0mkey\u001b[0m\u001b[1;33m)\u001b[0m\u001b[1;33m\u001b[0m\u001b[1;33m\u001b[0m\u001b[0m\n\u001b[0m\u001b[0;32m   2915\u001b[0m \u001b[1;33m\u001b[0m\u001b[0m\n\u001b[0;32m   2916\u001b[0m         \u001b[1;31m# Do we have a (boolean) 1d indexer?\u001b[0m\u001b[1;33m\u001b[0m\u001b[1;33m\u001b[0m\u001b[1;33m\u001b[0m\u001b[0m\n",
      "\u001b[1;32mC:\\ProgramData\\Anaconda3\\lib\\site-packages\\pandas\\core\\frame.py\u001b[0m in \u001b[0;36m_getitem_frame\u001b[1;34m(self, key)\u001b[0m\n\u001b[0;32m   3008\u001b[0m         \u001b[1;32mif\u001b[0m \u001b[0mkey\u001b[0m\u001b[1;33m.\u001b[0m\u001b[0mvalues\u001b[0m\u001b[1;33m.\u001b[0m\u001b[0msize\u001b[0m \u001b[1;32mand\u001b[0m \u001b[1;32mnot\u001b[0m \u001b[0mis_bool_dtype\u001b[0m\u001b[1;33m(\u001b[0m\u001b[0mkey\u001b[0m\u001b[1;33m.\u001b[0m\u001b[0mvalues\u001b[0m\u001b[1;33m)\u001b[0m\u001b[1;33m:\u001b[0m\u001b[1;33m\u001b[0m\u001b[1;33m\u001b[0m\u001b[0m\n\u001b[0;32m   3009\u001b[0m             \u001b[1;32mraise\u001b[0m \u001b[0mValueError\u001b[0m\u001b[1;33m(\u001b[0m\u001b[1;34m'Must pass DataFrame with boolean values only'\u001b[0m\u001b[1;33m)\u001b[0m\u001b[1;33m\u001b[0m\u001b[1;33m\u001b[0m\u001b[0m\n\u001b[1;32m-> 3010\u001b[1;33m         \u001b[1;32mreturn\u001b[0m \u001b[0mself\u001b[0m\u001b[1;33m.\u001b[0m\u001b[0mwhere\u001b[0m\u001b[1;33m(\u001b[0m\u001b[0mkey\u001b[0m\u001b[1;33m)\u001b[0m\u001b[1;33m\u001b[0m\u001b[1;33m\u001b[0m\u001b[0m\n\u001b[0m\u001b[0;32m   3011\u001b[0m \u001b[1;33m\u001b[0m\u001b[0m\n\u001b[0;32m   3012\u001b[0m     \u001b[1;32mdef\u001b[0m \u001b[0mquery\u001b[0m\u001b[1;33m(\u001b[0m\u001b[0mself\u001b[0m\u001b[1;33m,\u001b[0m \u001b[0mexpr\u001b[0m\u001b[1;33m,\u001b[0m \u001b[0minplace\u001b[0m\u001b[1;33m=\u001b[0m\u001b[1;32mFalse\u001b[0m\u001b[1;33m,\u001b[0m \u001b[1;33m**\u001b[0m\u001b[0mkwargs\u001b[0m\u001b[1;33m)\u001b[0m\u001b[1;33m:\u001b[0m\u001b[1;33m\u001b[0m\u001b[1;33m\u001b[0m\u001b[0m\n",
      "\u001b[1;32mC:\\ProgramData\\Anaconda3\\lib\\site-packages\\pandas\\core\\generic.py\u001b[0m in \u001b[0;36mwhere\u001b[1;34m(self, cond, other, inplace, axis, level, errors, try_cast, raise_on_error)\u001b[0m\n\u001b[0;32m   8832\u001b[0m         \u001b[0mother\u001b[0m \u001b[1;33m=\u001b[0m \u001b[0mcom\u001b[0m\u001b[1;33m.\u001b[0m\u001b[0mapply_if_callable\u001b[0m\u001b[1;33m(\u001b[0m\u001b[0mother\u001b[0m\u001b[1;33m,\u001b[0m \u001b[0mself\u001b[0m\u001b[1;33m)\u001b[0m\u001b[1;33m\u001b[0m\u001b[1;33m\u001b[0m\u001b[0m\n\u001b[0;32m   8833\u001b[0m         return self._where(cond, other, inplace, axis, level,\n\u001b[1;32m-> 8834\u001b[1;33m                            errors=errors, try_cast=try_cast)\n\u001b[0m\u001b[0;32m   8835\u001b[0m \u001b[1;33m\u001b[0m\u001b[0m\n\u001b[0;32m   8836\u001b[0m     @Appender(_shared_docs['where'] % dict(_shared_doc_kwargs, cond=\"False\",\n",
      "\u001b[1;32mC:\\ProgramData\\Anaconda3\\lib\\site-packages\\pandas\\core\\generic.py\u001b[0m in \u001b[0;36m_where\u001b[1;34m(self, cond, other, inplace, axis, level, errors, try_cast)\u001b[0m\n\u001b[0;32m   8565\u001b[0m         \u001b[0mcond\u001b[0m \u001b[1;33m=\u001b[0m \u001b[0mcom\u001b[0m\u001b[1;33m.\u001b[0m\u001b[0mapply_if_callable\u001b[0m\u001b[1;33m(\u001b[0m\u001b[0mcond\u001b[0m\u001b[1;33m,\u001b[0m \u001b[0mself\u001b[0m\u001b[1;33m)\u001b[0m\u001b[1;33m\u001b[0m\u001b[1;33m\u001b[0m\u001b[0m\n\u001b[0;32m   8566\u001b[0m         \u001b[1;32mif\u001b[0m \u001b[0misinstance\u001b[0m\u001b[1;33m(\u001b[0m\u001b[0mcond\u001b[0m\u001b[1;33m,\u001b[0m \u001b[0mNDFrame\u001b[0m\u001b[1;33m)\u001b[0m\u001b[1;33m:\u001b[0m\u001b[1;33m\u001b[0m\u001b[1;33m\u001b[0m\u001b[0m\n\u001b[1;32m-> 8567\u001b[1;33m             \u001b[0mcond\u001b[0m\u001b[1;33m,\u001b[0m \u001b[0m_\u001b[0m \u001b[1;33m=\u001b[0m \u001b[0mcond\u001b[0m\u001b[1;33m.\u001b[0m\u001b[0malign\u001b[0m\u001b[1;33m(\u001b[0m\u001b[0mself\u001b[0m\u001b[1;33m,\u001b[0m \u001b[0mjoin\u001b[0m\u001b[1;33m=\u001b[0m\u001b[1;34m'right'\u001b[0m\u001b[1;33m,\u001b[0m \u001b[0mbroadcast_axis\u001b[0m\u001b[1;33m=\u001b[0m\u001b[1;36m1\u001b[0m\u001b[1;33m)\u001b[0m\u001b[1;33m\u001b[0m\u001b[1;33m\u001b[0m\u001b[0m\n\u001b[0m\u001b[0;32m   8568\u001b[0m         \u001b[1;32melse\u001b[0m\u001b[1;33m:\u001b[0m\u001b[1;33m\u001b[0m\u001b[1;33m\u001b[0m\u001b[0m\n\u001b[0;32m   8569\u001b[0m             \u001b[1;32mif\u001b[0m \u001b[1;32mnot\u001b[0m \u001b[0mhasattr\u001b[0m\u001b[1;33m(\u001b[0m\u001b[0mcond\u001b[0m\u001b[1;33m,\u001b[0m \u001b[1;34m'shape'\u001b[0m\u001b[1;33m)\u001b[0m\u001b[1;33m:\u001b[0m\u001b[1;33m\u001b[0m\u001b[1;33m\u001b[0m\u001b[0m\n",
      "\u001b[1;32mC:\\ProgramData\\Anaconda3\\lib\\site-packages\\pandas\\core\\frame.py\u001b[0m in \u001b[0;36malign\u001b[1;34m(self, other, join, axis, level, copy, fill_value, method, limit, fill_axis, broadcast_axis)\u001b[0m\n\u001b[0;32m   3790\u001b[0m                                             \u001b[0mmethod\u001b[0m\u001b[1;33m=\u001b[0m\u001b[0mmethod\u001b[0m\u001b[1;33m,\u001b[0m \u001b[0mlimit\u001b[0m\u001b[1;33m=\u001b[0m\u001b[0mlimit\u001b[0m\u001b[1;33m,\u001b[0m\u001b[1;33m\u001b[0m\u001b[1;33m\u001b[0m\u001b[0m\n\u001b[0;32m   3791\u001b[0m                                             \u001b[0mfill_axis\u001b[0m\u001b[1;33m=\u001b[0m\u001b[0mfill_axis\u001b[0m\u001b[1;33m,\u001b[0m\u001b[1;33m\u001b[0m\u001b[1;33m\u001b[0m\u001b[0m\n\u001b[1;32m-> 3792\u001b[1;33m                                             broadcast_axis=broadcast_axis)\n\u001b[0m\u001b[0;32m   3793\u001b[0m \u001b[1;33m\u001b[0m\u001b[0m\n\u001b[0;32m   3794\u001b[0m     \u001b[1;33m@\u001b[0m\u001b[0mSubstitution\u001b[0m\u001b[1;33m(\u001b[0m\u001b[1;33m**\u001b[0m\u001b[0m_shared_doc_kwargs\u001b[0m\u001b[1;33m)\u001b[0m\u001b[1;33m\u001b[0m\u001b[1;33m\u001b[0m\u001b[0m\n",
      "\u001b[1;32mC:\\ProgramData\\Anaconda3\\lib\\site-packages\\pandas\\core\\generic.py\u001b[0m in \u001b[0;36malign\u001b[1;34m(self, other, join, axis, level, copy, fill_value, method, limit, fill_axis, broadcast_axis)\u001b[0m\n\u001b[0;32m   8421\u001b[0m                                      \u001b[0mcopy\u001b[0m\u001b[1;33m=\u001b[0m\u001b[0mcopy\u001b[0m\u001b[1;33m,\u001b[0m \u001b[0mfill_value\u001b[0m\u001b[1;33m=\u001b[0m\u001b[0mfill_value\u001b[0m\u001b[1;33m,\u001b[0m\u001b[1;33m\u001b[0m\u001b[1;33m\u001b[0m\u001b[0m\n\u001b[0;32m   8422\u001b[0m                                      \u001b[0mmethod\u001b[0m\u001b[1;33m=\u001b[0m\u001b[0mmethod\u001b[0m\u001b[1;33m,\u001b[0m \u001b[0mlimit\u001b[0m\u001b[1;33m=\u001b[0m\u001b[0mlimit\u001b[0m\u001b[1;33m,\u001b[0m\u001b[1;33m\u001b[0m\u001b[1;33m\u001b[0m\u001b[0m\n\u001b[1;32m-> 8423\u001b[1;33m                                      fill_axis=fill_axis)\n\u001b[0m\u001b[0;32m   8424\u001b[0m         \u001b[1;32melif\u001b[0m \u001b[0misinstance\u001b[0m\u001b[1;33m(\u001b[0m\u001b[0mother\u001b[0m\u001b[1;33m,\u001b[0m \u001b[0mSeries\u001b[0m\u001b[1;33m)\u001b[0m\u001b[1;33m:\u001b[0m\u001b[1;33m\u001b[0m\u001b[1;33m\u001b[0m\u001b[0m\n\u001b[0;32m   8425\u001b[0m             return self._align_series(other, join=join, axis=axis, level=level,\n",
      "\u001b[1;32mC:\\ProgramData\\Anaconda3\\lib\\site-packages\\pandas\\core\\generic.py\u001b[0m in \u001b[0;36m_align_frame\u001b[1;34m(self, other, join, axis, level, copy, fill_value, method, limit, fill_axis)\u001b[0m\n\u001b[0;32m   8462\u001b[0m                                               1: [join_columns, cridx]},\n\u001b[0;32m   8463\u001b[0m                                              \u001b[0mcopy\u001b[0m\u001b[1;33m=\u001b[0m\u001b[0mcopy\u001b[0m\u001b[1;33m,\u001b[0m \u001b[0mfill_value\u001b[0m\u001b[1;33m=\u001b[0m\u001b[0mfill_value\u001b[0m\u001b[1;33m,\u001b[0m\u001b[1;33m\u001b[0m\u001b[1;33m\u001b[0m\u001b[0m\n\u001b[1;32m-> 8464\u001b[1;33m                                              allow_dups=True)\n\u001b[0m\u001b[0;32m   8465\u001b[0m \u001b[1;33m\u001b[0m\u001b[0m\n\u001b[0;32m   8466\u001b[0m         \u001b[1;32mif\u001b[0m \u001b[0mmethod\u001b[0m \u001b[1;32mis\u001b[0m \u001b[1;32mnot\u001b[0m \u001b[1;32mNone\u001b[0m\u001b[1;33m:\u001b[0m\u001b[1;33m\u001b[0m\u001b[1;33m\u001b[0m\u001b[0m\n",
      "\u001b[1;32mC:\\ProgramData\\Anaconda3\\lib\\site-packages\\pandas\\core\\generic.py\u001b[0m in \u001b[0;36m_reindex_with_indexers\u001b[1;34m(self, reindexers, fill_value, copy, allow_dups)\u001b[0m\n\u001b[0;32m   4491\u001b[0m \u001b[1;33m\u001b[0m\u001b[0m\n\u001b[0;32m   4492\u001b[0m         \u001b[1;32mif\u001b[0m \u001b[0mcopy\u001b[0m \u001b[1;32mand\u001b[0m \u001b[0mnew_data\u001b[0m \u001b[1;32mis\u001b[0m \u001b[0mself\u001b[0m\u001b[1;33m.\u001b[0m\u001b[0m_data\u001b[0m\u001b[1;33m:\u001b[0m\u001b[1;33m\u001b[0m\u001b[1;33m\u001b[0m\u001b[0m\n\u001b[1;32m-> 4493\u001b[1;33m             \u001b[0mnew_data\u001b[0m \u001b[1;33m=\u001b[0m \u001b[0mnew_data\u001b[0m\u001b[1;33m.\u001b[0m\u001b[0mcopy\u001b[0m\u001b[1;33m(\u001b[0m\u001b[1;33m)\u001b[0m\u001b[1;33m\u001b[0m\u001b[1;33m\u001b[0m\u001b[0m\n\u001b[0m\u001b[0;32m   4494\u001b[0m \u001b[1;33m\u001b[0m\u001b[0m\n\u001b[0;32m   4495\u001b[0m         \u001b[1;32mreturn\u001b[0m \u001b[0mself\u001b[0m\u001b[1;33m.\u001b[0m\u001b[0m_constructor\u001b[0m\u001b[1;33m(\u001b[0m\u001b[0mnew_data\u001b[0m\u001b[1;33m)\u001b[0m\u001b[1;33m.\u001b[0m\u001b[0m__finalize__\u001b[0m\u001b[1;33m(\u001b[0m\u001b[0mself\u001b[0m\u001b[1;33m)\u001b[0m\u001b[1;33m\u001b[0m\u001b[1;33m\u001b[0m\u001b[0m\n",
      "\u001b[1;32mC:\\ProgramData\\Anaconda3\\lib\\site-packages\\pandas\\core\\internals\\managers.py\u001b[0m in \u001b[0;36mcopy\u001b[1;34m(self, deep)\u001b[0m\n\u001b[0;32m    732\u001b[0m             \u001b[0mnew_axes\u001b[0m \u001b[1;33m=\u001b[0m \u001b[0mlist\u001b[0m\u001b[1;33m(\u001b[0m\u001b[0mself\u001b[0m\u001b[1;33m.\u001b[0m\u001b[0maxes\u001b[0m\u001b[1;33m)\u001b[0m\u001b[1;33m\u001b[0m\u001b[1;33m\u001b[0m\u001b[0m\n\u001b[0;32m    733\u001b[0m         return self.apply('copy', axes=new_axes, deep=deep,\n\u001b[1;32m--> 734\u001b[1;33m                           do_integrity_check=False)\n\u001b[0m\u001b[0;32m    735\u001b[0m \u001b[1;33m\u001b[0m\u001b[0m\n\u001b[0;32m    736\u001b[0m     \u001b[1;32mdef\u001b[0m \u001b[0mas_array\u001b[0m\u001b[1;33m(\u001b[0m\u001b[0mself\u001b[0m\u001b[1;33m,\u001b[0m \u001b[0mtranspose\u001b[0m\u001b[1;33m=\u001b[0m\u001b[1;32mFalse\u001b[0m\u001b[1;33m,\u001b[0m \u001b[0mitems\u001b[0m\u001b[1;33m=\u001b[0m\u001b[1;32mNone\u001b[0m\u001b[1;33m)\u001b[0m\u001b[1;33m:\u001b[0m\u001b[1;33m\u001b[0m\u001b[1;33m\u001b[0m\u001b[0m\n",
      "\u001b[1;32mC:\\ProgramData\\Anaconda3\\lib\\site-packages\\pandas\\core\\internals\\managers.py\u001b[0m in \u001b[0;36mapply\u001b[1;34m(self, f, axes, filter, do_integrity_check, consolidate, **kwargs)\u001b[0m\n\u001b[0;32m    350\u001b[0m \u001b[1;33m\u001b[0m\u001b[0m\n\u001b[0;32m    351\u001b[0m         \u001b[1;32mif\u001b[0m \u001b[0mconsolidate\u001b[0m\u001b[1;33m:\u001b[0m\u001b[1;33m\u001b[0m\u001b[1;33m\u001b[0m\u001b[0m\n\u001b[1;32m--> 352\u001b[1;33m             \u001b[0mself\u001b[0m\u001b[1;33m.\u001b[0m\u001b[0m_consolidate_inplace\u001b[0m\u001b[1;33m(\u001b[0m\u001b[1;33m)\u001b[0m\u001b[1;33m\u001b[0m\u001b[1;33m\u001b[0m\u001b[0m\n\u001b[0m\u001b[0;32m    353\u001b[0m \u001b[1;33m\u001b[0m\u001b[0m\n\u001b[0;32m    354\u001b[0m         \u001b[1;32mif\u001b[0m \u001b[0mf\u001b[0m \u001b[1;33m==\u001b[0m \u001b[1;34m'where'\u001b[0m\u001b[1;33m:\u001b[0m\u001b[1;33m\u001b[0m\u001b[1;33m\u001b[0m\u001b[0m\n",
      "\u001b[1;32mC:\\ProgramData\\Anaconda3\\lib\\site-packages\\pandas\\core\\internals\\managers.py\u001b[0m in \u001b[0;36m_consolidate_inplace\u001b[1;34m(self)\u001b[0m\n\u001b[0;32m    927\u001b[0m     \u001b[1;32mdef\u001b[0m \u001b[0m_consolidate_inplace\u001b[0m\u001b[1;33m(\u001b[0m\u001b[0mself\u001b[0m\u001b[1;33m)\u001b[0m\u001b[1;33m:\u001b[0m\u001b[1;33m\u001b[0m\u001b[1;33m\u001b[0m\u001b[0m\n\u001b[0;32m    928\u001b[0m         \u001b[1;32mif\u001b[0m \u001b[1;32mnot\u001b[0m \u001b[0mself\u001b[0m\u001b[1;33m.\u001b[0m\u001b[0mis_consolidated\u001b[0m\u001b[1;33m(\u001b[0m\u001b[1;33m)\u001b[0m\u001b[1;33m:\u001b[0m\u001b[1;33m\u001b[0m\u001b[1;33m\u001b[0m\u001b[0m\n\u001b[1;32m--> 929\u001b[1;33m             \u001b[0mself\u001b[0m\u001b[1;33m.\u001b[0m\u001b[0mblocks\u001b[0m \u001b[1;33m=\u001b[0m \u001b[0mtuple\u001b[0m\u001b[1;33m(\u001b[0m\u001b[0m_consolidate\u001b[0m\u001b[1;33m(\u001b[0m\u001b[0mself\u001b[0m\u001b[1;33m.\u001b[0m\u001b[0mblocks\u001b[0m\u001b[1;33m)\u001b[0m\u001b[1;33m)\u001b[0m\u001b[1;33m\u001b[0m\u001b[1;33m\u001b[0m\u001b[0m\n\u001b[0m\u001b[0;32m    930\u001b[0m             \u001b[0mself\u001b[0m\u001b[1;33m.\u001b[0m\u001b[0m_is_consolidated\u001b[0m \u001b[1;33m=\u001b[0m \u001b[1;32mTrue\u001b[0m\u001b[1;33m\u001b[0m\u001b[1;33m\u001b[0m\u001b[0m\n\u001b[0;32m    931\u001b[0m             \u001b[0mself\u001b[0m\u001b[1;33m.\u001b[0m\u001b[0m_known_consolidated\u001b[0m \u001b[1;33m=\u001b[0m \u001b[1;32mTrue\u001b[0m\u001b[1;33m\u001b[0m\u001b[1;33m\u001b[0m\u001b[0m\n",
      "\u001b[1;32mC:\\ProgramData\\Anaconda3\\lib\\site-packages\\pandas\\core\\internals\\managers.py\u001b[0m in \u001b[0;36m_consolidate\u001b[1;34m(blocks)\u001b[0m\n\u001b[0;32m   1897\u001b[0m     \u001b[1;32mfor\u001b[0m \u001b[1;33m(\u001b[0m\u001b[0m_can_consolidate\u001b[0m\u001b[1;33m,\u001b[0m \u001b[0mdtype\u001b[0m\u001b[1;33m)\u001b[0m\u001b[1;33m,\u001b[0m \u001b[0mgroup_blocks\u001b[0m \u001b[1;32min\u001b[0m \u001b[0mgrouper\u001b[0m\u001b[1;33m:\u001b[0m\u001b[1;33m\u001b[0m\u001b[1;33m\u001b[0m\u001b[0m\n\u001b[0;32m   1898\u001b[0m         merged_blocks = _merge_blocks(list(group_blocks), dtype=dtype,\n\u001b[1;32m-> 1899\u001b[1;33m                                       _can_consolidate=_can_consolidate)\n\u001b[0m\u001b[0;32m   1900\u001b[0m         \u001b[0mnew_blocks\u001b[0m \u001b[1;33m=\u001b[0m \u001b[0m_extend_blocks\u001b[0m\u001b[1;33m(\u001b[0m\u001b[0mmerged_blocks\u001b[0m\u001b[1;33m,\u001b[0m \u001b[0mnew_blocks\u001b[0m\u001b[1;33m)\u001b[0m\u001b[1;33m\u001b[0m\u001b[1;33m\u001b[0m\u001b[0m\n\u001b[0;32m   1901\u001b[0m     \u001b[1;32mreturn\u001b[0m \u001b[0mnew_blocks\u001b[0m\u001b[1;33m\u001b[0m\u001b[1;33m\u001b[0m\u001b[0m\n",
      "\u001b[1;32mC:\\ProgramData\\Anaconda3\\lib\\site-packages\\pandas\\core\\internals\\blocks.py\u001b[0m in \u001b[0;36m_merge_blocks\u001b[1;34m(blocks, dtype, _can_consolidate)\u001b[0m\n\u001b[0;32m   3147\u001b[0m \u001b[1;33m\u001b[0m\u001b[0m\n\u001b[0;32m   3148\u001b[0m         \u001b[0margsort\u001b[0m \u001b[1;33m=\u001b[0m \u001b[0mnp\u001b[0m\u001b[1;33m.\u001b[0m\u001b[0margsort\u001b[0m\u001b[1;33m(\u001b[0m\u001b[0mnew_mgr_locs\u001b[0m\u001b[1;33m)\u001b[0m\u001b[1;33m\u001b[0m\u001b[1;33m\u001b[0m\u001b[0m\n\u001b[1;32m-> 3149\u001b[1;33m         \u001b[0mnew_values\u001b[0m \u001b[1;33m=\u001b[0m \u001b[0mnew_values\u001b[0m\u001b[1;33m[\u001b[0m\u001b[0margsort\u001b[0m\u001b[1;33m]\u001b[0m\u001b[1;33m\u001b[0m\u001b[1;33m\u001b[0m\u001b[0m\n\u001b[0m\u001b[0;32m   3150\u001b[0m         \u001b[0mnew_mgr_locs\u001b[0m \u001b[1;33m=\u001b[0m \u001b[0mnew_mgr_locs\u001b[0m\u001b[1;33m[\u001b[0m\u001b[0margsort\u001b[0m\u001b[1;33m]\u001b[0m\u001b[1;33m\u001b[0m\u001b[1;33m\u001b[0m\u001b[0m\n\u001b[0;32m   3151\u001b[0m \u001b[1;33m\u001b[0m\u001b[0m\n",
      "\u001b[1;31mMemoryError\u001b[0m: "
     ]
    }
   ],
   "source": [
    "for key in rtstd:\n",
    "    #fudge[key] = fudge[key].map(lambda x: (np.random.normal(x, rtstd[key])))\n",
    "    fudge[key] = fudge[key].map(lambda x: (np.random.normal(x, 2)))\n",
    "fudge = fudge[fudge>=0]\n",
    "fudge.dropna(inplace = True)"
   ]
  },
  {
   "cell_type": "code",
   "execution_count": 16,
   "metadata": {},
   "outputs": [
    {
     "data": {
      "text/plain": [
       "{'t_cost_per_claim_excluded': 84.03830228283725,\n",
       " 't_claim_count_schedule2': 3.735424432090368,\n",
       " 't_claim_per_bene': 1.5508844893809823,\n",
       " '%b2bg_claim_count': 1.9352203219559672,\n",
       " '%b2bg_drug_cost': 3.007012758064355,\n",
       " '%b2t_claim_count': 1.802081760350314,\n",
       " '%b2t_drug_cost': 2.99737621069871,\n",
       " 't_cost_per_claim': 6.619804500549423,\n",
       " 't_cost_per_claim_ge65': 6.413708518062818,\n",
       " 't_claim_per_bene_ge65': 1.5268541048291235,\n",
       " 'mapd_cost_per_claim': 6.461408506432181,\n",
       " 'pdp_cost_per_claim': 6.725735816482665,\n",
       " 'lis_cost_per_claim': 6.822596052308591,\n",
       " 'nonlis_cost_per_claim': 6.207153722441226,\n",
       " 'opioid_cost_per_claim': 4.650466862010797,\n",
       " 'opioid_claim_per_bene': 0.884740725108428,\n",
       " 'antibiotic_cost_per_claim': 2.981750867470343,\n",
       " 'antibiotic_claim_per_bene': 0.47019428185377854,\n",
       " 'antipsych_cost_per_claim_ge65': 4.626473486567583,\n",
       " 'antipsych_claim_per_bene_ge65': 0.6299808071079215,\n",
       " 'total_30_day_fill_count': 37.12751686106159,\n",
       " 'total_day_supply': 197.95167898077315,\n",
       " 'total_30_day_fill_count_ge65': 32.32204101305794,\n",
       " 'total_day_supply_ge65': 172.3850331940279,\n",
       " 'opioid_day_supply': 75.1628609755071,\n",
       " 'opioid_prescriber_rate': 1.9270085656978702}"
      ]
     },
     "execution_count": 16,
     "metadata": {},
     "output_type": "execute_result"
    }
   ],
   "source": [
    "rtstd"
   ]
  },
  {
   "cell_type": "code",
   "execution_count": 74,
   "metadata": {
    "scrolled": false
   },
   "outputs": [
    {
     "data": {
      "text/html": [
       "<div>\n",
       "<style scoped>\n",
       "    .dataframe tbody tr th:only-of-type {\n",
       "        vertical-align: middle;\n",
       "    }\n",
       "\n",
       "    .dataframe tbody tr th {\n",
       "        vertical-align: top;\n",
       "    }\n",
       "\n",
       "    .dataframe thead th {\n",
       "        text-align: right;\n",
       "    }\n",
       "</style>\n",
       "<table border=\"1\" class=\"dataframe\">\n",
       "  <thead>\n",
       "    <tr style=\"text-align: right;\">\n",
       "      <th></th>\n",
       "      <th>t_cost_per_claim_excluded</th>\n",
       "      <th>t_claim_count_schedule2</th>\n",
       "      <th>t_claim_per_bene</th>\n",
       "      <th>%b2bg_claim_count</th>\n",
       "      <th>%b2bg_drug_cost</th>\n",
       "      <th>%b2t_claim_count</th>\n",
       "      <th>%b2t_drug_cost</th>\n",
       "      <th>t_cost_per_claim</th>\n",
       "      <th>t_cost_per_claim_ge65</th>\n",
       "      <th>t_claim_per_bene_ge65</th>\n",
       "      <th>...</th>\n",
       "      <th>x0_Technician</th>\n",
       "      <th>x0_Technician/Technologist</th>\n",
       "      <th>x0_Thoracic Surgery</th>\n",
       "      <th>x0_Thoracic Surgery (Cardiothoracic Vascular Surgery)</th>\n",
       "      <th>x0_Undefined Physician type</th>\n",
       "      <th>x0_Unknown Supplier/Provider Specialty</th>\n",
       "      <th>x0_Urology</th>\n",
       "      <th>x0_Vascular Surgery</th>\n",
       "      <th>x0_Veterinarian</th>\n",
       "      <th>x0_Voluntary Health or Charitable Agency</th>\n",
       "    </tr>\n",
       "  </thead>\n",
       "  <tbody>\n",
       "    <tr>\n",
       "      <th>count</th>\n",
       "      <td>88779.000000</td>\n",
       "      <td>88779.000000</td>\n",
       "      <td>88779.000000</td>\n",
       "      <td>88779.000000</td>\n",
       "      <td>88779.000000</td>\n",
       "      <td>88779.000000</td>\n",
       "      <td>88779.000000</td>\n",
       "      <td>88779.000000</td>\n",
       "      <td>88779.000000</td>\n",
       "      <td>88779.000000</td>\n",
       "      <td>...</td>\n",
       "      <td>88779.0</td>\n",
       "      <td>88779.0</td>\n",
       "      <td>88779.0</td>\n",
       "      <td>88779.0</td>\n",
       "      <td>88779.0</td>\n",
       "      <td>88779.0</td>\n",
       "      <td>88779.0</td>\n",
       "      <td>88779.0</td>\n",
       "      <td>88779.0</td>\n",
       "      <td>88779.0</td>\n",
       "    </tr>\n",
       "    <tr>\n",
       "      <th>mean</th>\n",
       "      <td>3749.685021</td>\n",
       "      <td>125.597206</td>\n",
       "      <td>21.617403</td>\n",
       "      <td>17.842973</td>\n",
       "      <td>66.867958</td>\n",
       "      <td>17.839472</td>\n",
       "      <td>66.379500</td>\n",
       "      <td>83.527709</td>\n",
       "      <td>76.457404</td>\n",
       "      <td>20.724264</td>\n",
       "      <td>...</td>\n",
       "      <td>0.0</td>\n",
       "      <td>0.0</td>\n",
       "      <td>0.0</td>\n",
       "      <td>0.0</td>\n",
       "      <td>0.0</td>\n",
       "      <td>0.0</td>\n",
       "      <td>0.0</td>\n",
       "      <td>0.0</td>\n",
       "      <td>0.0</td>\n",
       "      <td>0.0</td>\n",
       "    </tr>\n",
       "    <tr>\n",
       "      <th>std</th>\n",
       "      <td>3261.616662</td>\n",
       "      <td>77.628251</td>\n",
       "      <td>10.629778</td>\n",
       "      <td>6.805507</td>\n",
       "      <td>12.416309</td>\n",
       "      <td>6.811781</td>\n",
       "      <td>12.445927</td>\n",
       "      <td>55.878955</td>\n",
       "      <td>48.829895</td>\n",
       "      <td>10.849723</td>\n",
       "      <td>...</td>\n",
       "      <td>0.0</td>\n",
       "      <td>0.0</td>\n",
       "      <td>0.0</td>\n",
       "      <td>0.0</td>\n",
       "      <td>0.0</td>\n",
       "      <td>0.0</td>\n",
       "      <td>0.0</td>\n",
       "      <td>0.0</td>\n",
       "      <td>0.0</td>\n",
       "      <td>0.0</td>\n",
       "    </tr>\n",
       "    <tr>\n",
       "      <th>min</th>\n",
       "      <td>40.015461</td>\n",
       "      <td>0.009173</td>\n",
       "      <td>0.006240</td>\n",
       "      <td>0.001424</td>\n",
       "      <td>0.002893</td>\n",
       "      <td>0.001596</td>\n",
       "      <td>0.004005</td>\n",
       "      <td>1.826792</td>\n",
       "      <td>0.430153</td>\n",
       "      <td>0.003615</td>\n",
       "      <td>...</td>\n",
       "      <td>0.0</td>\n",
       "      <td>0.0</td>\n",
       "      <td>0.0</td>\n",
       "      <td>0.0</td>\n",
       "      <td>0.0</td>\n",
       "      <td>0.0</td>\n",
       "      <td>0.0</td>\n",
       "      <td>0.0</td>\n",
       "      <td>0.0</td>\n",
       "      <td>0.0</td>\n",
       "    </tr>\n",
       "    <tr>\n",
       "      <th>25%</th>\n",
       "      <td>1820.021566</td>\n",
       "      <td>63.542963</td>\n",
       "      <td>14.536125</td>\n",
       "      <td>11.658953</td>\n",
       "      <td>64.410213</td>\n",
       "      <td>11.658504</td>\n",
       "      <td>64.080420</td>\n",
       "      <td>52.473698</td>\n",
       "      <td>46.780928</td>\n",
       "      <td>13.662859</td>\n",
       "      <td>...</td>\n",
       "      <td>0.0</td>\n",
       "      <td>0.0</td>\n",
       "      <td>0.0</td>\n",
       "      <td>0.0</td>\n",
       "      <td>0.0</td>\n",
       "      <td>0.0</td>\n",
       "      <td>0.0</td>\n",
       "      <td>0.0</td>\n",
       "      <td>0.0</td>\n",
       "      <td>0.0</td>\n",
       "    </tr>\n",
       "    <tr>\n",
       "      <th>50%</th>\n",
       "      <td>3007.673760</td>\n",
       "      <td>119.805679</td>\n",
       "      <td>19.829182</td>\n",
       "      <td>19.085133</td>\n",
       "      <td>69.166635</td>\n",
       "      <td>19.077220</td>\n",
       "      <td>68.904377</td>\n",
       "      <td>66.019853</td>\n",
       "      <td>58.487771</td>\n",
       "      <td>18.782942</td>\n",
       "      <td>...</td>\n",
       "      <td>0.0</td>\n",
       "      <td>0.0</td>\n",
       "      <td>0.0</td>\n",
       "      <td>0.0</td>\n",
       "      <td>0.0</td>\n",
       "      <td>0.0</td>\n",
       "      <td>0.0</td>\n",
       "      <td>0.0</td>\n",
       "      <td>0.0</td>\n",
       "      <td>0.0</td>\n",
       "    </tr>\n",
       "    <tr>\n",
       "      <th>75%</th>\n",
       "      <td>4194.117101</td>\n",
       "      <td>153.953130</td>\n",
       "      <td>25.210635</td>\n",
       "      <td>21.323705</td>\n",
       "      <td>73.538681</td>\n",
       "      <td>21.318104</td>\n",
       "      <td>72.986823</td>\n",
       "      <td>102.536191</td>\n",
       "      <td>95.223265</td>\n",
       "      <td>25.005930</td>\n",
       "      <td>...</td>\n",
       "      <td>0.0</td>\n",
       "      <td>0.0</td>\n",
       "      <td>0.0</td>\n",
       "      <td>0.0</td>\n",
       "      <td>0.0</td>\n",
       "      <td>0.0</td>\n",
       "      <td>0.0</td>\n",
       "      <td>0.0</td>\n",
       "      <td>0.0</td>\n",
       "      <td>0.0</td>\n",
       "    </tr>\n",
       "    <tr>\n",
       "      <th>max</th>\n",
       "      <td>286884.635255</td>\n",
       "      <td>305.883382</td>\n",
       "      <td>53.409089</td>\n",
       "      <td>100.000097</td>\n",
       "      <td>102.671602</td>\n",
       "      <td>64.732898</td>\n",
       "      <td>101.556704</td>\n",
       "      <td>1422.028460</td>\n",
       "      <td>1259.433704</td>\n",
       "      <td>51.720256</td>\n",
       "      <td>...</td>\n",
       "      <td>0.0</td>\n",
       "      <td>0.0</td>\n",
       "      <td>0.0</td>\n",
       "      <td>0.0</td>\n",
       "      <td>0.0</td>\n",
       "      <td>0.0</td>\n",
       "      <td>0.0</td>\n",
       "      <td>0.0</td>\n",
       "      <td>0.0</td>\n",
       "      <td>0.0</td>\n",
       "    </tr>\n",
       "  </tbody>\n",
       "</table>\n",
       "<p>8 rows × 214 columns</p>\n",
       "</div>"
      ],
      "text/plain": [
       "       t_cost_per_claim_excluded  t_claim_count_schedule2  t_claim_per_bene  \\\n",
       "count               88779.000000             88779.000000      88779.000000   \n",
       "mean                 3749.685021               125.597206         21.617403   \n",
       "std                  3261.616662                77.628251         10.629778   \n",
       "min                    40.015461                 0.009173          0.006240   \n",
       "25%                  1820.021566                63.542963         14.536125   \n",
       "50%                  3007.673760               119.805679         19.829182   \n",
       "75%                  4194.117101               153.953130         25.210635   \n",
       "max                286884.635255               305.883382         53.409089   \n",
       "\n",
       "       %b2bg_claim_count  %b2bg_drug_cost  %b2t_claim_count  %b2t_drug_cost  \\\n",
       "count       88779.000000     88779.000000      88779.000000    88779.000000   \n",
       "mean           17.842973        66.867958         17.839472       66.379500   \n",
       "std             6.805507        12.416309          6.811781       12.445927   \n",
       "min             0.001424         0.002893          0.001596        0.004005   \n",
       "25%            11.658953        64.410213         11.658504       64.080420   \n",
       "50%            19.085133        69.166635         19.077220       68.904377   \n",
       "75%            21.323705        73.538681         21.318104       72.986823   \n",
       "max           100.000097       102.671602         64.732898      101.556704   \n",
       "\n",
       "       t_cost_per_claim  t_cost_per_claim_ge65  t_claim_per_bene_ge65  ...  \\\n",
       "count      88779.000000           88779.000000           88779.000000  ...   \n",
       "mean          83.527709              76.457404              20.724264  ...   \n",
       "std           55.878955              48.829895              10.849723  ...   \n",
       "min            1.826792               0.430153               0.003615  ...   \n",
       "25%           52.473698              46.780928              13.662859  ...   \n",
       "50%           66.019853              58.487771              18.782942  ...   \n",
       "75%          102.536191              95.223265              25.005930  ...   \n",
       "max         1422.028460            1259.433704              51.720256  ...   \n",
       "\n",
       "       x0_Technician  x0_Technician/Technologist  x0_Thoracic Surgery  \\\n",
       "count        88779.0                     88779.0              88779.0   \n",
       "mean             0.0                         0.0                  0.0   \n",
       "std              0.0                         0.0                  0.0   \n",
       "min              0.0                         0.0                  0.0   \n",
       "25%              0.0                         0.0                  0.0   \n",
       "50%              0.0                         0.0                  0.0   \n",
       "75%              0.0                         0.0                  0.0   \n",
       "max              0.0                         0.0                  0.0   \n",
       "\n",
       "       x0_Thoracic Surgery (Cardiothoracic Vascular Surgery)  \\\n",
       "count                                            88779.0       \n",
       "mean                                                 0.0       \n",
       "std                                                  0.0       \n",
       "min                                                  0.0       \n",
       "25%                                                  0.0       \n",
       "50%                                                  0.0       \n",
       "75%                                                  0.0       \n",
       "max                                                  0.0       \n",
       "\n",
       "       x0_Undefined Physician type  x0_Unknown Supplier/Provider Specialty  \\\n",
       "count                      88779.0                                 88779.0   \n",
       "mean                           0.0                                     0.0   \n",
       "std                            0.0                                     0.0   \n",
       "min                            0.0                                     0.0   \n",
       "25%                            0.0                                     0.0   \n",
       "50%                            0.0                                     0.0   \n",
       "75%                            0.0                                     0.0   \n",
       "max                            0.0                                     0.0   \n",
       "\n",
       "       x0_Urology  x0_Vascular Surgery  x0_Veterinarian  \\\n",
       "count     88779.0              88779.0          88779.0   \n",
       "mean          0.0                  0.0              0.0   \n",
       "std           0.0                  0.0              0.0   \n",
       "min           0.0                  0.0              0.0   \n",
       "25%           0.0                  0.0              0.0   \n",
       "50%           0.0                  0.0              0.0   \n",
       "75%           0.0                  0.0              0.0   \n",
       "max           0.0                  0.0              0.0   \n",
       "\n",
       "       x0_Voluntary Health or Charitable Agency  \n",
       "count                                   88779.0  \n",
       "mean                                        0.0  \n",
       "std                                         0.0  \n",
       "min                                         0.0  \n",
       "25%                                         0.0  \n",
       "50%                                         0.0  \n",
       "75%                                         0.0  \n",
       "max                                         0.0  \n",
       "\n",
       "[8 rows x 214 columns]"
      ]
     },
     "execution_count": 74,
     "metadata": {},
     "output_type": "execute_result"
    }
   ],
   "source": [
    "fudge.describe()"
   ]
  },
  {
   "cell_type": "code",
   "execution_count": 75,
   "metadata": {},
   "outputs": [
    {
     "data": {
      "text/html": [
       "<div>\n",
       "<style scoped>\n",
       "    .dataframe tbody tr th:only-of-type {\n",
       "        vertical-align: middle;\n",
       "    }\n",
       "\n",
       "    .dataframe tbody tr th {\n",
       "        vertical-align: top;\n",
       "    }\n",
       "\n",
       "    .dataframe thead th {\n",
       "        text-align: right;\n",
       "    }\n",
       "</style>\n",
       "<table border=\"1\" class=\"dataframe\">\n",
       "  <thead>\n",
       "    <tr style=\"text-align: right;\">\n",
       "      <th></th>\n",
       "      <th>t_cost_per_claim_excluded</th>\n",
       "      <th>t_claim_count_schedule2</th>\n",
       "      <th>t_claim_per_bene</th>\n",
       "      <th>%b2bg_claim_count</th>\n",
       "      <th>%b2bg_drug_cost</th>\n",
       "      <th>%b2t_claim_count</th>\n",
       "      <th>%b2t_drug_cost</th>\n",
       "      <th>t_cost_per_claim</th>\n",
       "      <th>t_cost_per_claim_ge65</th>\n",
       "      <th>t_claim_per_bene_ge65</th>\n",
       "      <th>...</th>\n",
       "      <th>x0_Technician</th>\n",
       "      <th>x0_Technician/Technologist</th>\n",
       "      <th>x0_Thoracic Surgery</th>\n",
       "      <th>x0_Thoracic Surgery (Cardiothoracic Vascular Surgery)</th>\n",
       "      <th>x0_Undefined Physician type</th>\n",
       "      <th>x0_Unknown Supplier/Provider Specialty</th>\n",
       "      <th>x0_Urology</th>\n",
       "      <th>x0_Vascular Surgery</th>\n",
       "      <th>x0_Veterinarian</th>\n",
       "      <th>x0_Voluntary Health or Charitable Agency</th>\n",
       "    </tr>\n",
       "  </thead>\n",
       "  <tbody>\n",
       "    <tr>\n",
       "      <th>count</th>\n",
       "      <td>101.000000</td>\n",
       "      <td>101.000000</td>\n",
       "      <td>101.000000</td>\n",
       "      <td>101.000000</td>\n",
       "      <td>101.000000</td>\n",
       "      <td>101.000000</td>\n",
       "      <td>101.000000</td>\n",
       "      <td>101.000000</td>\n",
       "      <td>101.000000</td>\n",
       "      <td>101.000000</td>\n",
       "      <td>...</td>\n",
       "      <td>101.0</td>\n",
       "      <td>101.0</td>\n",
       "      <td>101.0</td>\n",
       "      <td>101.0</td>\n",
       "      <td>101.0</td>\n",
       "      <td>101.0</td>\n",
       "      <td>101.0</td>\n",
       "      <td>101.0</td>\n",
       "      <td>101.0</td>\n",
       "      <td>101.0</td>\n",
       "    </tr>\n",
       "    <tr>\n",
       "      <th>mean</th>\n",
       "      <td>5221.393465</td>\n",
       "      <td>38.673267</td>\n",
       "      <td>9.499010</td>\n",
       "      <td>11.386139</td>\n",
       "      <td>36.306931</td>\n",
       "      <td>10.891089</td>\n",
       "      <td>36.099010</td>\n",
       "      <td>105.625248</td>\n",
       "      <td>89.195347</td>\n",
       "      <td>7.519802</td>\n",
       "      <td>...</td>\n",
       "      <td>0.0</td>\n",
       "      <td>0.0</td>\n",
       "      <td>0.0</td>\n",
       "      <td>0.0</td>\n",
       "      <td>0.0</td>\n",
       "      <td>0.0</td>\n",
       "      <td>0.0</td>\n",
       "      <td>0.0</td>\n",
       "      <td>0.0</td>\n",
       "      <td>0.0</td>\n",
       "    </tr>\n",
       "    <tr>\n",
       "      <th>std</th>\n",
       "      <td>28518.834547</td>\n",
       "      <td>56.116684</td>\n",
       "      <td>9.667021</td>\n",
       "      <td>15.035272</td>\n",
       "      <td>36.333935</td>\n",
       "      <td>13.045996</td>\n",
       "      <td>36.102771</td>\n",
       "      <td>176.536412</td>\n",
       "      <td>165.641181</td>\n",
       "      <td>9.375172</td>\n",
       "      <td>...</td>\n",
       "      <td>0.0</td>\n",
       "      <td>0.0</td>\n",
       "      <td>0.0</td>\n",
       "      <td>0.0</td>\n",
       "      <td>0.0</td>\n",
       "      <td>0.0</td>\n",
       "      <td>0.0</td>\n",
       "      <td>0.0</td>\n",
       "      <td>0.0</td>\n",
       "      <td>0.0</td>\n",
       "    </tr>\n",
       "    <tr>\n",
       "      <th>min</th>\n",
       "      <td>40.990000</td>\n",
       "      <td>1.000000</td>\n",
       "      <td>0.000000</td>\n",
       "      <td>0.000000</td>\n",
       "      <td>0.000000</td>\n",
       "      <td>0.000000</td>\n",
       "      <td>0.000000</td>\n",
       "      <td>2.940000</td>\n",
       "      <td>0.000000</td>\n",
       "      <td>0.000000</td>\n",
       "      <td>...</td>\n",
       "      <td>0.0</td>\n",
       "      <td>0.0</td>\n",
       "      <td>0.0</td>\n",
       "      <td>0.0</td>\n",
       "      <td>0.0</td>\n",
       "      <td>0.0</td>\n",
       "      <td>0.0</td>\n",
       "      <td>0.0</td>\n",
       "      <td>0.0</td>\n",
       "      <td>0.0</td>\n",
       "    </tr>\n",
       "    <tr>\n",
       "      <th>25%</th>\n",
       "      <td>293.230000</td>\n",
       "      <td>3.000000</td>\n",
       "      <td>2.200000</td>\n",
       "      <td>0.000000</td>\n",
       "      <td>0.000000</td>\n",
       "      <td>0.000000</td>\n",
       "      <td>0.000000</td>\n",
       "      <td>44.060000</td>\n",
       "      <td>28.760000</td>\n",
       "      <td>0.000000</td>\n",
       "      <td>...</td>\n",
       "      <td>0.0</td>\n",
       "      <td>0.0</td>\n",
       "      <td>0.0</td>\n",
       "      <td>0.0</td>\n",
       "      <td>0.0</td>\n",
       "      <td>0.0</td>\n",
       "      <td>0.0</td>\n",
       "      <td>0.0</td>\n",
       "      <td>0.0</td>\n",
       "      <td>0.0</td>\n",
       "    </tr>\n",
       "    <tr>\n",
       "      <th>50%</th>\n",
       "      <td>1206.820000</td>\n",
       "      <td>11.000000</td>\n",
       "      <td>5.800000</td>\n",
       "      <td>10.000000</td>\n",
       "      <td>43.000000</td>\n",
       "      <td>10.000000</td>\n",
       "      <td>43.000000</td>\n",
       "      <td>72.230000</td>\n",
       "      <td>53.450000</td>\n",
       "      <td>3.780000</td>\n",
       "      <td>...</td>\n",
       "      <td>0.0</td>\n",
       "      <td>0.0</td>\n",
       "      <td>0.0</td>\n",
       "      <td>0.0</td>\n",
       "      <td>0.0</td>\n",
       "      <td>0.0</td>\n",
       "      <td>0.0</td>\n",
       "      <td>0.0</td>\n",
       "      <td>0.0</td>\n",
       "      <td>0.0</td>\n",
       "    </tr>\n",
       "    <tr>\n",
       "      <th>75%</th>\n",
       "      <td>3338.240000</td>\n",
       "      <td>54.000000</td>\n",
       "      <td>13.800000</td>\n",
       "      <td>20.000000</td>\n",
       "      <td>71.000000</td>\n",
       "      <td>20.000000</td>\n",
       "      <td>70.000000</td>\n",
       "      <td>104.190000</td>\n",
       "      <td>79.820000</td>\n",
       "      <td>11.630000</td>\n",
       "      <td>...</td>\n",
       "      <td>0.0</td>\n",
       "      <td>0.0</td>\n",
       "      <td>0.0</td>\n",
       "      <td>0.0</td>\n",
       "      <td>0.0</td>\n",
       "      <td>0.0</td>\n",
       "      <td>0.0</td>\n",
       "      <td>0.0</td>\n",
       "      <td>0.0</td>\n",
       "      <td>0.0</td>\n",
       "    </tr>\n",
       "    <tr>\n",
       "      <th>max</th>\n",
       "      <td>286886.380000</td>\n",
       "      <td>299.000000</td>\n",
       "      <td>46.100000</td>\n",
       "      <td>100.000000</td>\n",
       "      <td>100.000000</td>\n",
       "      <td>60.000000</td>\n",
       "      <td>98.000000</td>\n",
       "      <td>1419.570000</td>\n",
       "      <td>1258.960000</td>\n",
       "      <td>43.550000</td>\n",
       "      <td>...</td>\n",
       "      <td>0.0</td>\n",
       "      <td>0.0</td>\n",
       "      <td>0.0</td>\n",
       "      <td>0.0</td>\n",
       "      <td>0.0</td>\n",
       "      <td>0.0</td>\n",
       "      <td>0.0</td>\n",
       "      <td>0.0</td>\n",
       "      <td>0.0</td>\n",
       "      <td>0.0</td>\n",
       "    </tr>\n",
       "  </tbody>\n",
       "</table>\n",
       "<p>8 rows × 214 columns</p>\n",
       "</div>"
      ],
      "text/plain": [
       "       t_cost_per_claim_excluded  t_claim_count_schedule2  t_claim_per_bene  \\\n",
       "count                 101.000000               101.000000        101.000000   \n",
       "mean                 5221.393465                38.673267          9.499010   \n",
       "std                 28518.834547                56.116684          9.667021   \n",
       "min                    40.990000                 1.000000          0.000000   \n",
       "25%                   293.230000                 3.000000          2.200000   \n",
       "50%                  1206.820000                11.000000          5.800000   \n",
       "75%                  3338.240000                54.000000         13.800000   \n",
       "max                286886.380000               299.000000         46.100000   \n",
       "\n",
       "       %b2bg_claim_count  %b2bg_drug_cost  %b2t_claim_count  %b2t_drug_cost  \\\n",
       "count         101.000000       101.000000        101.000000      101.000000   \n",
       "mean           11.386139        36.306931         10.891089       36.099010   \n",
       "std            15.035272        36.333935         13.045996       36.102771   \n",
       "min             0.000000         0.000000          0.000000        0.000000   \n",
       "25%             0.000000         0.000000          0.000000        0.000000   \n",
       "50%            10.000000        43.000000         10.000000       43.000000   \n",
       "75%            20.000000        71.000000         20.000000       70.000000   \n",
       "max           100.000000       100.000000         60.000000       98.000000   \n",
       "\n",
       "       t_cost_per_claim  t_cost_per_claim_ge65  t_claim_per_bene_ge65  ...  \\\n",
       "count        101.000000             101.000000             101.000000  ...   \n",
       "mean         105.625248              89.195347               7.519802  ...   \n",
       "std          176.536412             165.641181               9.375172  ...   \n",
       "min            2.940000               0.000000               0.000000  ...   \n",
       "25%           44.060000              28.760000               0.000000  ...   \n",
       "50%           72.230000              53.450000               3.780000  ...   \n",
       "75%          104.190000              79.820000              11.630000  ...   \n",
       "max         1419.570000            1258.960000              43.550000  ...   \n",
       "\n",
       "       x0_Technician  x0_Technician/Technologist  x0_Thoracic Surgery  \\\n",
       "count          101.0                       101.0                101.0   \n",
       "mean             0.0                         0.0                  0.0   \n",
       "std              0.0                         0.0                  0.0   \n",
       "min              0.0                         0.0                  0.0   \n",
       "25%              0.0                         0.0                  0.0   \n",
       "50%              0.0                         0.0                  0.0   \n",
       "75%              0.0                         0.0                  0.0   \n",
       "max              0.0                         0.0                  0.0   \n",
       "\n",
       "       x0_Thoracic Surgery (Cardiothoracic Vascular Surgery)  \\\n",
       "count                                              101.0       \n",
       "mean                                                 0.0       \n",
       "std                                                  0.0       \n",
       "min                                                  0.0       \n",
       "25%                                                  0.0       \n",
       "50%                                                  0.0       \n",
       "75%                                                  0.0       \n",
       "max                                                  0.0       \n",
       "\n",
       "       x0_Undefined Physician type  x0_Unknown Supplier/Provider Specialty  \\\n",
       "count                        101.0                                   101.0   \n",
       "mean                           0.0                                     0.0   \n",
       "std                            0.0                                     0.0   \n",
       "min                            0.0                                     0.0   \n",
       "25%                            0.0                                     0.0   \n",
       "50%                            0.0                                     0.0   \n",
       "75%                            0.0                                     0.0   \n",
       "max                            0.0                                     0.0   \n",
       "\n",
       "       x0_Urology  x0_Vascular Surgery  x0_Veterinarian  \\\n",
       "count       101.0                101.0            101.0   \n",
       "mean          0.0                  0.0              0.0   \n",
       "std           0.0                  0.0              0.0   \n",
       "min           0.0                  0.0              0.0   \n",
       "25%           0.0                  0.0              0.0   \n",
       "50%           0.0                  0.0              0.0   \n",
       "75%           0.0                  0.0              0.0   \n",
       "max           0.0                  0.0              0.0   \n",
       "\n",
       "       x0_Voluntary Health or Charitable Agency  \n",
       "count                                     101.0  \n",
       "mean                                        0.0  \n",
       "std                                         0.0  \n",
       "min                                         0.0  \n",
       "25%                                         0.0  \n",
       "50%                                         0.0  \n",
       "75%                                         0.0  \n",
       "max                                         0.0  \n",
       "\n",
       "[8 rows x 214 columns]"
      ]
     },
     "execution_count": 75,
     "metadata": {},
     "output_type": "execute_result"
    }
   ],
   "source": [
    "only_excluded.describe()"
   ]
  },
  {
   "cell_type": "code",
   "execution_count": 76,
   "metadata": {},
   "outputs": [
    {
     "data": {
      "text/plain": [
       "(88779, 214)"
      ]
     },
     "execution_count": 76,
     "metadata": {},
     "output_type": "execute_result"
    }
   ],
   "source": [
    "fudge.shape"
   ]
  },
  {
   "cell_type": "code",
   "execution_count": 12,
   "metadata": {},
   "outputs": [
    {
     "data": {
      "text/html": [
       "<div>\n",
       "<style scoped>\n",
       "    .dataframe tbody tr th:only-of-type {\n",
       "        vertical-align: middle;\n",
       "    }\n",
       "\n",
       "    .dataframe tbody tr th {\n",
       "        vertical-align: top;\n",
       "    }\n",
       "\n",
       "    .dataframe thead th {\n",
       "        text-align: right;\n",
       "    }\n",
       "</style>\n",
       "<table border=\"1\" class=\"dataframe\">\n",
       "  <thead>\n",
       "    <tr style=\"text-align: right;\">\n",
       "      <th></th>\n",
       "      <th>t_cost_per_claim_excluded</th>\n",
       "      <th>t_claim_count_schedule2</th>\n",
       "      <th>t_claim_per_bene</th>\n",
       "      <th>%b2bg_claim_count</th>\n",
       "      <th>%b2bg_drug_cost</th>\n",
       "      <th>%b2t_claim_count</th>\n",
       "      <th>%b2t_drug_cost</th>\n",
       "      <th>t_cost_per_claim</th>\n",
       "      <th>t_cost_per_claim_ge65</th>\n",
       "      <th>t_claim_per_bene_ge65</th>\n",
       "      <th>...</th>\n",
       "      <th>x0_Technician</th>\n",
       "      <th>x0_Technician/Technologist</th>\n",
       "      <th>x0_Thoracic Surgery</th>\n",
       "      <th>x0_Thoracic Surgery (Cardiothoracic Vascular Surgery)</th>\n",
       "      <th>x0_Undefined Physician type</th>\n",
       "      <th>x0_Unknown Supplier/Provider Specialty</th>\n",
       "      <th>x0_Urology</th>\n",
       "      <th>x0_Vascular Surgery</th>\n",
       "      <th>x0_Veterinarian</th>\n",
       "      <th>x0_Voluntary Health or Charitable Agency</th>\n",
       "    </tr>\n",
       "  </thead>\n",
       "  <tbody>\n",
       "    <tr>\n",
       "      <th>82944</th>\n",
       "      <td>3483.532868</td>\n",
       "      <td>215.766340</td>\n",
       "      <td>19.990503</td>\n",
       "      <td>16.875812</td>\n",
       "      <td>72.228089</td>\n",
       "      <td>18.189547</td>\n",
       "      <td>71.406809</td>\n",
       "      <td>78.657694</td>\n",
       "      <td>79.125992</td>\n",
       "      <td>16.751167</td>\n",
       "      <td>...</td>\n",
       "      <td>0.0</td>\n",
       "      <td>0.0</td>\n",
       "      <td>0.0</td>\n",
       "      <td>0.0</td>\n",
       "      <td>0.0</td>\n",
       "      <td>0.0</td>\n",
       "      <td>0.0</td>\n",
       "      <td>0.0</td>\n",
       "      <td>0.0</td>\n",
       "      <td>0.0</td>\n",
       "    </tr>\n",
       "    <tr>\n",
       "      <th>644968</th>\n",
       "      <td>2602.044279</td>\n",
       "      <td>151.919238</td>\n",
       "      <td>17.371792</td>\n",
       "      <td>8.933958</td>\n",
       "      <td>65.903505</td>\n",
       "      <td>13.323704</td>\n",
       "      <td>62.558383</td>\n",
       "      <td>80.924757</td>\n",
       "      <td>81.645599</td>\n",
       "      <td>16.988584</td>\n",
       "      <td>...</td>\n",
       "      <td>0.0</td>\n",
       "      <td>0.0</td>\n",
       "      <td>0.0</td>\n",
       "      <td>0.0</td>\n",
       "      <td>0.0</td>\n",
       "      <td>0.0</td>\n",
       "      <td>0.0</td>\n",
       "      <td>0.0</td>\n",
       "      <td>0.0</td>\n",
       "      <td>0.0</td>\n",
       "    </tr>\n",
       "    <tr>\n",
       "      <th>82944</th>\n",
       "      <td>3483.597118</td>\n",
       "      <td>216.526370</td>\n",
       "      <td>17.203577</td>\n",
       "      <td>17.319448</td>\n",
       "      <td>73.481025</td>\n",
       "      <td>19.161120</td>\n",
       "      <td>73.470003</td>\n",
       "      <td>80.516639</td>\n",
       "      <td>77.133769</td>\n",
       "      <td>15.651839</td>\n",
       "      <td>...</td>\n",
       "      <td>0.0</td>\n",
       "      <td>0.0</td>\n",
       "      <td>0.0</td>\n",
       "      <td>0.0</td>\n",
       "      <td>0.0</td>\n",
       "      <td>0.0</td>\n",
       "      <td>0.0</td>\n",
       "      <td>0.0</td>\n",
       "      <td>0.0</td>\n",
       "      <td>0.0</td>\n",
       "    </tr>\n",
       "    <tr>\n",
       "      <th>683678</th>\n",
       "      <td>4413.369417</td>\n",
       "      <td>22.356673</td>\n",
       "      <td>14.528631</td>\n",
       "      <td>9.103700</td>\n",
       "      <td>74.959101</td>\n",
       "      <td>10.424137</td>\n",
       "      <td>77.060729</td>\n",
       "      <td>103.023594</td>\n",
       "      <td>65.076639</td>\n",
       "      <td>10.200439</td>\n",
       "      <td>...</td>\n",
       "      <td>0.0</td>\n",
       "      <td>0.0</td>\n",
       "      <td>0.0</td>\n",
       "      <td>0.0</td>\n",
       "      <td>0.0</td>\n",
       "      <td>0.0</td>\n",
       "      <td>0.0</td>\n",
       "      <td>0.0</td>\n",
       "      <td>0.0</td>\n",
       "      <td>0.0</td>\n",
       "    </tr>\n",
       "    <tr>\n",
       "      <th>557956</th>\n",
       "      <td>1819.334509</td>\n",
       "      <td>113.185578</td>\n",
       "      <td>20.094973</td>\n",
       "      <td>9.314014</td>\n",
       "      <td>52.879933</td>\n",
       "      <td>12.912846</td>\n",
       "      <td>56.969737</td>\n",
       "      <td>31.527946</td>\n",
       "      <td>35.228795</td>\n",
       "      <td>23.035270</td>\n",
       "      <td>...</td>\n",
       "      <td>0.0</td>\n",
       "      <td>0.0</td>\n",
       "      <td>0.0</td>\n",
       "      <td>0.0</td>\n",
       "      <td>0.0</td>\n",
       "      <td>0.0</td>\n",
       "      <td>0.0</td>\n",
       "      <td>0.0</td>\n",
       "      <td>0.0</td>\n",
       "      <td>0.0</td>\n",
       "    </tr>\n",
       "  </tbody>\n",
       "</table>\n",
       "<p>5 rows × 214 columns</p>\n",
       "</div>"
      ],
      "text/plain": [
       "        t_cost_per_claim_excluded  t_claim_count_schedule2  t_claim_per_bene  \\\n",
       "82944                 3483.532868               215.766340         19.990503   \n",
       "644968                2602.044279               151.919238         17.371792   \n",
       "82944                 3483.597118               216.526370         17.203577   \n",
       "683678                4413.369417                22.356673         14.528631   \n",
       "557956                1819.334509               113.185578         20.094973   \n",
       "\n",
       "        %b2bg_claim_count  %b2bg_drug_cost  %b2t_claim_count  %b2t_drug_cost  \\\n",
       "82944           16.875812        72.228089         18.189547       71.406809   \n",
       "644968           8.933958        65.903505         13.323704       62.558383   \n",
       "82944           17.319448        73.481025         19.161120       73.470003   \n",
       "683678           9.103700        74.959101         10.424137       77.060729   \n",
       "557956           9.314014        52.879933         12.912846       56.969737   \n",
       "\n",
       "        t_cost_per_claim  t_cost_per_claim_ge65  t_claim_per_bene_ge65  ...  \\\n",
       "82944          78.657694              79.125992              16.751167  ...   \n",
       "644968         80.924757              81.645599              16.988584  ...   \n",
       "82944          80.516639              77.133769              15.651839  ...   \n",
       "683678        103.023594              65.076639              10.200439  ...   \n",
       "557956         31.527946              35.228795              23.035270  ...   \n",
       "\n",
       "        x0_Technician  x0_Technician/Technologist  x0_Thoracic Surgery  \\\n",
       "82944             0.0                         0.0                  0.0   \n",
       "644968            0.0                         0.0                  0.0   \n",
       "82944             0.0                         0.0                  0.0   \n",
       "683678            0.0                         0.0                  0.0   \n",
       "557956            0.0                         0.0                  0.0   \n",
       "\n",
       "        x0_Thoracic Surgery (Cardiothoracic Vascular Surgery)  \\\n",
       "82944                                                 0.0       \n",
       "644968                                                0.0       \n",
       "82944                                                 0.0       \n",
       "683678                                                0.0       \n",
       "557956                                                0.0       \n",
       "\n",
       "        x0_Undefined Physician type  x0_Unknown Supplier/Provider Specialty  \\\n",
       "82944                           0.0                                     0.0   \n",
       "644968                          0.0                                     0.0   \n",
       "82944                           0.0                                     0.0   \n",
       "683678                          0.0                                     0.0   \n",
       "557956                          0.0                                     0.0   \n",
       "\n",
       "        x0_Urology  x0_Vascular Surgery  x0_Veterinarian  \\\n",
       "82944          0.0                  0.0              0.0   \n",
       "644968         0.0                  0.0              0.0   \n",
       "82944          0.0                  0.0              0.0   \n",
       "683678         0.0                  0.0              0.0   \n",
       "557956         0.0                  0.0              0.0   \n",
       "\n",
       "        x0_Voluntary Health or Charitable Agency  \n",
       "82944                                        0.0  \n",
       "644968                                       0.0  \n",
       "82944                                        0.0  \n",
       "683678                                       0.0  \n",
       "557956                                       0.0  \n",
       "\n",
       "[5 rows x 214 columns]"
      ]
     },
     "execution_count": 12,
     "metadata": {},
     "output_type": "execute_result"
    }
   ],
   "source": [
    "fudge=fudge.sample(n=10000)\n",
    "fudge.head()"
   ]
  },
  {
   "cell_type": "code",
   "execution_count": 13,
   "metadata": {
    "scrolled": false
   },
   "outputs": [],
   "source": [
    "ag_2017 = pd.concat([new_main_2017, fudge])\n",
    "ag_2017.dropna(inplace=True)"
   ]
  },
  {
   "cell_type": "code",
   "execution_count": 14,
   "metadata": {},
   "outputs": [
    {
     "data": {
      "text/plain": [
       "(10000, 214)"
      ]
     },
     "execution_count": 14,
     "metadata": {},
     "output_type": "execute_result"
    }
   ],
   "source": [
    "ag_2017[ag_2017[\"is_excluded\"]==1].shape"
   ]
  },
  {
   "cell_type": "code",
   "execution_count": 80,
   "metadata": {},
   "outputs": [
    {
     "data": {
      "text/plain": [
       "(829898, 214)"
      ]
     },
     "execution_count": 80,
     "metadata": {},
     "output_type": "execute_result"
    }
   ],
   "source": [
    "ag_2017.shape"
   ]
  },
  {
   "cell_type": "markdown",
   "metadata": {},
   "source": [
    "#Applying PCA, 2 components and 3 components for variance visualization\n",
    "\n",
    "pca = decomposition.PCA(n_components='mle')\n",
    "pca.fit(part_d_df)\n",
    "npi_drug_df_transformed = pca.transform(part_d_df)\n",
    "plt.plot(np.cumsum(pca.explained_variance_ratio_), color='r')\n",
    "\n",
    "pca = decomposition.PCA(n_components='mle')\n",
    "pca.fit(part_d_df)\n",
    "npi_drug_cross_df_transformed = pca.transform(part_d_df)\n",
    "plt.plot(np.cumsum(pca.explained_variance_ratio_))\n",
    "plt.xlabel('number of components')\n",
    "plt.ylabel('cumulative explained variance')\n",
    "\n",
    "plt.vlines(1, color='grey', ymax=0.1, ymin=0, linestyle=':')\n",
    "plt.vlines(2, color='grey', ymax=0.1, ymin=0, linestyle=':')\n",
    "\n",
    "plt.annotate('1 components', xy=(0.6, 0.05), xytext=(0.9, 0.05), fontsize=15, rotation=90)\n",
    "plt.annotate('2 components', xy=(1.6, 0.05), xytext=(1.9, 0.05), fontsize=15, rotation=90)\n",
    "\n",
    "plt.savefig('VarExp.jpeg', dpi=1000)\n",
    "plt.tight_layout()\n",
    "plt.show()"
   ]
  },
  {
   "cell_type": "code",
   "execution_count": 81,
   "metadata": {},
   "outputs": [],
   "source": [
    "#Training without Upsampling or Downsampling\n",
    "#fudged data (ag_2017) only for train, regular data (new_df) only for test\n",
    "\n",
    "X_train = ag_2017.drop(['is_excluded'], axis=1)\n",
    "y_train = ag_2017['is_excluded']\n",
    "X_test = new_df.drop(['is_excluded'], axis =1)\n",
    "y_test = new_df[\"is_excluded\"]\n",
    "#X = new_main_2017.drop(['is_excluded'], axis=1)\n",
    "#y = new_main_2017['is_excluded']\n",
    "#X_train, X_test, y_train, y_test = train_test_split(X, y, test_size=0.33, random_state=42)"
   ]
  },
  {
   "cell_type": "code",
   "execution_count": null,
   "metadata": {},
   "outputs": [],
   "source": [
    "pca = decomposition.PCA(n_components='mle')\n",
    "X_train = pca.fit_transform(X_train)\n",
    "X_test = pca.fit_transform(X_test)"
   ]
  },
  {
   "cell_type": "code",
   "execution_count": 25,
   "metadata": {},
   "outputs": [
    {
     "name": "stdout",
     "output_type": "stream",
     "text": [
      "[9.90249356e-01 7.51255316e-03 1.50476425e-03 6.95328820e-04\n",
      " 2.12595268e-05 8.98263318e-06 3.62458289e-06 1.55292210e-06\n",
      " 1.00527749e-06 5.96445922e-07 3.89277866e-07 2.83384443e-07\n",
      " 1.26738997e-07 7.02058786e-08 5.72225979e-08 2.98159283e-08\n",
      " 8.34500393e-09 6.25277760e-09 3.84033728e-09 6.41433707e-10\n",
      " 1.97901431e-10 1.92922228e-10 8.04623155e-11 3.82528391e-11\n",
      " 2.81908638e-11]\n"
     ]
    }
   ],
   "source": [
    "print(pca.explained_variance_ratio_)"
   ]
  },
  {
   "cell_type": "code",
   "execution_count": 148,
   "metadata": {
    "scrolled": true
   },
   "outputs": [],
   "source": [
    "Labels = ag_2017.drop([\"is_excluded\"],axis = 1).columns"
   ]
  },
  {
   "cell_type": "code",
   "execution_count": 28,
   "metadata": {},
   "outputs": [
    {
     "data": {
      "text/plain": [
       "['total_day_supply',\n",
       " 'total_day_supply_ge65',\n",
       " 'opioid_day_supply',\n",
       " 't_cost_per_claim_excluded',\n",
       " 'lis_cost_per_claim',\n",
       " 'total_30_day_fill_count',\n",
       " 'mapd_cost_per_claim',\n",
       " 'mapd_cost_per_claim',\n",
       " 'lis_cost_per_claim',\n",
       " 't_cost_per_claim_ge65',\n",
       " 't_cost_per_claim',\n",
       " 'antibiotic_cost_per_claim',\n",
       " 'antipsych_cost_per_claim_ge65',\n",
       " '%b2bg_drug_cost',\n",
       " 'total_30_day_fill_count_ge65',\n",
       " 'opioid_cost_per_claim',\n",
       " 'opioid_prescriber_rate',\n",
       " 't_claim_count_schedule2',\n",
       " '%b2bg_claim_count',\n",
       " 't_claim_per_bene',\n",
       " 't_claim_per_bene_ge65',\n",
       " '%b2t_drug_cost',\n",
       " '%b2t_claim_count',\n",
       " 'antipsych_claim_per_bene_ge65',\n",
       " 'opioid_claim_per_bene']"
      ]
     },
     "execution_count": 28,
     "metadata": {},
     "output_type": "execute_result"
    }
   ],
   "source": [
    "#new Labels after PCA\n",
    "most_important = [np.abs(pca.components_[i]).argmax() for i in range(len(pca.components_))]\n",
    "most_important_names = [Labels[most_important[i]] for i in range(len(pca.components_))]\n",
    "dic = {'PC{}'.format(i+1): most_important_names[i] for i in range(len(pca.components_))}\n",
    "newLabels = list(dic.values())\n",
    "newLabels"
   ]
  },
  {
   "cell_type": "code",
   "execution_count": 82,
   "metadata": {},
   "outputs": [
    {
     "data": {
      "text/plain": [
       "RandomForestClassifier(bootstrap=True, class_weight=None, criterion='gini',\n",
       "            max_depth=None, max_features='auto', max_leaf_nodes=None,\n",
       "            min_impurity_decrease=0.0, min_impurity_split=None,\n",
       "            min_samples_leaf=1, min_samples_split=2,\n",
       "            min_weight_fraction_leaf=0.0, n_estimators=25, n_jobs=None,\n",
       "            oob_score=False, random_state=None, verbose=0,\n",
       "            warm_start=False)"
      ]
     },
     "execution_count": 82,
     "metadata": {},
     "output_type": "execute_result"
    }
   ],
   "source": [
    "clf = RandomForestClassifier(n_estimators=25)\n",
    "clf.fit(X_train, y_train)"
   ]
  },
  {
   "cell_type": "code",
   "execution_count": 209,
   "metadata": {},
   "outputs": [
    {
     "name": "stdout",
     "output_type": "stream",
     "text": [
      "101\n"
     ]
    }
   ],
   "source": [
    "#excluded samples in test data\n",
    "count = 0\n",
    "for x in y_test:\n",
    "    if int(x)== 1:\n",
    "        count +=1\n",
    "print(count)"
   ]
  },
  {
   "cell_type": "code",
   "execution_count": 210,
   "metadata": {},
   "outputs": [
    {
     "name": "stdout",
     "output_type": "stream",
     "text": [
      "101010\n"
     ]
    }
   ],
   "source": [
    "#excluded samples in train data\n",
    "count2 = 0\n",
    "for x in y_train:\n",
    "    if int(x)== 1:\n",
    "        count2 +=1\n",
    "print(count2)"
   ]
  },
  {
   "cell_type": "code",
   "execution_count": 168,
   "metadata": {},
   "outputs": [
    {
     "data": {
      "text/plain": [
       "array([6.13077826e-02, 4.03535326e-02, 4.31563815e-02, 1.16046544e-02,\n",
       "       2.34645164e-02, 1.06847241e-02, 2.32142326e-02, 5.90239257e-02,\n",
       "       4.10690646e-02, 3.76783461e-02, 4.29818179e-02, 4.28378182e-02,\n",
       "       4.42484529e-02, 4.61165115e-02, 3.63436501e-02, 2.29182419e-02,\n",
       "       3.52418866e-02, 2.51572743e-02, 1.75878640e-02, 7.33856296e-03,\n",
       "       5.66234338e-02, 5.47119874e-02, 4.49337166e-02, 4.68286357e-02,\n",
       "       2.89219381e-02, 2.49363649e-02, 0.00000000e+00, 0.00000000e+00,\n",
       "       0.00000000e+00, 0.00000000e+00, 0.00000000e+00, 0.00000000e+00,\n",
       "       9.62283124e-07, 3.05309343e-06, 0.00000000e+00, 0.00000000e+00,\n",
       "       0.00000000e+00, 0.00000000e+00, 0.00000000e+00, 0.00000000e+00,\n",
       "       0.00000000e+00, 4.95499374e-07, 1.71603924e-07, 0.00000000e+00,\n",
       "       0.00000000e+00, 0.00000000e+00, 4.68950350e-06, 0.00000000e+00,\n",
       "       1.79363267e-03, 0.00000000e+00, 0.00000000e+00, 0.00000000e+00,\n",
       "       2.95605070e-06, 4.55016767e-04, 0.00000000e+00, 2.64815919e-03,\n",
       "       2.30464528e-05, 2.12624365e-07, 0.00000000e+00, 0.00000000e+00,\n",
       "       0.00000000e+00, 0.00000000e+00, 2.25887598e-05, 1.56030646e-05,\n",
       "       0.00000000e+00, 0.00000000e+00, 3.97665091e-07, 0.00000000e+00,\n",
       "       1.36841502e-06, 0.00000000e+00, 0.00000000e+00, 0.00000000e+00,\n",
       "       0.00000000e+00, 1.12957105e-06, 0.00000000e+00, 0.00000000e+00,\n",
       "       0.00000000e+00, 0.00000000e+00, 1.65181458e-03, 0.00000000e+00,\n",
       "       3.80128647e-05, 0.00000000e+00, 4.42686244e-03, 0.00000000e+00,\n",
       "       0.00000000e+00, 0.00000000e+00, 4.36446353e-04, 2.56185293e-05,\n",
       "       0.00000000e+00, 5.80376866e-06, 7.29575028e-03, 1.23487483e-03,\n",
       "       1.07589141e-06, 5.46535187e-03, 1.13520881e-03, 2.09637787e-03,\n",
       "       7.99714596e-06, 0.00000000e+00, 1.11959280e-06, 0.00000000e+00,\n",
       "       3.72659789e-07, 0.00000000e+00, 7.13738209e-06, 1.22535192e-03,\n",
       "       0.00000000e+00, 0.00000000e+00, 2.78684891e-05, 0.00000000e+00,\n",
       "       2.64699093e-05, 0.00000000e+00, 2.69177256e-05, 6.70654803e-03,\n",
       "       7.04960828e-04, 3.95118127e-03, 3.39488182e-07, 3.91946151e-07,\n",
       "       1.16753002e-07, 1.16078606e-07, 0.00000000e+00, 0.00000000e+00,\n",
       "       0.00000000e+00, 0.00000000e+00, 2.21088626e-07, 0.00000000e+00,\n",
       "       0.00000000e+00, 1.76925053e-05, 0.00000000e+00, 0.00000000e+00,\n",
       "       0.00000000e+00, 0.00000000e+00, 9.78825160e-08, 6.75677528e-05,\n",
       "       4.57210976e-06, 2.24570857e-03, 2.05881889e-05, 5.40815455e-06,\n",
       "       0.00000000e+00, 2.46580452e-03, 0.00000000e+00, 0.00000000e+00,\n",
       "       1.59768057e-03, 0.00000000e+00, 0.00000000e+00, 2.62327307e-05,\n",
       "       0.00000000e+00, 2.72539031e-04, 8.97018700e-06, 0.00000000e+00,\n",
       "       1.36646982e-05, 4.15561413e-03, 1.12397965e-04, 4.80290187e-06,\n",
       "       0.00000000e+00, 1.43820481e-05, 5.41668482e-05, 6.38246362e-08,\n",
       "       1.89260545e-03, 0.00000000e+00, 7.09574197e-06, 0.00000000e+00,\n",
       "       9.91679047e-05, 2.09733618e-07, 0.00000000e+00, 0.00000000e+00,\n",
       "       1.74886800e-04, 0.00000000e+00, 0.00000000e+00, 1.65213573e-03,\n",
       "       2.97842545e-07, 1.88469914e-03, 9.10750713e-03, 0.00000000e+00,\n",
       "       0.00000000e+00, 7.52370260e-06, 0.00000000e+00, 5.64346323e-04,\n",
       "       2.37641513e-04, 1.80814096e-06, 1.31717209e-07, 0.00000000e+00,\n",
       "       1.00773002e-05, 2.08806347e-05, 0.00000000e+00, 0.00000000e+00,\n",
       "       0.00000000e+00, 7.54094271e-06, 0.00000000e+00, 0.00000000e+00,\n",
       "       0.00000000e+00, 0.00000000e+00, 9.74648124e-05, 0.00000000e+00,\n",
       "       2.20456201e-07, 0.00000000e+00, 0.00000000e+00, 1.97971044e-03,\n",
       "       0.00000000e+00, 2.26837987e-06, 4.21290591e-07, 3.84556588e-04,\n",
       "       0.00000000e+00, 2.59383555e-10, 2.60404380e-07, 0.00000000e+00,\n",
       "       0.00000000e+00, 2.64785551e-07, 0.00000000e+00, 6.63476175e-07,\n",
       "       0.00000000e+00, 1.54127793e-05, 3.13673195e-06, 0.00000000e+00,\n",
       "       0.00000000e+00])"
      ]
     },
     "execution_count": 168,
     "metadata": {},
     "output_type": "execute_result"
    }
   ],
   "source": [
    "clf.feature_importances_"
   ]
  },
  {
   "cell_type": "markdown",
   "metadata": {},
   "source": [
    "coef_df = pd.DataFrame(clf.feature_importances_, Labels, columns = [\"Importances\"])\n",
    "coef_df.sort_values(\"Importances\", ascending = False)"
   ]
  },
  {
   "cell_type": "markdown",
   "metadata": {},
   "source": [
    "check for contamination by not dropping the npis and seeing if any of them overlap between training and testing\n",
    "train_nps = set(X_train['npi'])\n",
    "test_nps = set(X_test['npi'])\n",
    "print(len(train_nps.intersection(test_nps))) # should be zero"
   ]
  },
  {
   "cell_type": "code",
   "execution_count": 83,
   "metadata": {
    "scrolled": false
   },
   "outputs": [
    {
     "name": "stdout",
     "output_type": "stream",
     "text": [
      "[[1. 0.]\n",
      " [1. 0.]\n",
      " [1. 0.]\n",
      " ...\n",
      " [0. 1.]\n",
      " [0. 1.]\n",
      " [0. 1.]]\n",
      "1.0\n"
     ]
    },
    {
     "data": {
      "text/plain": [
       "array([[819898,      0],\n",
       "       [     0,  10000]], dtype=int64)"
      ]
     },
     "execution_count": 83,
     "metadata": {},
     "output_type": "execute_result"
    }
   ],
   "source": [
    "y_pred = clf.predict(X_train)\n",
    "y_pred_prob = clf.predict_proba(X_train)\n",
    "print(y_pred_prob)\n",
    "print(roc_auc_score(y_train, y_pred_prob[:,1]))\n",
    "confusion_matrix(y_train, y_pred)"
   ]
  },
  {
   "cell_type": "code",
   "execution_count": 84,
   "metadata": {},
   "outputs": [
    {
     "name": "stdout",
     "output_type": "stream",
     "text": [
      "[[1. 0.]\n",
      " [1. 0.]\n",
      " [1. 0.]\n",
      " ...\n",
      " [1. 0.]\n",
      " [1. 0.]\n",
      " [1. 0.]]\n",
      "0.7105610949330227\n"
     ]
    },
    {
     "data": {
      "text/plain": [
       "array([[85000,     0],\n",
       "       [   95,     6]], dtype=int64)"
      ]
     },
     "execution_count": 84,
     "metadata": {},
     "output_type": "execute_result"
    }
   ],
   "source": [
    "y_pred = clf.predict(X_test)\n",
    "y_pred_prob = clf.predict_proba(X_test)\n",
    "print(y_pred_prob)\n",
    "print(roc_auc_score(y_test, y_pred_prob[:,1]))\n",
    "confusion_matrix(y_test, y_pred)"
   ]
  },
  {
   "cell_type": "code",
   "execution_count": 85,
   "metadata": {},
   "outputs": [
    {
     "data": {
      "text/plain": [
       "0    819898\n",
       "1    100000\n",
       "Name: is_excluded, dtype: int64"
      ]
     },
     "execution_count": 85,
     "metadata": {},
     "output_type": "execute_result"
    }
   ],
   "source": [
    "#Upsampling only\n",
    "\n",
    "ag_2017_majority = ag_2017[ag_2017['is_excluded'] == 0]\n",
    "ag_2017_minority = ag_2017[ag_2017['is_excluded'] > 0]\n",
    "\n",
    "# Increase by 10 times\n",
    "ag_2017_minority_upsampled = resample(ag_2017_minority, replace=True, n_samples=100000, random_state=42) \n",
    "ag_2017_upsampled = pd.concat([ag_2017_majority, ag_2017_minority_upsampled])  \n",
    "ag_2017_upsampled['is_excluded'].value_counts()"
   ]
  },
  {
   "cell_type": "code",
   "execution_count": 86,
   "metadata": {
    "scrolled": true
   },
   "outputs": [],
   "source": [
    "#fudged data (ag_2017) only for train, regular data (new_df) only for test\n",
    "X_train = ag_2017_upsampled.drop(['is_excluded'], axis=1)\n",
    "y_train = ag_2017_upsampled['is_excluded']\n",
    "X_test = new_df.drop(['is_excluded'], axis =1)\n",
    "y_test = new_df[\"is_excluded\"]\n",
    "\n",
    "#X_train, X_test, y_train, y_test = train_test_split(X, y, test_size=0.33, random_state=42)"
   ]
  },
  {
   "cell_type": "code",
   "execution_count": null,
   "metadata": {},
   "outputs": [],
   "source": [
    "pca = decomposition.PCA(n_components='mle')\n",
    "X_train = pca.fit_transform(X_train)\n",
    "X_test = pca.fit_transform(X_test)"
   ]
  },
  {
   "cell_type": "code",
   "execution_count": null,
   "metadata": {},
   "outputs": [],
   "source": [
    "print(pca.explained_variance_ratio_)"
   ]
  },
  {
   "cell_type": "code",
   "execution_count": null,
   "metadata": {},
   "outputs": [],
   "source": [
    "Labels = df.drop([\"is_excluded\"],axis = 1).columns"
   ]
  },
  {
   "cell_type": "code",
   "execution_count": null,
   "metadata": {},
   "outputs": [],
   "source": [
    "#new Labels after PCA\n",
    "most_important = [np.abs(pca.components_[i]).argmax() for i in range(len(pca.components_))]\n",
    "most_important_names = [Labels[most_important[i]] for i in range(len(pca.components_))]\n",
    "dic = {'PC{}'.format(i+1): most_important_names[i] for i in range(len(pca.components_))}\n",
    "newLabels = list(dic.values())\n",
    "newLabels"
   ]
  },
  {
   "cell_type": "code",
   "execution_count": 87,
   "metadata": {},
   "outputs": [
    {
     "data": {
      "text/plain": [
       "RandomForestClassifier(bootstrap=True, class_weight=None, criterion='gini',\n",
       "            max_depth=None, max_features='auto', max_leaf_nodes=None,\n",
       "            min_impurity_decrease=0.0, min_impurity_split=None,\n",
       "            min_samples_leaf=1, min_samples_split=2,\n",
       "            min_weight_fraction_leaf=0.0, n_estimators=25, n_jobs=None,\n",
       "            oob_score=False, random_state=42, verbose=0, warm_start=False)"
      ]
     },
     "execution_count": 87,
     "metadata": {},
     "output_type": "execute_result"
    }
   ],
   "source": [
    "clf = RandomForestClassifier(n_estimators=25, random_state=42)\n",
    "clf.fit(X_train, y_train)"
   ]
  },
  {
   "cell_type": "code",
   "execution_count": null,
   "metadata": {},
   "outputs": [],
   "source": [
    "#excluded samples in test data\n",
    "count = 0\n",
    "for x in y_test:\n",
    "    if int(x)== 1:\n",
    "        count +=1\n",
    "print(count)"
   ]
  },
  {
   "cell_type": "code",
   "execution_count": null,
   "metadata": {},
   "outputs": [],
   "source": [
    "#excluded samples in train data\n",
    "count2 = 0\n",
    "for x in y_train:\n",
    "    if int(x)== 1:\n",
    "        count2 +=1\n",
    "print(count2)"
   ]
  },
  {
   "cell_type": "code",
   "execution_count": null,
   "metadata": {},
   "outputs": [],
   "source": [
    "clf.feature_importances_"
   ]
  },
  {
   "cell_type": "markdown",
   "metadata": {},
   "source": [
    "#check for contamination by not dropping the npis and seeing if any of them overlap between training and testing\n",
    "train_nps = set(X_train['npi'])\n",
    "test_nps = set(X_test['npi'])\n",
    "print(len(train_nps.intersection(test_nps))) # should be zero"
   ]
  },
  {
   "cell_type": "code",
   "execution_count": 88,
   "metadata": {},
   "outputs": [
    {
     "name": "stdout",
     "output_type": "stream",
     "text": [
      "1.0\n"
     ]
    },
    {
     "data": {
      "text/plain": [
       "array([[819898,      0],\n",
       "       [     0, 100000]], dtype=int64)"
      ]
     },
     "execution_count": 88,
     "metadata": {},
     "output_type": "execute_result"
    }
   ],
   "source": [
    "y_pred = clf.predict(X_train)\n",
    "y_pred_prob = clf.predict_proba(X_train)\n",
    "print(roc_auc_score(y_train, y_pred_prob[:,1]))\n",
    "confusion_matrix(y_train, y_pred)"
   ]
  },
  {
   "cell_type": "code",
   "execution_count": 89,
   "metadata": {},
   "outputs": [
    {
     "name": "stdout",
     "output_type": "stream",
     "text": [
      "0.7012737332556784\n"
     ]
    },
    {
     "data": {
      "text/plain": [
       "array([[85000,     0],\n",
       "       [   96,     5]], dtype=int64)"
      ]
     },
     "execution_count": 89,
     "metadata": {},
     "output_type": "execute_result"
    }
   ],
   "source": [
    "y_pred = clf.predict(X_test)\n",
    "y_pred_prob = clf.predict_proba(X_test)\n",
    "print(roc_auc_score(y_test, y_pred_prob[:,1]))\n",
    "confusion_matrix(y_test, y_pred)"
   ]
  },
  {
   "cell_type": "code",
   "execution_count": 95,
   "metadata": {},
   "outputs": [
    {
     "data": {
      "text/plain": [
       "0    81980\n",
       "1    10000\n",
       "Name: is_excluded, dtype: int64"
      ]
     },
     "execution_count": 95,
     "metadata": {},
     "output_type": "execute_result"
    }
   ],
   "source": [
    "#Training on downsampled only and testing on regular\n",
    "\n",
    "ag_2017_majority = ag_2017[ag_2017['is_excluded'] == 0]\n",
    "ag_2017_minority = ag_2017[ag_2017['is_excluded'] > 0]\n",
    "\n",
    "# Reduce by 10 times\n",
    "ag_2017_majority_downsampled = resample(ag_2017_majority, replace=True, n_samples=81980, random_state=42) \n",
    "ag_2017_downsampled = pd.concat([ag_2017_majority_downsampled, ag_2017_minority]) \n",
    "ag_2017_downsampled['is_excluded'].value_counts()"
   ]
  },
  {
   "cell_type": "code",
   "execution_count": 96,
   "metadata": {},
   "outputs": [],
   "source": [
    "#fudged data (ag_2017) only for train, regular data (new_df) only for test\n",
    "X_train = ag_2017_downsampled.drop(['is_excluded'], axis=1)\n",
    "y_train = ag_2017_downsampled['is_excluded']\n",
    "X_test = new_df.drop(['is_excluded'], axis =1)\n",
    "y_test = new_df[\"is_excluded\"]\n",
    "\n",
    "#X_train, X_test, y_train, y_test = train_test_split(X, y, test_size=0.33, random_state=42)"
   ]
  },
  {
   "cell_type": "code",
   "execution_count": null,
   "metadata": {},
   "outputs": [],
   "source": [
    "pca = decomposition.PCA(n_components='mle')\n",
    "X_train = pca.fit_transform(X_train)\n",
    "X_test = pca.fit_transform(X_test)"
   ]
  },
  {
   "cell_type": "code",
   "execution_count": null,
   "metadata": {},
   "outputs": [],
   "source": [
    "print(pca.explained_variance_ratio_)"
   ]
  },
  {
   "cell_type": "code",
   "execution_count": null,
   "metadata": {},
   "outputs": [],
   "source": [
    "Labels = df.drop([\"is_excluded\"],axis = 1).columns"
   ]
  },
  {
   "cell_type": "code",
   "execution_count": null,
   "metadata": {},
   "outputs": [],
   "source": [
    "#new Labels after PCA\n",
    "most_important = [np.abs(pca.components_[i]).argmax() for i in range(len(pca.components_))]\n",
    "most_important_names = [Labels[most_important[i]] for i in range(len(pca.components_))]\n",
    "dic = {'PC{}'.format(i+1): most_important_names[i] for i in range(len(pca.components_))}\n",
    "newLabels = list(dic.values())\n",
    "newLabels"
   ]
  },
  {
   "cell_type": "code",
   "execution_count": 97,
   "metadata": {},
   "outputs": [
    {
     "data": {
      "text/plain": [
       "RandomForestClassifier(bootstrap=True, class_weight=None, criterion='gini',\n",
       "            max_depth=None, max_features='auto', max_leaf_nodes=None,\n",
       "            min_impurity_decrease=0.0, min_impurity_split=None,\n",
       "            min_samples_leaf=1, min_samples_split=2,\n",
       "            min_weight_fraction_leaf=0.0, n_estimators=25, n_jobs=None,\n",
       "            oob_score=False, random_state=42, verbose=0, warm_start=False)"
      ]
     },
     "execution_count": 97,
     "metadata": {},
     "output_type": "execute_result"
    }
   ],
   "source": [
    "clf = RandomForestClassifier(n_estimators=25, random_state=42)\n",
    "clf.fit(X_train, y_train)"
   ]
  },
  {
   "cell_type": "code",
   "execution_count": null,
   "metadata": {},
   "outputs": [],
   "source": [
    "#excluded samples in test data\n",
    "count = 0\n",
    "for x in y_test:\n",
    "    if int(x) == 1:\n",
    "        count +=1\n",
    "print(count)"
   ]
  },
  {
   "cell_type": "code",
   "execution_count": null,
   "metadata": {},
   "outputs": [],
   "source": [
    "#excluded samples in train data\n",
    "count2 = 0\n",
    "for x in y_train:\n",
    "    if int(x)== 1:\n",
    "        count2 +=1\n",
    "print(count2)"
   ]
  },
  {
   "cell_type": "code",
   "execution_count": null,
   "metadata": {},
   "outputs": [],
   "source": [
    "clf.feature_importances_"
   ]
  },
  {
   "cell_type": "markdown",
   "metadata": {},
   "source": [
    "#check for contamination by not dropping the npis and seeing if any of them overlap between training and testing\n",
    "train_nps = set(X_train['npi'])\n",
    "test_nps = set(X_test['npi'])\n",
    "print(len(train_nps.intersection(test_nps))) # should be zero"
   ]
  },
  {
   "cell_type": "code",
   "execution_count": 98,
   "metadata": {},
   "outputs": [
    {
     "name": "stdout",
     "output_type": "stream",
     "text": [
      "1.0\n"
     ]
    },
    {
     "data": {
      "text/plain": [
       "array([[81980,     0],\n",
       "       [    0, 10000]], dtype=int64)"
      ]
     },
     "execution_count": 98,
     "metadata": {},
     "output_type": "execute_result"
    }
   ],
   "source": [
    "y_pred = clf.predict(X_train)\n",
    "y_pred_prob = clf.predict_proba(X_train)\n",
    "print(roc_auc_score(y_train, y_pred_prob[:,1]))\n",
    "confusion_matrix(y_train, y_pred)"
   ]
  },
  {
   "cell_type": "code",
   "execution_count": 99,
   "metadata": {},
   "outputs": [
    {
     "name": "stdout",
     "output_type": "stream",
     "text": [
      "0.7267889924286547\n"
     ]
    },
    {
     "data": {
      "text/plain": [
       "array([[85000,     0],\n",
       "       [   96,     5]], dtype=int64)"
      ]
     },
     "execution_count": 99,
     "metadata": {},
     "output_type": "execute_result"
    }
   ],
   "source": [
    "y_pred = clf.predict(X_test)\n",
    "y_pred_prob = clf.predict_proba(X_test)\n",
    "print(roc_auc_score(y_test, y_pred_prob[:,1]))\n",
    "confusion_matrix(y_test, y_pred)"
   ]
  },
  {
   "cell_type": "code",
   "execution_count": 62,
   "metadata": {},
   "outputs": [
    {
     "data": {
      "text/plain": [
       "1    100000\n",
       "0     81980\n",
       "Name: is_excluded, dtype: int64"
      ]
     },
     "execution_count": 62,
     "metadata": {},
     "output_type": "execute_result"
    }
   ],
   "source": [
    "#Upsampling/downsampling on training and testing on regular\n",
    "\n",
    "ag_2017_majority = ag_2017[ag_2017['is_excluded'] == 0]\n",
    "ag_2017_minority = ag_2017[ag_2017['is_excluded'] > 0]\n",
    "\n",
    "ag_2017_updownsampled = pd.concat([ag_2017_majority_downsampled, ag_2017_minority_upsampled]) \n",
    "ag_2017_updownsampled['is_excluded'].value_counts()"
   ]
  },
  {
   "cell_type": "code",
   "execution_count": 100,
   "metadata": {},
   "outputs": [],
   "source": [
    "#fudged data (ag_2017) only for train, regular data (new_df) only for test\n",
    "\n",
    "X_train = ag_2017_updownsampled.drop(['is_excluded'], axis=1)\n",
    "y_train = ag_2017_updownsampled['is_excluded']\n",
    "X_test = new_df.drop(['is_excluded'], axis =1)\n",
    "y_test = new_df[\"is_excluded\"]\n",
    "#X_train, X_test, y_train, y_test = train_test_split(X, y, test_size=0.25, random_state=42)"
   ]
  },
  {
   "cell_type": "code",
   "execution_count": null,
   "metadata": {},
   "outputs": [],
   "source": [
    "pca = decomposition.PCA(n_components='mle')\n",
    "X_train = pca.fit_transform(X_train)\n",
    "X_test = pca.fit_transform(X_test)"
   ]
  },
  {
   "cell_type": "code",
   "execution_count": null,
   "metadata": {},
   "outputs": [],
   "source": [
    "print(pca.explained_variance_ratio_)"
   ]
  },
  {
   "cell_type": "code",
   "execution_count": null,
   "metadata": {},
   "outputs": [],
   "source": [
    "Labels = df.drop([\"is_excluded\"],axis = 1).columns"
   ]
  },
  {
   "cell_type": "code",
   "execution_count": null,
   "metadata": {},
   "outputs": [],
   "source": [
    "#new Labels after PCA\n",
    "most_important = [np.abs(pca.components_[i]).argmax() for i in range(len(pca.components_))]\n",
    "most_important_names = [Labels[most_important[i]] for i in range(len(pca.components_))]\n",
    "dic = {'PC{}'.format(i+1): most_important_names[i] for i in range(len(pca.components_))}\n",
    "newLabels = list(dic.values())\n",
    "newLabels"
   ]
  },
  {
   "cell_type": "code",
   "execution_count": 101,
   "metadata": {},
   "outputs": [
    {
     "data": {
      "text/plain": [
       "RandomForestClassifier(bootstrap=True, class_weight=None, criterion='gini',\n",
       "            max_depth=None, max_features='auto', max_leaf_nodes=None,\n",
       "            min_impurity_decrease=0.0, min_impurity_split=None,\n",
       "            min_samples_leaf=1, min_samples_split=2,\n",
       "            min_weight_fraction_leaf=0.0, n_estimators=25, n_jobs=None,\n",
       "            oob_score=False, random_state=42, verbose=0, warm_start=False)"
      ]
     },
     "execution_count": 101,
     "metadata": {},
     "output_type": "execute_result"
    }
   ],
   "source": [
    "clf = RandomForestClassifier(n_estimators=25, random_state=42)\n",
    "clf.fit(X_train, y_train)"
   ]
  },
  {
   "cell_type": "code",
   "execution_count": null,
   "metadata": {},
   "outputs": [],
   "source": [
    "#excluded samples in test data\n",
    "count = 0\n",
    "for x in y_test:\n",
    "    if int(x)== 1:\n",
    "        count +=1\n",
    "print(count)"
   ]
  },
  {
   "cell_type": "code",
   "execution_count": null,
   "metadata": {},
   "outputs": [],
   "source": [
    "#excluded samples in train data\n",
    "count2 = 0\n",
    "for x in y_train:\n",
    "    if int(x)== 1:\n",
    "        count2 +=1\n",
    "print(count2)"
   ]
  },
  {
   "cell_type": "code",
   "execution_count": null,
   "metadata": {},
   "outputs": [],
   "source": [
    "clf.feature_importances_"
   ]
  },
  {
   "cell_type": "markdown",
   "metadata": {},
   "source": [
    "#check for contamination by not dropping the npis and seeing if any of them overlap between training and testing\n",
    "train_nps = set(X_train['npi'])\n",
    "test_nps = set(X_test['npi'])\n",
    "print(len(train_nps.intersection(test_nps))) # should be zero"
   ]
  },
  {
   "cell_type": "code",
   "execution_count": 102,
   "metadata": {},
   "outputs": [
    {
     "name": "stdout",
     "output_type": "stream",
     "text": [
      "1.0\n"
     ]
    },
    {
     "data": {
      "text/plain": [
       "array([[ 81980,      0],\n",
       "       [     0, 100000]], dtype=int64)"
      ]
     },
     "execution_count": 102,
     "metadata": {},
     "output_type": "execute_result"
    }
   ],
   "source": [
    "y_pred = clf.predict(X_train)\n",
    "y_pred_prob = clf.predict_proba(X_train)\n",
    "print(roc_auc_score(y_train, y_pred_prob[:,1]))\n",
    "confusion_matrix(y_train, y_pred)"
   ]
  },
  {
   "cell_type": "code",
   "execution_count": 103,
   "metadata": {},
   "outputs": [
    {
     "name": "stdout",
     "output_type": "stream",
     "text": [
      "0.7080670355270821\n"
     ]
    },
    {
     "data": {
      "text/plain": [
       "array([[84999,     1],\n",
       "       [   96,     5]], dtype=int64)"
      ]
     },
     "execution_count": 103,
     "metadata": {},
     "output_type": "execute_result"
    }
   ],
   "source": [
    "y_pred = clf.predict(X_test)\n",
    "y_pred_prob = clf.predict_proba(X_test)\n",
    "print(roc_auc_score(y_test, y_pred_prob[:,1]))\n",
    "confusion_matrix(y_test, y_pred)"
   ]
  },
  {
   "cell_type": "markdown",
   "metadata": {},
   "source": [
    "In conclusion, results from downsampling is the best."
   ]
  },
  {
   "cell_type": "code",
   "execution_count": null,
   "metadata": {},
   "outputs": [],
   "source": [
    "#comparison.iloc[].plot(kind=’bar’, figsize(10,8))\n",
    "#plt.grid(which='major', linestyle='-', linewidth='0.5', color='green')\n",
    "#plt.grid(which='minor', linestyle='-', linewidth='0.5', color='black')\n",
    "#plt.show()"
   ]
  },
  {
   "cell_type": "code",
   "execution_count": null,
   "metadata": {},
   "outputs": [],
   "source": [
    "#plt.scatter(comparison.iloc[][\"Actual\"], .iloc[][\"Predicted\"])\n",
    "#plt.xlabel(\"Actual\", fontsize = 16)\n",
    "#plt.ylabel(\"Predicted\", fontsize = 16)"
   ]
  },
  {
   "cell_type": "code",
   "execution_count": 15,
   "metadata": {},
   "outputs": [],
   "source": [
    "#Classification Model Comparisons\n",
    "\n",
    "def warn(*args, **kwargs):\n",
    "    pass\n",
    "\n",
    "import warnings\n",
    "warnings.warn = warn\n",
    "\n",
    "from scipy import interp\n",
    "import matplotlib.pyplot as plt\n",
    "from itertools import cycle\n",
    "\n",
    "from sklearn.linear_model import LogisticRegression\n",
    "from sklearn.neural_network import MLPClassifier\n",
    "from sklearn.neighbors import KNeighborsClassifier\n",
    "from sklearn.svm import SVC\n",
    "from sklearn.gaussian_process import GaussianProcessClassifier\n",
    "from sklearn.gaussian_process.kernels import RBF\n",
    "from sklearn.tree import DecisionTreeClassifier\n",
    "from sklearn.ensemble import RandomForestClassifier, AdaBoostClassifier, GradientBoostingClassifier, ExtraTreesClassifier\n",
    "from sklearn.naive_bayes import GaussianNB\n",
    "from sklearn.discriminant_analysis import QuadraticDiscriminantAnalysis\n",
    "from sklearn.model_selection import cross_validate, GridSearchCV, StratifiedKFold\n",
    "from sklearn.metrics import roc_curve, roc_auc_score, confusion_matrix, auc, recall_score, precision_score, accuracy_score, f1_score\n",
    "\n",
    "seed = 42"
   ]
  },
  {
   "cell_type": "markdown",
   "metadata": {},
   "source": [
    "#Identifying the best model algorithm\n",
    "colors = [\"#08306b\", \"#08519c\", \"#1361a9\", \"#4292c6\", \"#6baed6\", 'rgb(76,000,153)', 'rgb(153,000,153)']\n",
    "\n",
    "scoring = {'AUC': 'roc_auc', 'Accuracy': 'accuracy', 'F1': 'f1'}\n",
    "\n",
    "names = [\"Naive Bayes\", \"Nearest Neighbors\", \"RBF SVM\", \n",
    "         \"AdaBoost\", \"GradientBoost\", \"ExtraTrees\", \"Random Forest\"]\n",
    "\n",
    "classifiers = [\n",
    "            GaussianNB(),\n",
    "            KNeighborsClassifier(n_neighbors=5),\n",
    "            SVC(kernel=\"rbf\", C=1, probability=True),\n",
    "            AdaBoostClassifier(n_estimators=25, random_state=seed),\n",
    "            GradientBoostingClassifier(n_estimators=1000, random_state=seed),\n",
    "            ExtraTreesClassifier(n_estimators=25, random_state=seed),\n",
    "            RandomForestClassifier(n_estimators=25, random_state=seed),]\n",
    "\n",
    "trace_dict = {'x_vals':[], 'y_vals':[], 'y_error':[], 'colors':[], 'names':[]}\n",
    "                                                                                         \n",
    "#iterate over classifiers\n",
    "counter = 0\n",
    "for color, name, clf in tqdm_notebook(zip(colors, names, classifiers), total=len(names)):\n",
    "    cv_results = cross_validate(clf, X, y, scoring=scoring, cv=5, return_train_score=True)\n",
    "    print('########################### \\nFor {}'.format(name))\n",
    "    for score in scoring:\n",
    "        print('{0:s}: Mean-{1:.4f}  STD-{2:.4f}'.format(score, cv_results['test_'+score].mean(),\\\n",
    "                                                        cv_results['test_'+score].std()))\n",
    "    \n",
    "    trace_dict['x_vals'].append(counter)\n",
    "    counter += 1\n",
    "    trace_dict['y_vals'].append(cv_results['test_F1'].mean())\n",
    "    trace_dict['y_error'].append()\n",
    "    trace_dict['colors'].append(color)\n",
    "    trace_dict['names'].append(name)\n",
    "    trace_dict['y_error'].append(np.std(cv_results['test_F1']))"
   ]
  },
  {
   "cell_type": "code",
   "execution_count": 16,
   "metadata": {},
   "outputs": [],
   "source": [
    "# Identifying the best model algorithm\n",
    "colors = [\"#08306b\", \"#08519c\", \"#1361a9\", \"#4292c6\", \"#6baed6\", 'rgb(76,000,153)', 'rgb(153,000,153)']\n",
    "\n",
    "names = [\"GradientBoost\", \"ExtraTrees\", \"Random Forest\", \"RBF SVM\", \"Naive Bayes\", \"Nearest Neighbors\", \"AdaBoost\"]\n",
    "\n",
    "classifiers = [\n",
    "            GradientBoostingClassifier(n_estimators=50, random_state=seed),\n",
    "            ExtraTreesClassifier(n_estimators=25, random_state=seed),\n",
    "            RandomForestClassifier(n_estimators=25, random_state=seed),\n",
    "            SVC(kernel=\"rbf\", C=1, probability=True),        \n",
    "            GaussianNB(),\n",
    "            KNeighborsClassifier(n_neighbors=5),\n",
    "            AdaBoostClassifier(n_estimators=25, random_state=seed)]"
   ]
  },
  {
   "cell_type": "code",
   "execution_count": null,
   "metadata": {},
   "outputs": [
    {
     "data": {
      "application/vnd.jupyter.widget-view+json": {
       "model_id": "06dd9f55dd054fa9a327f36aa72ab8d9",
       "version_major": 2,
       "version_minor": 0
      },
      "text/plain": [
       "HBox(children=(IntProgress(value=0, max=7), HTML(value='')))"
      ]
     },
     "metadata": {},
     "output_type": "display_data"
    },
    {
     "name": "stdout",
     "output_type": "stream",
     "text": [
      "0.5966101339545719\n",
      "########################### \n",
      "For GradientBoost\n",
      "0.7547958066394874\n",
      "########################### \n",
      "For ExtraTrees\n",
      "0.6909806639487477\n",
      "########################### \n",
      "For Random Forest\n"
     ]
    }
   ],
   "source": [
    "trace_dict = {'x_vals':[], 'y_vals':[], 'colors':[], 'names':[]}\n",
    "                                                                                         \n",
    "# iterate over classifiers\n",
    "counter = 0\n",
    "for color, name, clf in tqdm_notebook(zip(colors, names, classifiers), total=len(names)):\n",
    "    X_train = ag_2017.drop(['is_excluded'], axis=1)\n",
    "    y_train = ag_2017['is_excluded']\n",
    "    X_test = new_df.drop(['is_excluded'], axis =1)\n",
    "    y_test = new_df[\"is_excluded\"]\n",
    "    clf.fit(X_train, y_train)\n",
    "    y_pred_prob = clf.predict_proba(X_test)\n",
    "    cv_results = roc_auc_score(y_test, y_pred_prob[:,1])\n",
    "    print(c########################### \\nFor {}'.format(name))\n",
    "    \n",
    "    trace_dict['x_vals'].append(counter)\n",
    "    counterv_results)\n",
    "    print(' += 1\n",
    "    trace_dict['y_vals'].append(cv_results.mean())\n",
    "    trace_dict['colors'].append(color)\n",
    "    trace_dict['names'].append(name)"
   ]
  },
  {
   "cell_type": "code",
   "execution_count": null,
   "metadata": {},
   "outputs": [],
   "source": [
    "plt.bar(x=trace_dict['x_vals'], height=trace_dict['y_vals'], color=trace_dict['colors'], yerr=trace_dict['y_error'])\n",
    "plt.xticks(trace_dict['x_vals'], trace_dict['names'])\n",
    "print(trace_dict['y_error'])\n",
    "plt.show()"
   ]
  },
  {
   "cell_type": "code",
   "execution_count": null,
   "metadata": {},
   "outputs": [],
   "source": [
    "# Plotting ROC curves of the models\n",
    "\n",
    "colors = [\"#08306b\", \"#08519c\", \"#1361a9\", \"#4292c6\", \"#6baed6\", 'rgb(76,000,153)', 'rgb(153,000,153)']\n",
    "names = [\"Naive Bayes\", \"Nearest Neighbors\", \"RBF SVM\", \n",
    "         \"AdaBoost\", \"GradientBoost\", \"ExtraTrees\", \"Random Forest\"]\n",
    "\n",
    "X = df_upsampled.drop(['is_excluded'], axis=1)\n",
    "y = df_upsampled['is_excluded']\n",
    "\n",
    "\n",
    "X_train, X_test, y_train, y_test = train_test_split(X.values, y.values, test_size=0.33, random_state=42)\n",
    "n_classes = 1\n",
    "\n",
    "fpr = dict()\n",
    "tpr = dict()\n",
    "roc_auc = dict()\n",
    "\n",
    "plt.figure()\n",
    "lw = 2\n",
    "trace_dict = {}\n",
    "\n",
    "classifiers = [\n",
    "    GaussianNB(),\n",
    "    KNeighborsClassifier(n_neighbors=5),\n",
    "    SVC(kernel=\"rbf\", C=1, probability=True),\n",
    "    AdaBoostClassifier(n_estimators=50, random_state=seed),\n",
    "    GradientBoostingClassifier(n_estimators=1000, random_state=seed),\n",
    "    ExtraTreesClassifier(n_estimators=50, random_state=seed),\n",
    "    RandomForestClassifier(n_estimators=50, random_state=seed)]\n",
    "\n",
    "for color, name, clf in tqdm_notebook(zip(colors, names, classifiers), total=len(names)):\n",
    "    y_score = clf.fit(X_train, y_train).predict_proba(X_test)\n",
    "    fpr[name], tpr[name], _ = roc_curve(y_test[:], y_score[:, 1])\n",
    "    roc_auc[name] = auc(fpr[name], tpr[name])\n",
    "    trace_dict.update({'trace' + name: go.Scatter(x=fpr[name], y=tpr[name], mode='lines', \n",
    "                                       line=dict(color=color, width=lw),\n",
    "                                       showlegend=True,\n",
    "                                       name='{0:s} AUC: {1:.2f}'.format(name, roc_auc[name]))})\n",
    "\n",
    "trace_guess = go.Scatter(x=[0, 1], y=[0, 1], \n",
    "                mode='lines', \n",
    "                line=dict(color='navy', width=lw, dash='dash'),\n",
    "                showlegend=False)\n",
    "\n",
    "data = [trace_dict[trace] for trace in trace_dict] + [trace_guess]\n",
    "\n",
    "layout = go.Layout(title='Receiver Operating Characteristics',\n",
    "                   xaxis=dict(title='False Positive Rate'),\n",
    "                   yaxis=dict(title='True Positive Rate'),\n",
    "                   margin=go.Margin(l=50, r=50, b=30, t=65, pad=4),\n",
    "                   legend=dict(x=0.7, y=0.4, font=dict(size=18))\n",
    "                  )\n",
    "\n",
    "fig = go.Figure(data=data, layout=layout)\n",
    "py.iplot(fig, filename='ROCs')"
   ]
  },
  {
   "cell_type": "code",
   "execution_count": null,
   "metadata": {},
   "outputs": [],
   "source": [
    "#Optimizing PCA\n",
    "\n",
    "npi_drug_df = pd.read_pickle('npi_drug_df.pickle')\n",
    "npi_group = pd.read_pickle('npi_group.pickle')\n",
    "\n",
    "pcas = [1, 2, 3, 5] #20, 50, 100]\n",
    "F1_avg = []\n",
    "F1_std = []\n",
    "prec_avg = []\n",
    "prec_std = []\n",
    "recall_avg = []\n",
    "recall_std = []\n",
    "\n",
    "scoring = {'prec': 'precision', 'recall': 'recall', 'F1': 'f1'}\n",
    "\n",
    "clf = ExtraTreesClassifier(bootstrap=False, class_weight=None, criterion='gini',\n",
    "           max_depth=None, max_features=None, max_leaf_nodes=None,\n",
    "           min_impurity_decrease=0.0, min_impurity_split=None,\n",
    "           min_samples_leaf=1, min_samples_split=2,\n",
    "           min_weight_fraction_leaf=0.0, n_estimators=200, n_jobs=1,\n",
    "           oob_score=False, random_state=None, verbose=0, warm_start=False)\n",
    "\n",
    "for pca in tqdm_notebook(pcas):\n",
    "    pca = decomposition.PCA(n_components=pca)\n",
    "    pca.fit(npi_drug_df)\n",
    "    npi_drug_df_transformed = pca.transform(npi_drug_df)\n",
    "    npi_label = pd.DataFrame(npi_group['is_excluded'].apply(lambda x: 1 if x > 0  else 0))\n",
    "    df = pd.concat([pd.DataFrame(npi_drug_df_transformed, index=npi_label.index), npi_label], axis=1)\n",
    "\n",
    "    df_majority = df[df['is_excluded'] == 0]\n",
    "    df_minority = df[df['is_excluded'] > 0]\n",
    "\n",
    "    df_minority_upsampled = resample(df_minority, replace=True, n_samples=5480, random_state=42) # Increase by 10 times\n",
    "    df_upsampled = pd.concat([df_majority, df_minority_upsampled])  \n",
    "    df_upsampled['is_excluded'].value_counts()\n",
    "    X = df_upsampled.drop(['is_excluded'], axis=1)\n",
    "    y = df_upsampled['is_excluded']\n",
    "\n",
    "    cv_results = cross_validate(clf, X, y, scoring=scoring, cv=3, return_train_score=False)\n",
    "    F1_avg.append(cv_results['test_F1'].mean())\n",
    "    F1_std.append(np.std(cv_results['test_F1']))\n",
    "    prec_avg.append(cv_results['test_prec'].mean())\n",
    "    prec_std.append(np.std(cv_results['test_prec']))\n",
    "    recall_avg.append(cv_results['test_recall'].mean())\n",
    "    recall_std.append(np.std(cv_results['test_recall']))\n",
    "    \n",
    "# Plotting\n",
    "data = [go.Scatter(x=pcas, y=F1_avg, error_y=dict(type='data', array=F1_std, visible=True, color=\"#6baed6\", thickness=1.5),\n",
    "                  marker=dict(color=\"#9ecae1\",size=8))]\n",
    "\n",
    "layout = go.Layout(\n",
    "    title='Performance of Random Forest with Increasing Components',\n",
    "    #width=500,\n",
    "    xaxis=dict(autorange=True, showgrid=True, zeroline=False, showline=False, autotick=True, ticks='',\n",
    "               showticklabels=True, title='Number of Components'),\n",
    "    yaxis=dict(title='F1 Score', zeroline=False))\n",
    "\n",
    "fig= go.Figure(data=data, layout=layout)\n",
    "py.iplot(fig, filename='PCAEffects')"
   ]
  },
  {
   "cell_type": "markdown",
   "metadata": {},
   "source": [
    "Trying out Pipeline Below"
   ]
  },
  {
   "cell_type": "code",
   "execution_count": 48,
   "metadata": {},
   "outputs": [],
   "source": [
    "from sklearn.model_selection import train_test_split\n",
    "from sklearn.pipeline import Pipeline\n",
    "from sklearn.feature_selection import VarianceThreshold\n",
    "from sklearn.feature_selection import SelectKBest\n",
    "from sklearn.ensemble import RandomForestClassifier\n",
    "\n",
    "from sklearn import decomposition, datasets\n",
    "from sklearn.model_selection import GridSearchCV"
   ]
  },
  {
   "cell_type": "code",
   "execution_count": 49,
   "metadata": {},
   "outputs": [],
   "source": [
    "part_d_df_majority = part_d_df[part_d_df['is_excluded'] == 0]\n",
    "part_d_df_minority = part_d_df[part_d_df['is_excluded'] > 0]\n",
    "part_d_df_updownsampled = pd.concat([part_d_df_majority_downsampled, part_d_df_minority_upsampled]) \n",
    "part_d_df_updownsampled['is_excluded'].value_counts()\n",
    "\n",
    "X = part_d_df.drop(['is_excluded', 'npi', 'year', 'specialty_description', 'nppes_provider_state'], axis=1)\n",
    "y = part_d_df['is_excluded']\n",
    "\n",
    "X_train, X_test, y_train, y_test = train_test_split(X, y, test_size=0.25, random_state=42)\n",
    "\n",
    "X_train = part_d_df_updownsampled.drop(['is_excluded', 'npi', 'year', 'specialty_description', 'nppes_provider_state'], axis=1)\n",
    "y_train = part_d_df_updownsampled['is_excluded']"
   ]
  },
  {
   "cell_type": "code",
   "execution_count": 53,
   "metadata": {},
   "outputs": [],
   "source": [
    "variance_thresh = VarianceThreshold()\n",
    "select_k = SelectKBest(k=5)\n",
    "random_forest = RandomForestClassifier(n_estimators=50)\n",
    "\n",
    "pipeline_steps = [(\"remove_zero_variance\", variance_thresh), \n",
    "                  (\"select_features\", select_k), \n",
    "                  (\"random_forest\", random_forest)]"
   ]
  },
  {
   "cell_type": "code",
   "execution_count": 54,
   "metadata": {},
   "outputs": [
    {
     "data": {
      "text/plain": [
       "Pipeline(memory=None,\n",
       "     steps=[('remove_zero_variance', VarianceThreshold(threshold=0.0)), ('select_features', SelectKBest(k=5, score_func=<function f_classif at 0x00000229409D21E0>)), ('random_forest', RandomForestClassifier(bootstrap=True, class_weight=None, criterion='gini',\n",
       "            max_depth=None, max_features='aut...obs=None,\n",
       "            oob_score=False, random_state=None, verbose=0,\n",
       "            warm_start=False))])"
      ]
     },
     "execution_count": 54,
     "metadata": {},
     "output_type": "execute_result"
    }
   ],
   "source": [
    "pipeline_obj = Pipeline(pipeline_steps)\n",
    "pipeline_obj.fit(X_train, y_train)"
   ]
  },
  {
   "cell_type": "code",
   "execution_count": 59,
   "metadata": {},
   "outputs": [
    {
     "data": {
      "text/plain": [
       "array([0, 0, 0, 0, 0, 0, 0, 0, 0, 0, 0, 0, 0, 0, 0, 0, 0, 0, 0, 0, 0, 0,\n",
       "       0, 0, 0, 0, 0, 0, 0, 0, 0, 0, 0, 0, 0, 0, 0, 0, 0, 0, 0, 0, 0, 0,\n",
       "       0, 0, 0, 0, 0, 0, 0, 0, 0, 0, 0, 0, 0, 0, 0, 0, 0, 0, 0, 0, 0, 0,\n",
       "       0, 0, 0, 0, 0, 0, 0, 0, 0, 0, 0, 0, 0, 0, 0, 0, 0, 0, 0, 0, 0, 0,\n",
       "       0, 0, 0, 0, 0, 0, 0, 0, 0, 0, 0, 0], dtype=int64)"
      ]
     },
     "execution_count": 59,
     "metadata": {},
     "output_type": "execute_result"
    }
   ],
   "source": [
    "y_predict = pipeline_obj.predict(X_test)\n",
    "y_predict[0: 100]"
   ]
  },
  {
   "cell_type": "code",
   "execution_count": 60,
   "metadata": {},
   "outputs": [],
   "source": [
    "from sklearn.metrics import classification_report"
   ]
  },
  {
   "cell_type": "code",
   "execution_count": 61,
   "metadata": {},
   "outputs": [],
   "source": [
    "report = classification_report(y_predict, y_test)"
   ]
  },
  {
   "cell_type": "code",
   "execution_count": 62,
   "metadata": {},
   "outputs": [
    {
     "name": "stdout",
     "output_type": "stream",
     "text": [
      "              precision    recall  f1-score   support\n",
      "\n",
      "           0       1.00      1.00      1.00    226132\n",
      "           1       1.00      0.25      0.41       118\n",
      "\n",
      "   micro avg       1.00      1.00      1.00    226250\n",
      "   macro avg       1.00      0.63      0.70    226250\n",
      "weighted avg       1.00      1.00      1.00    226250\n",
      "\n"
     ]
    }
   ],
   "source": [
    "print(report)"
   ]
  },
  {
   "cell_type": "code",
   "execution_count": 63,
   "metadata": {},
   "outputs": [],
   "source": [
    "from sklearn.metrics import roc_curve"
   ]
  },
  {
   "cell_type": "code",
   "execution_count": 64,
   "metadata": {},
   "outputs": [
    {
     "data": {
      "text/plain": [
       "array([[1.  , 0.  ],\n",
       "       [1.  , 0.  ],\n",
       "       [1.  , 0.  ],\n",
       "       [1.  , 0.  ],\n",
       "       [1.  , 0.  ],\n",
       "       [1.  , 0.  ],\n",
       "       [1.  , 0.  ],\n",
       "       [1.  , 0.  ],\n",
       "       [0.98, 0.02],\n",
       "       [1.  , 0.  ]])"
      ]
     },
     "execution_count": 64,
     "metadata": {},
     "output_type": "execute_result"
    }
   ],
   "source": [
    "y_test_p = pipeline_obj.predict_proba(X_test)\n",
    "y_test_p[0: 10]"
   ]
  },
  {
   "cell_type": "code",
   "execution_count": 65,
   "metadata": {},
   "outputs": [],
   "source": [
    "import matplotlib.pyplot as plt\n",
    "import seaborn as sb"
   ]
  },
  {
   "cell_type": "code",
   "execution_count": 67,
   "metadata": {},
   "outputs": [
    {
     "data": {
      "text/plain": [
       "[<matplotlib.lines.Line2D at 0x229412ebd68>]"
      ]
     },
     "execution_count": 67,
     "metadata": {},
     "output_type": "execute_result"
    },
    {
     "data": {
      "image/png": "[encoded data removed]",
      "text/plain": [
       "<Figure size 432x288 with 1 Axes>"
      ]
     },
     "metadata": {},
     "output_type": "display_data"
    }
   ],
   "source": [
    "fpr, tpr, _ = roc_curve(y_test, y_test_p[:,1])\n",
    "\n",
    "%matplotlib inline\n",
    "\n",
    "sb.set_style(\"darkgrid\")\n",
    "plt.plot(fpr, tpr)\n",
    "plt.plot([0,1],[0,1], \"k-\", color=\"grey\")"
   ]
  },
  {
   "cell_type": "code",
   "execution_count": 83,
   "metadata": {},
   "outputs": [],
   "source": [
    "from sklearn.metrics import roc_auc_score"
   ]
  },
  {
   "cell_type": "code",
   "execution_count": 84,
   "metadata": {},
   "outputs": [
    {
     "data": {
      "text/plain": [
       "0.9999911590487137"
      ]
     },
     "execution_count": 84,
     "metadata": {},
     "output_type": "execute_result"
    }
   ],
   "source": [
    "roc_auc_score(y_test, y_test_p[:,1])"
   ]
  },
  {
   "cell_type": "code",
   "execution_count": 85,
   "metadata": {},
   "outputs": [],
   "source": [
    "from sklearn.metrics import confusion_matrix"
   ]
  },
  {
   "cell_type": "code",
   "execution_count": 87,
   "metadata": {},
   "outputs": [
    {
     "data": {
      "text/plain": [
       "array([[226132,     88],\n",
       "       [     0,     30]], dtype=int64)"
      ]
     },
     "execution_count": 87,
     "metadata": {},
     "output_type": "execute_result"
    }
   ],
   "source": [
    "confusion_matrix(y_test, y_predict)"
   ]
  },
  {
   "cell_type": "code",
   "execution_count": 88,
   "metadata": {},
   "outputs": [
    {
     "data": {
      "text/plain": [
       "array([ True,  True,  True,  True,  True,  True,  True])"
      ]
     },
     "execution_count": 88,
     "metadata": {},
     "output_type": "execute_result"
    }
   ],
   "source": [
    "variance_thresh.get_support()"
   ]
  },
  {
   "cell_type": "code",
   "execution_count": 90,
   "metadata": {},
   "outputs": [
    {
     "ename": "ValueError",
     "evalue": "Item wrong length 7 instead of 54150.",
     "output_type": "error",
     "traceback": [
      "\u001b[1;31m---------------------------------------------------------------------------\u001b[0m",
      "\u001b[1;31mValueError\u001b[0m                                Traceback (most recent call last)",
      "\u001b[1;32m<ipython-input-90-ce6b772e9f34>\u001b[0m in \u001b[0;36m<module>\u001b[1;34m\u001b[0m\n\u001b[1;32m----> 1\u001b[1;33m \u001b[0mselected_variables1\u001b[0m \u001b[1;33m=\u001b[0m \u001b[0mX_train\u001b[0m\u001b[1;33m[\u001b[0m\u001b[0mvariance_thresh\u001b[0m\u001b[1;33m.\u001b[0m\u001b[0mget_support\u001b[0m\u001b[1;33m(\u001b[0m\u001b[1;33m)\u001b[0m\u001b[1;33m]\u001b[0m\u001b[1;33m\u001b[0m\u001b[1;33m\u001b[0m\u001b[0m\n\u001b[0m\u001b[0;32m      2\u001b[0m \u001b[0mselect_k\u001b[0m\u001b[1;33m.\u001b[0m\u001b[0mget_support\u001b[0m\u001b[1;33m(\u001b[0m\u001b[1;33m)\u001b[0m\u001b[1;33m.\u001b[0m\u001b[0mshape\u001b[0m\u001b[1;33m\u001b[0m\u001b[1;33m\u001b[0m\u001b[0m\n",
      "\u001b[1;32mC:\\ProgramData\\Anaconda3\\lib\\site-packages\\pandas\\core\\frame.py\u001b[0m in \u001b[0;36m__getitem__\u001b[1;34m(self, key)\u001b[0m\n\u001b[0;32m   2916\u001b[0m         \u001b[1;31m# Do we have a (boolean) 1d indexer?\u001b[0m\u001b[1;33m\u001b[0m\u001b[1;33m\u001b[0m\u001b[1;33m\u001b[0m\u001b[0m\n\u001b[0;32m   2917\u001b[0m         \u001b[1;32mif\u001b[0m \u001b[0mcom\u001b[0m\u001b[1;33m.\u001b[0m\u001b[0mis_bool_indexer\u001b[0m\u001b[1;33m(\u001b[0m\u001b[0mkey\u001b[0m\u001b[1;33m)\u001b[0m\u001b[1;33m:\u001b[0m\u001b[1;33m\u001b[0m\u001b[1;33m\u001b[0m\u001b[0m\n\u001b[1;32m-> 2918\u001b[1;33m             \u001b[1;32mreturn\u001b[0m \u001b[0mself\u001b[0m\u001b[1;33m.\u001b[0m\u001b[0m_getitem_bool_array\u001b[0m\u001b[1;33m(\u001b[0m\u001b[0mkey\u001b[0m\u001b[1;33m)\u001b[0m\u001b[1;33m\u001b[0m\u001b[1;33m\u001b[0m\u001b[0m\n\u001b[0m\u001b[0;32m   2919\u001b[0m \u001b[1;33m\u001b[0m\u001b[0m\n\u001b[0;32m   2920\u001b[0m         \u001b[1;31m# We are left with two options: a single key, and a collection of keys,\u001b[0m\u001b[1;33m\u001b[0m\u001b[1;33m\u001b[0m\u001b[1;33m\u001b[0m\u001b[0m\n",
      "\u001b[1;32mC:\\ProgramData\\Anaconda3\\lib\\site-packages\\pandas\\core\\frame.py\u001b[0m in \u001b[0;36m_getitem_bool_array\u001b[1;34m(self, key)\u001b[0m\n\u001b[0;32m   2961\u001b[0m         \u001b[1;32melif\u001b[0m \u001b[0mlen\u001b[0m\u001b[1;33m(\u001b[0m\u001b[0mkey\u001b[0m\u001b[1;33m)\u001b[0m \u001b[1;33m!=\u001b[0m \u001b[0mlen\u001b[0m\u001b[1;33m(\u001b[0m\u001b[0mself\u001b[0m\u001b[1;33m.\u001b[0m\u001b[0mindex\u001b[0m\u001b[1;33m)\u001b[0m\u001b[1;33m:\u001b[0m\u001b[1;33m\u001b[0m\u001b[1;33m\u001b[0m\u001b[0m\n\u001b[0;32m   2962\u001b[0m             raise ValueError('Item wrong length %d instead of %d.' %\n\u001b[1;32m-> 2963\u001b[1;33m                              (len(key), len(self.index)))\n\u001b[0m\u001b[0;32m   2964\u001b[0m \u001b[1;33m\u001b[0m\u001b[0m\n\u001b[0;32m   2965\u001b[0m         \u001b[1;31m# check_bool_indexer will throw exception if Series key cannot\u001b[0m\u001b[1;33m\u001b[0m\u001b[1;33m\u001b[0m\u001b[1;33m\u001b[0m\u001b[0m\n",
      "\u001b[1;31mValueError\u001b[0m: Item wrong length 7 instead of 54150."
     ]
    }
   ],
   "source": [
    "selected_variables1 = independent_labels[variance_thresh.get_support()]\n",
    "select_k.get_support().shape"
   ]
  },
  {
   "cell_type": "code",
   "execution_count": null,
   "metadata": {},
   "outputs": [],
   "source": [
    "selected_variables2 = selected_variables1[select_k.get_support()]\n",
    "selected_variables2.shape"
   ]
  },
  {
   "cell_type": "code",
   "execution_count": null,
   "metadata": {},
   "outputs": [],
   "source": [
    "features_importances = random_forest.feature_importances_\n",
    "random_forest.feature_importances_.shape"
   ]
  },
  {
   "cell_type": "code",
   "execution_count": null,
   "metadata": {},
   "outputs": [],
   "source": [
    "import numpy as np"
   ]
  },
  {
   "cell_type": "code",
   "execution_count": null,
   "metadata": {},
   "outputs": [],
   "source": [
    "decreasing_order_of_features = np.argsort(-1*random_forest.feature_importances_,)\n",
    "[(selected_variables2[decreasing_order_of_features][i], features_importances[decreasing_order_of_features][i]) \n",
    " for i in range(features_importances.shape[0])]"
   ]
  },
  {
   "cell_type": "code",
   "execution_count": null,
   "metadata": {},
   "outputs": [],
   "source": [
    "logistic = linear_model.LogisticRegression()\n",
    "\n",
    "pca = decomposition.PCA()\n",
    "pipe = Pipeline(steps=[('pca', pca), ('logistic', logistic)])\n",
    "\n",
    "digits = datasets.load_digits()\n",
    "X_digits = digits.data\n",
    "y_digits = digits.target\n",
    "\n",
    "pca.fit(X_digits)\n",
    "\n",
    "plt.figure(1, figsize=(4, 3))\n",
    "plt.clf()\n",
    "plt.axes([.2, .2, .7, .7])\n",
    "plt.plot(pca.explained_variance_, linewidth=2)\n",
    "plt.axis('tight')\n",
    "plt.xlabel('n_components')\n",
    "plt.ylabel('explained_variance_')\n",
    "\n",
    "n_components = [20, 40, 64]\n",
    "Cs = np.logspace(-4, 4, 3)\n",
    "\n",
    "#Parameters of pipelines can be set using ‘__’ separated parameter names:\n",
    "\n",
    "estimator = GridSearchCV(pipe,\n",
    "                         dict(pca__n_components=n_components,\n",
    "                              logistic__C=Cs))\n",
    "estimator.fit(X_digits, y_digits)\n",
    "\n",
    "plt.axvline(estimator.best_estimator_.named_steps['pca'].n_components,\n",
    "            linestyle=':', label='n_components chosen')\n",
    "plt.legend(prop=dict(size=12))\n",
    "plt.show()"
   ]
  },
  {
   "cell_type": "code",
   "execution_count": null,
   "metadata": {},
   "outputs": [],
   "source": []
  },
  {
   "cell_type": "code",
   "execution_count": null,
   "metadata": {},
   "outputs": [],
   "source": [
    "import sys\n",
    "import keras as K\n",
    "import tensorflow as tf\n",
    "import pandas as pd\n",
    "from sklearn.model_selection import train_test_split\n",
    "from sklearn.preprocessing import LabelBinarizer\n",
    "import numpy as np\n",
    "\n",
    "py_ver = sys.version\n",
    "k_ver = K.__version__\n",
    "tf_ver = tf.__version__\n",
    "\n",
    "print(\"Using Python version \" + str(py_ver))\n",
    "print(\"Using Keras version \" + str(k_ver))\n",
    "print(\"Using TensorFlow version \" + str(tf_ver))\n",
    "\n",
    "# 读取CSV数据集，并拆分为训练集和测试集\n",
    "# 该函数的传入参数为CSV_FILE_PATH: csv文件路径\n",
    "def load_data(CSV_FILE_PATH):\n",
    "    IRIS = pd.read_csv(CSV_FILE_PATH)\n",
    "    target_var = 'class'  # 目标变量\n",
    "    # 数据集的特征\n",
    "    features = list(IRIS.columns)\n",
    "    features.remove(target_var)\n",
    "    # 目标变量的类别\n",
    "    Class = IRIS[target_var].unique()\n",
    "    # 目标变量的类别字典\n",
    "    Class_dict = dict(zip(Class, range(len(Class))))\n",
    "    # 增加一列target, 将目标变量进行编码\n",
    "    IRIS['target'] = IRIS[target_var].apply(lambda x: Class_dict[x])\n",
    "    # 对目标变量进行0-1编码(One-hot Encoding)\n",
    "    lb = LabelBinarizer()\n",
    "    lb.fit(list(Class_dict.values()))\n",
    "    transformed_labels = lb.transform(IRIS['target'])\n",
    "    y_bin_labels = []  # 对多分类进行0-1编码的变量\n",
    "    for i in range(transformed_labels.shape[1]):\n",
    "        y_bin_labels.append('y' + str(i))\n",
    "        IRIS['y' + str(i)] = transformed_labels[:, i]\n",
    "    # 将数据集分为训练集和测试集\n",
    "    train_x, test_x, train_y, test_y = train_test_split(IRIS[features], IRIS[y_bin_labels], \\\n",
    "                                                        train_size=0.7, test_size=0.3, random_state=0)\n",
    "    return train_x, test_x, train_y, test_y, Class_dict\n",
    "\n",
    "# 2. 定义模型\n",
    "init = K.initializers.glorot_uniform(seed=1)\n",
    "simple_adam = K.optimizers.Adam()\n",
    "model = K.models.Sequential()\n",
    "model.add(K.layers.Dense(units=5, input_dim=4, kernel_initializer=init, activation='relu'))\n",
    "model.add(K.layers.Dense(units=6, kernel_initializer=init, activation='relu'))\n",
    "model.add(K.layers.Dense(units=3, kernel_initializer=init, activation='softmax'))\n",
    "model.compile(loss='categorical_crossentropy', optimizer=simple_adam, metrics=['accuracy'])\n",
    "    \n",
    "# 3. 训练模型\n",
    "b_size = 1\n",
    "max_epochs = 100\n",
    "print(\"Starting training \")\n",
    "h = model.fit(train_x, train_y, batch_size=b_size, epochs=max_epochs, shuffle=True, verbose=1)\n",
    "print(\"Training finished \\n\")\n",
    "    \n",
    "# 4. 评估模型\n",
    "eval = model.evaluate(test_x, test_y, verbose=0)\n",
    "print(\"Evaluation on test data: loss = %0.6f accuracy = %0.2f%% \\n\" % (eval[0], eval[1] * 100) )\n",
    "\n",
    "# 5. 使用模型进行预测\n",
    "np.set_printoptions(precision=4)\n",
    "unknown = np.array([[6.1, 3.1, 5.1, 1.1]], dtype=np.float32)\n",
    "predicted = model.predict(unknown)\n",
    "print(\"Using model to predict species for features: \")\n",
    "print(unknown)\n",
    "print(\"\\nPredicted softmax vector is: \")\n",
    "print(predicted)\n",
    "species_dict = {v:k for k,v in Class_dict.items()}\n",
    "print(\"\\nPredicted species is: \")\n",
    "print(species_dict[np.argmax(predicted)])"
   ]
  },
  {
   "cell_type": "code",
   "execution_count": null,
   "metadata": {},
   "outputs": [],
   "source": [
    "import pandas as pd\n",
    "import matplotlib.pyplot as plt\n",
    "import numpy as np\n",
    "\n",
    "metrics_df = pd.read_csv(\"\")\n",
    "metrics_df.head()   \n",
    "# table should display these columns: Input column (features selected), column for each metric, and Model column\n",
    "\n",
    "indices = []\n",
    "for features in range(len(metrics_df)):\n",
    "    if len(metrics_df.loc[features][0].split(\",\")) > 7:\n",
    "        indices.append(features)\n",
    "metrics_df.drop(indices, inplace = True)\n",
    "\n",
    "top_scores = metrics_df.sort_values(\"AUC\").groupby(\"Model\").last()\n",
    "top_scores.sort_values(\"AUC\", ascending = False, inplace = True)\n",
    "top_scores.head()\n",
    "\n",
    "top_scores.to_csv(\"Top_Scores.csv\")\n",
    "\n",
    "#create plot\n",
    "fig, (ax1, ax2) = plt.subplots(1, 2, figsize = (12,6))\n",
    "index = np.arrange(4)\n",
    "bar_width = 0.5\n",
    "opacity = 0.8\n",
    "\n",
    "ax1.bar(index, Top_Scores[\"\"].tolist(), bar_width, color = \"red\")\n",
    "ax1.set_title('')\n",
    "ax1.set_xlabel('Models', fontsize = 15)\n",
    "ax1.set_ylabel('Scores', fontsize = 15)\n",
    "ax1.set_xticklabels([\"\", \"RF\", \"\", \"\", \"\", \"\", \"\",     ])\n",
    "\n",
    "ax2.bar(index, Top_Scores[\"\"].tolist(), bar_width, color = \"blue\")\n",
    "ax2.set_title('')\n",
    "ax2.set_xlabel('Models', fontsize = 15)\n",
    "ax2.set_xticklabels([\"\", \"RF\", \"\", \"\", \"\", \"\", \"\",     ])\n",
    "\n",
    "fig.tight_layout()"
   ]
  }
 ],
 "metadata": {
  "kernelspec": {
   "display_name": "Python 3",
   "language": "python",
   "name": "python3"
  },
  "language_info": {
   "codemirror_mode": {
    "name": "ipython",
    "version": 3
   },
   "file_extension": ".py",
   "mimetype": "text/x-python",
   "name": "python",
   "nbconvert_exporter": "python",
   "pygments_lexer": "ipython3",
   "version": "3.7.3"
  }
 },
 "nbformat": 4,
 "nbformat_minor": 2
}
