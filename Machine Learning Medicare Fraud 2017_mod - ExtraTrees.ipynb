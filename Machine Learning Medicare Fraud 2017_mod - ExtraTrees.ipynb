{
 "cells": [
  {
   "cell_type": "code",
   "execution_count": 55,
   "metadata": {},
   "outputs": [],
   "source": [
    "import pandas as pd\n",
    "import numpy as np\n",
    "from tqdm import tqdm_notebook, tqdm"
   ]
  },
  {
   "cell_type": "code",
   "execution_count": 56,
   "metadata": {},
   "outputs": [
    {
     "name": "stdout",
     "output_type": "stream",
     "text": [
      "The data has a size of (904999, 215)\n"
     ]
    }
   ],
   "source": [
    "new_main_2017 = pd.read_csv('data/ml_2017.csv', low_memory=False)\n",
    "print(\"The data has a size of {}\".format(new_main_2017.shape))"
   ]
  },
  {
   "cell_type": "code",
   "execution_count": 57,
   "metadata": {},
   "outputs": [
    {
     "data": {
      "text/html": [
       "<div>\n",
       "<style scoped>\n",
       "    .dataframe tbody tr th:only-of-type {\n",
       "        vertical-align: middle;\n",
       "    }\n",
       "\n",
       "    .dataframe tbody tr th {\n",
       "        vertical-align: top;\n",
       "    }\n",
       "\n",
       "    .dataframe thead th {\n",
       "        text-align: right;\n",
       "    }\n",
       "</style>\n",
       "<table border=\"1\" class=\"dataframe\">\n",
       "  <thead>\n",
       "    <tr style=\"text-align: right;\">\n",
       "      <th></th>\n",
       "      <th>Unnamed: 0</th>\n",
       "      <th>t_cost_per_claim_excluded</th>\n",
       "      <th>t_claim_count_schedule2</th>\n",
       "      <th>t_claim_per_bene</th>\n",
       "      <th>%b2bg_claim_count</th>\n",
       "      <th>%b2bg_drug_cost</th>\n",
       "      <th>%b2t_claim_count</th>\n",
       "      <th>%b2t_drug_cost</th>\n",
       "      <th>t_cost_per_claim</th>\n",
       "      <th>t_cost_per_claim_ge65</th>\n",
       "      <th>...</th>\n",
       "      <th>x0_Technician</th>\n",
       "      <th>x0_Technician/Technologist</th>\n",
       "      <th>x0_Thoracic Surgery</th>\n",
       "      <th>x0_Thoracic Surgery (Cardiothoracic Vascular Surgery)</th>\n",
       "      <th>x0_Undefined Physician type</th>\n",
       "      <th>x0_Unknown Supplier/Provider Specialty</th>\n",
       "      <th>x0_Urology</th>\n",
       "      <th>x0_Vascular Surgery</th>\n",
       "      <th>x0_Veterinarian</th>\n",
       "      <th>x0_Voluntary Health or Charitable Agency</th>\n",
       "    </tr>\n",
       "  </thead>\n",
       "  <tbody>\n",
       "    <tr>\n",
       "      <th>0</th>\n",
       "      <td>0</td>\n",
       "      <td>512.29</td>\n",
       "      <td>14</td>\n",
       "      <td>2.7</td>\n",
       "      <td>0</td>\n",
       "      <td>0</td>\n",
       "      <td>0.0</td>\n",
       "      <td>0.0</td>\n",
       "      <td>69.66</td>\n",
       "      <td>52.85</td>\n",
       "      <td>...</td>\n",
       "      <td>0.0</td>\n",
       "      <td>0.0</td>\n",
       "      <td>0.0</td>\n",
       "      <td>0.0</td>\n",
       "      <td>0.0</td>\n",
       "      <td>0.0</td>\n",
       "      <td>0.0</td>\n",
       "      <td>0.0</td>\n",
       "      <td>0.0</td>\n",
       "      <td>0.0</td>\n",
       "    </tr>\n",
       "  </tbody>\n",
       "</table>\n",
       "<p>1 rows × 215 columns</p>\n",
       "</div>"
      ],
      "text/plain": [
       "   Unnamed: 0  t_cost_per_claim_excluded  t_claim_count_schedule2  \\\n",
       "0           0                     512.29                       14   \n",
       "\n",
       "   t_claim_per_bene  %b2bg_claim_count  %b2bg_drug_cost  %b2t_claim_count  \\\n",
       "0               2.7                  0                0               0.0   \n",
       "\n",
       "   %b2t_drug_cost  t_cost_per_claim  t_cost_per_claim_ge65  ...  \\\n",
       "0             0.0             69.66                  52.85  ...   \n",
       "\n",
       "   x0_Technician  x0_Technician/Technologist  x0_Thoracic Surgery  \\\n",
       "0            0.0                         0.0                  0.0   \n",
       "\n",
       "   x0_Thoracic Surgery (Cardiothoracic Vascular Surgery)  \\\n",
       "0                                                0.0       \n",
       "\n",
       "   x0_Undefined Physician type  x0_Unknown Supplier/Provider Specialty  \\\n",
       "0                          0.0                                     0.0   \n",
       "\n",
       "   x0_Urology  x0_Vascular Surgery  x0_Veterinarian  \\\n",
       "0         0.0                  0.0              0.0   \n",
       "\n",
       "   x0_Voluntary Health or Charitable Agency  \n",
       "0                                       0.0  \n",
       "\n",
       "[1 rows x 215 columns]"
      ]
     },
     "execution_count": 57,
     "metadata": {},
     "output_type": "execute_result"
    }
   ],
   "source": [
    "new_main_2017.head(1)"
   ]
  },
  {
   "cell_type": "code",
   "execution_count": 58,
   "metadata": {},
   "outputs": [],
   "source": [
    "new_main_2017.drop(['Unnamed: 0'], axis=1, inplace = True)"
   ]
  },
  {
   "cell_type": "code",
   "execution_count": 59,
   "metadata": {},
   "outputs": [
    {
     "ename": "KeyError",
     "evalue": "\"['npi' 'specialty_description' 'nppes_provider_state' 'year'] not found in axis\"",
     "output_type": "error",
     "traceback": [
      "\u001b[1;31m---------------------------------------------------------------------------\u001b[0m",
      "\u001b[1;31mKeyError\u001b[0m                                  Traceback (most recent call last)",
      "\u001b[1;32m<ipython-input-59-a25b7c086537>\u001b[0m in \u001b[0;36m<module>\u001b[1;34m\u001b[0m\n\u001b[1;32m----> 1\u001b[1;33m \u001b[0mnew_main_2017\u001b[0m\u001b[1;33m.\u001b[0m\u001b[0mdrop\u001b[0m\u001b[1;33m(\u001b[0m\u001b[1;33m[\u001b[0m\u001b[1;34m'npi'\u001b[0m\u001b[1;33m,\u001b[0m \u001b[1;34m'specialty_description'\u001b[0m\u001b[1;33m,\u001b[0m\u001b[1;34m'nppes_provider_state'\u001b[0m\u001b[1;33m,\u001b[0m\u001b[1;34m'year'\u001b[0m\u001b[1;33m]\u001b[0m\u001b[1;33m,\u001b[0m \u001b[0maxis\u001b[0m\u001b[1;33m=\u001b[0m\u001b[1;36m1\u001b[0m\u001b[1;33m,\u001b[0m \u001b[0minplace\u001b[0m \u001b[1;33m=\u001b[0m \u001b[1;32mTrue\u001b[0m\u001b[1;33m)\u001b[0m\u001b[1;33m\u001b[0m\u001b[1;33m\u001b[0m\u001b[0m\n\u001b[0m",
      "\u001b[1;32mC:\\ProgramData\\Anaconda3\\lib\\site-packages\\pandas\\core\\frame.py\u001b[0m in \u001b[0;36mdrop\u001b[1;34m(self, labels, axis, index, columns, level, inplace, errors)\u001b[0m\n\u001b[0;32m   3938\u001b[0m                                            \u001b[0mindex\u001b[0m\u001b[1;33m=\u001b[0m\u001b[0mindex\u001b[0m\u001b[1;33m,\u001b[0m \u001b[0mcolumns\u001b[0m\u001b[1;33m=\u001b[0m\u001b[0mcolumns\u001b[0m\u001b[1;33m,\u001b[0m\u001b[1;33m\u001b[0m\u001b[1;33m\u001b[0m\u001b[0m\n\u001b[0;32m   3939\u001b[0m                                            \u001b[0mlevel\u001b[0m\u001b[1;33m=\u001b[0m\u001b[0mlevel\u001b[0m\u001b[1;33m,\u001b[0m \u001b[0minplace\u001b[0m\u001b[1;33m=\u001b[0m\u001b[0minplace\u001b[0m\u001b[1;33m,\u001b[0m\u001b[1;33m\u001b[0m\u001b[1;33m\u001b[0m\u001b[0m\n\u001b[1;32m-> 3940\u001b[1;33m                                            errors=errors)\n\u001b[0m\u001b[0;32m   3941\u001b[0m \u001b[1;33m\u001b[0m\u001b[0m\n\u001b[0;32m   3942\u001b[0m     @rewrite_axis_style_signature('mapper', [('copy', True),\n",
      "\u001b[1;32mC:\\ProgramData\\Anaconda3\\lib\\site-packages\\pandas\\core\\generic.py\u001b[0m in \u001b[0;36mdrop\u001b[1;34m(self, labels, axis, index, columns, level, inplace, errors)\u001b[0m\n\u001b[0;32m   3778\u001b[0m         \u001b[1;32mfor\u001b[0m \u001b[0maxis\u001b[0m\u001b[1;33m,\u001b[0m \u001b[0mlabels\u001b[0m \u001b[1;32min\u001b[0m \u001b[0maxes\u001b[0m\u001b[1;33m.\u001b[0m\u001b[0mitems\u001b[0m\u001b[1;33m(\u001b[0m\u001b[1;33m)\u001b[0m\u001b[1;33m:\u001b[0m\u001b[1;33m\u001b[0m\u001b[1;33m\u001b[0m\u001b[0m\n\u001b[0;32m   3779\u001b[0m             \u001b[1;32mif\u001b[0m \u001b[0mlabels\u001b[0m \u001b[1;32mis\u001b[0m \u001b[1;32mnot\u001b[0m \u001b[1;32mNone\u001b[0m\u001b[1;33m:\u001b[0m\u001b[1;33m\u001b[0m\u001b[1;33m\u001b[0m\u001b[0m\n\u001b[1;32m-> 3780\u001b[1;33m                 \u001b[0mobj\u001b[0m \u001b[1;33m=\u001b[0m \u001b[0mobj\u001b[0m\u001b[1;33m.\u001b[0m\u001b[0m_drop_axis\u001b[0m\u001b[1;33m(\u001b[0m\u001b[0mlabels\u001b[0m\u001b[1;33m,\u001b[0m \u001b[0maxis\u001b[0m\u001b[1;33m,\u001b[0m \u001b[0mlevel\u001b[0m\u001b[1;33m=\u001b[0m\u001b[0mlevel\u001b[0m\u001b[1;33m,\u001b[0m \u001b[0merrors\u001b[0m\u001b[1;33m=\u001b[0m\u001b[0merrors\u001b[0m\u001b[1;33m)\u001b[0m\u001b[1;33m\u001b[0m\u001b[1;33m\u001b[0m\u001b[0m\n\u001b[0m\u001b[0;32m   3781\u001b[0m \u001b[1;33m\u001b[0m\u001b[0m\n\u001b[0;32m   3782\u001b[0m         \u001b[1;32mif\u001b[0m \u001b[0minplace\u001b[0m\u001b[1;33m:\u001b[0m\u001b[1;33m\u001b[0m\u001b[1;33m\u001b[0m\u001b[0m\n",
      "\u001b[1;32mC:\\ProgramData\\Anaconda3\\lib\\site-packages\\pandas\\core\\generic.py\u001b[0m in \u001b[0;36m_drop_axis\u001b[1;34m(self, labels, axis, level, errors)\u001b[0m\n\u001b[0;32m   3810\u001b[0m                 \u001b[0mnew_axis\u001b[0m \u001b[1;33m=\u001b[0m \u001b[0maxis\u001b[0m\u001b[1;33m.\u001b[0m\u001b[0mdrop\u001b[0m\u001b[1;33m(\u001b[0m\u001b[0mlabels\u001b[0m\u001b[1;33m,\u001b[0m \u001b[0mlevel\u001b[0m\u001b[1;33m=\u001b[0m\u001b[0mlevel\u001b[0m\u001b[1;33m,\u001b[0m \u001b[0merrors\u001b[0m\u001b[1;33m=\u001b[0m\u001b[0merrors\u001b[0m\u001b[1;33m)\u001b[0m\u001b[1;33m\u001b[0m\u001b[1;33m\u001b[0m\u001b[0m\n\u001b[0;32m   3811\u001b[0m             \u001b[1;32melse\u001b[0m\u001b[1;33m:\u001b[0m\u001b[1;33m\u001b[0m\u001b[1;33m\u001b[0m\u001b[0m\n\u001b[1;32m-> 3812\u001b[1;33m                 \u001b[0mnew_axis\u001b[0m \u001b[1;33m=\u001b[0m \u001b[0maxis\u001b[0m\u001b[1;33m.\u001b[0m\u001b[0mdrop\u001b[0m\u001b[1;33m(\u001b[0m\u001b[0mlabels\u001b[0m\u001b[1;33m,\u001b[0m \u001b[0merrors\u001b[0m\u001b[1;33m=\u001b[0m\u001b[0merrors\u001b[0m\u001b[1;33m)\u001b[0m\u001b[1;33m\u001b[0m\u001b[1;33m\u001b[0m\u001b[0m\n\u001b[0m\u001b[0;32m   3813\u001b[0m             \u001b[0mresult\u001b[0m \u001b[1;33m=\u001b[0m \u001b[0mself\u001b[0m\u001b[1;33m.\u001b[0m\u001b[0mreindex\u001b[0m\u001b[1;33m(\u001b[0m\u001b[1;33m**\u001b[0m\u001b[1;33m{\u001b[0m\u001b[0maxis_name\u001b[0m\u001b[1;33m:\u001b[0m \u001b[0mnew_axis\u001b[0m\u001b[1;33m}\u001b[0m\u001b[1;33m)\u001b[0m\u001b[1;33m\u001b[0m\u001b[1;33m\u001b[0m\u001b[0m\n\u001b[0;32m   3814\u001b[0m \u001b[1;33m\u001b[0m\u001b[0m\n",
      "\u001b[1;32mC:\\ProgramData\\Anaconda3\\lib\\site-packages\\pandas\\core\\indexes\\base.py\u001b[0m in \u001b[0;36mdrop\u001b[1;34m(self, labels, errors)\u001b[0m\n\u001b[0;32m   4963\u001b[0m             \u001b[1;32mif\u001b[0m \u001b[0merrors\u001b[0m \u001b[1;33m!=\u001b[0m \u001b[1;34m'ignore'\u001b[0m\u001b[1;33m:\u001b[0m\u001b[1;33m\u001b[0m\u001b[1;33m\u001b[0m\u001b[0m\n\u001b[0;32m   4964\u001b[0m                 raise KeyError(\n\u001b[1;32m-> 4965\u001b[1;33m                     '{} not found in axis'.format(labels[mask]))\n\u001b[0m\u001b[0;32m   4966\u001b[0m             \u001b[0mindexer\u001b[0m \u001b[1;33m=\u001b[0m \u001b[0mindexer\u001b[0m\u001b[1;33m[\u001b[0m\u001b[1;33m~\u001b[0m\u001b[0mmask\u001b[0m\u001b[1;33m]\u001b[0m\u001b[1;33m\u001b[0m\u001b[1;33m\u001b[0m\u001b[0m\n\u001b[0;32m   4967\u001b[0m         \u001b[1;32mreturn\u001b[0m \u001b[0mself\u001b[0m\u001b[1;33m.\u001b[0m\u001b[0mdelete\u001b[0m\u001b[1;33m(\u001b[0m\u001b[0mindexer\u001b[0m\u001b[1;33m)\u001b[0m\u001b[1;33m\u001b[0m\u001b[1;33m\u001b[0m\u001b[0m\n",
      "\u001b[1;31mKeyError\u001b[0m: \"['npi' 'specialty_description' 'nppes_provider_state' 'year'] not found in axis\""
     ]
    }
   ],
   "source": [
    "new_main_2017.drop(['npi', 'specialty_description','nppes_provider_state','year'], axis=1, inplace = True)"
   ]
  },
  {
   "cell_type": "code",
   "execution_count": 60,
   "metadata": {},
   "outputs": [
    {
     "data": {
      "text/html": [
       "<div>\n",
       "<style scoped>\n",
       "    .dataframe tbody tr th:only-of-type {\n",
       "        vertical-align: middle;\n",
       "    }\n",
       "\n",
       "    .dataframe tbody tr th {\n",
       "        vertical-align: top;\n",
       "    }\n",
       "\n",
       "    .dataframe thead th {\n",
       "        text-align: right;\n",
       "    }\n",
       "</style>\n",
       "<table border=\"1\" class=\"dataframe\">\n",
       "  <thead>\n",
       "    <tr style=\"text-align: right;\">\n",
       "      <th></th>\n",
       "      <th>t_cost_per_claim_excluded</th>\n",
       "      <th>t_claim_count_schedule2</th>\n",
       "      <th>t_claim_per_bene</th>\n",
       "      <th>%b2bg_claim_count</th>\n",
       "      <th>%b2bg_drug_cost</th>\n",
       "      <th>%b2t_claim_count</th>\n",
       "      <th>%b2t_drug_cost</th>\n",
       "      <th>t_cost_per_claim</th>\n",
       "      <th>t_cost_per_claim_ge65</th>\n",
       "      <th>t_claim_per_bene_ge65</th>\n",
       "      <th>...</th>\n",
       "      <th>x0_Technician</th>\n",
       "      <th>x0_Technician/Technologist</th>\n",
       "      <th>x0_Thoracic Surgery</th>\n",
       "      <th>x0_Thoracic Surgery (Cardiothoracic Vascular Surgery)</th>\n",
       "      <th>x0_Undefined Physician type</th>\n",
       "      <th>x0_Unknown Supplier/Provider Specialty</th>\n",
       "      <th>x0_Urology</th>\n",
       "      <th>x0_Vascular Surgery</th>\n",
       "      <th>x0_Veterinarian</th>\n",
       "      <th>x0_Voluntary Health or Charitable Agency</th>\n",
       "    </tr>\n",
       "  </thead>\n",
       "  <tbody>\n",
       "    <tr>\n",
       "      <th>0</th>\n",
       "      <td>512.29</td>\n",
       "      <td>14</td>\n",
       "      <td>2.7</td>\n",
       "      <td>0</td>\n",
       "      <td>0</td>\n",
       "      <td>0.0</td>\n",
       "      <td>0.0</td>\n",
       "      <td>69.66</td>\n",
       "      <td>52.85</td>\n",
       "      <td>2.69</td>\n",
       "      <td>...</td>\n",
       "      <td>0.0</td>\n",
       "      <td>0.0</td>\n",
       "      <td>0.0</td>\n",
       "      <td>0.0</td>\n",
       "      <td>0.0</td>\n",
       "      <td>0.0</td>\n",
       "      <td>0.0</td>\n",
       "      <td>0.0</td>\n",
       "      <td>0.0</td>\n",
       "      <td>0.0</td>\n",
       "    </tr>\n",
       "  </tbody>\n",
       "</table>\n",
       "<p>1 rows × 214 columns</p>\n",
       "</div>"
      ],
      "text/plain": [
       "   t_cost_per_claim_excluded  t_claim_count_schedule2  t_claim_per_bene  \\\n",
       "0                     512.29                       14               2.7   \n",
       "\n",
       "   %b2bg_claim_count  %b2bg_drug_cost  %b2t_claim_count  %b2t_drug_cost  \\\n",
       "0                  0                0               0.0             0.0   \n",
       "\n",
       "   t_cost_per_claim  t_cost_per_claim_ge65  t_claim_per_bene_ge65  ...  \\\n",
       "0             69.66                  52.85                   2.69  ...   \n",
       "\n",
       "   x0_Technician  x0_Technician/Technologist  x0_Thoracic Surgery  \\\n",
       "0            0.0                         0.0                  0.0   \n",
       "\n",
       "   x0_Thoracic Surgery (Cardiothoracic Vascular Surgery)  \\\n",
       "0                                                0.0       \n",
       "\n",
       "   x0_Undefined Physician type  x0_Unknown Supplier/Provider Specialty  \\\n",
       "0                          0.0                                     0.0   \n",
       "\n",
       "   x0_Urology  x0_Vascular Surgery  x0_Veterinarian  \\\n",
       "0         0.0                  0.0              0.0   \n",
       "\n",
       "   x0_Voluntary Health or Charitable Agency  \n",
       "0                                       0.0  \n",
       "\n",
       "[1 rows x 214 columns]"
      ]
     },
     "execution_count": 60,
     "metadata": {},
     "output_type": "execute_result"
    }
   ],
   "source": [
    "new_main_2017.head(1)"
   ]
  },
  {
   "cell_type": "code",
   "execution_count": 61,
   "metadata": {},
   "outputs": [
    {
     "data": {
      "text/plain": [
       "101"
      ]
     },
     "execution_count": 61,
     "metadata": {},
     "output_type": "execute_result"
    }
   ],
   "source": [
    "len(new_main_2017[new_main_2017['is_excluded'] == 1])"
   ]
  },
  {
   "cell_type": "code",
   "execution_count": 62,
   "metadata": {},
   "outputs": [],
   "source": [
    "dropIndex = new_main_2017[new_main_2017['is_excluded'] == 1].index"
   ]
  },
  {
   "cell_type": "code",
   "execution_count": 63,
   "metadata": {},
   "outputs": [
    {
     "data": {
      "text/plain": [
       "904898"
      ]
     },
     "execution_count": 63,
     "metadata": {},
     "output_type": "execute_result"
    }
   ],
   "source": [
    "len(new_main_2017[new_main_2017['is_excluded'] == 0])"
   ]
  },
  {
   "cell_type": "code",
   "execution_count": 64,
   "metadata": {},
   "outputs": [],
   "source": [
    "only_excluded = new_main_2017[new_main_2017['is_excluded'] == 1]\n",
    "new_main_2017.drop(dropIndex, inplace = True)\n",
    "new_main_2017 = new_main_2017.sample(frac=1)\n",
    "random_sample = new_main_2017.iloc[0:85000]\n",
    "new_df = pd.concat([only_excluded, random_sample])\n",
    "new_main_2017 = new_main_2017.drop(new_main_2017.iloc[0:85000].index, axis = 0)\n",
    "new_df = new_df.sample(frac=1)\n",
    "#part_d_df.iloc[0:85000].index"
   ]
  },
  {
   "cell_type": "code",
   "execution_count": 65,
   "metadata": {},
   "outputs": [
    {
     "data": {
      "text/html": [
       "<div>\n",
       "<style scoped>\n",
       "    .dataframe tbody tr th:only-of-type {\n",
       "        vertical-align: middle;\n",
       "    }\n",
       "\n",
       "    .dataframe tbody tr th {\n",
       "        vertical-align: top;\n",
       "    }\n",
       "\n",
       "    .dataframe thead th {\n",
       "        text-align: right;\n",
       "    }\n",
       "</style>\n",
       "<table border=\"1\" class=\"dataframe\">\n",
       "  <thead>\n",
       "    <tr style=\"text-align: right;\">\n",
       "      <th></th>\n",
       "      <th>t_cost_per_claim_excluded</th>\n",
       "      <th>t_claim_count_schedule2</th>\n",
       "      <th>t_claim_per_bene</th>\n",
       "      <th>%b2bg_claim_count</th>\n",
       "      <th>%b2bg_drug_cost</th>\n",
       "      <th>%b2t_claim_count</th>\n",
       "      <th>%b2t_drug_cost</th>\n",
       "      <th>t_cost_per_claim</th>\n",
       "      <th>t_cost_per_claim_ge65</th>\n",
       "      <th>t_claim_per_bene_ge65</th>\n",
       "      <th>...</th>\n",
       "      <th>x0_Technician</th>\n",
       "      <th>x0_Technician/Technologist</th>\n",
       "      <th>x0_Thoracic Surgery</th>\n",
       "      <th>x0_Thoracic Surgery (Cardiothoracic Vascular Surgery)</th>\n",
       "      <th>x0_Undefined Physician type</th>\n",
       "      <th>x0_Unknown Supplier/Provider Specialty</th>\n",
       "      <th>x0_Urology</th>\n",
       "      <th>x0_Vascular Surgery</th>\n",
       "      <th>x0_Veterinarian</th>\n",
       "      <th>x0_Voluntary Health or Charitable Agency</th>\n",
       "    </tr>\n",
       "  </thead>\n",
       "  <tbody>\n",
       "    <tr>\n",
       "      <th>27500</th>\n",
       "      <td>325.28</td>\n",
       "      <td>28</td>\n",
       "      <td>12.7</td>\n",
       "      <td>0</td>\n",
       "      <td>0</td>\n",
       "      <td>0.0</td>\n",
       "      <td>0.0</td>\n",
       "      <td>37.75</td>\n",
       "      <td>45.17</td>\n",
       "      <td>12.67</td>\n",
       "      <td>...</td>\n",
       "      <td>0.0</td>\n",
       "      <td>0.0</td>\n",
       "      <td>0.0</td>\n",
       "      <td>0.0</td>\n",
       "      <td>0.0</td>\n",
       "      <td>0.0</td>\n",
       "      <td>0.0</td>\n",
       "      <td>0.0</td>\n",
       "      <td>0.0</td>\n",
       "      <td>0.0</td>\n",
       "    </tr>\n",
       "    <tr>\n",
       "      <th>526127</th>\n",
       "      <td>156.84</td>\n",
       "      <td>13</td>\n",
       "      <td>3.3</td>\n",
       "      <td>20</td>\n",
       "      <td>59</td>\n",
       "      <td>20.0</td>\n",
       "      <td>59.0</td>\n",
       "      <td>59.42</td>\n",
       "      <td>57.83</td>\n",
       "      <td>0.00</td>\n",
       "      <td>...</td>\n",
       "      <td>0.0</td>\n",
       "      <td>0.0</td>\n",
       "      <td>0.0</td>\n",
       "      <td>0.0</td>\n",
       "      <td>0.0</td>\n",
       "      <td>0.0</td>\n",
       "      <td>0.0</td>\n",
       "      <td>0.0</td>\n",
       "      <td>0.0</td>\n",
       "      <td>0.0</td>\n",
       "    </tr>\n",
       "    <tr>\n",
       "      <th>209090</th>\n",
       "      <td>1491.66</td>\n",
       "      <td>19</td>\n",
       "      <td>6.0</td>\n",
       "      <td>10</td>\n",
       "      <td>79</td>\n",
       "      <td>10.0</td>\n",
       "      <td>79.0</td>\n",
       "      <td>624.86</td>\n",
       "      <td>389.46</td>\n",
       "      <td>5.65</td>\n",
       "      <td>...</td>\n",
       "      <td>0.0</td>\n",
       "      <td>0.0</td>\n",
       "      <td>0.0</td>\n",
       "      <td>0.0</td>\n",
       "      <td>0.0</td>\n",
       "      <td>0.0</td>\n",
       "      <td>0.0</td>\n",
       "      <td>0.0</td>\n",
       "      <td>0.0</td>\n",
       "      <td>0.0</td>\n",
       "    </tr>\n",
       "    <tr>\n",
       "      <th>665559</th>\n",
       "      <td>50.18</td>\n",
       "      <td>1</td>\n",
       "      <td>1.3</td>\n",
       "      <td>0</td>\n",
       "      <td>0</td>\n",
       "      <td>0.0</td>\n",
       "      <td>0.0</td>\n",
       "      <td>7.54</td>\n",
       "      <td>7.54</td>\n",
       "      <td>1.29</td>\n",
       "      <td>...</td>\n",
       "      <td>0.0</td>\n",
       "      <td>0.0</td>\n",
       "      <td>0.0</td>\n",
       "      <td>0.0</td>\n",
       "      <td>0.0</td>\n",
       "      <td>0.0</td>\n",
       "      <td>0.0</td>\n",
       "      <td>0.0</td>\n",
       "      <td>0.0</td>\n",
       "      <td>0.0</td>\n",
       "    </tr>\n",
       "    <tr>\n",
       "      <th>547958</th>\n",
       "      <td>3841.61</td>\n",
       "      <td>159</td>\n",
       "      <td>24.4</td>\n",
       "      <td>20</td>\n",
       "      <td>74</td>\n",
       "      <td>10.0</td>\n",
       "      <td>73.0</td>\n",
       "      <td>48.56</td>\n",
       "      <td>46.11</td>\n",
       "      <td>23.48</td>\n",
       "      <td>...</td>\n",
       "      <td>0.0</td>\n",
       "      <td>0.0</td>\n",
       "      <td>0.0</td>\n",
       "      <td>0.0</td>\n",
       "      <td>0.0</td>\n",
       "      <td>0.0</td>\n",
       "      <td>0.0</td>\n",
       "      <td>0.0</td>\n",
       "      <td>0.0</td>\n",
       "      <td>0.0</td>\n",
       "    </tr>\n",
       "  </tbody>\n",
       "</table>\n",
       "<p>5 rows × 214 columns</p>\n",
       "</div>"
      ],
      "text/plain": [
       "        t_cost_per_claim_excluded  t_claim_count_schedule2  t_claim_per_bene  \\\n",
       "27500                      325.28                       28              12.7   \n",
       "526127                     156.84                       13               3.3   \n",
       "209090                    1491.66                       19               6.0   \n",
       "665559                      50.18                        1               1.3   \n",
       "547958                    3841.61                      159              24.4   \n",
       "\n",
       "        %b2bg_claim_count  %b2bg_drug_cost  %b2t_claim_count  %b2t_drug_cost  \\\n",
       "27500                   0                0               0.0             0.0   \n",
       "526127                 20               59              20.0            59.0   \n",
       "209090                 10               79              10.0            79.0   \n",
       "665559                  0                0               0.0             0.0   \n",
       "547958                 20               74              10.0            73.0   \n",
       "\n",
       "        t_cost_per_claim  t_cost_per_claim_ge65  t_claim_per_bene_ge65  ...  \\\n",
       "27500              37.75                  45.17                  12.67  ...   \n",
       "526127             59.42                  57.83                   0.00  ...   \n",
       "209090            624.86                 389.46                   5.65  ...   \n",
       "665559              7.54                   7.54                   1.29  ...   \n",
       "547958             48.56                  46.11                  23.48  ...   \n",
       "\n",
       "        x0_Technician  x0_Technician/Technologist  x0_Thoracic Surgery  \\\n",
       "27500             0.0                         0.0                  0.0   \n",
       "526127            0.0                         0.0                  0.0   \n",
       "209090            0.0                         0.0                  0.0   \n",
       "665559            0.0                         0.0                  0.0   \n",
       "547958            0.0                         0.0                  0.0   \n",
       "\n",
       "        x0_Thoracic Surgery (Cardiothoracic Vascular Surgery)  \\\n",
       "27500                                                 0.0       \n",
       "526127                                                0.0       \n",
       "209090                                                0.0       \n",
       "665559                                                0.0       \n",
       "547958                                                0.0       \n",
       "\n",
       "        x0_Undefined Physician type  x0_Unknown Supplier/Provider Specialty  \\\n",
       "27500                           0.0                                     0.0   \n",
       "526127                          0.0                                     0.0   \n",
       "209090                          0.0                                     0.0   \n",
       "665559                          0.0                                     0.0   \n",
       "547958                          0.0                                     0.0   \n",
       "\n",
       "        x0_Urology  x0_Vascular Surgery  x0_Veterinarian  \\\n",
       "27500          0.0                  0.0              0.0   \n",
       "526127         0.0                  0.0              0.0   \n",
       "209090         0.0                  0.0              0.0   \n",
       "665559         0.0                  0.0              0.0   \n",
       "547958         0.0                  0.0              0.0   \n",
       "\n",
       "        x0_Voluntary Health or Charitable Agency  \n",
       "27500                                        0.0  \n",
       "526127                                       0.0  \n",
       "209090                                       0.0  \n",
       "665559                                       0.0  \n",
       "547958                                       0.0  \n",
       "\n",
       "[5 rows x 214 columns]"
      ]
     },
     "execution_count": 65,
     "metadata": {},
     "output_type": "execute_result"
    }
   ],
   "source": [
    "#new_df.drop(['Unnamed: 0'], axis=1, inplace = True)\n",
    "new_df.head()"
   ]
  },
  {
   "cell_type": "markdown",
   "metadata": {},
   "source": []
  },
  {
   "cell_type": "code",
   "execution_count": 66,
   "metadata": {},
   "outputs": [
    {
     "data": {
      "text/html": [
       "<div>\n",
       "<style scoped>\n",
       "    .dataframe tbody tr th:only-of-type {\n",
       "        vertical-align: middle;\n",
       "    }\n",
       "\n",
       "    .dataframe tbody tr th {\n",
       "        vertical-align: top;\n",
       "    }\n",
       "\n",
       "    .dataframe thead th {\n",
       "        text-align: right;\n",
       "    }\n",
       "</style>\n",
       "<table border=\"1\" class=\"dataframe\">\n",
       "  <thead>\n",
       "    <tr style=\"text-align: right;\">\n",
       "      <th></th>\n",
       "      <th>t_cost_per_claim_excluded</th>\n",
       "      <th>t_claim_count_schedule2</th>\n",
       "      <th>t_claim_per_bene</th>\n",
       "      <th>%b2bg_claim_count</th>\n",
       "      <th>%b2bg_drug_cost</th>\n",
       "      <th>%b2t_claim_count</th>\n",
       "      <th>%b2t_drug_cost</th>\n",
       "      <th>t_cost_per_claim</th>\n",
       "      <th>t_cost_per_claim_ge65</th>\n",
       "      <th>t_claim_per_bene_ge65</th>\n",
       "      <th>...</th>\n",
       "      <th>x0_Technician</th>\n",
       "      <th>x0_Technician/Technologist</th>\n",
       "      <th>x0_Thoracic Surgery</th>\n",
       "      <th>x0_Thoracic Surgery (Cardiothoracic Vascular Surgery)</th>\n",
       "      <th>x0_Undefined Physician type</th>\n",
       "      <th>x0_Unknown Supplier/Provider Specialty</th>\n",
       "      <th>x0_Urology</th>\n",
       "      <th>x0_Vascular Surgery</th>\n",
       "      <th>x0_Veterinarian</th>\n",
       "      <th>x0_Voluntary Health or Charitable Agency</th>\n",
       "    </tr>\n",
       "  </thead>\n",
       "  <tbody>\n",
       "    <tr>\n",
       "      <th>count</th>\n",
       "      <td>8.198980e+05</td>\n",
       "      <td>819898.000000</td>\n",
       "      <td>819898.000000</td>\n",
       "      <td>819898.000000</td>\n",
       "      <td>819898.000000</td>\n",
       "      <td>819898.000000</td>\n",
       "      <td>819898.000000</td>\n",
       "      <td>819898.000000</td>\n",
       "      <td>819898.000000</td>\n",
       "      <td>819898.000000</td>\n",
       "      <td>...</td>\n",
       "      <td>819898.000000</td>\n",
       "      <td>819898.000000</td>\n",
       "      <td>819898.000000</td>\n",
       "      <td>819898.000000</td>\n",
       "      <td>819898.000000</td>\n",
       "      <td>819898.000000</td>\n",
       "      <td>819898.000000</td>\n",
       "      <td>819898.000000</td>\n",
       "      <td>819898.000000</td>\n",
       "      <td>819898.000000</td>\n",
       "    </tr>\n",
       "    <tr>\n",
       "      <th>mean</th>\n",
       "      <td>2.212377e+03</td>\n",
       "      <td>25.566705</td>\n",
       "      <td>6.394436</td>\n",
       "      <td>12.583712</td>\n",
       "      <td>38.948552</td>\n",
       "      <td>12.363379</td>\n",
       "      <td>38.890971</td>\n",
       "      <td>125.766570</td>\n",
       "      <td>103.039241</td>\n",
       "      <td>4.793471</td>\n",
       "      <td>...</td>\n",
       "      <td>0.000001</td>\n",
       "      <td>0.000001</td>\n",
       "      <td>0.001278</td>\n",
       "      <td>0.000076</td>\n",
       "      <td>0.000323</td>\n",
       "      <td>0.000004</td>\n",
       "      <td>0.010795</td>\n",
       "      <td>0.002955</td>\n",
       "      <td>0.000001</td>\n",
       "      <td>0.000001</td>\n",
       "    </tr>\n",
       "    <tr>\n",
       "      <th>std</th>\n",
       "      <td>5.700891e+03</td>\n",
       "      <td>40.592311</td>\n",
       "      <td>7.111404</td>\n",
       "      <td>16.532152</td>\n",
       "      <td>37.131987</td>\n",
       "      <td>15.897083</td>\n",
       "      <td>36.908497</td>\n",
       "      <td>548.979426</td>\n",
       "      <td>368.409999</td>\n",
       "      <td>6.852392</td>\n",
       "      <td>...</td>\n",
       "      <td>0.001104</td>\n",
       "      <td>0.001104</td>\n",
       "      <td>0.035729</td>\n",
       "      <td>0.008696</td>\n",
       "      <td>0.017975</td>\n",
       "      <td>0.001913</td>\n",
       "      <td>0.103338</td>\n",
       "      <td>0.054282</td>\n",
       "      <td>0.001104</td>\n",
       "      <td>0.001104</td>\n",
       "    </tr>\n",
       "    <tr>\n",
       "      <th>min</th>\n",
       "      <td>0.000000e+00</td>\n",
       "      <td>0.000000</td>\n",
       "      <td>0.000000</td>\n",
       "      <td>0.000000</td>\n",
       "      <td>0.000000</td>\n",
       "      <td>0.000000</td>\n",
       "      <td>0.000000</td>\n",
       "      <td>0.000000</td>\n",
       "      <td>0.000000</td>\n",
       "      <td>0.000000</td>\n",
       "      <td>...</td>\n",
       "      <td>0.000000</td>\n",
       "      <td>0.000000</td>\n",
       "      <td>0.000000</td>\n",
       "      <td>0.000000</td>\n",
       "      <td>0.000000</td>\n",
       "      <td>0.000000</td>\n",
       "      <td>0.000000</td>\n",
       "      <td>0.000000</td>\n",
       "      <td>0.000000</td>\n",
       "      <td>0.000000</td>\n",
       "    </tr>\n",
       "    <tr>\n",
       "      <th>25%</th>\n",
       "      <td>1.672000e+02</td>\n",
       "      <td>2.000000</td>\n",
       "      <td>1.900000</td>\n",
       "      <td>0.000000</td>\n",
       "      <td>0.000000</td>\n",
       "      <td>0.000000</td>\n",
       "      <td>0.000000</td>\n",
       "      <td>23.610000</td>\n",
       "      <td>14.000000</td>\n",
       "      <td>0.000000</td>\n",
       "      <td>...</td>\n",
       "      <td>0.000000</td>\n",
       "      <td>0.000000</td>\n",
       "      <td>0.000000</td>\n",
       "      <td>0.000000</td>\n",
       "      <td>0.000000</td>\n",
       "      <td>0.000000</td>\n",
       "      <td>0.000000</td>\n",
       "      <td>0.000000</td>\n",
       "      <td>0.000000</td>\n",
       "      <td>0.000000</td>\n",
       "    </tr>\n",
       "    <tr>\n",
       "      <th>50%</th>\n",
       "      <td>6.761250e+02</td>\n",
       "      <td>7.000000</td>\n",
       "      <td>3.600000</td>\n",
       "      <td>10.000000</td>\n",
       "      <td>42.000000</td>\n",
       "      <td>10.000000</td>\n",
       "      <td>43.000000</td>\n",
       "      <td>55.060000</td>\n",
       "      <td>46.560000</td>\n",
       "      <td>2.230000</td>\n",
       "      <td>...</td>\n",
       "      <td>0.000000</td>\n",
       "      <td>0.000000</td>\n",
       "      <td>0.000000</td>\n",
       "      <td>0.000000</td>\n",
       "      <td>0.000000</td>\n",
       "      <td>0.000000</td>\n",
       "      <td>0.000000</td>\n",
       "      <td>0.000000</td>\n",
       "      <td>0.000000</td>\n",
       "      <td>0.000000</td>\n",
       "    </tr>\n",
       "    <tr>\n",
       "      <th>75%</th>\n",
       "      <td>2.373175e+03</td>\n",
       "      <td>29.000000</td>\n",
       "      <td>8.300000</td>\n",
       "      <td>20.000000</td>\n",
       "      <td>73.000000</td>\n",
       "      <td>20.000000</td>\n",
       "      <td>73.000000</td>\n",
       "      <td>93.380000</td>\n",
       "      <td>79.930000</td>\n",
       "      <td>6.530000</td>\n",
       "      <td>...</td>\n",
       "      <td>0.000000</td>\n",
       "      <td>0.000000</td>\n",
       "      <td>0.000000</td>\n",
       "      <td>0.000000</td>\n",
       "      <td>0.000000</td>\n",
       "      <td>0.000000</td>\n",
       "      <td>0.000000</td>\n",
       "      <td>0.000000</td>\n",
       "      <td>0.000000</td>\n",
       "      <td>0.000000</td>\n",
       "    </tr>\n",
       "    <tr>\n",
       "      <th>max</th>\n",
       "      <td>1.713038e+06</td>\n",
       "      <td>394.000000</td>\n",
       "      <td>307.100000</td>\n",
       "      <td>100.000000</td>\n",
       "      <td>100.000000</td>\n",
       "      <td>100.000000</td>\n",
       "      <td>100.000000</td>\n",
       "      <td>171279.730000</td>\n",
       "      <td>76223.890000</td>\n",
       "      <td>270.000000</td>\n",
       "      <td>...</td>\n",
       "      <td>1.000000</td>\n",
       "      <td>1.000000</td>\n",
       "      <td>1.000000</td>\n",
       "      <td>1.000000</td>\n",
       "      <td>1.000000</td>\n",
       "      <td>1.000000</td>\n",
       "      <td>1.000000</td>\n",
       "      <td>1.000000</td>\n",
       "      <td>1.000000</td>\n",
       "      <td>1.000000</td>\n",
       "    </tr>\n",
       "  </tbody>\n",
       "</table>\n",
       "<p>8 rows × 214 columns</p>\n",
       "</div>"
      ],
      "text/plain": [
       "       t_cost_per_claim_excluded  t_claim_count_schedule2  t_claim_per_bene  \\\n",
       "count               8.198980e+05            819898.000000     819898.000000   \n",
       "mean                2.212377e+03                25.566705          6.394436   \n",
       "std                 5.700891e+03                40.592311          7.111404   \n",
       "min                 0.000000e+00                 0.000000          0.000000   \n",
       "25%                 1.672000e+02                 2.000000          1.900000   \n",
       "50%                 6.761250e+02                 7.000000          3.600000   \n",
       "75%                 2.373175e+03                29.000000          8.300000   \n",
       "max                 1.713038e+06               394.000000        307.100000   \n",
       "\n",
       "       %b2bg_claim_count  %b2bg_drug_cost  %b2t_claim_count  %b2t_drug_cost  \\\n",
       "count      819898.000000    819898.000000     819898.000000   819898.000000   \n",
       "mean           12.583712        38.948552         12.363379       38.890971   \n",
       "std            16.532152        37.131987         15.897083       36.908497   \n",
       "min             0.000000         0.000000          0.000000        0.000000   \n",
       "25%             0.000000         0.000000          0.000000        0.000000   \n",
       "50%            10.000000        42.000000         10.000000       43.000000   \n",
       "75%            20.000000        73.000000         20.000000       73.000000   \n",
       "max           100.000000       100.000000        100.000000      100.000000   \n",
       "\n",
       "       t_cost_per_claim  t_cost_per_claim_ge65  t_claim_per_bene_ge65  ...  \\\n",
       "count     819898.000000          819898.000000          819898.000000  ...   \n",
       "mean         125.766570             103.039241               4.793471  ...   \n",
       "std          548.979426             368.409999               6.852392  ...   \n",
       "min            0.000000               0.000000               0.000000  ...   \n",
       "25%           23.610000              14.000000               0.000000  ...   \n",
       "50%           55.060000              46.560000               2.230000  ...   \n",
       "75%           93.380000              79.930000               6.530000  ...   \n",
       "max       171279.730000           76223.890000             270.000000  ...   \n",
       "\n",
       "       x0_Technician  x0_Technician/Technologist  x0_Thoracic Surgery  \\\n",
       "count  819898.000000               819898.000000        819898.000000   \n",
       "mean        0.000001                    0.000001             0.001278   \n",
       "std         0.001104                    0.001104             0.035729   \n",
       "min         0.000000                    0.000000             0.000000   \n",
       "25%         0.000000                    0.000000             0.000000   \n",
       "50%         0.000000                    0.000000             0.000000   \n",
       "75%         0.000000                    0.000000             0.000000   \n",
       "max         1.000000                    1.000000             1.000000   \n",
       "\n",
       "       x0_Thoracic Surgery (Cardiothoracic Vascular Surgery)  \\\n",
       "count                                      819898.000000       \n",
       "mean                                            0.000076       \n",
       "std                                             0.008696       \n",
       "min                                             0.000000       \n",
       "25%                                             0.000000       \n",
       "50%                                             0.000000       \n",
       "75%                                             0.000000       \n",
       "max                                             1.000000       \n",
       "\n",
       "       x0_Undefined Physician type  x0_Unknown Supplier/Provider Specialty  \\\n",
       "count                819898.000000                           819898.000000   \n",
       "mean                      0.000323                                0.000004   \n",
       "std                       0.017975                                0.001913   \n",
       "min                       0.000000                                0.000000   \n",
       "25%                       0.000000                                0.000000   \n",
       "50%                       0.000000                                0.000000   \n",
       "75%                       0.000000                                0.000000   \n",
       "max                       1.000000                                1.000000   \n",
       "\n",
       "          x0_Urology  x0_Vascular Surgery  x0_Veterinarian  \\\n",
       "count  819898.000000        819898.000000    819898.000000   \n",
       "mean        0.010795             0.002955         0.000001   \n",
       "std         0.103338             0.054282         0.001104   \n",
       "min         0.000000             0.000000         0.000000   \n",
       "25%         0.000000             0.000000         0.000000   \n",
       "50%         0.000000             0.000000         0.000000   \n",
       "75%         0.000000             0.000000         0.000000   \n",
       "max         1.000000             1.000000         1.000000   \n",
       "\n",
       "       x0_Voluntary Health or Charitable Agency  \n",
       "count                             819898.000000  \n",
       "mean                                   0.000001  \n",
       "std                                    0.001104  \n",
       "min                                    0.000000  \n",
       "25%                                    0.000000  \n",
       "50%                                    0.000000  \n",
       "75%                                    0.000000  \n",
       "max                                    1.000000  \n",
       "\n",
       "[8 rows x 214 columns]"
      ]
     },
     "execution_count": 66,
     "metadata": {},
     "output_type": "execute_result"
    }
   ],
   "source": [
    "new_main_2017.describe()"
   ]
  },
  {
   "cell_type": "code",
   "execution_count": 67,
   "metadata": {},
   "outputs": [],
   "source": [
    "import math"
   ]
  },
  {
   "cell_type": "code",
   "execution_count": 68,
   "metadata": {},
   "outputs": [],
   "source": [
    "from sklearn import decomposition\n",
    "from sklearn.ensemble import ExtraTreesClassifier\n",
    "from sklearn.model_selection import train_test_split\n",
    "from sklearn.metrics import confusion_matrix, roc_curve, roc_auc_score, auc\n",
    "from sklearn.utils import resample\n",
    "from sklearn.preprocessing import label_binarize\n",
    "from sklearn.svm import SVC\n",
    "from scipy.stats import pointbiserialr"
   ]
  },
  {
   "cell_type": "code",
   "execution_count": 69,
   "metadata": {
    "scrolled": true
   },
   "outputs": [
    {
     "ename": "KeyError",
     "evalue": "MemoryError()",
     "output_type": "error",
     "traceback": [
      "\u001b[1;31m---------------------------------------------------------------------------\u001b[0m",
      "\u001b[1;31mMemoryError\u001b[0m                               Traceback (most recent call last)",
      "\u001b[1;32mC:\\ProgramData\\Anaconda3\\lib\\site-packages\\pandas\\core\\indexing.py\u001b[0m in \u001b[0;36m_getbool_axis\u001b[1;34m(self, key, axis)\u001b[0m\n\u001b[0;32m   1517\u001b[0m         \u001b[1;32mtry\u001b[0m\u001b[1;33m:\u001b[0m\u001b[1;33m\u001b[0m\u001b[1;33m\u001b[0m\u001b[0m\n\u001b[1;32m-> 1518\u001b[1;33m             \u001b[1;32mreturn\u001b[0m \u001b[0mself\u001b[0m\u001b[1;33m.\u001b[0m\u001b[0mobj\u001b[0m\u001b[1;33m.\u001b[0m\u001b[0m_take\u001b[0m\u001b[1;33m(\u001b[0m\u001b[0minds\u001b[0m\u001b[1;33m,\u001b[0m \u001b[0maxis\u001b[0m\u001b[1;33m=\u001b[0m\u001b[0maxis\u001b[0m\u001b[1;33m)\u001b[0m\u001b[1;33m\u001b[0m\u001b[1;33m\u001b[0m\u001b[0m\n\u001b[0m\u001b[0;32m   1519\u001b[0m         \u001b[1;32mexcept\u001b[0m \u001b[0mException\u001b[0m \u001b[1;32mas\u001b[0m \u001b[0mdetail\u001b[0m\u001b[1;33m:\u001b[0m\u001b[1;33m\u001b[0m\u001b[1;33m\u001b[0m\u001b[0m\n",
      "\u001b[1;32mC:\\ProgramData\\Anaconda3\\lib\\site-packages\\pandas\\core\\generic.py\u001b[0m in \u001b[0;36m_take\u001b[1;34m(self, indices, axis, is_copy)\u001b[0m\n\u001b[0;32m   3358\u001b[0m                                    \u001b[0maxis\u001b[0m\u001b[1;33m=\u001b[0m\u001b[0mself\u001b[0m\u001b[1;33m.\u001b[0m\u001b[0m_get_block_manager_axis\u001b[0m\u001b[1;33m(\u001b[0m\u001b[0maxis\u001b[0m\u001b[1;33m)\u001b[0m\u001b[1;33m,\u001b[0m\u001b[1;33m\u001b[0m\u001b[1;33m\u001b[0m\u001b[0m\n\u001b[1;32m-> 3359\u001b[1;33m                                    verify=True)\n\u001b[0m\u001b[0;32m   3360\u001b[0m         \u001b[0mresult\u001b[0m \u001b[1;33m=\u001b[0m \u001b[0mself\u001b[0m\u001b[1;33m.\u001b[0m\u001b[0m_constructor\u001b[0m\u001b[1;33m(\u001b[0m\u001b[0mnew_data\u001b[0m\u001b[1;33m)\u001b[0m\u001b[1;33m.\u001b[0m\u001b[0m__finalize__\u001b[0m\u001b[1;33m(\u001b[0m\u001b[0mself\u001b[0m\u001b[1;33m)\u001b[0m\u001b[1;33m\u001b[0m\u001b[1;33m\u001b[0m\u001b[0m\n",
      "\u001b[1;32mC:\\ProgramData\\Anaconda3\\lib\\site-packages\\pandas\\core\\internals\\managers.py\u001b[0m in \u001b[0;36mtake\u001b[1;34m(self, indexer, axis, verify, convert)\u001b[0m\n\u001b[0;32m   1349\u001b[0m         return self.reindex_indexer(new_axis=new_labels, indexer=indexer,\n\u001b[1;32m-> 1350\u001b[1;33m                                     axis=axis, allow_dups=True)\n\u001b[0m\u001b[0;32m   1351\u001b[0m \u001b[1;33m\u001b[0m\u001b[0m\n",
      "\u001b[1;32mC:\\ProgramData\\Anaconda3\\lib\\site-packages\\pandas\\core\\internals\\managers.py\u001b[0m in \u001b[0;36mreindex_indexer\u001b[1;34m(self, new_axis, indexer, axis, fill_value, allow_dups, copy)\u001b[0m\n\u001b[0;32m   1230\u001b[0m             new_blocks = self._slice_take_blocks_ax0(indexer,\n\u001b[1;32m-> 1231\u001b[1;33m                                                      fill_tuple=(fill_value,))\n\u001b[0m\u001b[0;32m   1232\u001b[0m         \u001b[1;32melse\u001b[0m\u001b[1;33m:\u001b[0m\u001b[1;33m\u001b[0m\u001b[1;33m\u001b[0m\u001b[0m\n",
      "\u001b[1;32mC:\\ProgramData\\Anaconda3\\lib\\site-packages\\pandas\\core\\internals\\managers.py\u001b[0m in \u001b[0;36m_slice_take_blocks_ax0\u001b[1;34m(self, slice_or_indexer, fill_tuple)\u001b[0m\n\u001b[0;32m   1311\u001b[0m                                               \u001b[0maxis\u001b[0m\u001b[1;33m=\u001b[0m\u001b[1;36m0\u001b[0m\u001b[1;33m,\u001b[0m \u001b[0mnew_mgr_locs\u001b[0m\u001b[1;33m=\u001b[0m\u001b[0mmgr_locs\u001b[0m\u001b[1;33m,\u001b[0m\u001b[1;33m\u001b[0m\u001b[1;33m\u001b[0m\u001b[0m\n\u001b[1;32m-> 1312\u001b[1;33m                                               fill_tuple=None))\n\u001b[0m\u001b[0;32m   1313\u001b[0m \u001b[1;33m\u001b[0m\u001b[0m\n",
      "\u001b[1;32mC:\\ProgramData\\Anaconda3\\lib\\site-packages\\pandas\\core\\internals\\blocks.py\u001b[0m in \u001b[0;36mtake_nd\u001b[1;34m(self, indexer, axis, new_mgr_locs, fill_tuple)\u001b[0m\n\u001b[0;32m   1233\u001b[0m             new_values = algos.take_nd(values, indexer, axis=axis,\n\u001b[1;32m-> 1234\u001b[1;33m                                        allow_fill=False, fill_value=fill_value)\n\u001b[0m\u001b[0;32m   1235\u001b[0m         \u001b[1;32melse\u001b[0m\u001b[1;33m:\u001b[0m\u001b[1;33m\u001b[0m\u001b[1;33m\u001b[0m\u001b[0m\n",
      "\u001b[1;32mC:\\ProgramData\\Anaconda3\\lib\\site-packages\\pandas\\core\\algorithms.py\u001b[0m in \u001b[0;36mtake_nd\u001b[1;34m(arr, indexer, axis, out, fill_value, mask_info, allow_fill)\u001b[0m\n\u001b[0;32m   1650\u001b[0m         \u001b[1;32melse\u001b[0m\u001b[1;33m:\u001b[0m\u001b[1;33m\u001b[0m\u001b[1;33m\u001b[0m\u001b[0m\n\u001b[1;32m-> 1651\u001b[1;33m             \u001b[0mout\u001b[0m \u001b[1;33m=\u001b[0m \u001b[0mnp\u001b[0m\u001b[1;33m.\u001b[0m\u001b[0mempty\u001b[0m\u001b[1;33m(\u001b[0m\u001b[0mout_shape\u001b[0m\u001b[1;33m,\u001b[0m \u001b[0mdtype\u001b[0m\u001b[1;33m=\u001b[0m\u001b[0mdtype\u001b[0m\u001b[1;33m)\u001b[0m\u001b[1;33m\u001b[0m\u001b[1;33m\u001b[0m\u001b[0m\n\u001b[0m\u001b[0;32m   1652\u001b[0m \u001b[1;33m\u001b[0m\u001b[0m\n",
      "\u001b[1;31mMemoryError\u001b[0m: ",
      "\nDuring handling of the above exception, another exception occurred:\n",
      "\u001b[1;31mKeyError\u001b[0m                                  Traceback (most recent call last)",
      "\u001b[1;32m<ipython-input-69-e6b80be58847>\u001b[0m in \u001b[0;36m<module>\u001b[1;34m\u001b[0m\n\u001b[0;32m      3\u001b[0m \u001b[0mfudge\u001b[0m \u001b[1;33m=\u001b[0m \u001b[0mresample\u001b[0m\u001b[1;33m(\u001b[0m\u001b[0monly_excluded\u001b[0m\u001b[1;33m,\u001b[0m \u001b[0mreplace\u001b[0m\u001b[1;33m=\u001b[0m\u001b[1;32mTrue\u001b[0m\u001b[1;33m,\u001b[0m \u001b[0mn_samples\u001b[0m\u001b[1;33m=\u001b[0m\u001b[1;36m1000000\u001b[0m\u001b[1;33m,\u001b[0m \u001b[0mrandom_state\u001b[0m \u001b[1;33m=\u001b[0m \u001b[1;36m0\u001b[0m\u001b[1;33m)\u001b[0m\u001b[1;33m\u001b[0m\u001b[1;33m\u001b[0m\u001b[0m\n\u001b[0;32m      4\u001b[0m \u001b[1;31m#fudge.drop(['Unnamed: 0'], axis=1, inplace = True)\u001b[0m\u001b[1;33m\u001b[0m\u001b[1;33m\u001b[0m\u001b[1;33m\u001b[0m\u001b[0m\n\u001b[1;32m----> 5\u001b[1;33m \u001b[0mfudge\u001b[0m\u001b[1;33m.\u001b[0m\u001b[0mdescribe\u001b[0m\u001b[1;33m(\u001b[0m\u001b[1;33m)\u001b[0m\u001b[1;33m\u001b[0m\u001b[1;33m\u001b[0m\u001b[0m\n\u001b[0m",
      "\u001b[1;32mC:\\ProgramData\\Anaconda3\\lib\\site-packages\\pandas\\core\\generic.py\u001b[0m in \u001b[0;36mdescribe\u001b[1;34m(self, percentiles, include, exclude)\u001b[0m\n\u001b[0;32m   9791\u001b[0m         \u001b[1;32melif\u001b[0m \u001b[1;33m(\u001b[0m\u001b[0minclude\u001b[0m \u001b[1;32mis\u001b[0m \u001b[1;32mNone\u001b[0m\u001b[1;33m)\u001b[0m \u001b[1;32mand\u001b[0m \u001b[1;33m(\u001b[0m\u001b[0mexclude\u001b[0m \u001b[1;32mis\u001b[0m \u001b[1;32mNone\u001b[0m\u001b[1;33m)\u001b[0m\u001b[1;33m:\u001b[0m\u001b[1;33m\u001b[0m\u001b[1;33m\u001b[0m\u001b[0m\n\u001b[0;32m   9792\u001b[0m             \u001b[1;31m# when some numerics are found, keep only numerics\u001b[0m\u001b[1;33m\u001b[0m\u001b[1;33m\u001b[0m\u001b[1;33m\u001b[0m\u001b[0m\n\u001b[1;32m-> 9793\u001b[1;33m             \u001b[0mdata\u001b[0m \u001b[1;33m=\u001b[0m \u001b[0mself\u001b[0m\u001b[1;33m.\u001b[0m\u001b[0mselect_dtypes\u001b[0m\u001b[1;33m(\u001b[0m\u001b[0minclude\u001b[0m\u001b[1;33m=\u001b[0m\u001b[1;33m[\u001b[0m\u001b[0mnp\u001b[0m\u001b[1;33m.\u001b[0m\u001b[0mnumber\u001b[0m\u001b[1;33m]\u001b[0m\u001b[1;33m)\u001b[0m\u001b[1;33m\u001b[0m\u001b[1;33m\u001b[0m\u001b[0m\n\u001b[0m\u001b[0;32m   9794\u001b[0m             \u001b[1;32mif\u001b[0m \u001b[0mlen\u001b[0m\u001b[1;33m(\u001b[0m\u001b[0mdata\u001b[0m\u001b[1;33m.\u001b[0m\u001b[0mcolumns\u001b[0m\u001b[1;33m)\u001b[0m \u001b[1;33m==\u001b[0m \u001b[1;36m0\u001b[0m\u001b[1;33m:\u001b[0m\u001b[1;33m\u001b[0m\u001b[1;33m\u001b[0m\u001b[0m\n\u001b[0;32m   9795\u001b[0m                 \u001b[0mdata\u001b[0m \u001b[1;33m=\u001b[0m \u001b[0mself\u001b[0m\u001b[1;33m\u001b[0m\u001b[1;33m\u001b[0m\u001b[0m\n",
      "\u001b[1;32mC:\\ProgramData\\Anaconda3\\lib\\site-packages\\pandas\\core\\frame.py\u001b[0m in \u001b[0;36mselect_dtypes\u001b[1;34m(self, include, exclude)\u001b[0m\n\u001b[0;32m   3338\u001b[0m \u001b[1;33m\u001b[0m\u001b[0m\n\u001b[0;32m   3339\u001b[0m         \u001b[0mdtype_indexer\u001b[0m \u001b[1;33m=\u001b[0m \u001b[0minclude_these\u001b[0m \u001b[1;33m&\u001b[0m \u001b[0mexclude_these\u001b[0m\u001b[1;33m\u001b[0m\u001b[1;33m\u001b[0m\u001b[0m\n\u001b[1;32m-> 3340\u001b[1;33m         \u001b[1;32mreturn\u001b[0m \u001b[0mself\u001b[0m\u001b[1;33m.\u001b[0m\u001b[0mloc\u001b[0m\u001b[1;33m[\u001b[0m\u001b[0m_get_info_slice\u001b[0m\u001b[1;33m(\u001b[0m\u001b[0mself\u001b[0m\u001b[1;33m,\u001b[0m \u001b[0mdtype_indexer\u001b[0m\u001b[1;33m)\u001b[0m\u001b[1;33m]\u001b[0m\u001b[1;33m\u001b[0m\u001b[1;33m\u001b[0m\u001b[0m\n\u001b[0m\u001b[0;32m   3341\u001b[0m \u001b[1;33m\u001b[0m\u001b[0m\n\u001b[0;32m   3342\u001b[0m     \u001b[1;32mdef\u001b[0m \u001b[0m_box_item_values\u001b[0m\u001b[1;33m(\u001b[0m\u001b[0mself\u001b[0m\u001b[1;33m,\u001b[0m \u001b[0mkey\u001b[0m\u001b[1;33m,\u001b[0m \u001b[0mvalues\u001b[0m\u001b[1;33m)\u001b[0m\u001b[1;33m:\u001b[0m\u001b[1;33m\u001b[0m\u001b[1;33m\u001b[0m\u001b[0m\n",
      "\u001b[1;32mC:\\ProgramData\\Anaconda3\\lib\\site-packages\\pandas\\core\\indexing.py\u001b[0m in \u001b[0;36m__getitem__\u001b[1;34m(self, key)\u001b[0m\n\u001b[0;32m   1492\u001b[0m             \u001b[1;32mexcept\u001b[0m \u001b[1;33m(\u001b[0m\u001b[0mKeyError\u001b[0m\u001b[1;33m,\u001b[0m \u001b[0mIndexError\u001b[0m\u001b[1;33m,\u001b[0m \u001b[0mAttributeError\u001b[0m\u001b[1;33m)\u001b[0m\u001b[1;33m:\u001b[0m\u001b[1;33m\u001b[0m\u001b[1;33m\u001b[0m\u001b[0m\n\u001b[0;32m   1493\u001b[0m                 \u001b[1;32mpass\u001b[0m\u001b[1;33m\u001b[0m\u001b[1;33m\u001b[0m\u001b[0m\n\u001b[1;32m-> 1494\u001b[1;33m             \u001b[1;32mreturn\u001b[0m \u001b[0mself\u001b[0m\u001b[1;33m.\u001b[0m\u001b[0m_getitem_tuple\u001b[0m\u001b[1;33m(\u001b[0m\u001b[0mkey\u001b[0m\u001b[1;33m)\u001b[0m\u001b[1;33m\u001b[0m\u001b[1;33m\u001b[0m\u001b[0m\n\u001b[0m\u001b[0;32m   1495\u001b[0m         \u001b[1;32melse\u001b[0m\u001b[1;33m:\u001b[0m\u001b[1;33m\u001b[0m\u001b[1;33m\u001b[0m\u001b[0m\n\u001b[0;32m   1496\u001b[0m             \u001b[1;31m# we by definition only have the 0th axis\u001b[0m\u001b[1;33m\u001b[0m\u001b[1;33m\u001b[0m\u001b[1;33m\u001b[0m\u001b[0m\n",
      "\u001b[1;32mC:\\ProgramData\\Anaconda3\\lib\\site-packages\\pandas\\core\\indexing.py\u001b[0m in \u001b[0;36m_getitem_tuple\u001b[1;34m(self, tup)\u001b[0m\n\u001b[0;32m    886\u001b[0m                 \u001b[1;32mcontinue\u001b[0m\u001b[1;33m\u001b[0m\u001b[1;33m\u001b[0m\u001b[0m\n\u001b[0;32m    887\u001b[0m \u001b[1;33m\u001b[0m\u001b[0m\n\u001b[1;32m--> 888\u001b[1;33m             \u001b[0mretval\u001b[0m \u001b[1;33m=\u001b[0m \u001b[0mgetattr\u001b[0m\u001b[1;33m(\u001b[0m\u001b[0mretval\u001b[0m\u001b[1;33m,\u001b[0m \u001b[0mself\u001b[0m\u001b[1;33m.\u001b[0m\u001b[0mname\u001b[0m\u001b[1;33m)\u001b[0m\u001b[1;33m.\u001b[0m\u001b[0m_getitem_axis\u001b[0m\u001b[1;33m(\u001b[0m\u001b[0mkey\u001b[0m\u001b[1;33m,\u001b[0m \u001b[0maxis\u001b[0m\u001b[1;33m=\u001b[0m\u001b[0mi\u001b[0m\u001b[1;33m)\u001b[0m\u001b[1;33m\u001b[0m\u001b[1;33m\u001b[0m\u001b[0m\n\u001b[0m\u001b[0;32m    889\u001b[0m \u001b[1;33m\u001b[0m\u001b[0m\n\u001b[0;32m    890\u001b[0m         \u001b[1;32mreturn\u001b[0m \u001b[0mretval\u001b[0m\u001b[1;33m\u001b[0m\u001b[1;33m\u001b[0m\u001b[0m\n",
      "\u001b[1;32mC:\\ProgramData\\Anaconda3\\lib\\site-packages\\pandas\\core\\indexing.py\u001b[0m in \u001b[0;36m_getitem_axis\u001b[1;34m(self, key, axis)\u001b[0m\n\u001b[0;32m   1867\u001b[0m             \u001b[1;32mreturn\u001b[0m \u001b[0mself\u001b[0m\u001b[1;33m.\u001b[0m\u001b[0m_get_slice_axis\u001b[0m\u001b[1;33m(\u001b[0m\u001b[0mkey\u001b[0m\u001b[1;33m,\u001b[0m \u001b[0maxis\u001b[0m\u001b[1;33m=\u001b[0m\u001b[0maxis\u001b[0m\u001b[1;33m)\u001b[0m\u001b[1;33m\u001b[0m\u001b[1;33m\u001b[0m\u001b[0m\n\u001b[0;32m   1868\u001b[0m         \u001b[1;32melif\u001b[0m \u001b[0mcom\u001b[0m\u001b[1;33m.\u001b[0m\u001b[0mis_bool_indexer\u001b[0m\u001b[1;33m(\u001b[0m\u001b[0mkey\u001b[0m\u001b[1;33m)\u001b[0m\u001b[1;33m:\u001b[0m\u001b[1;33m\u001b[0m\u001b[1;33m\u001b[0m\u001b[0m\n\u001b[1;32m-> 1869\u001b[1;33m             \u001b[1;32mreturn\u001b[0m \u001b[0mself\u001b[0m\u001b[1;33m.\u001b[0m\u001b[0m_getbool_axis\u001b[0m\u001b[1;33m(\u001b[0m\u001b[0mkey\u001b[0m\u001b[1;33m,\u001b[0m \u001b[0maxis\u001b[0m\u001b[1;33m=\u001b[0m\u001b[0maxis\u001b[0m\u001b[1;33m)\u001b[0m\u001b[1;33m\u001b[0m\u001b[1;33m\u001b[0m\u001b[0m\n\u001b[0m\u001b[0;32m   1870\u001b[0m         \u001b[1;32melif\u001b[0m \u001b[0mis_list_like_indexer\u001b[0m\u001b[1;33m(\u001b[0m\u001b[0mkey\u001b[0m\u001b[1;33m)\u001b[0m\u001b[1;33m:\u001b[0m\u001b[1;33m\u001b[0m\u001b[1;33m\u001b[0m\u001b[0m\n\u001b[0;32m   1871\u001b[0m \u001b[1;33m\u001b[0m\u001b[0m\n",
      "\u001b[1;32mC:\\ProgramData\\Anaconda3\\lib\\site-packages\\pandas\\core\\indexing.py\u001b[0m in \u001b[0;36m_getbool_axis\u001b[1;34m(self, key, axis)\u001b[0m\n\u001b[0;32m   1518\u001b[0m             \u001b[1;32mreturn\u001b[0m \u001b[0mself\u001b[0m\u001b[1;33m.\u001b[0m\u001b[0mobj\u001b[0m\u001b[1;33m.\u001b[0m\u001b[0m_take\u001b[0m\u001b[1;33m(\u001b[0m\u001b[0minds\u001b[0m\u001b[1;33m,\u001b[0m \u001b[0maxis\u001b[0m\u001b[1;33m=\u001b[0m\u001b[0maxis\u001b[0m\u001b[1;33m)\u001b[0m\u001b[1;33m\u001b[0m\u001b[1;33m\u001b[0m\u001b[0m\n\u001b[0;32m   1519\u001b[0m         \u001b[1;32mexcept\u001b[0m \u001b[0mException\u001b[0m \u001b[1;32mas\u001b[0m \u001b[0mdetail\u001b[0m\u001b[1;33m:\u001b[0m\u001b[1;33m\u001b[0m\u001b[1;33m\u001b[0m\u001b[0m\n\u001b[1;32m-> 1520\u001b[1;33m             \u001b[1;32mraise\u001b[0m \u001b[0mself\u001b[0m\u001b[1;33m.\u001b[0m\u001b[0m_exception\u001b[0m\u001b[1;33m(\u001b[0m\u001b[0mdetail\u001b[0m\u001b[1;33m)\u001b[0m\u001b[1;33m\u001b[0m\u001b[1;33m\u001b[0m\u001b[0m\n\u001b[0m\u001b[0;32m   1521\u001b[0m \u001b[1;33m\u001b[0m\u001b[0m\n\u001b[0;32m   1522\u001b[0m     \u001b[1;32mdef\u001b[0m \u001b[0m_get_slice_axis\u001b[0m\u001b[1;33m(\u001b[0m\u001b[0mself\u001b[0m\u001b[1;33m,\u001b[0m \u001b[0mslice_obj\u001b[0m\u001b[1;33m,\u001b[0m \u001b[0maxis\u001b[0m\u001b[1;33m=\u001b[0m\u001b[1;32mNone\u001b[0m\u001b[1;33m)\u001b[0m\u001b[1;33m:\u001b[0m\u001b[1;33m\u001b[0m\u001b[1;33m\u001b[0m\u001b[0m\n",
      "\u001b[1;31mKeyError\u001b[0m: MemoryError()"
     ]
    }
   ],
   "source": [
    "#part_d_excluded = new_df[new_df[\"is_excluded\"]==1]\n",
    "\n",
    "fudge = resample(only_excluded, replace=True, n_samples=1000000, random_state = 0)\n",
    "#fudge.drop(['Unnamed: 0'], axis=1, inplace = True)\n",
    "fudge.describe()"
   ]
  },
  {
   "cell_type": "code",
   "execution_count": null,
   "metadata": {},
   "outputs": [],
   "source": [
    "std = fudge.describe().loc[\"std\"]\n",
    "std = std[0:26]"
   ]
  },
  {
   "cell_type": "code",
   "execution_count": null,
   "metadata": {},
   "outputs": [],
   "source": [
    "rtstd = std.map(lambda x : math.sqrt(x)/2) #use half of square root of standard deviation as the range for gaussian normal\n",
    "rtstd = rtstd.to_dict()"
   ]
  },
  {
   "cell_type": "code",
   "execution_count": null,
   "metadata": {},
   "outputs": [],
   "source": [
    "for key in rtstd:\n",
    "    #fudge[key] = fudge[key].map(lambda x: (np.random.normal(x, rtstd[key])))\n",
    "    fudge[key] = fudge[key].map(lambda x: (np.random.normal(x, 2)))\n",
    "fudge = fudge[fudge>=0]\n",
    "fudge.dropna(inplace = True)"
   ]
  },
  {
   "cell_type": "code",
   "execution_count": null,
   "metadata": {},
   "outputs": [],
   "source": [
    "rtstd"
   ]
  },
  {
   "cell_type": "code",
   "execution_count": null,
   "metadata": {
    "scrolled": false
   },
   "outputs": [],
   "source": [
    "fudge.describe()"
   ]
  },
  {
   "cell_type": "code",
   "execution_count": null,
   "metadata": {},
   "outputs": [],
   "source": [
    "only_excluded.describe()"
   ]
  },
  {
   "cell_type": "code",
   "execution_count": null,
   "metadata": {},
   "outputs": [],
   "source": [
    "fudge.shape"
   ]
  },
  {
   "cell_type": "code",
   "execution_count": null,
   "metadata": {},
   "outputs": [],
   "source": [
    "fudge=fudge.sample(n=10000)\n",
    "fudge.head()"
   ]
  },
  {
   "cell_type": "code",
   "execution_count": null,
   "metadata": {
    "scrolled": false
   },
   "outputs": [],
   "source": [
    "ag_2017 = pd.concat([new_main_2017, fudge])\n",
    "ag_2017.dropna(inplace=True)"
   ]
  },
  {
   "cell_type": "code",
   "execution_count": null,
   "metadata": {},
   "outputs": [],
   "source": [
    "ag_2017[ag_2017[\"is_excluded\"]==1].shape"
   ]
  },
  {
   "cell_type": "code",
   "execution_count": null,
   "metadata": {},
   "outputs": [],
   "source": [
    "ag_2017.shape"
   ]
  },
  {
   "cell_type": "markdown",
   "metadata": {},
   "source": [
    "#Applying PCA, 2 components and 3 components for variance visualization\n",
    "\n",
    "pca = decomposition.PCA(n_components='mle')\n",
    "pca.fit(part_d_df)\n",
    "npi_drug_df_transformed = pca.transform(part_d_df)\n",
    "plt.plot(np.cumsum(pca.explained_variance_ratio_), color='r')\n",
    "\n",
    "pca = decomposition.PCA(n_components='mle')\n",
    "pca.fit(part_d_df)\n",
    "npi_drug_cross_df_transformed = pca.transform(part_d_df)\n",
    "plt.plot(np.cumsum(pca.explained_variance_ratio_))\n",
    "plt.xlabel('number of components')\n",
    "plt.ylabel('cumulative explained variance')\n",
    "\n",
    "plt.vlines(1, color='grey', ymax=0.1, ymin=0, linestyle=':')\n",
    "plt.vlines(2, color='grey', ymax=0.1, ymin=0, linestyle=':')\n",
    "\n",
    "plt.annotate('1 components', xy=(0.6, 0.05), xytext=(0.9, 0.05), fontsize=15, rotation=90)\n",
    "plt.annotate('2 components', xy=(1.6, 0.05), xytext=(1.9, 0.05), fontsize=15, rotation=90)\n",
    "\n",
    "plt.savefig('VarExp.jpeg', dpi=1000)\n",
    "plt.tight_layout()\n",
    "plt.show()"
   ]
  },
  {
   "cell_type": "code",
   "execution_count": null,
   "metadata": {},
   "outputs": [],
   "source": [
    "#Training without Upsampling or Downsampling\n",
    "#fudged data (ag_2017) only for train, regular data (new_df) only for test\n",
    "\n",
    "X_train = ag_2017.drop(['is_excluded'], axis=1)\n",
    "y_train = ag_2017['is_excluded']\n",
    "X_test = new_df.drop(['is_excluded'], axis =1)\n",
    "y_test = new_df[\"is_excluded\"]\n",
    "#X = new_main_2017.drop(['is_excluded'], axis=1)\n",
    "#y = new_main_2017['is_excluded']\n",
    "#X_train, X_test, y_train, y_test = train_test_split(X, y, test_size=0.33, random_state=42)"
   ]
  },
  {
   "cell_type": "code",
   "execution_count": null,
   "metadata": {},
   "outputs": [],
   "source": [
    "pca = decomposition.PCA(n_components='mle')\n",
    "X_train = pca.fit_transform(X_train)\n",
    "X_test = pca.fit_transform(X_test)"
   ]
  },
  {
   "cell_type": "code",
   "execution_count": null,
   "metadata": {},
   "outputs": [],
   "source": [
    "print(pca.explained_variance_ratio_)"
   ]
  },
  {
   "cell_type": "code",
   "execution_count": null,
   "metadata": {
    "scrolled": true
   },
   "outputs": [],
   "source": [
    "Labels = ag_2017.drop([\"is_excluded\"],axis = 1).columns"
   ]
  },
  {
   "cell_type": "code",
   "execution_count": null,
   "metadata": {},
   "outputs": [],
   "source": [
    "#new Labels after PCA\n",
    "most_important = [np.abs(pca.components_[i]).argmax() for i in range(len(pca.components_))]\n",
    "most_important_names = [Labels[most_important[i]] for i in range(len(pca.components_))]\n",
    "dic = {'PC{}'.format(i+1): most_important_names[i] for i in range(len(pca.components_))}\n",
    "newLabels = list(dic.values())\n",
    "newLabels"
   ]
  },
  {
   "cell_type": "code",
   "execution_count": null,
   "metadata": {},
   "outputs": [],
   "source": [
    "clf = ExtraTreesClassifier(n_estimators=25)\n",
    "clf.fit(X_train, y_train)"
   ]
  },
  {
   "cell_type": "code",
   "execution_count": null,
   "metadata": {},
   "outputs": [],
   "source": [
    "#excluded samples in test data\n",
    "count = 0\n",
    "for x in y_test:\n",
    "    if int(x)== 1:\n",
    "        count +=1\n",
    "print(count)"
   ]
  },
  {
   "cell_type": "code",
   "execution_count": null,
   "metadata": {},
   "outputs": [],
   "source": [
    "#excluded samples in train data\n",
    "count2 = 0\n",
    "for x in y_train:\n",
    "    if int(x)== 1:\n",
    "        count2 +=1\n",
    "print(count2)"
   ]
  },
  {
   "cell_type": "markdown",
   "metadata": {},
   "source": [
    "coef_df = pd.DataFrame(clf.feature_importances_, Labels, columns = [\"Importances\"])\n",
    "coef_df.sort_values(\"Importances\", ascending = False)"
   ]
  },
  {
   "cell_type": "markdown",
   "metadata": {},
   "source": [
    "check for contamination by not dropping the npis and seeing if any of them overlap between training and testing\n",
    "train_nps = set(X_train['npi'])\n",
    "test_nps = set(X_test['npi'])\n",
    "print(len(train_nps.intersection(test_nps))) # should be zero"
   ]
  },
  {
   "cell_type": "code",
   "execution_count": null,
   "metadata": {
    "scrolled": false
   },
   "outputs": [],
   "source": [
    "y_pred = clf.predict(X_train)\n",
    "y_pred_prob = clf.predict_proba(X_train)\n",
    "print(y_pred_prob)\n",
    "print(roc_auc_score(y_train, y_pred_prob[:,1]))\n",
    "confusion_matrix(y_train, y_pred)"
   ]
  },
  {
   "cell_type": "code",
   "execution_count": null,
   "metadata": {},
   "outputs": [],
   "source": [
    "y_pred = clf.predict(X_test)\n",
    "y_pred_prob = clf.predict_proba(X_test)\n",
    "print(y_pred_prob)\n",
    "print(roc_auc_score(y_test, y_pred_prob[:,1]))\n",
    "confusion_matrix(y_test, y_pred)"
   ]
  },
  {
   "cell_type": "code",
   "execution_count": null,
   "metadata": {},
   "outputs": [],
   "source": [
    "#Upsampling only\n",
    "\n",
    "ag_2017_majority = ag_2017[ag_2017['is_excluded'] == 0]\n",
    "ag_2017_minority = ag_2017[ag_2017['is_excluded'] > 0]\n",
    "\n",
    "# Increase by 10 times\n",
    "ag_2017_minority_upsampled = resample(ag_2017_minority, replace=True, n_samples=100000, random_state=42) \n",
    "ag_2017_upsampled = pd.concat([ag_2017_majority, ag_2017_minority_upsampled])  \n",
    "ag_2017_upsampled['is_excluded'].value_counts()"
   ]
  },
  {
   "cell_type": "code",
   "execution_count": null,
   "metadata": {
    "scrolled": true
   },
   "outputs": [],
   "source": [
    "#fudged data (ag_2017) only for train, regular data (new_df) only for test\n",
    "X_train = ag_2017_upsampled.drop(['is_excluded'], axis=1)\n",
    "y_train = ag_2017_upsampled['is_excluded']\n",
    "X_test = new_df.drop(['is_excluded'], axis =1)\n",
    "y_test = new_df[\"is_excluded\"]\n",
    "\n",
    "#X_train, X_test, y_train, y_test = train_test_split(X, y, test_size=0.33, random_state=42)"
   ]
  },
  {
   "cell_type": "code",
   "execution_count": null,
   "metadata": {},
   "outputs": [],
   "source": [
    "clf = ExtraTreesClassifier(n_estimators=25, random_state=42)\n",
    "clf.fit(X_train, y_train)"
   ]
  },
  {
   "cell_type": "code",
   "execution_count": null,
   "metadata": {},
   "outputs": [],
   "source": [
    "y_pred = clf.predict(X_train)\n",
    "y_pred_prob = clf.predict_proba(X_train)\n",
    "print(roc_auc_score(y_train, y_pred_prob[:,1]))\n",
    "confusion_matrix(y_train, y_pred)"
   ]
  },
  {
   "cell_type": "code",
   "execution_count": null,
   "metadata": {},
   "outputs": [],
   "source": [
    "y_pred = clf.predict(X_test)\n",
    "y_pred_prob = clf.predict_proba(X_test)\n",
    "print(roc_auc_score(y_test, y_pred_prob[:,1]))\n",
    "confusion_matrix(y_test, y_pred)"
   ]
  },
  {
   "cell_type": "code",
   "execution_count": null,
   "metadata": {},
   "outputs": [],
   "source": [
    "#Training on downsampled only and testing on regular\n",
    "\n",
    "ag_2017_majority = ag_2017[ag_2017['is_excluded'] == 0]\n",
    "ag_2017_minority = ag_2017[ag_2017['is_excluded'] > 0]\n",
    "\n",
    "# Reduce by 10 times\n",
    "ag_2017_majority_downsampled = resample(ag_2017_majority, replace=True, n_samples=81980, random_state=42) \n",
    "ag_2017_downsampled = pd.concat([ag_2017_majority_downsampled, ag_2017_minority]) \n",
    "ag_2017_downsampled['is_excluded'].value_counts()"
   ]
  },
  {
   "cell_type": "code",
   "execution_count": null,
   "metadata": {},
   "outputs": [],
   "source": [
    "#fudged data (ag_2017) only for train, regular data (new_df) only for test\n",
    "X_train = ag_2017_downsampled.drop(['is_excluded'], axis=1)\n",
    "y_train = ag_2017_downsampled['is_excluded']\n",
    "X_test = new_df.drop(['is_excluded'], axis =1)\n",
    "y_test = new_df[\"is_excluded\"]\n",
    "\n",
    "#X_train, X_test, y_train, y_test = train_test_split(X, y, test_size=0.33, random_state=42)"
   ]
  },
  {
   "cell_type": "code",
   "execution_count": null,
   "metadata": {},
   "outputs": [],
   "source": [
    "clf = ExtraTreesClassifier(n_estimators=25, random_state=42)\n",
    "clf.fit(X_train, y_train)"
   ]
  },
  {
   "cell_type": "code",
   "execution_count": null,
   "metadata": {},
   "outputs": [],
   "source": [
    "y_pred = clf.predict(X_train)\n",
    "y_pred_prob = clf.predict_proba(X_train)\n",
    "print(roc_auc_score(y_train, y_pred_prob[:,1]))\n",
    "confusion_matrix(y_train, y_pred)"
   ]
  },
  {
   "cell_type": "code",
   "execution_count": null,
   "metadata": {},
   "outputs": [],
   "source": [
    "y_pred = clf.predict(X_test)\n",
    "y_pred_prob = clf.predict_proba(X_test)\n",
    "print(roc_auc_score(y_test, y_pred_prob[:,1]))\n",
    "confusion_matrix(y_test, y_pred)"
   ]
  },
  {
   "cell_type": "code",
   "execution_count": null,
   "metadata": {},
   "outputs": [],
   "source": [
    "#Upsampling/downsampling on training and testing on regular\n",
    "\n",
    "ag_2017_majority = ag_2017[ag_2017['is_excluded'] == 0]\n",
    "ag_2017_minority = ag_2017[ag_2017['is_excluded'] > 0]\n",
    "\n",
    "ag_2017_updownsampled = pd.concat([ag_2017_majority_downsampled, ag_2017_minority_upsampled]) \n",
    "ag_2017_updownsampled['is_excluded'].value_counts()"
   ]
  },
  {
   "cell_type": "code",
   "execution_count": null,
   "metadata": {},
   "outputs": [],
   "source": [
    "#fudged data (ag_2017) only for train, regular data (new_df) only for test\n",
    "\n",
    "X_train = ag_2017_updownsampled.drop(['is_excluded'], axis=1)\n",
    "y_train = ag_2017_updownsampled['is_excluded']\n",
    "X_test = new_df.drop(['is_excluded'], axis =1)\n",
    "y_test = new_df[\"is_excluded\"]\n",
    "#X_train, X_test, y_train, y_test = train_test_split(X, y, test_size=0.25, random_state=42)"
   ]
  },
  {
   "cell_type": "code",
   "execution_count": null,
   "metadata": {},
   "outputs": [],
   "source": [
    "clf = ExtraTreesClassifier(n_estimators=25, random_state=42)\n",
    "clf.fit(X_train, y_train)"
   ]
  },
  {
   "cell_type": "code",
   "execution_count": null,
   "metadata": {},
   "outputs": [],
   "source": [
    "y_pred = clf.predict(X_train)\n",
    "y_pred_prob = clf.predict_proba(X_train)\n",
    "print(roc_auc_score(y_train, y_pred_prob[:,1]))\n",
    "confusion_matrix(y_train, y_pred)"
   ]
  },
  {
   "cell_type": "code",
   "execution_count": null,
   "metadata": {},
   "outputs": [],
   "source": [
    "y_pred = clf.predict(X_test)\n",
    "y_pred_prob = clf.predict_proba(X_test)\n",
    "print(roc_auc_score(y_test, y_pred_prob[:,1]))\n",
    "confusion_matrix(y_test, y_pred)"
   ]
  },
  {
   "cell_type": "markdown",
   "metadata": {},
   "source": [
    "In conclusion, results from downsampling is the best."
   ]
  },
  {
   "cell_type": "code",
   "execution_count": null,
   "metadata": {},
   "outputs": [],
   "source": [
    "#Classification Model Comparisons\n",
    "\n",
    "def warn(*args, **kwargs):\n",
    "    pass\n",
    "\n",
    "import warnings\n",
    "warnings.warn = warn\n",
    "\n",
    "from scipy import interp\n",
    "import matplotlib.pyplot as plt\n",
    "from itertools import cycle\n",
    "\n",
    "from sklearn.linear_model import LogisticRegression\n",
    "from sklearn.neural_network import MLPClassifier\n",
    "from sklearn.neighbors import KNeighborsClassifier\n",
    "from sklearn.svm import SVC\n",
    "from sklearn.gaussian_process import GaussianProcessClassifier\n",
    "from sklearn.gaussian_process.kernels import RBF\n",
    "from sklearn.tree import DecisionTreeClassifier\n",
    "from sklearn.ensemble import RandomForestClassifier, AdaBoostClassifier, GradientBoostingClassifier, ExtraTreesClassifier\n",
    "from sklearn.naive_bayes import GaussianNB\n",
    "from sklearn.discriminant_analysis import QuadraticDiscriminantAnalysis\n",
    "from sklearn.model_selection import cross_validate, GridSearchCV, StratifiedKFold\n",
    "from sklearn.metrics import roc_curve, roc_auc_score, confusion_matrix, auc, recall_score, precision_score, accuracy_score, f1_score\n",
    "\n",
    "seed = 42"
   ]
  },
  {
   "cell_type": "markdown",
   "metadata": {},
   "source": [
    "#Identifying the best model algorithm\n",
    "colors = [\"#08306b\", \"#08519c\", \"#1361a9\", \"#4292c6\", \"#6baed6\", 'rgb(76,000,153)', 'rgb(153,000,153)']\n",
    "\n",
    "scoring = {'AUC': 'roc_auc', 'Accuracy': 'accuracy', 'F1': 'f1'}\n",
    "\n",
    "names = [\"Naive Bayes\", \"Nearest Neighbors\", \"RBF SVM\", \n",
    "         \"AdaBoost\", \"GradientBoost\", \"ExtraTrees\", \"Random Forest\"]\n",
    "\n",
    "classifiers = [\n",
    "            GaussianNB(),\n",
    "            KNeighborsClassifier(n_neighbors=5),\n",
    "            SVC(kernel=\"rbf\", C=1, probability=True),\n",
    "            AdaBoostClassifier(n_estimators=25, random_state=seed),\n",
    "            GradientBoostingClassifier(n_estimators=1000, random_state=seed),\n",
    "            ExtraTreesClassifier(n_estimators=25, random_state=seed),\n",
    "            RandomForestClassifier(n_estimators=25, random_state=seed),]\n",
    "\n",
    "trace_dict = {'x_vals':[], 'y_vals':[], 'y_error':[], 'colors':[], 'names':[]}\n",
    "                                                                                         \n",
    "#iterate over classifiers\n",
    "counter = 0\n",
    "for color, name, clf in tqdm_notebook(zip(colors, names, classifiers), total=len(names)):\n",
    "    cv_results = cross_validate(clf, X, y, scoring=scoring, cv=5, return_train_score=True)\n",
    "    print('########################### \\nFor {}'.format(name))\n",
    "    for score in scoring:\n",
    "        print('{0:s}: Mean-{1:.4f}  STD-{2:.4f}'.format(score, cv_results['test_'+score].mean(),\\\n",
    "                                                        cv_results['test_'+score].std()))\n",
    "    \n",
    "    trace_dict['x_vals'].append(counter)\n",
    "    counter += 1\n",
    "    trace_dict['y_vals'].append(cv_results['test_F1'].mean())\n",
    "    trace_dict['y_error'].append()\n",
    "    trace_dict['colors'].append(color)\n",
    "    trace_dict['names'].append(name)\n",
    "    trace_dict['y_error'].append(np.std(cv_results['test_F1']))"
   ]
  },
  {
   "cell_type": "code",
   "execution_count": null,
   "metadata": {},
   "outputs": [],
   "source": [
    "# Identifying the best model algorithm\n",
    "#colors = [\"#08306b\", \"#08519c\", \"#1361a9\", \"#4292c6\", \"#6baed6\", 'rgb(76,000,153)', 'rgb(153,000,153)']\n",
    "\n",
    "#names = [\"GradientBoost\", \"ExtraTrees\", \"Random Forest\", \"Naive Bayes\", \"Nearest Neighbors\", \"AdaBoost\"]\n",
    "\n",
    "colors = [\"#08519c\"]\n",
    "\n",
    "names = [\"ExtraTrees\"]\n",
    "\n",
    "classifiers = [ExtraTreesClassifier(n_estimators=25, random_state=seed)]\n",
    "\n",
    "seed = 42"
   ]
  },
  {
   "cell_type": "code",
   "execution_count": null,
   "metadata": {},
   "outputs": [],
   "source": [
    "trace_dict = {'x_vals':[], 'y_vals':[], 'colors':[], 'names':[]}\n",
    "                                                                                         \n",
    "# iterate over classifiers\n",
    "counter = 0\n",
    "for color, name, clf in tqdm_notebook(zip(colors, names, classifiers), total=len(names)):\n",
    "    X_train = ag_2017.drop(['is_excluded'], axis=1)\n",
    "    y_train = ag_2017['is_excluded']\n",
    "    X_test = new_df.drop(['is_excluded'], axis =1)\n",
    "    y_test = new_df[\"is_excluded\"]\n",
    "    clf.fit(X_train, y_train)\n",
    "    y_pred_prob = clf.predict_proba(X_test)\n",
    "    cv_results = roc_auc_score(y_test, y_pred_prob[:,1])\n",
    "    print('########################### \\nFor {}'.format(name))\n",
    "              \n",
    "    trace_dict['x_vals'].append(counter)\n",
    "    counter += 1\n",
    "    print(cv_results)\n",
    "    trace_dict['y_vals'].append(cv_results.mean())\n",
    "    trace_dict['colors'].append(color)\n",
    "    trace_dict['names'].append(name)"
   ]
  },
  {
   "cell_type": "code",
   "execution_count": null,
   "metadata": {},
   "outputs": [],
   "source": []
  }
 ],
 "metadata": {
  "kernelspec": {
   "display_name": "Python 3",
   "language": "python",
   "name": "python3"
  },
  "language_info": {
   "codemirror_mode": {
    "name": "ipython",
    "version": 3
   },
   "file_extension": ".py",
   "mimetype": "text/x-python",
   "name": "python",
   "nbconvert_exporter": "python",
   "pygments_lexer": "ipython3",
   "version": "3.7.3"
  }
 },
 "nbformat": 4,
 "nbformat_minor": 2
}
