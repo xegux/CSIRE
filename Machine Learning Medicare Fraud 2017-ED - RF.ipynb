{
 "cells": [
  {
   "cell_type": "code",
   "execution_count": 951,
   "metadata": {},
   "outputs": [],
   "source": [
    "#some of these we do not need\n",
    "\n",
    "import pandas as pd\n",
    "import numpy as np\n",
    "import matplotlib.pyplot as plt\n",
    "from tqdm import tqdm_notebook, tqdm\n",
    "import glob, os, csv\n",
    "import plotly.plotly as py\n",
    "import plotly.graph_objs as go\n",
    "import plotly.figure_factory as ff\n",
    "import plotly\n",
    "from sklearn.preprocessing import LabelEncoder"
   ]
  },
  {
   "cell_type": "code",
   "execution_count": 952,
   "metadata": {},
   "outputs": [
    {
     "name": "stdout",
     "output_type": "stream",
     "text": [
      "The data has a size of (904999, 215)\n"
     ]
    }
   ],
   "source": [
    "#import final dataset\n",
    "\n",
    "new_main_2017 = pd.read_csv('data/ml_2017_ED.csv', low_memory=False)\n",
    "print(\"The data has a size of {}\".format(new_main_2017.shape))"
   ]
  },
  {
   "cell_type": "code",
   "execution_count": 953,
   "metadata": {},
   "outputs": [],
   "source": [
    "new_main_2017.drop(['Unnamed: 0'], axis=1, inplace = True)"
   ]
  },
  {
   "cell_type": "code",
   "execution_count": 954,
   "metadata": {},
   "outputs": [
    {
     "data": {
      "text/plain": [
       "101"
      ]
     },
     "execution_count": 954,
     "metadata": {},
     "output_type": "execute_result"
    }
   ],
   "source": [
    "len(new_main_2017[new_main_2017['is_excluded'] == 1])"
   ]
  },
  {
   "cell_type": "code",
   "execution_count": 955,
   "metadata": {},
   "outputs": [],
   "source": [
    "dropIndex = new_main_2017[new_main_2017['is_excluded'] == 1].index"
   ]
  },
  {
   "cell_type": "code",
   "execution_count": 956,
   "metadata": {},
   "outputs": [
    {
     "data": {
      "text/plain": [
       "904898"
      ]
     },
     "execution_count": 956,
     "metadata": {},
     "output_type": "execute_result"
    }
   ],
   "source": [
    "len(new_main_2017[new_main_2017['is_excluded'] == 0])"
   ]
  },
  {
   "cell_type": "code",
   "execution_count": 957,
   "metadata": {},
   "outputs": [],
   "source": [
    "only_excluded = new_main_2017[new_main_2017['is_excluded'] == 1]\n",
    "new_main_2017.drop(dropIndex, inplace = True)\n",
    "new_main_2017 = new_main_2017.sample(frac=1)\n",
    "random_sample = new_main_2017.iloc[0:45000]\n",
    "new_df = pd.concat([only_excluded, random_sample])\n",
    "new_main_2017 = new_main_2017.drop(new_main_2017.iloc[0:45000].index, axis = 0)\n",
    "new_df = new_df.sample(frac=1)\n",
    "#part_d_df.iloc[0:85000].index"
   ]
  },
  {
   "cell_type": "code",
   "execution_count": 958,
   "metadata": {},
   "outputs": [
    {
     "data": {
      "text/plain": [
       "(45101, 214)"
      ]
     },
     "execution_count": 958,
     "metadata": {},
     "output_type": "execute_result"
    }
   ],
   "source": [
    "new_df.shape"
   ]
  },
  {
   "cell_type": "code",
   "execution_count": 959,
   "metadata": {},
   "outputs": [
    {
     "data": {
      "text/plain": [
       "(101, 214)"
      ]
     },
     "execution_count": 959,
     "metadata": {},
     "output_type": "execute_result"
    }
   ],
   "source": [
    "new_df[new_df[\"is_excluded\"]==1].shape"
   ]
  },
  {
   "cell_type": "code",
   "execution_count": 960,
   "metadata": {},
   "outputs": [
    {
     "data": {
      "text/html": [
       "<div>\n",
       "<style scoped>\n",
       "    .dataframe tbody tr th:only-of-type {\n",
       "        vertical-align: middle;\n",
       "    }\n",
       "\n",
       "    .dataframe tbody tr th {\n",
       "        vertical-align: top;\n",
       "    }\n",
       "\n",
       "    .dataframe thead th {\n",
       "        text-align: right;\n",
       "    }\n",
       "</style>\n",
       "<table border=\"1\" class=\"dataframe\">\n",
       "  <thead>\n",
       "    <tr style=\"text-align: right;\">\n",
       "      <th></th>\n",
       "      <th>t_cost_per_claim_excluded</th>\n",
       "      <th>t_claim_count_schedule2</th>\n",
       "      <th>t_claim_per_bene</th>\n",
       "      <th>%b2bg_claim_count</th>\n",
       "      <th>%b2bg_drug_cost</th>\n",
       "      <th>%b2t_claim_count</th>\n",
       "      <th>%b2t_drug_cost</th>\n",
       "      <th>t_cost_per_claim</th>\n",
       "      <th>t_cost_per_claim_ge65</th>\n",
       "      <th>t_claim_per_bene_ge65</th>\n",
       "      <th>...</th>\n",
       "      <th>x0_Technician</th>\n",
       "      <th>x0_Technician/Technologist</th>\n",
       "      <th>x0_Thoracic Surgery</th>\n",
       "      <th>x0_Thoracic Surgery (Cardiothoracic Vascular Surgery)</th>\n",
       "      <th>x0_Undefined Physician type</th>\n",
       "      <th>x0_Unknown Supplier/Provider Specialty</th>\n",
       "      <th>x0_Urology</th>\n",
       "      <th>x0_Vascular Surgery</th>\n",
       "      <th>x0_Veterinarian</th>\n",
       "      <th>x0_Voluntary Health or Charitable Agency</th>\n",
       "    </tr>\n",
       "  </thead>\n",
       "  <tbody>\n",
       "    <tr>\n",
       "      <th>312406</th>\n",
       "      <td>360.00</td>\n",
       "      <td>1</td>\n",
       "      <td>0.0</td>\n",
       "      <td>20</td>\n",
       "      <td>22</td>\n",
       "      <td>20.0</td>\n",
       "      <td>22.0</td>\n",
       "      <td>31.94</td>\n",
       "      <td>31.94</td>\n",
       "      <td>0.00</td>\n",
       "      <td>...</td>\n",
       "      <td>0.0</td>\n",
       "      <td>0.0</td>\n",
       "      <td>0.0</td>\n",
       "      <td>0.0</td>\n",
       "      <td>0.0</td>\n",
       "      <td>0.0</td>\n",
       "      <td>0.0</td>\n",
       "      <td>0.0</td>\n",
       "      <td>0.0</td>\n",
       "      <td>0.0</td>\n",
       "    </tr>\n",
       "    <tr>\n",
       "      <th>483015</th>\n",
       "      <td>575.78</td>\n",
       "      <td>1</td>\n",
       "      <td>1.1</td>\n",
       "      <td>0</td>\n",
       "      <td>0</td>\n",
       "      <td>0.0</td>\n",
       "      <td>0.0</td>\n",
       "      <td>15.05</td>\n",
       "      <td>0.00</td>\n",
       "      <td>0.00</td>\n",
       "      <td>...</td>\n",
       "      <td>0.0</td>\n",
       "      <td>0.0</td>\n",
       "      <td>0.0</td>\n",
       "      <td>0.0</td>\n",
       "      <td>0.0</td>\n",
       "      <td>0.0</td>\n",
       "      <td>0.0</td>\n",
       "      <td>0.0</td>\n",
       "      <td>0.0</td>\n",
       "      <td>0.0</td>\n",
       "    </tr>\n",
       "    <tr>\n",
       "      <th>488107</th>\n",
       "      <td>3432.42</td>\n",
       "      <td>198</td>\n",
       "      <td>32.0</td>\n",
       "      <td>20</td>\n",
       "      <td>69</td>\n",
       "      <td>20.0</td>\n",
       "      <td>69.0</td>\n",
       "      <td>52.76</td>\n",
       "      <td>52.74</td>\n",
       "      <td>32.31</td>\n",
       "      <td>...</td>\n",
       "      <td>0.0</td>\n",
       "      <td>0.0</td>\n",
       "      <td>0.0</td>\n",
       "      <td>0.0</td>\n",
       "      <td>0.0</td>\n",
       "      <td>0.0</td>\n",
       "      <td>0.0</td>\n",
       "      <td>0.0</td>\n",
       "      <td>0.0</td>\n",
       "      <td>0.0</td>\n",
       "    </tr>\n",
       "    <tr>\n",
       "      <th>247771</th>\n",
       "      <td>715.17</td>\n",
       "      <td>11</td>\n",
       "      <td>2.1</td>\n",
       "      <td>0</td>\n",
       "      <td>0</td>\n",
       "      <td>0.0</td>\n",
       "      <td>0.0</td>\n",
       "      <td>15.12</td>\n",
       "      <td>15.74</td>\n",
       "      <td>2.10</td>\n",
       "      <td>...</td>\n",
       "      <td>0.0</td>\n",
       "      <td>0.0</td>\n",
       "      <td>0.0</td>\n",
       "      <td>0.0</td>\n",
       "      <td>0.0</td>\n",
       "      <td>0.0</td>\n",
       "      <td>0.0</td>\n",
       "      <td>0.0</td>\n",
       "      <td>0.0</td>\n",
       "      <td>0.0</td>\n",
       "    </tr>\n",
       "    <tr>\n",
       "      <th>603592</th>\n",
       "      <td>431.42</td>\n",
       "      <td>4</td>\n",
       "      <td>2.1</td>\n",
       "      <td>0</td>\n",
       "      <td>0</td>\n",
       "      <td>0.0</td>\n",
       "      <td>0.0</td>\n",
       "      <td>19.19</td>\n",
       "      <td>18.78</td>\n",
       "      <td>0.00</td>\n",
       "      <td>...</td>\n",
       "      <td>0.0</td>\n",
       "      <td>0.0</td>\n",
       "      <td>0.0</td>\n",
       "      <td>0.0</td>\n",
       "      <td>0.0</td>\n",
       "      <td>0.0</td>\n",
       "      <td>0.0</td>\n",
       "      <td>0.0</td>\n",
       "      <td>0.0</td>\n",
       "      <td>0.0</td>\n",
       "    </tr>\n",
       "  </tbody>\n",
       "</table>\n",
       "<p>5 rows × 214 columns</p>\n",
       "</div>"
      ],
      "text/plain": [
       "        t_cost_per_claim_excluded  t_claim_count_schedule2  t_claim_per_bene  \\\n",
       "312406                     360.00                        1               0.0   \n",
       "483015                     575.78                        1               1.1   \n",
       "488107                    3432.42                      198              32.0   \n",
       "247771                     715.17                       11               2.1   \n",
       "603592                     431.42                        4               2.1   \n",
       "\n",
       "        %b2bg_claim_count  %b2bg_drug_cost  %b2t_claim_count  %b2t_drug_cost  \\\n",
       "312406                 20               22              20.0            22.0   \n",
       "483015                  0                0               0.0             0.0   \n",
       "488107                 20               69              20.0            69.0   \n",
       "247771                  0                0               0.0             0.0   \n",
       "603592                  0                0               0.0             0.0   \n",
       "\n",
       "        t_cost_per_claim  t_cost_per_claim_ge65  t_claim_per_bene_ge65  ...  \\\n",
       "312406             31.94                  31.94                   0.00  ...   \n",
       "483015             15.05                   0.00                   0.00  ...   \n",
       "488107             52.76                  52.74                  32.31  ...   \n",
       "247771             15.12                  15.74                   2.10  ...   \n",
       "603592             19.19                  18.78                   0.00  ...   \n",
       "\n",
       "        x0_Technician  x0_Technician/Technologist  x0_Thoracic Surgery  \\\n",
       "312406            0.0                         0.0                  0.0   \n",
       "483015            0.0                         0.0                  0.0   \n",
       "488107            0.0                         0.0                  0.0   \n",
       "247771            0.0                         0.0                  0.0   \n",
       "603592            0.0                         0.0                  0.0   \n",
       "\n",
       "        x0_Thoracic Surgery (Cardiothoracic Vascular Surgery)  \\\n",
       "312406                                                0.0       \n",
       "483015                                                0.0       \n",
       "488107                                                0.0       \n",
       "247771                                                0.0       \n",
       "603592                                                0.0       \n",
       "\n",
       "        x0_Undefined Physician type  x0_Unknown Supplier/Provider Specialty  \\\n",
       "312406                          0.0                                     0.0   \n",
       "483015                          0.0                                     0.0   \n",
       "488107                          0.0                                     0.0   \n",
       "247771                          0.0                                     0.0   \n",
       "603592                          0.0                                     0.0   \n",
       "\n",
       "        x0_Urology  x0_Vascular Surgery  x0_Veterinarian  \\\n",
       "312406         0.0                  0.0              0.0   \n",
       "483015         0.0                  0.0              0.0   \n",
       "488107         0.0                  0.0              0.0   \n",
       "247771         0.0                  0.0              0.0   \n",
       "603592         0.0                  0.0              0.0   \n",
       "\n",
       "        x0_Voluntary Health or Charitable Agency  \n",
       "312406                                       0.0  \n",
       "483015                                       0.0  \n",
       "488107                                       0.0  \n",
       "247771                                       0.0  \n",
       "603592                                       0.0  \n",
       "\n",
       "[5 rows x 214 columns]"
      ]
     },
     "execution_count": 960,
     "metadata": {},
     "output_type": "execute_result"
    }
   ],
   "source": [
    "#new_df.drop(['Unnamed: 0'], axis=1, inplace = True)\n",
    "new_df.head()"
   ]
  },
  {
   "cell_type": "markdown",
   "metadata": {},
   "source": []
  },
  {
   "cell_type": "code",
   "execution_count": 961,
   "metadata": {},
   "outputs": [
    {
     "data": {
      "text/html": [
       "<div>\n",
       "<style scoped>\n",
       "    .dataframe tbody tr th:only-of-type {\n",
       "        vertical-align: middle;\n",
       "    }\n",
       "\n",
       "    .dataframe tbody tr th {\n",
       "        vertical-align: top;\n",
       "    }\n",
       "\n",
       "    .dataframe thead th {\n",
       "        text-align: right;\n",
       "    }\n",
       "</style>\n",
       "<table border=\"1\" class=\"dataframe\">\n",
       "  <thead>\n",
       "    <tr style=\"text-align: right;\">\n",
       "      <th></th>\n",
       "      <th>t_cost_per_claim_excluded</th>\n",
       "      <th>t_claim_count_schedule2</th>\n",
       "      <th>t_claim_per_bene</th>\n",
       "      <th>%b2bg_claim_count</th>\n",
       "      <th>%b2bg_drug_cost</th>\n",
       "      <th>%b2t_claim_count</th>\n",
       "      <th>%b2t_drug_cost</th>\n",
       "      <th>t_cost_per_claim</th>\n",
       "      <th>t_cost_per_claim_ge65</th>\n",
       "      <th>t_claim_per_bene_ge65</th>\n",
       "      <th>...</th>\n",
       "      <th>x0_Technician</th>\n",
       "      <th>x0_Technician/Technologist</th>\n",
       "      <th>x0_Thoracic Surgery</th>\n",
       "      <th>x0_Thoracic Surgery (Cardiothoracic Vascular Surgery)</th>\n",
       "      <th>x0_Undefined Physician type</th>\n",
       "      <th>x0_Unknown Supplier/Provider Specialty</th>\n",
       "      <th>x0_Urology</th>\n",
       "      <th>x0_Vascular Surgery</th>\n",
       "      <th>x0_Veterinarian</th>\n",
       "      <th>x0_Voluntary Health or Charitable Agency</th>\n",
       "    </tr>\n",
       "  </thead>\n",
       "  <tbody>\n",
       "    <tr>\n",
       "      <th>count</th>\n",
       "      <td>8.598980e+05</td>\n",
       "      <td>859898.000000</td>\n",
       "      <td>859898.000000</td>\n",
       "      <td>859898.000000</td>\n",
       "      <td>859898.000000</td>\n",
       "      <td>859898.000000</td>\n",
       "      <td>859898.000000</td>\n",
       "      <td>859898.000000</td>\n",
       "      <td>859898.000000</td>\n",
       "      <td>859898.000000</td>\n",
       "      <td>...</td>\n",
       "      <td>859898.000000</td>\n",
       "      <td>859898.000000</td>\n",
       "      <td>859898.000000</td>\n",
       "      <td>859898.000000</td>\n",
       "      <td>859898.000000</td>\n",
       "      <td>859898.000000</td>\n",
       "      <td>859898.000000</td>\n",
       "      <td>859898.000000</td>\n",
       "      <td>859898.000000</td>\n",
       "      <td>859898.000000</td>\n",
       "    </tr>\n",
       "    <tr>\n",
       "      <th>mean</th>\n",
       "      <td>2.208292e+03</td>\n",
       "      <td>25.551911</td>\n",
       "      <td>6.393863</td>\n",
       "      <td>12.573596</td>\n",
       "      <td>38.934385</td>\n",
       "      <td>12.354396</td>\n",
       "      <td>38.876066</td>\n",
       "      <td>125.527621</td>\n",
       "      <td>102.910113</td>\n",
       "      <td>4.792052</td>\n",
       "      <td>...</td>\n",
       "      <td>0.000001</td>\n",
       "      <td>0.000001</td>\n",
       "      <td>0.001277</td>\n",
       "      <td>0.000077</td>\n",
       "      <td>0.000327</td>\n",
       "      <td>0.000003</td>\n",
       "      <td>0.010778</td>\n",
       "      <td>0.002946</td>\n",
       "      <td>0.000001</td>\n",
       "      <td>0.000001</td>\n",
       "    </tr>\n",
       "    <tr>\n",
       "      <th>std</th>\n",
       "      <td>5.577477e+03</td>\n",
       "      <td>40.579043</td>\n",
       "      <td>7.120737</td>\n",
       "      <td>16.515220</td>\n",
       "      <td>37.128926</td>\n",
       "      <td>15.883274</td>\n",
       "      <td>36.904866</td>\n",
       "      <td>548.149234</td>\n",
       "      <td>367.340633</td>\n",
       "      <td>6.858154</td>\n",
       "      <td>...</td>\n",
       "      <td>0.001078</td>\n",
       "      <td>0.001078</td>\n",
       "      <td>0.035711</td>\n",
       "      <td>0.008761</td>\n",
       "      <td>0.018074</td>\n",
       "      <td>0.001868</td>\n",
       "      <td>0.103256</td>\n",
       "      <td>0.054194</td>\n",
       "      <td>0.001078</td>\n",
       "      <td>0.001078</td>\n",
       "    </tr>\n",
       "    <tr>\n",
       "      <th>min</th>\n",
       "      <td>0.000000e+00</td>\n",
       "      <td>0.000000</td>\n",
       "      <td>0.000000</td>\n",
       "      <td>0.000000</td>\n",
       "      <td>0.000000</td>\n",
       "      <td>0.000000</td>\n",
       "      <td>0.000000</td>\n",
       "      <td>0.000000</td>\n",
       "      <td>0.000000</td>\n",
       "      <td>0.000000</td>\n",
       "      <td>...</td>\n",
       "      <td>0.000000</td>\n",
       "      <td>0.000000</td>\n",
       "      <td>0.000000</td>\n",
       "      <td>0.000000</td>\n",
       "      <td>0.000000</td>\n",
       "      <td>0.000000</td>\n",
       "      <td>0.000000</td>\n",
       "      <td>0.000000</td>\n",
       "      <td>0.000000</td>\n",
       "      <td>0.000000</td>\n",
       "    </tr>\n",
       "    <tr>\n",
       "      <th>25%</th>\n",
       "      <td>1.670600e+02</td>\n",
       "      <td>2.000000</td>\n",
       "      <td>1.900000</td>\n",
       "      <td>0.000000</td>\n",
       "      <td>0.000000</td>\n",
       "      <td>0.000000</td>\n",
       "      <td>0.000000</td>\n",
       "      <td>23.520000</td>\n",
       "      <td>13.960000</td>\n",
       "      <td>0.000000</td>\n",
       "      <td>...</td>\n",
       "      <td>0.000000</td>\n",
       "      <td>0.000000</td>\n",
       "      <td>0.000000</td>\n",
       "      <td>0.000000</td>\n",
       "      <td>0.000000</td>\n",
       "      <td>0.000000</td>\n",
       "      <td>0.000000</td>\n",
       "      <td>0.000000</td>\n",
       "      <td>0.000000</td>\n",
       "      <td>0.000000</td>\n",
       "    </tr>\n",
       "    <tr>\n",
       "      <th>50%</th>\n",
       "      <td>6.751750e+02</td>\n",
       "      <td>7.000000</td>\n",
       "      <td>3.600000</td>\n",
       "      <td>10.000000</td>\n",
       "      <td>42.000000</td>\n",
       "      <td>10.000000</td>\n",
       "      <td>43.000000</td>\n",
       "      <td>55.060000</td>\n",
       "      <td>46.550000</td>\n",
       "      <td>2.220000</td>\n",
       "      <td>...</td>\n",
       "      <td>0.000000</td>\n",
       "      <td>0.000000</td>\n",
       "      <td>0.000000</td>\n",
       "      <td>0.000000</td>\n",
       "      <td>0.000000</td>\n",
       "      <td>0.000000</td>\n",
       "      <td>0.000000</td>\n",
       "      <td>0.000000</td>\n",
       "      <td>0.000000</td>\n",
       "      <td>0.000000</td>\n",
       "    </tr>\n",
       "    <tr>\n",
       "      <th>75%</th>\n",
       "      <td>2.372338e+03</td>\n",
       "      <td>29.000000</td>\n",
       "      <td>8.300000</td>\n",
       "      <td>20.000000</td>\n",
       "      <td>73.000000</td>\n",
       "      <td>20.000000</td>\n",
       "      <td>73.000000</td>\n",
       "      <td>93.320000</td>\n",
       "      <td>79.940000</td>\n",
       "      <td>6.530000</td>\n",
       "      <td>...</td>\n",
       "      <td>0.000000</td>\n",
       "      <td>0.000000</td>\n",
       "      <td>0.000000</td>\n",
       "      <td>0.000000</td>\n",
       "      <td>0.000000</td>\n",
       "      <td>0.000000</td>\n",
       "      <td>0.000000</td>\n",
       "      <td>0.000000</td>\n",
       "      <td>0.000000</td>\n",
       "      <td>0.000000</td>\n",
       "    </tr>\n",
       "    <tr>\n",
       "      <th>max</th>\n",
       "      <td>1.713038e+06</td>\n",
       "      <td>394.000000</td>\n",
       "      <td>307.100000</td>\n",
       "      <td>100.000000</td>\n",
       "      <td>100.000000</td>\n",
       "      <td>100.000000</td>\n",
       "      <td>100.000000</td>\n",
       "      <td>171279.730000</td>\n",
       "      <td>76223.890000</td>\n",
       "      <td>270.000000</td>\n",
       "      <td>...</td>\n",
       "      <td>1.000000</td>\n",
       "      <td>1.000000</td>\n",
       "      <td>1.000000</td>\n",
       "      <td>1.000000</td>\n",
       "      <td>1.000000</td>\n",
       "      <td>1.000000</td>\n",
       "      <td>1.000000</td>\n",
       "      <td>1.000000</td>\n",
       "      <td>1.000000</td>\n",
       "      <td>1.000000</td>\n",
       "    </tr>\n",
       "  </tbody>\n",
       "</table>\n",
       "<p>8 rows × 214 columns</p>\n",
       "</div>"
      ],
      "text/plain": [
       "       t_cost_per_claim_excluded  t_claim_count_schedule2  t_claim_per_bene  \\\n",
       "count               8.598980e+05            859898.000000     859898.000000   \n",
       "mean                2.208292e+03                25.551911          6.393863   \n",
       "std                 5.577477e+03                40.579043          7.120737   \n",
       "min                 0.000000e+00                 0.000000          0.000000   \n",
       "25%                 1.670600e+02                 2.000000          1.900000   \n",
       "50%                 6.751750e+02                 7.000000          3.600000   \n",
       "75%                 2.372338e+03                29.000000          8.300000   \n",
       "max                 1.713038e+06               394.000000        307.100000   \n",
       "\n",
       "       %b2bg_claim_count  %b2bg_drug_cost  %b2t_claim_count  %b2t_drug_cost  \\\n",
       "count      859898.000000    859898.000000     859898.000000   859898.000000   \n",
       "mean           12.573596        38.934385         12.354396       38.876066   \n",
       "std            16.515220        37.128926         15.883274       36.904866   \n",
       "min             0.000000         0.000000          0.000000        0.000000   \n",
       "25%             0.000000         0.000000          0.000000        0.000000   \n",
       "50%            10.000000        42.000000         10.000000       43.000000   \n",
       "75%            20.000000        73.000000         20.000000       73.000000   \n",
       "max           100.000000       100.000000        100.000000      100.000000   \n",
       "\n",
       "       t_cost_per_claim  t_cost_per_claim_ge65  t_claim_per_bene_ge65  ...  \\\n",
       "count     859898.000000          859898.000000          859898.000000  ...   \n",
       "mean         125.527621             102.910113               4.792052  ...   \n",
       "std          548.149234             367.340633               6.858154  ...   \n",
       "min            0.000000               0.000000               0.000000  ...   \n",
       "25%           23.520000              13.960000               0.000000  ...   \n",
       "50%           55.060000              46.550000               2.220000  ...   \n",
       "75%           93.320000              79.940000               6.530000  ...   \n",
       "max       171279.730000           76223.890000             270.000000  ...   \n",
       "\n",
       "       x0_Technician  x0_Technician/Technologist  x0_Thoracic Surgery  \\\n",
       "count  859898.000000               859898.000000        859898.000000   \n",
       "mean        0.000001                    0.000001             0.001277   \n",
       "std         0.001078                    0.001078             0.035711   \n",
       "min         0.000000                    0.000000             0.000000   \n",
       "25%         0.000000                    0.000000             0.000000   \n",
       "50%         0.000000                    0.000000             0.000000   \n",
       "75%         0.000000                    0.000000             0.000000   \n",
       "max         1.000000                    1.000000             1.000000   \n",
       "\n",
       "       x0_Thoracic Surgery (Cardiothoracic Vascular Surgery)  \\\n",
       "count                                      859898.000000       \n",
       "mean                                            0.000077       \n",
       "std                                             0.008761       \n",
       "min                                             0.000000       \n",
       "25%                                             0.000000       \n",
       "50%                                             0.000000       \n",
       "75%                                             0.000000       \n",
       "max                                             1.000000       \n",
       "\n",
       "       x0_Undefined Physician type  x0_Unknown Supplier/Provider Specialty  \\\n",
       "count                859898.000000                           859898.000000   \n",
       "mean                      0.000327                                0.000003   \n",
       "std                       0.018074                                0.001868   \n",
       "min                       0.000000                                0.000000   \n",
       "25%                       0.000000                                0.000000   \n",
       "50%                       0.000000                                0.000000   \n",
       "75%                       0.000000                                0.000000   \n",
       "max                       1.000000                                1.000000   \n",
       "\n",
       "          x0_Urology  x0_Vascular Surgery  x0_Veterinarian  \\\n",
       "count  859898.000000        859898.000000    859898.000000   \n",
       "mean        0.010778             0.002946         0.000001   \n",
       "std         0.103256             0.054194         0.001078   \n",
       "min         0.000000             0.000000         0.000000   \n",
       "25%         0.000000             0.000000         0.000000   \n",
       "50%         0.000000             0.000000         0.000000   \n",
       "75%         0.000000             0.000000         0.000000   \n",
       "max         1.000000             1.000000         1.000000   \n",
       "\n",
       "       x0_Voluntary Health or Charitable Agency  \n",
       "count                             859898.000000  \n",
       "mean                                   0.000001  \n",
       "std                                    0.001078  \n",
       "min                                    0.000000  \n",
       "25%                                    0.000000  \n",
       "50%                                    0.000000  \n",
       "75%                                    0.000000  \n",
       "max                                    1.000000  \n",
       "\n",
       "[8 rows x 214 columns]"
      ]
     },
     "execution_count": 961,
     "metadata": {},
     "output_type": "execute_result"
    }
   ],
   "source": [
    "new_main_2017.describe()"
   ]
  },
  {
   "cell_type": "code",
   "execution_count": 962,
   "metadata": {},
   "outputs": [],
   "source": [
    "import math"
   ]
  },
  {
   "cell_type": "code",
   "execution_count": 963,
   "metadata": {},
   "outputs": [],
   "source": [
    "from sklearn import decomposition\n",
    "from sklearn.ensemble import RandomForestClassifier\n",
    "from sklearn.model_selection import train_test_split\n",
    "from sklearn.metrics import confusion_matrix, roc_curve, roc_auc_score, auc\n",
    "from sklearn.utils import resample\n",
    "from sklearn.preprocessing import label_binarize\n",
    "from sklearn.svm import SVC\n",
    "from scipy.stats import pointbiserialr"
   ]
  },
  {
   "cell_type": "code",
   "execution_count": 964,
   "metadata": {
    "scrolled": true
   },
   "outputs": [
    {
     "data": {
      "text/html": [
       "<div>\n",
       "<style scoped>\n",
       "    .dataframe tbody tr th:only-of-type {\n",
       "        vertical-align: middle;\n",
       "    }\n",
       "\n",
       "    .dataframe tbody tr th {\n",
       "        vertical-align: top;\n",
       "    }\n",
       "\n",
       "    .dataframe thead th {\n",
       "        text-align: right;\n",
       "    }\n",
       "</style>\n",
       "<table border=\"1\" class=\"dataframe\">\n",
       "  <thead>\n",
       "    <tr style=\"text-align: right;\">\n",
       "      <th></th>\n",
       "      <th>t_cost_per_claim_excluded</th>\n",
       "      <th>t_claim_count_schedule2</th>\n",
       "      <th>t_claim_per_bene</th>\n",
       "      <th>%b2bg_claim_count</th>\n",
       "      <th>%b2bg_drug_cost</th>\n",
       "      <th>%b2t_claim_count</th>\n",
       "      <th>%b2t_drug_cost</th>\n",
       "      <th>t_cost_per_claim</th>\n",
       "      <th>t_cost_per_claim_ge65</th>\n",
       "      <th>t_claim_per_bene_ge65</th>\n",
       "      <th>...</th>\n",
       "      <th>x0_Technician</th>\n",
       "      <th>x0_Technician/Technologist</th>\n",
       "      <th>x0_Thoracic Surgery</th>\n",
       "      <th>x0_Thoracic Surgery (Cardiothoracic Vascular Surgery)</th>\n",
       "      <th>x0_Undefined Physician type</th>\n",
       "      <th>x0_Unknown Supplier/Provider Specialty</th>\n",
       "      <th>x0_Urology</th>\n",
       "      <th>x0_Vascular Surgery</th>\n",
       "      <th>x0_Veterinarian</th>\n",
       "      <th>x0_Voluntary Health or Charitable Agency</th>\n",
       "    </tr>\n",
       "  </thead>\n",
       "  <tbody>\n",
       "    <tr>\n",
       "      <th>count</th>\n",
       "      <td>1000000.000000</td>\n",
       "      <td>1000000.000000</td>\n",
       "      <td>1000000.000000</td>\n",
       "      <td>1000000.000000</td>\n",
       "      <td>1000000.000000</td>\n",
       "      <td>1000000.000000</td>\n",
       "      <td>1000000.000000</td>\n",
       "      <td>1000000.000000</td>\n",
       "      <td>1000000.000000</td>\n",
       "      <td>1000000.000000</td>\n",
       "      <td>...</td>\n",
       "      <td>1000000.0</td>\n",
       "      <td>1000000.0</td>\n",
       "      <td>1000000.0</td>\n",
       "      <td>1000000.0</td>\n",
       "      <td>1000000.0</td>\n",
       "      <td>1000000.0</td>\n",
       "      <td>1000000.0</td>\n",
       "      <td>1000000.0</td>\n",
       "      <td>1000000.0</td>\n",
       "      <td>1000000.0</td>\n",
       "    </tr>\n",
       "    <tr>\n",
       "      <th>mean</th>\n",
       "      <td>5194.967630</td>\n",
       "      <td>38.609067</td>\n",
       "      <td>9.485671</td>\n",
       "      <td>11.374050</td>\n",
       "      <td>36.234950</td>\n",
       "      <td>10.876360</td>\n",
       "      <td>36.026284</td>\n",
       "      <td>105.511338</td>\n",
       "      <td>89.082136</td>\n",
       "      <td>7.510315</td>\n",
       "      <td>...</td>\n",
       "      <td>0.0</td>\n",
       "      <td>0.0</td>\n",
       "      <td>0.0</td>\n",
       "      <td>0.0</td>\n",
       "      <td>0.0</td>\n",
       "      <td>0.0</td>\n",
       "      <td>0.0</td>\n",
       "      <td>0.0</td>\n",
       "      <td>0.0</td>\n",
       "      <td>0.0</td>\n",
       "    </tr>\n",
       "    <tr>\n",
       "      <th>std</th>\n",
       "      <td>28249.745002</td>\n",
       "      <td>55.813583</td>\n",
       "      <td>9.620971</td>\n",
       "      <td>14.980311</td>\n",
       "      <td>36.168503</td>\n",
       "      <td>12.989995</td>\n",
       "      <td>35.937057</td>\n",
       "      <td>175.287247</td>\n",
       "      <td>164.542628</td>\n",
       "      <td>9.325134</td>\n",
       "      <td>...</td>\n",
       "      <td>0.0</td>\n",
       "      <td>0.0</td>\n",
       "      <td>0.0</td>\n",
       "      <td>0.0</td>\n",
       "      <td>0.0</td>\n",
       "      <td>0.0</td>\n",
       "      <td>0.0</td>\n",
       "      <td>0.0</td>\n",
       "      <td>0.0</td>\n",
       "      <td>0.0</td>\n",
       "    </tr>\n",
       "    <tr>\n",
       "      <th>min</th>\n",
       "      <td>40.990000</td>\n",
       "      <td>1.000000</td>\n",
       "      <td>0.000000</td>\n",
       "      <td>0.000000</td>\n",
       "      <td>0.000000</td>\n",
       "      <td>0.000000</td>\n",
       "      <td>0.000000</td>\n",
       "      <td>2.940000</td>\n",
       "      <td>0.000000</td>\n",
       "      <td>0.000000</td>\n",
       "      <td>...</td>\n",
       "      <td>0.0</td>\n",
       "      <td>0.0</td>\n",
       "      <td>0.0</td>\n",
       "      <td>0.0</td>\n",
       "      <td>0.0</td>\n",
       "      <td>0.0</td>\n",
       "      <td>0.0</td>\n",
       "      <td>0.0</td>\n",
       "      <td>0.0</td>\n",
       "      <td>0.0</td>\n",
       "    </tr>\n",
       "    <tr>\n",
       "      <th>25%</th>\n",
       "      <td>293.230000</td>\n",
       "      <td>3.000000</td>\n",
       "      <td>2.200000</td>\n",
       "      <td>0.000000</td>\n",
       "      <td>0.000000</td>\n",
       "      <td>0.000000</td>\n",
       "      <td>0.000000</td>\n",
       "      <td>44.060000</td>\n",
       "      <td>28.760000</td>\n",
       "      <td>0.000000</td>\n",
       "      <td>...</td>\n",
       "      <td>0.0</td>\n",
       "      <td>0.0</td>\n",
       "      <td>0.0</td>\n",
       "      <td>0.0</td>\n",
       "      <td>0.0</td>\n",
       "      <td>0.0</td>\n",
       "      <td>0.0</td>\n",
       "      <td>0.0</td>\n",
       "      <td>0.0</td>\n",
       "      <td>0.0</td>\n",
       "    </tr>\n",
       "    <tr>\n",
       "      <th>50%</th>\n",
       "      <td>1206.820000</td>\n",
       "      <td>11.000000</td>\n",
       "      <td>5.800000</td>\n",
       "      <td>10.000000</td>\n",
       "      <td>43.000000</td>\n",
       "      <td>10.000000</td>\n",
       "      <td>43.000000</td>\n",
       "      <td>72.230000</td>\n",
       "      <td>53.450000</td>\n",
       "      <td>3.780000</td>\n",
       "      <td>...</td>\n",
       "      <td>0.0</td>\n",
       "      <td>0.0</td>\n",
       "      <td>0.0</td>\n",
       "      <td>0.0</td>\n",
       "      <td>0.0</td>\n",
       "      <td>0.0</td>\n",
       "      <td>0.0</td>\n",
       "      <td>0.0</td>\n",
       "      <td>0.0</td>\n",
       "      <td>0.0</td>\n",
       "    </tr>\n",
       "    <tr>\n",
       "      <th>75%</th>\n",
       "      <td>3338.240000</td>\n",
       "      <td>54.000000</td>\n",
       "      <td>13.800000</td>\n",
       "      <td>20.000000</td>\n",
       "      <td>71.000000</td>\n",
       "      <td>20.000000</td>\n",
       "      <td>70.000000</td>\n",
       "      <td>104.190000</td>\n",
       "      <td>79.820000</td>\n",
       "      <td>11.630000</td>\n",
       "      <td>...</td>\n",
       "      <td>0.0</td>\n",
       "      <td>0.0</td>\n",
       "      <td>0.0</td>\n",
       "      <td>0.0</td>\n",
       "      <td>0.0</td>\n",
       "      <td>0.0</td>\n",
       "      <td>0.0</td>\n",
       "      <td>0.0</td>\n",
       "      <td>0.0</td>\n",
       "      <td>0.0</td>\n",
       "    </tr>\n",
       "    <tr>\n",
       "      <th>max</th>\n",
       "      <td>286886.380000</td>\n",
       "      <td>299.000000</td>\n",
       "      <td>46.100000</td>\n",
       "      <td>100.000000</td>\n",
       "      <td>100.000000</td>\n",
       "      <td>60.000000</td>\n",
       "      <td>98.000000</td>\n",
       "      <td>1419.570000</td>\n",
       "      <td>1258.960000</td>\n",
       "      <td>43.550000</td>\n",
       "      <td>...</td>\n",
       "      <td>0.0</td>\n",
       "      <td>0.0</td>\n",
       "      <td>0.0</td>\n",
       "      <td>0.0</td>\n",
       "      <td>0.0</td>\n",
       "      <td>0.0</td>\n",
       "      <td>0.0</td>\n",
       "      <td>0.0</td>\n",
       "      <td>0.0</td>\n",
       "      <td>0.0</td>\n",
       "    </tr>\n",
       "  </tbody>\n",
       "</table>\n",
       "<p>8 rows × 214 columns</p>\n",
       "</div>"
      ],
      "text/plain": [
       "       t_cost_per_claim_excluded  t_claim_count_schedule2  t_claim_per_bene  \\\n",
       "count             1000000.000000           1000000.000000    1000000.000000   \n",
       "mean                 5194.967630                38.609067          9.485671   \n",
       "std                 28249.745002                55.813583          9.620971   \n",
       "min                    40.990000                 1.000000          0.000000   \n",
       "25%                   293.230000                 3.000000          2.200000   \n",
       "50%                  1206.820000                11.000000          5.800000   \n",
       "75%                  3338.240000                54.000000         13.800000   \n",
       "max                286886.380000               299.000000         46.100000   \n",
       "\n",
       "       %b2bg_claim_count  %b2bg_drug_cost  %b2t_claim_count  %b2t_drug_cost  \\\n",
       "count     1000000.000000   1000000.000000    1000000.000000  1000000.000000   \n",
       "mean           11.374050        36.234950         10.876360       36.026284   \n",
       "std            14.980311        36.168503         12.989995       35.937057   \n",
       "min             0.000000         0.000000          0.000000        0.000000   \n",
       "25%             0.000000         0.000000          0.000000        0.000000   \n",
       "50%            10.000000        43.000000         10.000000       43.000000   \n",
       "75%            20.000000        71.000000         20.000000       70.000000   \n",
       "max           100.000000       100.000000         60.000000       98.000000   \n",
       "\n",
       "       t_cost_per_claim  t_cost_per_claim_ge65  t_claim_per_bene_ge65  ...  \\\n",
       "count    1000000.000000         1000000.000000         1000000.000000  ...   \n",
       "mean         105.511338              89.082136               7.510315  ...   \n",
       "std          175.287247             164.542628               9.325134  ...   \n",
       "min            2.940000               0.000000               0.000000  ...   \n",
       "25%           44.060000              28.760000               0.000000  ...   \n",
       "50%           72.230000              53.450000               3.780000  ...   \n",
       "75%          104.190000              79.820000              11.630000  ...   \n",
       "max         1419.570000            1258.960000              43.550000  ...   \n",
       "\n",
       "       x0_Technician  x0_Technician/Technologist  x0_Thoracic Surgery  \\\n",
       "count      1000000.0                   1000000.0            1000000.0   \n",
       "mean             0.0                         0.0                  0.0   \n",
       "std              0.0                         0.0                  0.0   \n",
       "min              0.0                         0.0                  0.0   \n",
       "25%              0.0                         0.0                  0.0   \n",
       "50%              0.0                         0.0                  0.0   \n",
       "75%              0.0                         0.0                  0.0   \n",
       "max              0.0                         0.0                  0.0   \n",
       "\n",
       "       x0_Thoracic Surgery (Cardiothoracic Vascular Surgery)  \\\n",
       "count                                          1000000.0       \n",
       "mean                                                 0.0       \n",
       "std                                                  0.0       \n",
       "min                                                  0.0       \n",
       "25%                                                  0.0       \n",
       "50%                                                  0.0       \n",
       "75%                                                  0.0       \n",
       "max                                                  0.0       \n",
       "\n",
       "       x0_Undefined Physician type  x0_Unknown Supplier/Provider Specialty  \\\n",
       "count                    1000000.0                               1000000.0   \n",
       "mean                           0.0                                     0.0   \n",
       "std                            0.0                                     0.0   \n",
       "min                            0.0                                     0.0   \n",
       "25%                            0.0                                     0.0   \n",
       "50%                            0.0                                     0.0   \n",
       "75%                            0.0                                     0.0   \n",
       "max                            0.0                                     0.0   \n",
       "\n",
       "       x0_Urology  x0_Vascular Surgery  x0_Veterinarian  \\\n",
       "count   1000000.0            1000000.0        1000000.0   \n",
       "mean          0.0                  0.0              0.0   \n",
       "std           0.0                  0.0              0.0   \n",
       "min           0.0                  0.0              0.0   \n",
       "25%           0.0                  0.0              0.0   \n",
       "50%           0.0                  0.0              0.0   \n",
       "75%           0.0                  0.0              0.0   \n",
       "max           0.0                  0.0              0.0   \n",
       "\n",
       "       x0_Voluntary Health or Charitable Agency  \n",
       "count                                 1000000.0  \n",
       "mean                                        0.0  \n",
       "std                                         0.0  \n",
       "min                                         0.0  \n",
       "25%                                         0.0  \n",
       "50%                                         0.0  \n",
       "75%                                         0.0  \n",
       "max                                         0.0  \n",
       "\n",
       "[8 rows x 214 columns]"
      ]
     },
     "execution_count": 964,
     "metadata": {},
     "output_type": "execute_result"
    }
   ],
   "source": [
    "#part_d_excluded = new_df[new_df[\"is_excluded\"]==1]\n",
    "\n",
    "fudge = resample(only_excluded, replace=True, n_samples=1000000, random_state = 0)\n",
    "#fudge.drop(['Unnamed: 0'], axis=1, inplace = True)\n",
    "fudge.describe()"
   ]
  },
  {
   "cell_type": "code",
   "execution_count": 965,
   "metadata": {},
   "outputs": [],
   "source": [
    "std = fudge.describe().loc[\"std\"]\n",
    "std = std[0:26]"
   ]
  },
  {
   "cell_type": "code",
   "execution_count": 966,
   "metadata": {},
   "outputs": [],
   "source": [
    "rtstd = std.map(lambda x : math.sqrt(x)/2) #use half of square root of standard deviation as the range for gaussian normal\n",
    "rtstd = rtstd.to_dict()"
   ]
  },
  {
   "cell_type": "code",
   "execution_count": 967,
   "metadata": {},
   "outputs": [],
   "source": [
    "for key in rtstd:\n",
    "    #fudge[key] = fudge[key].map(lambda x: (np.random.normal(x, rtstd[key])))\n",
    "    fudge[key] = fudge[key].map(lambda x: (np.random.normal(x, 2)))\n",
    "fudge = fudge[fudge>=0]\n",
    "fudge.dropna(inplace = True)"
   ]
  },
  {
   "cell_type": "code",
   "execution_count": 968,
   "metadata": {},
   "outputs": [
    {
     "data": {
      "text/plain": [
       "{'t_cost_per_claim_excluded': 84.03830228283725,\n",
       " 't_claim_count_schedule2': 3.735424432090368,\n",
       " 't_claim_per_bene': 1.5508844893809823,\n",
       " '%b2bg_claim_count': 1.9352203219559672,\n",
       " '%b2bg_drug_cost': 3.007012758064355,\n",
       " '%b2t_claim_count': 1.802081760350314,\n",
       " '%b2t_drug_cost': 2.99737621069871,\n",
       " 't_cost_per_claim': 6.619804500549423,\n",
       " 't_cost_per_claim_ge65': 6.413708518062818,\n",
       " 't_claim_per_bene_ge65': 1.5268541048291235,\n",
       " 'mapd_cost_per_claim': 6.461408506432181,\n",
       " 'pdp_cost_per_claim': 6.725735816482665,\n",
       " 'lis_cost_per_claim': 6.822596052308591,\n",
       " 'nonlis_cost_per_claim': 6.207153722441226,\n",
       " 'opioid_cost_per_claim': 4.650466862010797,\n",
       " 'opioid_claim_per_bene': 0.884740725108428,\n",
       " 'antibiotic_cost_per_claim': 2.981750867470343,\n",
       " 'antibiotic_claim_per_bene': 0.47019428185377854,\n",
       " 'antipsych_cost_per_claim_ge65': 4.626473486567583,\n",
       " 'antipsych_claim_per_bene_ge65': 0.6299808071079215,\n",
       " 'total_30_day_fill_count': 37.12751686106159,\n",
       " 'total_day_supply': 197.95167898077315,\n",
       " 'total_30_day_fill_count_ge65': 32.32204101305794,\n",
       " 'total_day_supply_ge65': 172.3850331940279,\n",
       " 'opioid_day_supply': 75.1628609755071,\n",
       " 'opioid_prescriber_rate': 1.9270085656978702}"
      ]
     },
     "execution_count": 968,
     "metadata": {},
     "output_type": "execute_result"
    }
   ],
   "source": [
    "rtstd"
   ]
  },
  {
   "cell_type": "code",
   "execution_count": 969,
   "metadata": {
    "scrolled": false
   },
   "outputs": [
    {
     "data": {
      "text/html": [
       "<div>\n",
       "<style scoped>\n",
       "    .dataframe tbody tr th:only-of-type {\n",
       "        vertical-align: middle;\n",
       "    }\n",
       "\n",
       "    .dataframe tbody tr th {\n",
       "        vertical-align: top;\n",
       "    }\n",
       "\n",
       "    .dataframe thead th {\n",
       "        text-align: right;\n",
       "    }\n",
       "</style>\n",
       "<table border=\"1\" class=\"dataframe\">\n",
       "  <thead>\n",
       "    <tr style=\"text-align: right;\">\n",
       "      <th></th>\n",
       "      <th>t_cost_per_claim_excluded</th>\n",
       "      <th>t_claim_count_schedule2</th>\n",
       "      <th>t_claim_per_bene</th>\n",
       "      <th>%b2bg_claim_count</th>\n",
       "      <th>%b2bg_drug_cost</th>\n",
       "      <th>%b2t_claim_count</th>\n",
       "      <th>%b2t_drug_cost</th>\n",
       "      <th>t_cost_per_claim</th>\n",
       "      <th>t_cost_per_claim_ge65</th>\n",
       "      <th>t_claim_per_bene_ge65</th>\n",
       "      <th>...</th>\n",
       "      <th>x0_Technician</th>\n",
       "      <th>x0_Technician/Technologist</th>\n",
       "      <th>x0_Thoracic Surgery</th>\n",
       "      <th>x0_Thoracic Surgery (Cardiothoracic Vascular Surgery)</th>\n",
       "      <th>x0_Undefined Physician type</th>\n",
       "      <th>x0_Unknown Supplier/Provider Specialty</th>\n",
       "      <th>x0_Urology</th>\n",
       "      <th>x0_Vascular Surgery</th>\n",
       "      <th>x0_Veterinarian</th>\n",
       "      <th>x0_Voluntary Health or Charitable Agency</th>\n",
       "    </tr>\n",
       "  </thead>\n",
       "  <tbody>\n",
       "    <tr>\n",
       "      <th>count</th>\n",
       "      <td>88281.000000</td>\n",
       "      <td>88281.000000</td>\n",
       "      <td>88281.000000</td>\n",
       "      <td>88281.000000</td>\n",
       "      <td>88281.000000</td>\n",
       "      <td>88281.000000</td>\n",
       "      <td>88281.000000</td>\n",
       "      <td>88281.000000</td>\n",
       "      <td>88281.000000</td>\n",
       "      <td>88281.000000</td>\n",
       "      <td>...</td>\n",
       "      <td>88281.0</td>\n",
       "      <td>88281.0</td>\n",
       "      <td>88281.0</td>\n",
       "      <td>88281.0</td>\n",
       "      <td>88281.0</td>\n",
       "      <td>88281.0</td>\n",
       "      <td>88281.0</td>\n",
       "      <td>88281.0</td>\n",
       "      <td>88281.0</td>\n",
       "      <td>88281.0</td>\n",
       "    </tr>\n",
       "    <tr>\n",
       "      <th>mean</th>\n",
       "      <td>3747.745133</td>\n",
       "      <td>125.434456</td>\n",
       "      <td>21.629325</td>\n",
       "      <td>17.854085</td>\n",
       "      <td>66.872532</td>\n",
       "      <td>17.835089</td>\n",
       "      <td>66.384547</td>\n",
       "      <td>83.326128</td>\n",
       "      <td>76.263445</td>\n",
       "      <td>20.714751</td>\n",
       "      <td>...</td>\n",
       "      <td>0.0</td>\n",
       "      <td>0.0</td>\n",
       "      <td>0.0</td>\n",
       "      <td>0.0</td>\n",
       "      <td>0.0</td>\n",
       "      <td>0.0</td>\n",
       "      <td>0.0</td>\n",
       "      <td>0.0</td>\n",
       "      <td>0.0</td>\n",
       "      <td>0.0</td>\n",
       "    </tr>\n",
       "    <tr>\n",
       "      <th>std</th>\n",
       "      <td>3269.923129</td>\n",
       "      <td>77.738069</td>\n",
       "      <td>10.654792</td>\n",
       "      <td>6.817487</td>\n",
       "      <td>12.444216</td>\n",
       "      <td>6.820129</td>\n",
       "      <td>12.471399</td>\n",
       "      <td>56.145210</td>\n",
       "      <td>49.456262</td>\n",
       "      <td>10.868217</td>\n",
       "      <td>...</td>\n",
       "      <td>0.0</td>\n",
       "      <td>0.0</td>\n",
       "      <td>0.0</td>\n",
       "      <td>0.0</td>\n",
       "      <td>0.0</td>\n",
       "      <td>0.0</td>\n",
       "      <td>0.0</td>\n",
       "      <td>0.0</td>\n",
       "      <td>0.0</td>\n",
       "      <td>0.0</td>\n",
       "    </tr>\n",
       "    <tr>\n",
       "      <th>min</th>\n",
       "      <td>40.581854</td>\n",
       "      <td>0.040886</td>\n",
       "      <td>0.001187</td>\n",
       "      <td>0.000229</td>\n",
       "      <td>0.003683</td>\n",
       "      <td>0.002632</td>\n",
       "      <td>0.002952</td>\n",
       "      <td>0.590797</td>\n",
       "      <td>0.376323</td>\n",
       "      <td>0.005793</td>\n",
       "      <td>...</td>\n",
       "      <td>0.0</td>\n",
       "      <td>0.0</td>\n",
       "      <td>0.0</td>\n",
       "      <td>0.0</td>\n",
       "      <td>0.0</td>\n",
       "      <td>0.0</td>\n",
       "      <td>0.0</td>\n",
       "      <td>0.0</td>\n",
       "      <td>0.0</td>\n",
       "      <td>0.0</td>\n",
       "    </tr>\n",
       "    <tr>\n",
       "      <th>25%</th>\n",
       "      <td>1820.027629</td>\n",
       "      <td>63.406462</td>\n",
       "      <td>14.537087</td>\n",
       "      <td>11.661222</td>\n",
       "      <td>64.337976</td>\n",
       "      <td>11.631126</td>\n",
       "      <td>64.071378</td>\n",
       "      <td>52.368257</td>\n",
       "      <td>46.604592</td>\n",
       "      <td>13.645851</td>\n",
       "      <td>...</td>\n",
       "      <td>0.0</td>\n",
       "      <td>0.0</td>\n",
       "      <td>0.0</td>\n",
       "      <td>0.0</td>\n",
       "      <td>0.0</td>\n",
       "      <td>0.0</td>\n",
       "      <td>0.0</td>\n",
       "      <td>0.0</td>\n",
       "      <td>0.0</td>\n",
       "      <td>0.0</td>\n",
       "    </tr>\n",
       "    <tr>\n",
       "      <th>50%</th>\n",
       "      <td>3007.428370</td>\n",
       "      <td>119.578493</td>\n",
       "      <td>19.875231</td>\n",
       "      <td>19.090495</td>\n",
       "      <td>69.197625</td>\n",
       "      <td>19.083683</td>\n",
       "      <td>68.923785</td>\n",
       "      <td>66.808808</td>\n",
       "      <td>58.490087</td>\n",
       "      <td>18.822920</td>\n",
       "      <td>...</td>\n",
       "      <td>0.0</td>\n",
       "      <td>0.0</td>\n",
       "      <td>0.0</td>\n",
       "      <td>0.0</td>\n",
       "      <td>0.0</td>\n",
       "      <td>0.0</td>\n",
       "      <td>0.0</td>\n",
       "      <td>0.0</td>\n",
       "      <td>0.0</td>\n",
       "      <td>0.0</td>\n",
       "    </tr>\n",
       "    <tr>\n",
       "      <th>75%</th>\n",
       "      <td>4194.375358</td>\n",
       "      <td>153.856141</td>\n",
       "      <td>25.203185</td>\n",
       "      <td>21.329298</td>\n",
       "      <td>73.598983</td>\n",
       "      <td>21.327016</td>\n",
       "      <td>72.997830</td>\n",
       "      <td>102.559949</td>\n",
       "      <td>95.114346</td>\n",
       "      <td>24.974830</td>\n",
       "      <td>...</td>\n",
       "      <td>0.0</td>\n",
       "      <td>0.0</td>\n",
       "      <td>0.0</td>\n",
       "      <td>0.0</td>\n",
       "      <td>0.0</td>\n",
       "      <td>0.0</td>\n",
       "      <td>0.0</td>\n",
       "      <td>0.0</td>\n",
       "      <td>0.0</td>\n",
       "      <td>0.0</td>\n",
       "    </tr>\n",
       "    <tr>\n",
       "      <th>max</th>\n",
       "      <td>286887.199536</td>\n",
       "      <td>306.192027</td>\n",
       "      <td>52.961321</td>\n",
       "      <td>101.262303</td>\n",
       "      <td>103.344559</td>\n",
       "      <td>64.538281</td>\n",
       "      <td>104.246521</td>\n",
       "      <td>1418.569429</td>\n",
       "      <td>1258.419274</td>\n",
       "      <td>52.877148</td>\n",
       "      <td>...</td>\n",
       "      <td>0.0</td>\n",
       "      <td>0.0</td>\n",
       "      <td>0.0</td>\n",
       "      <td>0.0</td>\n",
       "      <td>0.0</td>\n",
       "      <td>0.0</td>\n",
       "      <td>0.0</td>\n",
       "      <td>0.0</td>\n",
       "      <td>0.0</td>\n",
       "      <td>0.0</td>\n",
       "    </tr>\n",
       "  </tbody>\n",
       "</table>\n",
       "<p>8 rows × 214 columns</p>\n",
       "</div>"
      ],
      "text/plain": [
       "       t_cost_per_claim_excluded  t_claim_count_schedule2  t_claim_per_bene  \\\n",
       "count               88281.000000             88281.000000      88281.000000   \n",
       "mean                 3747.745133               125.434456         21.629325   \n",
       "std                  3269.923129                77.738069         10.654792   \n",
       "min                    40.581854                 0.040886          0.001187   \n",
       "25%                  1820.027629                63.406462         14.537087   \n",
       "50%                  3007.428370               119.578493         19.875231   \n",
       "75%                  4194.375358               153.856141         25.203185   \n",
       "max                286887.199536               306.192027         52.961321   \n",
       "\n",
       "       %b2bg_claim_count  %b2bg_drug_cost  %b2t_claim_count  %b2t_drug_cost  \\\n",
       "count       88281.000000     88281.000000      88281.000000    88281.000000   \n",
       "mean           17.854085        66.872532         17.835089       66.384547   \n",
       "std             6.817487        12.444216          6.820129       12.471399   \n",
       "min             0.000229         0.003683          0.002632        0.002952   \n",
       "25%            11.661222        64.337976         11.631126       64.071378   \n",
       "50%            19.090495        69.197625         19.083683       68.923785   \n",
       "75%            21.329298        73.598983         21.327016       72.997830   \n",
       "max           101.262303       103.344559         64.538281      104.246521   \n",
       "\n",
       "       t_cost_per_claim  t_cost_per_claim_ge65  t_claim_per_bene_ge65  ...  \\\n",
       "count      88281.000000           88281.000000           88281.000000  ...   \n",
       "mean          83.326128              76.263445              20.714751  ...   \n",
       "std           56.145210              49.456262              10.868217  ...   \n",
       "min            0.590797               0.376323               0.005793  ...   \n",
       "25%           52.368257              46.604592              13.645851  ...   \n",
       "50%           66.808808              58.490087              18.822920  ...   \n",
       "75%          102.559949              95.114346              24.974830  ...   \n",
       "max         1418.569429            1258.419274              52.877148  ...   \n",
       "\n",
       "       x0_Technician  x0_Technician/Technologist  x0_Thoracic Surgery  \\\n",
       "count        88281.0                     88281.0              88281.0   \n",
       "mean             0.0                         0.0                  0.0   \n",
       "std              0.0                         0.0                  0.0   \n",
       "min              0.0                         0.0                  0.0   \n",
       "25%              0.0                         0.0                  0.0   \n",
       "50%              0.0                         0.0                  0.0   \n",
       "75%              0.0                         0.0                  0.0   \n",
       "max              0.0                         0.0                  0.0   \n",
       "\n",
       "       x0_Thoracic Surgery (Cardiothoracic Vascular Surgery)  \\\n",
       "count                                            88281.0       \n",
       "mean                                                 0.0       \n",
       "std                                                  0.0       \n",
       "min                                                  0.0       \n",
       "25%                                                  0.0       \n",
       "50%                                                  0.0       \n",
       "75%                                                  0.0       \n",
       "max                                                  0.0       \n",
       "\n",
       "       x0_Undefined Physician type  x0_Unknown Supplier/Provider Specialty  \\\n",
       "count                      88281.0                                 88281.0   \n",
       "mean                           0.0                                     0.0   \n",
       "std                            0.0                                     0.0   \n",
       "min                            0.0                                     0.0   \n",
       "25%                            0.0                                     0.0   \n",
       "50%                            0.0                                     0.0   \n",
       "75%                            0.0                                     0.0   \n",
       "max                            0.0                                     0.0   \n",
       "\n",
       "       x0_Urology  x0_Vascular Surgery  x0_Veterinarian  \\\n",
       "count     88281.0              88281.0          88281.0   \n",
       "mean          0.0                  0.0              0.0   \n",
       "std           0.0                  0.0              0.0   \n",
       "min           0.0                  0.0              0.0   \n",
       "25%           0.0                  0.0              0.0   \n",
       "50%           0.0                  0.0              0.0   \n",
       "75%           0.0                  0.0              0.0   \n",
       "max           0.0                  0.0              0.0   \n",
       "\n",
       "       x0_Voluntary Health or Charitable Agency  \n",
       "count                                   88281.0  \n",
       "mean                                        0.0  \n",
       "std                                         0.0  \n",
       "min                                         0.0  \n",
       "25%                                         0.0  \n",
       "50%                                         0.0  \n",
       "75%                                         0.0  \n",
       "max                                         0.0  \n",
       "\n",
       "[8 rows x 214 columns]"
      ]
     },
     "execution_count": 969,
     "metadata": {},
     "output_type": "execute_result"
    }
   ],
   "source": [
    "fudge.describe()"
   ]
  },
  {
   "cell_type": "code",
   "execution_count": 970,
   "metadata": {},
   "outputs": [
    {
     "data": {
      "text/html": [
       "<div>\n",
       "<style scoped>\n",
       "    .dataframe tbody tr th:only-of-type {\n",
       "        vertical-align: middle;\n",
       "    }\n",
       "\n",
       "    .dataframe tbody tr th {\n",
       "        vertical-align: top;\n",
       "    }\n",
       "\n",
       "    .dataframe thead th {\n",
       "        text-align: right;\n",
       "    }\n",
       "</style>\n",
       "<table border=\"1\" class=\"dataframe\">\n",
       "  <thead>\n",
       "    <tr style=\"text-align: right;\">\n",
       "      <th></th>\n",
       "      <th>t_cost_per_claim_excluded</th>\n",
       "      <th>t_claim_count_schedule2</th>\n",
       "      <th>t_claim_per_bene</th>\n",
       "      <th>%b2bg_claim_count</th>\n",
       "      <th>%b2bg_drug_cost</th>\n",
       "      <th>%b2t_claim_count</th>\n",
       "      <th>%b2t_drug_cost</th>\n",
       "      <th>t_cost_per_claim</th>\n",
       "      <th>t_cost_per_claim_ge65</th>\n",
       "      <th>t_claim_per_bene_ge65</th>\n",
       "      <th>...</th>\n",
       "      <th>x0_Technician</th>\n",
       "      <th>x0_Technician/Technologist</th>\n",
       "      <th>x0_Thoracic Surgery</th>\n",
       "      <th>x0_Thoracic Surgery (Cardiothoracic Vascular Surgery)</th>\n",
       "      <th>x0_Undefined Physician type</th>\n",
       "      <th>x0_Unknown Supplier/Provider Specialty</th>\n",
       "      <th>x0_Urology</th>\n",
       "      <th>x0_Vascular Surgery</th>\n",
       "      <th>x0_Veterinarian</th>\n",
       "      <th>x0_Voluntary Health or Charitable Agency</th>\n",
       "    </tr>\n",
       "  </thead>\n",
       "  <tbody>\n",
       "    <tr>\n",
       "      <th>count</th>\n",
       "      <td>101.000000</td>\n",
       "      <td>101.000000</td>\n",
       "      <td>101.000000</td>\n",
       "      <td>101.000000</td>\n",
       "      <td>101.000000</td>\n",
       "      <td>101.000000</td>\n",
       "      <td>101.000000</td>\n",
       "      <td>101.000000</td>\n",
       "      <td>101.000000</td>\n",
       "      <td>101.000000</td>\n",
       "      <td>...</td>\n",
       "      <td>101.0</td>\n",
       "      <td>101.0</td>\n",
       "      <td>101.0</td>\n",
       "      <td>101.0</td>\n",
       "      <td>101.0</td>\n",
       "      <td>101.0</td>\n",
       "      <td>101.0</td>\n",
       "      <td>101.0</td>\n",
       "      <td>101.0</td>\n",
       "      <td>101.0</td>\n",
       "    </tr>\n",
       "    <tr>\n",
       "      <th>mean</th>\n",
       "      <td>5221.393465</td>\n",
       "      <td>38.673267</td>\n",
       "      <td>9.499010</td>\n",
       "      <td>11.386139</td>\n",
       "      <td>36.306931</td>\n",
       "      <td>10.891089</td>\n",
       "      <td>36.099010</td>\n",
       "      <td>105.625248</td>\n",
       "      <td>89.195347</td>\n",
       "      <td>7.519802</td>\n",
       "      <td>...</td>\n",
       "      <td>0.0</td>\n",
       "      <td>0.0</td>\n",
       "      <td>0.0</td>\n",
       "      <td>0.0</td>\n",
       "      <td>0.0</td>\n",
       "      <td>0.0</td>\n",
       "      <td>0.0</td>\n",
       "      <td>0.0</td>\n",
       "      <td>0.0</td>\n",
       "      <td>0.0</td>\n",
       "    </tr>\n",
       "    <tr>\n",
       "      <th>std</th>\n",
       "      <td>28518.834547</td>\n",
       "      <td>56.116684</td>\n",
       "      <td>9.667021</td>\n",
       "      <td>15.035272</td>\n",
       "      <td>36.333935</td>\n",
       "      <td>13.045996</td>\n",
       "      <td>36.102771</td>\n",
       "      <td>176.536412</td>\n",
       "      <td>165.641181</td>\n",
       "      <td>9.375172</td>\n",
       "      <td>...</td>\n",
       "      <td>0.0</td>\n",
       "      <td>0.0</td>\n",
       "      <td>0.0</td>\n",
       "      <td>0.0</td>\n",
       "      <td>0.0</td>\n",
       "      <td>0.0</td>\n",
       "      <td>0.0</td>\n",
       "      <td>0.0</td>\n",
       "      <td>0.0</td>\n",
       "      <td>0.0</td>\n",
       "    </tr>\n",
       "    <tr>\n",
       "      <th>min</th>\n",
       "      <td>40.990000</td>\n",
       "      <td>1.000000</td>\n",
       "      <td>0.000000</td>\n",
       "      <td>0.000000</td>\n",
       "      <td>0.000000</td>\n",
       "      <td>0.000000</td>\n",
       "      <td>0.000000</td>\n",
       "      <td>2.940000</td>\n",
       "      <td>0.000000</td>\n",
       "      <td>0.000000</td>\n",
       "      <td>...</td>\n",
       "      <td>0.0</td>\n",
       "      <td>0.0</td>\n",
       "      <td>0.0</td>\n",
       "      <td>0.0</td>\n",
       "      <td>0.0</td>\n",
       "      <td>0.0</td>\n",
       "      <td>0.0</td>\n",
       "      <td>0.0</td>\n",
       "      <td>0.0</td>\n",
       "      <td>0.0</td>\n",
       "    </tr>\n",
       "    <tr>\n",
       "      <th>25%</th>\n",
       "      <td>293.230000</td>\n",
       "      <td>3.000000</td>\n",
       "      <td>2.200000</td>\n",
       "      <td>0.000000</td>\n",
       "      <td>0.000000</td>\n",
       "      <td>0.000000</td>\n",
       "      <td>0.000000</td>\n",
       "      <td>44.060000</td>\n",
       "      <td>28.760000</td>\n",
       "      <td>0.000000</td>\n",
       "      <td>...</td>\n",
       "      <td>0.0</td>\n",
       "      <td>0.0</td>\n",
       "      <td>0.0</td>\n",
       "      <td>0.0</td>\n",
       "      <td>0.0</td>\n",
       "      <td>0.0</td>\n",
       "      <td>0.0</td>\n",
       "      <td>0.0</td>\n",
       "      <td>0.0</td>\n",
       "      <td>0.0</td>\n",
       "    </tr>\n",
       "    <tr>\n",
       "      <th>50%</th>\n",
       "      <td>1206.820000</td>\n",
       "      <td>11.000000</td>\n",
       "      <td>5.800000</td>\n",
       "      <td>10.000000</td>\n",
       "      <td>43.000000</td>\n",
       "      <td>10.000000</td>\n",
       "      <td>43.000000</td>\n",
       "      <td>72.230000</td>\n",
       "      <td>53.450000</td>\n",
       "      <td>3.780000</td>\n",
       "      <td>...</td>\n",
       "      <td>0.0</td>\n",
       "      <td>0.0</td>\n",
       "      <td>0.0</td>\n",
       "      <td>0.0</td>\n",
       "      <td>0.0</td>\n",
       "      <td>0.0</td>\n",
       "      <td>0.0</td>\n",
       "      <td>0.0</td>\n",
       "      <td>0.0</td>\n",
       "      <td>0.0</td>\n",
       "    </tr>\n",
       "    <tr>\n",
       "      <th>75%</th>\n",
       "      <td>3338.240000</td>\n",
       "      <td>54.000000</td>\n",
       "      <td>13.800000</td>\n",
       "      <td>20.000000</td>\n",
       "      <td>71.000000</td>\n",
       "      <td>20.000000</td>\n",
       "      <td>70.000000</td>\n",
       "      <td>104.190000</td>\n",
       "      <td>79.820000</td>\n",
       "      <td>11.630000</td>\n",
       "      <td>...</td>\n",
       "      <td>0.0</td>\n",
       "      <td>0.0</td>\n",
       "      <td>0.0</td>\n",
       "      <td>0.0</td>\n",
       "      <td>0.0</td>\n",
       "      <td>0.0</td>\n",
       "      <td>0.0</td>\n",
       "      <td>0.0</td>\n",
       "      <td>0.0</td>\n",
       "      <td>0.0</td>\n",
       "    </tr>\n",
       "    <tr>\n",
       "      <th>max</th>\n",
       "      <td>286886.380000</td>\n",
       "      <td>299.000000</td>\n",
       "      <td>46.100000</td>\n",
       "      <td>100.000000</td>\n",
       "      <td>100.000000</td>\n",
       "      <td>60.000000</td>\n",
       "      <td>98.000000</td>\n",
       "      <td>1419.570000</td>\n",
       "      <td>1258.960000</td>\n",
       "      <td>43.550000</td>\n",
       "      <td>...</td>\n",
       "      <td>0.0</td>\n",
       "      <td>0.0</td>\n",
       "      <td>0.0</td>\n",
       "      <td>0.0</td>\n",
       "      <td>0.0</td>\n",
       "      <td>0.0</td>\n",
       "      <td>0.0</td>\n",
       "      <td>0.0</td>\n",
       "      <td>0.0</td>\n",
       "      <td>0.0</td>\n",
       "    </tr>\n",
       "  </tbody>\n",
       "</table>\n",
       "<p>8 rows × 214 columns</p>\n",
       "</div>"
      ],
      "text/plain": [
       "       t_cost_per_claim_excluded  t_claim_count_schedule2  t_claim_per_bene  \\\n",
       "count                 101.000000               101.000000        101.000000   \n",
       "mean                 5221.393465                38.673267          9.499010   \n",
       "std                 28518.834547                56.116684          9.667021   \n",
       "min                    40.990000                 1.000000          0.000000   \n",
       "25%                   293.230000                 3.000000          2.200000   \n",
       "50%                  1206.820000                11.000000          5.800000   \n",
       "75%                  3338.240000                54.000000         13.800000   \n",
       "max                286886.380000               299.000000         46.100000   \n",
       "\n",
       "       %b2bg_claim_count  %b2bg_drug_cost  %b2t_claim_count  %b2t_drug_cost  \\\n",
       "count         101.000000       101.000000        101.000000      101.000000   \n",
       "mean           11.386139        36.306931         10.891089       36.099010   \n",
       "std            15.035272        36.333935         13.045996       36.102771   \n",
       "min             0.000000         0.000000          0.000000        0.000000   \n",
       "25%             0.000000         0.000000          0.000000        0.000000   \n",
       "50%            10.000000        43.000000         10.000000       43.000000   \n",
       "75%            20.000000        71.000000         20.000000       70.000000   \n",
       "max           100.000000       100.000000         60.000000       98.000000   \n",
       "\n",
       "       t_cost_per_claim  t_cost_per_claim_ge65  t_claim_per_bene_ge65  ...  \\\n",
       "count        101.000000             101.000000             101.000000  ...   \n",
       "mean         105.625248              89.195347               7.519802  ...   \n",
       "std          176.536412             165.641181               9.375172  ...   \n",
       "min            2.940000               0.000000               0.000000  ...   \n",
       "25%           44.060000              28.760000               0.000000  ...   \n",
       "50%           72.230000              53.450000               3.780000  ...   \n",
       "75%          104.190000              79.820000              11.630000  ...   \n",
       "max         1419.570000            1258.960000              43.550000  ...   \n",
       "\n",
       "       x0_Technician  x0_Technician/Technologist  x0_Thoracic Surgery  \\\n",
       "count          101.0                       101.0                101.0   \n",
       "mean             0.0                         0.0                  0.0   \n",
       "std              0.0                         0.0                  0.0   \n",
       "min              0.0                         0.0                  0.0   \n",
       "25%              0.0                         0.0                  0.0   \n",
       "50%              0.0                         0.0                  0.0   \n",
       "75%              0.0                         0.0                  0.0   \n",
       "max              0.0                         0.0                  0.0   \n",
       "\n",
       "       x0_Thoracic Surgery (Cardiothoracic Vascular Surgery)  \\\n",
       "count                                              101.0       \n",
       "mean                                                 0.0       \n",
       "std                                                  0.0       \n",
       "min                                                  0.0       \n",
       "25%                                                  0.0       \n",
       "50%                                                  0.0       \n",
       "75%                                                  0.0       \n",
       "max                                                  0.0       \n",
       "\n",
       "       x0_Undefined Physician type  x0_Unknown Supplier/Provider Specialty  \\\n",
       "count                        101.0                                   101.0   \n",
       "mean                           0.0                                     0.0   \n",
       "std                            0.0                                     0.0   \n",
       "min                            0.0                                     0.0   \n",
       "25%                            0.0                                     0.0   \n",
       "50%                            0.0                                     0.0   \n",
       "75%                            0.0                                     0.0   \n",
       "max                            0.0                                     0.0   \n",
       "\n",
       "       x0_Urology  x0_Vascular Surgery  x0_Veterinarian  \\\n",
       "count       101.0                101.0            101.0   \n",
       "mean          0.0                  0.0              0.0   \n",
       "std           0.0                  0.0              0.0   \n",
       "min           0.0                  0.0              0.0   \n",
       "25%           0.0                  0.0              0.0   \n",
       "50%           0.0                  0.0              0.0   \n",
       "75%           0.0                  0.0              0.0   \n",
       "max           0.0                  0.0              0.0   \n",
       "\n",
       "       x0_Voluntary Health or Charitable Agency  \n",
       "count                                     101.0  \n",
       "mean                                        0.0  \n",
       "std                                         0.0  \n",
       "min                                         0.0  \n",
       "25%                                         0.0  \n",
       "50%                                         0.0  \n",
       "75%                                         0.0  \n",
       "max                                         0.0  \n",
       "\n",
       "[8 rows x 214 columns]"
      ]
     },
     "execution_count": 970,
     "metadata": {},
     "output_type": "execute_result"
    }
   ],
   "source": [
    "only_excluded.describe()"
   ]
  },
  {
   "cell_type": "code",
   "execution_count": 971,
   "metadata": {},
   "outputs": [
    {
     "data": {
      "text/plain": [
       "(88281, 214)"
      ]
     },
     "execution_count": 971,
     "metadata": {},
     "output_type": "execute_result"
    }
   ],
   "source": [
    "fudge.shape"
   ]
  },
  {
   "cell_type": "code",
   "execution_count": 972,
   "metadata": {},
   "outputs": [
    {
     "data": {
      "text/html": [
       "<div>\n",
       "<style scoped>\n",
       "    .dataframe tbody tr th:only-of-type {\n",
       "        vertical-align: middle;\n",
       "    }\n",
       "\n",
       "    .dataframe tbody tr th {\n",
       "        vertical-align: top;\n",
       "    }\n",
       "\n",
       "    .dataframe thead th {\n",
       "        text-align: right;\n",
       "    }\n",
       "</style>\n",
       "<table border=\"1\" class=\"dataframe\">\n",
       "  <thead>\n",
       "    <tr style=\"text-align: right;\">\n",
       "      <th></th>\n",
       "      <th>t_cost_per_claim_excluded</th>\n",
       "      <th>t_claim_count_schedule2</th>\n",
       "      <th>t_claim_per_bene</th>\n",
       "      <th>%b2bg_claim_count</th>\n",
       "      <th>%b2bg_drug_cost</th>\n",
       "      <th>%b2t_claim_count</th>\n",
       "      <th>%b2t_drug_cost</th>\n",
       "      <th>t_cost_per_claim</th>\n",
       "      <th>t_cost_per_claim_ge65</th>\n",
       "      <th>t_claim_per_bene_ge65</th>\n",
       "      <th>...</th>\n",
       "      <th>x0_Technician</th>\n",
       "      <th>x0_Technician/Technologist</th>\n",
       "      <th>x0_Thoracic Surgery</th>\n",
       "      <th>x0_Thoracic Surgery (Cardiothoracic Vascular Surgery)</th>\n",
       "      <th>x0_Undefined Physician type</th>\n",
       "      <th>x0_Unknown Supplier/Provider Specialty</th>\n",
       "      <th>x0_Urology</th>\n",
       "      <th>x0_Vascular Surgery</th>\n",
       "      <th>x0_Veterinarian</th>\n",
       "      <th>x0_Voluntary Health or Charitable Agency</th>\n",
       "    </tr>\n",
       "  </thead>\n",
       "  <tbody>\n",
       "    <tr>\n",
       "      <th>235793</th>\n",
       "      <td>3757.537601</td>\n",
       "      <td>137.212854</td>\n",
       "      <td>27.700654</td>\n",
       "      <td>19.575717</td>\n",
       "      <td>73.050063</td>\n",
       "      <td>17.725569</td>\n",
       "      <td>69.180630</td>\n",
       "      <td>51.252484</td>\n",
       "      <td>52.462136</td>\n",
       "      <td>22.012217</td>\n",
       "      <td>...</td>\n",
       "      <td>0.0</td>\n",
       "      <td>0.0</td>\n",
       "      <td>0.0</td>\n",
       "      <td>0.0</td>\n",
       "      <td>0.0</td>\n",
       "      <td>0.0</td>\n",
       "      <td>0.0</td>\n",
       "      <td>0.0</td>\n",
       "      <td>0.0</td>\n",
       "      <td>0.0</td>\n",
       "    </tr>\n",
       "    <tr>\n",
       "      <th>603391</th>\n",
       "      <td>1009.169823</td>\n",
       "      <td>63.091539</td>\n",
       "      <td>10.652017</td>\n",
       "      <td>21.058391</td>\n",
       "      <td>73.211929</td>\n",
       "      <td>19.748291</td>\n",
       "      <td>70.978407</td>\n",
       "      <td>48.212959</td>\n",
       "      <td>53.237440</td>\n",
       "      <td>9.154770</td>\n",
       "      <td>...</td>\n",
       "      <td>0.0</td>\n",
       "      <td>0.0</td>\n",
       "      <td>0.0</td>\n",
       "      <td>0.0</td>\n",
       "      <td>0.0</td>\n",
       "      <td>0.0</td>\n",
       "      <td>0.0</td>\n",
       "      <td>0.0</td>\n",
       "      <td>0.0</td>\n",
       "      <td>0.0</td>\n",
       "    </tr>\n",
       "    <tr>\n",
       "      <th>15591</th>\n",
       "      <td>5734.372180</td>\n",
       "      <td>178.160264</td>\n",
       "      <td>18.985526</td>\n",
       "      <td>19.485741</td>\n",
       "      <td>75.751471</td>\n",
       "      <td>16.964015</td>\n",
       "      <td>74.883987</td>\n",
       "      <td>102.942107</td>\n",
       "      <td>94.869710</td>\n",
       "      <td>19.728961</td>\n",
       "      <td>...</td>\n",
       "      <td>0.0</td>\n",
       "      <td>0.0</td>\n",
       "      <td>0.0</td>\n",
       "      <td>0.0</td>\n",
       "      <td>0.0</td>\n",
       "      <td>0.0</td>\n",
       "      <td>0.0</td>\n",
       "      <td>0.0</td>\n",
       "      <td>0.0</td>\n",
       "      <td>0.0</td>\n",
       "    </tr>\n",
       "    <tr>\n",
       "      <th>644968</th>\n",
       "      <td>2604.965748</td>\n",
       "      <td>155.185270</td>\n",
       "      <td>15.314054</td>\n",
       "      <td>8.998308</td>\n",
       "      <td>65.285045</td>\n",
       "      <td>7.754750</td>\n",
       "      <td>64.248823</td>\n",
       "      <td>79.958981</td>\n",
       "      <td>79.175419</td>\n",
       "      <td>14.103589</td>\n",
       "      <td>...</td>\n",
       "      <td>0.0</td>\n",
       "      <td>0.0</td>\n",
       "      <td>0.0</td>\n",
       "      <td>0.0</td>\n",
       "      <td>0.0</td>\n",
       "      <td>0.0</td>\n",
       "      <td>0.0</td>\n",
       "      <td>0.0</td>\n",
       "      <td>0.0</td>\n",
       "      <td>0.0</td>\n",
       "    </tr>\n",
       "    <tr>\n",
       "      <th>664035</th>\n",
       "      <td>1206.313386</td>\n",
       "      <td>75.023475</td>\n",
       "      <td>21.136299</td>\n",
       "      <td>9.025529</td>\n",
       "      <td>53.524799</td>\n",
       "      <td>12.304987</td>\n",
       "      <td>50.092747</td>\n",
       "      <td>34.247355</td>\n",
       "      <td>31.449229</td>\n",
       "      <td>17.758831</td>\n",
       "      <td>...</td>\n",
       "      <td>0.0</td>\n",
       "      <td>0.0</td>\n",
       "      <td>0.0</td>\n",
       "      <td>0.0</td>\n",
       "      <td>0.0</td>\n",
       "      <td>0.0</td>\n",
       "      <td>0.0</td>\n",
       "      <td>0.0</td>\n",
       "      <td>0.0</td>\n",
       "      <td>0.0</td>\n",
       "    </tr>\n",
       "  </tbody>\n",
       "</table>\n",
       "<p>5 rows × 214 columns</p>\n",
       "</div>"
      ],
      "text/plain": [
       "        t_cost_per_claim_excluded  t_claim_count_schedule2  t_claim_per_bene  \\\n",
       "235793                3757.537601               137.212854         27.700654   \n",
       "603391                1009.169823                63.091539         10.652017   \n",
       "15591                 5734.372180               178.160264         18.985526   \n",
       "644968                2604.965748               155.185270         15.314054   \n",
       "664035                1206.313386                75.023475         21.136299   \n",
       "\n",
       "        %b2bg_claim_count  %b2bg_drug_cost  %b2t_claim_count  %b2t_drug_cost  \\\n",
       "235793          19.575717        73.050063         17.725569       69.180630   \n",
       "603391          21.058391        73.211929         19.748291       70.978407   \n",
       "15591           19.485741        75.751471         16.964015       74.883987   \n",
       "644968           8.998308        65.285045          7.754750       64.248823   \n",
       "664035           9.025529        53.524799         12.304987       50.092747   \n",
       "\n",
       "        t_cost_per_claim  t_cost_per_claim_ge65  t_claim_per_bene_ge65  ...  \\\n",
       "235793         51.252484              52.462136              22.012217  ...   \n",
       "603391         48.212959              53.237440               9.154770  ...   \n",
       "15591         102.942107              94.869710              19.728961  ...   \n",
       "644968         79.958981              79.175419              14.103589  ...   \n",
       "664035         34.247355              31.449229              17.758831  ...   \n",
       "\n",
       "        x0_Technician  x0_Technician/Technologist  x0_Thoracic Surgery  \\\n",
       "235793            0.0                         0.0                  0.0   \n",
       "603391            0.0                         0.0                  0.0   \n",
       "15591             0.0                         0.0                  0.0   \n",
       "644968            0.0                         0.0                  0.0   \n",
       "664035            0.0                         0.0                  0.0   \n",
       "\n",
       "        x0_Thoracic Surgery (Cardiothoracic Vascular Surgery)  \\\n",
       "235793                                                0.0       \n",
       "603391                                                0.0       \n",
       "15591                                                 0.0       \n",
       "644968                                                0.0       \n",
       "664035                                                0.0       \n",
       "\n",
       "        x0_Undefined Physician type  x0_Unknown Supplier/Provider Specialty  \\\n",
       "235793                          0.0                                     0.0   \n",
       "603391                          0.0                                     0.0   \n",
       "15591                           0.0                                     0.0   \n",
       "644968                          0.0                                     0.0   \n",
       "664035                          0.0                                     0.0   \n",
       "\n",
       "        x0_Urology  x0_Vascular Surgery  x0_Veterinarian  \\\n",
       "235793         0.0                  0.0              0.0   \n",
       "603391         0.0                  0.0              0.0   \n",
       "15591          0.0                  0.0              0.0   \n",
       "644968         0.0                  0.0              0.0   \n",
       "664035         0.0                  0.0              0.0   \n",
       "\n",
       "        x0_Voluntary Health or Charitable Agency  \n",
       "235793                                       0.0  \n",
       "603391                                       0.0  \n",
       "15591                                        0.0  \n",
       "644968                                       0.0  \n",
       "664035                                       0.0  \n",
       "\n",
       "[5 rows x 214 columns]"
      ]
     },
     "execution_count": 972,
     "metadata": {},
     "output_type": "execute_result"
    }
   ],
   "source": [
    "fudge=fudge.sample(n=10000)\n",
    "fudge.head()"
   ]
  },
  {
   "cell_type": "code",
   "execution_count": 973,
   "metadata": {
    "scrolled": false
   },
   "outputs": [],
   "source": [
    "ag_2017 = pd.concat([new_main_2017, fudge])\n",
    "ag_2017.dropna(inplace=True)"
   ]
  },
  {
   "cell_type": "code",
   "execution_count": 974,
   "metadata": {},
   "outputs": [
    {
     "data": {
      "text/plain": [
       "(10000, 214)"
      ]
     },
     "execution_count": 974,
     "metadata": {},
     "output_type": "execute_result"
    }
   ],
   "source": [
    "ag_2017[ag_2017[\"is_excluded\"]==1].shape"
   ]
  },
  {
   "cell_type": "code",
   "execution_count": 975,
   "metadata": {},
   "outputs": [
    {
     "data": {
      "text/plain": [
       "(869898, 214)"
      ]
     },
     "execution_count": 975,
     "metadata": {},
     "output_type": "execute_result"
    }
   ],
   "source": [
    "ag_2017.shape"
   ]
  },
  {
   "cell_type": "markdown",
   "metadata": {},
   "source": [
    "#Applying PCA, 2 components and 3 components for variance visualization\n",
    "\n",
    "pca = decomposition.PCA(n_components='mle')\n",
    "pca.fit(part_d_df)\n",
    "npi_drug_df_transformed = pca.transform(part_d_df)\n",
    "plt.plot(np.cumsum(pca.explained_variance_ratio_), color='r')\n",
    "\n",
    "pca = decomposition.PCA(n_components='mle')\n",
    "pca.fit(part_d_df)\n",
    "npi_drug_cross_df_transformed = pca.transform(part_d_df)\n",
    "plt.plot(np.cumsum(pca.explained_variance_ratio_))\n",
    "plt.xlabel('number of components')\n",
    "plt.ylabel('cumulative explained variance')\n",
    "\n",
    "plt.vlines(1, color='grey', ymax=0.1, ymin=0, linestyle=':')\n",
    "plt.vlines(2, color='grey', ymax=0.1, ymin=0, linestyle=':')\n",
    "\n",
    "plt.annotate('1 components', xy=(0.6, 0.05), xytext=(0.9, 0.05), fontsize=15, rotation=90)\n",
    "plt.annotate('2 components', xy=(1.6, 0.05), xytext=(1.9, 0.05), fontsize=15, rotation=90)\n",
    "\n",
    "plt.savefig('VarExp.jpeg', dpi=1000)\n",
    "plt.tight_layout()\n",
    "plt.show()"
   ]
  },
  {
   "cell_type": "code",
   "execution_count": 976,
   "metadata": {},
   "outputs": [],
   "source": [
    "#Training without Upsampling or Downsampling\n",
    "#fudged data (ag_2017) only for train, regular data (new_df) only for test\n",
    "\n",
    "X_train = ag_2017.drop(['is_excluded'], axis=1)\n",
    "y_train = ag_2017['is_excluded']\n",
    "X_test = new_df.drop(['is_excluded'], axis =1)\n",
    "y_test = new_df[\"is_excluded\"]\n",
    "#X = new_main_2017.drop(['is_excluded'], axis=1)\n",
    "#y = new_main_2017['is_excluded']\n",
    "#X_train, X_test, y_train, y_test = train_test_split(X, y, test_size=0.33, random_state=42)"
   ]
  },
  {
   "cell_type": "code",
   "execution_count": 977,
   "metadata": {},
   "outputs": [],
   "source": [
    "#pca = decomposition.PCA(n_components='mle')\n",
    "#X_train = pca.fit_transform(X_train)\n",
    "#X_test = pca.fit_transform(X_test)"
   ]
  },
  {
   "cell_type": "code",
   "execution_count": 978,
   "metadata": {
    "scrolled": true
   },
   "outputs": [],
   "source": [
    "#print(pca.explained_variance_ratio_)"
   ]
  },
  {
   "cell_type": "code",
   "execution_count": 979,
   "metadata": {
    "scrolled": true
   },
   "outputs": [],
   "source": [
    "Labels = ag_2017.drop([\"is_excluded\"],axis = 1).columns"
   ]
  },
  {
   "cell_type": "code",
   "execution_count": 980,
   "metadata": {},
   "outputs": [],
   "source": [
    "#new Labels after PCA\n",
    "#most_important = [np.abs(pca.components_[i]).argmax() for i in range(len(pca.components_))]\n",
    "#most_important_names = [Labels[most_important[i]] for i in range(len(pca.components_))]\n",
    "#dic = {'PC{}'.format(i+1): most_important_names[i] for i in range(len(pca.components_))}\n",
    "#newLabels = list(dic.values())\n",
    "#newLabels"
   ]
  },
  {
   "cell_type": "code",
   "execution_count": 981,
   "metadata": {},
   "outputs": [
    {
     "data": {
      "text/plain": [
       "RandomForestClassifier(bootstrap=True, class_weight=None, criterion='gini',\n",
       "            max_depth=None, max_features='auto', max_leaf_nodes=None,\n",
       "            min_impurity_decrease=0.0, min_impurity_split=None,\n",
       "            min_samples_leaf=1, min_samples_split=2,\n",
       "            min_weight_fraction_leaf=0.0, n_estimators=25, n_jobs=None,\n",
       "            oob_score=False, random_state=None, verbose=0,\n",
       "            warm_start=False)"
      ]
     },
     "execution_count": 981,
     "metadata": {},
     "output_type": "execute_result"
    }
   ],
   "source": [
    "clf = RandomForestClassifier(n_estimators=25)\n",
    "clf.fit(X_train, y_train)"
   ]
  },
  {
   "cell_type": "code",
   "execution_count": 982,
   "metadata": {},
   "outputs": [
    {
     "name": "stdout",
     "output_type": "stream",
     "text": [
      "101\n"
     ]
    }
   ],
   "source": [
    "#excluded samples in test data\n",
    "count = 0\n",
    "for x in y_test:\n",
    "    if int(x)== 1:\n",
    "        count +=1\n",
    "print(count)"
   ]
  },
  {
   "cell_type": "code",
   "execution_count": 983,
   "metadata": {},
   "outputs": [
    {
     "name": "stdout",
     "output_type": "stream",
     "text": [
      "10000\n"
     ]
    }
   ],
   "source": [
    "#excluded samples in train data\n",
    "count2 = 0\n",
    "for x in y_train:\n",
    "    if int(x)== 1:\n",
    "        count2 +=1\n",
    "print(count2)"
   ]
  },
  {
   "cell_type": "code",
   "execution_count": 984,
   "metadata": {},
   "outputs": [
    {
     "data": {
      "text/plain": [
       "array([2.88889046e-02, 4.23470972e-02, 2.02675777e-02, 7.42631749e-02,\n",
       "       1.45590495e-02, 5.11252490e-02, 1.59181648e-02, 1.97333898e-02,\n",
       "       2.19978780e-02, 2.42101890e-02, 1.77825889e-02, 1.39430596e-02,\n",
       "       2.01129237e-02, 1.97935239e-02, 3.06445362e-02, 1.66279052e-02,\n",
       "       3.97384541e-02, 4.08705569e-02, 6.03980620e-02, 1.37851897e-01,\n",
       "       3.33215019e-02, 4.71181840e-02, 5.58998754e-02, 4.68484560e-02,\n",
       "       4.44275941e-02, 2.58138870e-02, 0.00000000e+00, 0.00000000e+00,\n",
       "       0.00000000e+00, 0.00000000e+00, 0.00000000e+00, 4.26024142e-07,\n",
       "       0.00000000e+00, 4.06619299e-09, 0.00000000e+00, 0.00000000e+00,\n",
       "       0.00000000e+00, 0.00000000e+00, 0.00000000e+00, 0.00000000e+00,\n",
       "       0.00000000e+00, 0.00000000e+00, 1.50517373e-06, 0.00000000e+00,\n",
       "       0.00000000e+00, 0.00000000e+00, 1.89754401e-06, 0.00000000e+00,\n",
       "       2.13585575e-04, 0.00000000e+00, 0.00000000e+00, 0.00000000e+00,\n",
       "       0.00000000e+00, 1.62858814e-04, 0.00000000e+00, 7.08370711e-07,\n",
       "       1.94466877e-12, 1.01114970e-08, 0.00000000e+00, 0.00000000e+00,\n",
       "       0.00000000e+00, 0.00000000e+00, 0.00000000e+00, 6.18506142e-09,\n",
       "       0.00000000e+00, 0.00000000e+00, 0.00000000e+00, 0.00000000e+00,\n",
       "       3.75044533e-07, 0.00000000e+00, 0.00000000e+00, 0.00000000e+00,\n",
       "       0.00000000e+00, 3.99386962e-06, 0.00000000e+00, 0.00000000e+00,\n",
       "       0.00000000e+00, 0.00000000e+00, 4.08943038e-05, 0.00000000e+00,\n",
       "       3.68690043e-06, 0.00000000e+00, 9.34195921e-05, 0.00000000e+00,\n",
       "       0.00000000e+00, 0.00000000e+00, 5.31880266e-04, 5.93502937e-05,\n",
       "       0.00000000e+00, 4.77168776e-07, 3.54218086e-03, 9.81245151e-06,\n",
       "       0.00000000e+00, 5.72532721e-03, 3.55949632e-05, 4.90715312e-04,\n",
       "       0.00000000e+00, 6.99426947e-06, 0.00000000e+00, 0.00000000e+00,\n",
       "       0.00000000e+00, 0.00000000e+00, 5.91710361e-06, 5.40309138e-05,\n",
       "       0.00000000e+00, 0.00000000e+00, 1.73022998e-05, 0.00000000e+00,\n",
       "       9.25468462e-06, 0.00000000e+00, 7.16461774e-05, 1.39676668e-02,\n",
       "       5.34196901e-06, 1.26188729e-03, 0.00000000e+00, 0.00000000e+00,\n",
       "       0.00000000e+00, 0.00000000e+00, 0.00000000e+00, 0.00000000e+00,\n",
       "       0.00000000e+00, 0.00000000e+00, 0.00000000e+00, 0.00000000e+00,\n",
       "       0.00000000e+00, 5.57167149e-06, 0.00000000e+00, 0.00000000e+00,\n",
       "       0.00000000e+00, 0.00000000e+00, 9.61432135e-09, 5.06737774e-05,\n",
       "       0.00000000e+00, 4.31478953e-04, 5.56738897e-06, 7.18065734e-08,\n",
       "       0.00000000e+00, 3.00884584e-03, 0.00000000e+00, 0.00000000e+00,\n",
       "       4.15255835e-07, 0.00000000e+00, 0.00000000e+00, 9.53519195e-05,\n",
       "       0.00000000e+00, 3.21715951e-05, 0.00000000e+00, 0.00000000e+00,\n",
       "       9.65631175e-09, 7.40366766e-06, 1.84172908e-07, 6.13396982e-06,\n",
       "       0.00000000e+00, 4.94822821e-08, 3.29289038e-05, 4.51433381e-08,\n",
       "       3.81395767e-03, 0.00000000e+00, 8.56655524e-13, 0.00000000e+00,\n",
       "       1.68544086e-07, 0.00000000e+00, 0.00000000e+00, 0.00000000e+00,\n",
       "       5.64902338e-05, 1.07007081e-09, 0.00000000e+00, 7.97020786e-04,\n",
       "       0.00000000e+00, 2.26003333e-08, 1.19627268e-04, 0.00000000e+00,\n",
       "       0.00000000e+00, 1.55642435e-06, 0.00000000e+00, 4.63097763e-04,\n",
       "       2.53361454e-05, 0.00000000e+00, 0.00000000e+00, 0.00000000e+00,\n",
       "       3.60920596e-05, 4.83720543e-08, 0.00000000e+00, 0.00000000e+00,\n",
       "       0.00000000e+00, 2.40009297e-06, 0.00000000e+00, 0.00000000e+00,\n",
       "       0.00000000e+00, 0.00000000e+00, 5.24598397e-05, 0.00000000e+00,\n",
       "       0.00000000e+00, 0.00000000e+00, 0.00000000e+00, 5.50069339e-06,\n",
       "       0.00000000e+00, 0.00000000e+00, 6.67058937e-07, 1.27086341e-05,\n",
       "       0.00000000e+00, 0.00000000e+00, 6.00513892e-06, 0.00000000e+00,\n",
       "       0.00000000e+00, 1.05773108e-06, 3.33797739e-12, 1.08082357e-07,\n",
       "       0.00000000e+00, 9.78421625e-05, 8.48641432e-06, 0.00000000e+00,\n",
       "       0.00000000e+00])"
      ]
     },
     "execution_count": 984,
     "metadata": {},
     "output_type": "execute_result"
    }
   ],
   "source": [
    "clf.feature_importances_"
   ]
  },
  {
   "cell_type": "markdown",
   "metadata": {},
   "source": [
    "coef_df = pd.DataFrame(clf.feature_importances_, Labels, columns = [\"Importances\"])\n",
    "coef_df.sort_values(\"Importances\", ascending = False)"
   ]
  },
  {
   "cell_type": "markdown",
   "metadata": {},
   "source": [
    "check for contamination by not dropping the npis and seeing if any of them overlap between training and testing\n",
    "train_nps = set(X_train['npi'])\n",
    "test_nps = set(X_test['npi'])\n",
    "print(len(train_nps.intersection(test_nps))) # should be zero"
   ]
  },
  {
   "cell_type": "code",
   "execution_count": 985,
   "metadata": {
    "scrolled": false
   },
   "outputs": [
    {
     "name": "stdout",
     "output_type": "stream",
     "text": [
      "[[1.   0.  ]\n",
      " [1.   0.  ]\n",
      " [1.   0.  ]\n",
      " ...\n",
      " [0.04 0.96]\n",
      " [0.   1.  ]\n",
      " [0.   1.  ]]\n",
      "1.0\n"
     ]
    },
    {
     "data": {
      "text/plain": [
       "array([[859898,      0],\n",
       "       [     0,  10000]], dtype=int64)"
      ]
     },
     "execution_count": 985,
     "metadata": {},
     "output_type": "execute_result"
    }
   ],
   "source": [
    "y_pred = clf.predict(X_train)\n",
    "y_pred_prob = clf.predict_proba(X_train)\n",
    "print(y_pred_prob)\n",
    "print(roc_auc_score(y_train, y_pred_prob[:,1]))\n",
    "confusion_matrix(y_train, y_pred)"
   ]
  },
  {
   "cell_type": "code",
   "execution_count": 986,
   "metadata": {},
   "outputs": [
    {
     "name": "stdout",
     "output_type": "stream",
     "text": [
      "[[1. 0.]\n",
      " [1. 0.]\n",
      " [1. 0.]\n",
      " ...\n",
      " [1. 0.]\n",
      " [1. 0.]\n",
      " [1. 0.]]\n",
      "0.7308545654565457\n"
     ]
    },
    {
     "data": {
      "text/plain": [
       "array([[45000,     0],\n",
       "       [   94,     7]], dtype=int64)"
      ]
     },
     "execution_count": 986,
     "metadata": {},
     "output_type": "execute_result"
    }
   ],
   "source": [
    "y_pred = clf.predict(X_test)\n",
    "y_pred_prob = clf.predict_proba(X_test)\n",
    "print(y_pred_prob)\n",
    "print(roc_auc_score(y_test, y_pred_prob[:,1]))\n",
    "confusion_matrix(y_test, y_pred)"
   ]
  },
  {
   "cell_type": "code",
   "execution_count": 987,
   "metadata": {},
   "outputs": [
    {
     "data": {
      "text/plain": [
       "0    859898\n",
       "1    100000\n",
       "Name: is_excluded, dtype: int64"
      ]
     },
     "execution_count": 987,
     "metadata": {},
     "output_type": "execute_result"
    }
   ],
   "source": [
    "#Upsampling only\n",
    "\n",
    "ag_2017_majority = ag_2017[ag_2017['is_excluded'] == 0]\n",
    "ag_2017_minority = ag_2017[ag_2017['is_excluded'] > 0]\n",
    "\n",
    "# Increase by 10 times\n",
    "ag_2017_minority_upsampled = resample(ag_2017_minority, replace=True, n_samples=100000, random_state=42) \n",
    "ag_2017_upsampled = pd.concat([ag_2017_majority, ag_2017_minority_upsampled])  \n",
    "ag_2017_upsampled['is_excluded'].value_counts()"
   ]
  },
  {
   "cell_type": "code",
   "execution_count": 988,
   "metadata": {
    "scrolled": true
   },
   "outputs": [],
   "source": [
    "#fudged data (ag_2017) only for train, regular data (new_df) only for test\n",
    "X_train = ag_2017_upsampled.drop(['is_excluded'], axis=1)\n",
    "y_train = ag_2017_upsampled['is_excluded']\n",
    "X_test = new_df.drop(['is_excluded'], axis =1)\n",
    "y_test = new_df[\"is_excluded\"]\n",
    "\n",
    "#X_train, X_test, y_train, y_test = train_test_split(X, y, test_size=0.33, random_state=42)"
   ]
  },
  {
   "cell_type": "code",
   "execution_count": 989,
   "metadata": {},
   "outputs": [],
   "source": [
    "#pca = decomposition.PCA(n_components='mle')\n",
    "#X_train = pca.fit_transform(X_train)\n",
    "#X_test = pca.fit_transform(X_test)"
   ]
  },
  {
   "cell_type": "code",
   "execution_count": 990,
   "metadata": {},
   "outputs": [],
   "source": [
    "#print(pca.explained_variance_ratio_)"
   ]
  },
  {
   "cell_type": "code",
   "execution_count": 991,
   "metadata": {},
   "outputs": [],
   "source": [
    "#Labels = df.drop([\"is_excluded\"],axis = 1).columns"
   ]
  },
  {
   "cell_type": "code",
   "execution_count": 992,
   "metadata": {},
   "outputs": [],
   "source": [
    "#new Labels after PCA\n",
    "#most_important = [np.abs(pca.components_[i]).argmax() for i in range(len(pca.components_))]\n",
    "#most_important_names = [Labels[most_important[i]] for i in range(len(pca.components_))]\n",
    "#dic = {'PC{}'.format(i+1): most_important_names[i] for i in range(len(pca.components_))}\n",
    "#newLabels = list(dic.values())\n",
    "#newLabels"
   ]
  },
  {
   "cell_type": "code",
   "execution_count": 993,
   "metadata": {},
   "outputs": [
    {
     "data": {
      "text/plain": [
       "RandomForestClassifier(bootstrap=True, class_weight=None, criterion='gini',\n",
       "            max_depth=None, max_features='auto', max_leaf_nodes=None,\n",
       "            min_impurity_decrease=0.0, min_impurity_split=None,\n",
       "            min_samples_leaf=1, min_samples_split=2,\n",
       "            min_weight_fraction_leaf=0.0, n_estimators=25, n_jobs=None,\n",
       "            oob_score=False, random_state=42, verbose=0, warm_start=False)"
      ]
     },
     "execution_count": 993,
     "metadata": {},
     "output_type": "execute_result"
    }
   ],
   "source": [
    "clf = RandomForestClassifier(n_estimators=25, random_state=42)\n",
    "clf.fit(X_train, y_train)"
   ]
  },
  {
   "cell_type": "code",
   "execution_count": 994,
   "metadata": {},
   "outputs": [
    {
     "name": "stdout",
     "output_type": "stream",
     "text": [
      "101\n"
     ]
    }
   ],
   "source": [
    "#excluded samples in test data\n",
    "count = 0\n",
    "for x in y_test:\n",
    "    if int(x)== 1:\n",
    "        count +=1\n",
    "print(count)"
   ]
  },
  {
   "cell_type": "code",
   "execution_count": 995,
   "metadata": {},
   "outputs": [
    {
     "name": "stdout",
     "output_type": "stream",
     "text": [
      "100000\n"
     ]
    }
   ],
   "source": [
    "#excluded samples in train data\n",
    "count2 = 0\n",
    "for x in y_train:\n",
    "    if int(x)== 1:\n",
    "        count2 +=1\n",
    "print(count2)"
   ]
  },
  {
   "cell_type": "code",
   "execution_count": 996,
   "metadata": {},
   "outputs": [
    {
     "data": {
      "text/plain": [
       "array([1.14569816e-02, 2.53026904e-02, 1.42149507e-02, 3.47206269e-02,\n",
       "       9.37259044e-03, 3.80489982e-02, 1.11290928e-02, 9.85964417e-03,\n",
       "       6.43729170e-03, 5.63225953e-02, 1.42624163e-02, 1.68635900e-02,\n",
       "       9.29483154e-03, 1.31640383e-02, 2.96477040e-02, 3.58533768e-02,\n",
       "       1.68205676e-02, 2.58207136e-02, 7.46478779e-02, 3.03155064e-01,\n",
       "       3.55002693e-02, 3.69646298e-02, 3.11013020e-02, 2.59267541e-02,\n",
       "       6.76268167e-02, 1.40780669e-02, 0.00000000e+00, 0.00000000e+00,\n",
       "       0.00000000e+00, 0.00000000e+00, 0.00000000e+00, 0.00000000e+00,\n",
       "       0.00000000e+00, 0.00000000e+00, 0.00000000e+00, 0.00000000e+00,\n",
       "       0.00000000e+00, 0.00000000e+00, 0.00000000e+00, 0.00000000e+00,\n",
       "       0.00000000e+00, 0.00000000e+00, 1.52739483e-06, 0.00000000e+00,\n",
       "       0.00000000e+00, 0.00000000e+00, 5.38783043e-06, 0.00000000e+00,\n",
       "       3.59601863e-04, 0.00000000e+00, 0.00000000e+00, 0.00000000e+00,\n",
       "       0.00000000e+00, 3.70685538e-05, 0.00000000e+00, 1.45258624e-06,\n",
       "       1.18112218e-09, 0.00000000e+00, 0.00000000e+00, 0.00000000e+00,\n",
       "       0.00000000e+00, 1.02276733e-08, 6.04269319e-10, 1.92423864e-06,\n",
       "       0.00000000e+00, 0.00000000e+00, 0.00000000e+00, 0.00000000e+00,\n",
       "       1.06345715e-07, 0.00000000e+00, 0.00000000e+00, 0.00000000e+00,\n",
       "       0.00000000e+00, 4.59365120e-07, 0.00000000e+00, 0.00000000e+00,\n",
       "       0.00000000e+00, 0.00000000e+00, 7.97865207e-05, 0.00000000e+00,\n",
       "       2.24643023e-07, 0.00000000e+00, 5.91134139e-05, 0.00000000e+00,\n",
       "       0.00000000e+00, 0.00000000e+00, 3.67155825e-04, 4.19069544e-04,\n",
       "       0.00000000e+00, 6.52411171e-07, 2.25770017e-03, 7.42812133e-06,\n",
       "       0.00000000e+00, 2.15532890e-03, 2.92326154e-05, 2.86812187e-04,\n",
       "       4.42021982e-07, 3.14514061e-08, 0.00000000e+00, 0.00000000e+00,\n",
       "       0.00000000e+00, 0.00000000e+00, 0.00000000e+00, 2.47343439e-05,\n",
       "       0.00000000e+00, 0.00000000e+00, 1.94804825e-05, 0.00000000e+00,\n",
       "       7.78598099e-06, 0.00000000e+00, 8.35200539e-06, 1.15850153e-02,\n",
       "       7.95772718e-06, 2.01522335e-03, 0.00000000e+00, 0.00000000e+00,\n",
       "       0.00000000e+00, 0.00000000e+00, 0.00000000e+00, 0.00000000e+00,\n",
       "       0.00000000e+00, 0.00000000e+00, 0.00000000e+00, 0.00000000e+00,\n",
       "       0.00000000e+00, 1.86435218e-05, 0.00000000e+00, 0.00000000e+00,\n",
       "       0.00000000e+00, 0.00000000e+00, 0.00000000e+00, 5.63909463e-05,\n",
       "       0.00000000e+00, 1.75433316e-03, 1.42831941e-06, 5.34698768e-06,\n",
       "       0.00000000e+00, 6.60330063e-03, 0.00000000e+00, 0.00000000e+00,\n",
       "       1.28448153e-04, 0.00000000e+00, 0.00000000e+00, 2.68715276e-04,\n",
       "       0.00000000e+00, 1.24510521e-06, 0.00000000e+00, 0.00000000e+00,\n",
       "       1.37760423e-08, 1.20208515e-05, 4.28499622e-06, 1.13416722e-05,\n",
       "       0.00000000e+00, 6.55648692e-08, 4.40683977e-05, 1.47737823e-06,\n",
       "       1.23755303e-03, 0.00000000e+00, 0.00000000e+00, 0.00000000e+00,\n",
       "       8.75914009e-07, 0.00000000e+00, 0.00000000e+00, 0.00000000e+00,\n",
       "       2.69444559e-04, 0.00000000e+00, 0.00000000e+00, 1.03326314e-03,\n",
       "       0.00000000e+00, 0.00000000e+00, 1.34044975e-04, 0.00000000e+00,\n",
       "       0.00000000e+00, 8.85904311e-07, 0.00000000e+00, 8.24663107e-04,\n",
       "       1.61716466e-04, 0.00000000e+00, 0.00000000e+00, 0.00000000e+00,\n",
       "       5.92064393e-05, 5.03757923e-07, 0.00000000e+00, 0.00000000e+00,\n",
       "       0.00000000e+00, 3.87093691e-06, 0.00000000e+00, 0.00000000e+00,\n",
       "       0.00000000e+00, 0.00000000e+00, 2.47734855e-06, 0.00000000e+00,\n",
       "       0.00000000e+00, 0.00000000e+00, 0.00000000e+00, 2.03660388e-06,\n",
       "       0.00000000e+00, 0.00000000e+00, 4.90735229e-10, 2.26210187e-05,\n",
       "       0.00000000e+00, 0.00000000e+00, 1.10038420e-06, 0.00000000e+00,\n",
       "       0.00000000e+00, 5.78628922e-07, 0.00000000e+00, 0.00000000e+00,\n",
       "       0.00000000e+00, 1.08846924e-06, 3.96199548e-07, 0.00000000e+00,\n",
       "       0.00000000e+00])"
      ]
     },
     "execution_count": 996,
     "metadata": {},
     "output_type": "execute_result"
    }
   ],
   "source": [
    "clf.feature_importances_"
   ]
  },
  {
   "cell_type": "markdown",
   "metadata": {},
   "source": [
    "#check for contamination by not dropping the npis and seeing if any of them overlap between training and testing\n",
    "train_nps = set(X_train['npi'])\n",
    "test_nps = set(X_test['npi'])\n",
    "print(len(train_nps.intersection(test_nps))) # should be zero"
   ]
  },
  {
   "cell_type": "code",
   "execution_count": 997,
   "metadata": {},
   "outputs": [
    {
     "name": "stdout",
     "output_type": "stream",
     "text": [
      "1.0\n"
     ]
    },
    {
     "data": {
      "text/plain": [
       "array([[859898,      0],\n",
       "       [     0, 100000]], dtype=int64)"
      ]
     },
     "execution_count": 997,
     "metadata": {},
     "output_type": "execute_result"
    }
   ],
   "source": [
    "y_pred = clf.predict(X_train)\n",
    "y_pred_prob = clf.predict_proba(X_train)\n",
    "print(roc_auc_score(y_train, y_pred_prob[:,1]))\n",
    "confusion_matrix(y_train, y_pred)"
   ]
  },
  {
   "cell_type": "code",
   "execution_count": 998,
   "metadata": {},
   "outputs": [
    {
     "name": "stdout",
     "output_type": "stream",
     "text": [
      "0.6816496149614961\n"
     ]
    },
    {
     "data": {
      "text/plain": [
       "array([[45000,     0],\n",
       "       [   96,     5]], dtype=int64)"
      ]
     },
     "execution_count": 998,
     "metadata": {},
     "output_type": "execute_result"
    }
   ],
   "source": [
    "y_pred = clf.predict(X_test)\n",
    "y_pred_prob = clf.predict_proba(X_test)\n",
    "print(roc_auc_score(y_test, y_pred_prob[:,1]))\n",
    "confusion_matrix(y_test, y_pred)"
   ]
  },
  {
   "cell_type": "code",
   "execution_count": 999,
   "metadata": {},
   "outputs": [
    {
     "data": {
      "text/plain": [
       "0    81980\n",
       "1    10000\n",
       "Name: is_excluded, dtype: int64"
      ]
     },
     "execution_count": 999,
     "metadata": {},
     "output_type": "execute_result"
    }
   ],
   "source": [
    "#Training on downsampled only and testing on regular\n",
    "\n",
    "ag_2017_majority = ag_2017[ag_2017['is_excluded'] == 0]\n",
    "ag_2017_minority = ag_2017[ag_2017['is_excluded'] > 0]\n",
    "\n",
    "# Reduce by 10 times\n",
    "ag_2017_majority_downsampled = resample(ag_2017_majority, replace=True, n_samples=81980, random_state=42) \n",
    "ag_2017_downsampled = pd.concat([ag_2017_majority_downsampled, ag_2017_minority]) \n",
    "ag_2017_downsampled['is_excluded'].value_counts()"
   ]
  },
  {
   "cell_type": "code",
   "execution_count": 1000,
   "metadata": {},
   "outputs": [],
   "source": [
    "#fudged data (ag_2017) only for train, regular data (new_df) only for test\n",
    "X_train = ag_2017_downsampled.drop(['is_excluded'], axis=1)\n",
    "y_train = ag_2017_downsampled['is_excluded']\n",
    "X_test = new_df.drop(['is_excluded'], axis =1)\n",
    "y_test = new_df[\"is_excluded\"]\n",
    "\n",
    "#X_train, X_test, y_train, y_test = train_test_split(X, y, test_size=0.33, random_state=42)"
   ]
  },
  {
   "cell_type": "code",
   "execution_count": 1001,
   "metadata": {},
   "outputs": [],
   "source": [
    "#pca = decomposition.PCA(n_components='mle')\n",
    "#X_train = pca.fit_transform(X_train)\n",
    "#X_test = pca.fit_transform(X_test)"
   ]
  },
  {
   "cell_type": "code",
   "execution_count": 1002,
   "metadata": {},
   "outputs": [],
   "source": [
    "#print(pca.explained_variance_ratio_)"
   ]
  },
  {
   "cell_type": "code",
   "execution_count": 1003,
   "metadata": {},
   "outputs": [],
   "source": [
    "#Labels = df.drop([\"is_excluded\"],axis = 1).columns"
   ]
  },
  {
   "cell_type": "code",
   "execution_count": 1004,
   "metadata": {},
   "outputs": [],
   "source": [
    "#new Labels after PCA\n",
    "#most_important = [np.abs(pca.components_[i]).argmax() for i in range(len(pca.components_))]\n",
    "#most_important_names = [Labels[most_important[i]] for i in range(len(pca.components_))]\n",
    "#dic = {'PC{}'.format(i+1): most_important_names[i] for i in range(len(pca.components_))}\n",
    "#newLabels = list(dic.values())\n",
    "#newLabels"
   ]
  },
  {
   "cell_type": "code",
   "execution_count": 1005,
   "metadata": {},
   "outputs": [
    {
     "data": {
      "text/plain": [
       "RandomForestClassifier(bootstrap=True, class_weight=None, criterion='gini',\n",
       "            max_depth=None, max_features='auto', max_leaf_nodes=None,\n",
       "            min_impurity_decrease=0.0, min_impurity_split=None,\n",
       "            min_samples_leaf=1, min_samples_split=2,\n",
       "            min_weight_fraction_leaf=0.0, n_estimators=25, n_jobs=None,\n",
       "            oob_score=False, random_state=42, verbose=0, warm_start=False)"
      ]
     },
     "execution_count": 1005,
     "metadata": {},
     "output_type": "execute_result"
    }
   ],
   "source": [
    "clf = RandomForestClassifier(n_estimators=25, random_state=42)\n",
    "clf.fit(X_train, y_train)"
   ]
  },
  {
   "cell_type": "code",
   "execution_count": 1006,
   "metadata": {},
   "outputs": [
    {
     "name": "stdout",
     "output_type": "stream",
     "text": [
      "101\n"
     ]
    }
   ],
   "source": [
    "#excluded samples in test data\n",
    "count = 0\n",
    "for x in y_test:\n",
    "    if int(x) == 1:\n",
    "        count +=1\n",
    "print(count)"
   ]
  },
  {
   "cell_type": "code",
   "execution_count": 1007,
   "metadata": {},
   "outputs": [
    {
     "name": "stdout",
     "output_type": "stream",
     "text": [
      "10000\n"
     ]
    }
   ],
   "source": [
    "#excluded samples in train data\n",
    "count2 = 0\n",
    "for x in y_train:\n",
    "    if int(x)== 1:\n",
    "        count2 +=1\n",
    "print(count2)"
   ]
  },
  {
   "cell_type": "code",
   "execution_count": 1008,
   "metadata": {},
   "outputs": [
    {
     "data": {
      "text/plain": [
       "array([2.83441006e-02, 1.92625956e-02, 3.39764189e-02, 3.39828079e-02,\n",
       "       9.73316444e-03, 3.43743622e-02, 1.29753499e-02, 1.46279704e-02,\n",
       "       1.36398115e-02, 4.61035153e-02, 1.73574093e-02, 1.12321780e-02,\n",
       "       1.58327391e-02, 1.05983743e-02, 2.92223949e-02, 2.25418749e-02,\n",
       "       1.87322411e-02, 5.68183862e-02, 6.39483264e-02, 2.30259872e-01,\n",
       "       5.44441814e-02, 3.87492361e-02, 3.91656446e-02, 2.11314339e-02,\n",
       "       6.94254851e-02, 1.42598908e-02, 0.00000000e+00, 0.00000000e+00,\n",
       "       0.00000000e+00, 0.00000000e+00, 0.00000000e+00, 0.00000000e+00,\n",
       "       0.00000000e+00, 0.00000000e+00, 0.00000000e+00, 0.00000000e+00,\n",
       "       0.00000000e+00, 0.00000000e+00, 0.00000000e+00, 0.00000000e+00,\n",
       "       0.00000000e+00, 0.00000000e+00, 8.28646047e-10, 0.00000000e+00,\n",
       "       0.00000000e+00, 0.00000000e+00, 4.98887597e-06, 0.00000000e+00,\n",
       "       3.53291516e-04, 0.00000000e+00, 0.00000000e+00, 0.00000000e+00,\n",
       "       0.00000000e+00, 7.71383243e-05, 0.00000000e+00, 1.78554101e-05,\n",
       "       1.45249895e-09, 0.00000000e+00, 0.00000000e+00, 0.00000000e+00,\n",
       "       0.00000000e+00, 0.00000000e+00, 0.00000000e+00, 6.08175644e-06,\n",
       "       0.00000000e+00, 0.00000000e+00, 0.00000000e+00, 0.00000000e+00,\n",
       "       7.60068123e-08, 0.00000000e+00, 0.00000000e+00, 0.00000000e+00,\n",
       "       0.00000000e+00, 0.00000000e+00, 0.00000000e+00, 0.00000000e+00,\n",
       "       0.00000000e+00, 0.00000000e+00, 1.09708947e-05, 0.00000000e+00,\n",
       "       9.65876339e-06, 0.00000000e+00, 7.22954901e-05, 0.00000000e+00,\n",
       "       0.00000000e+00, 0.00000000e+00, 7.98252703e-04, 5.42933208e-05,\n",
       "       0.00000000e+00, 1.17184027e-05, 3.98272724e-03, 9.99818913e-06,\n",
       "       0.00000000e+00, 3.09292768e-03, 1.21857199e-04, 2.99420701e-04,\n",
       "       0.00000000e+00, 0.00000000e+00, 2.39861556e-06, 0.00000000e+00,\n",
       "       0.00000000e+00, 0.00000000e+00, 1.98633633e-09, 1.00576251e-04,\n",
       "       0.00000000e+00, 0.00000000e+00, 4.70363075e-05, 0.00000000e+00,\n",
       "       0.00000000e+00, 0.00000000e+00, 4.28639818e-05, 1.31014203e-02,\n",
       "       2.24879923e-06, 3.23015686e-03, 0.00000000e+00, 0.00000000e+00,\n",
       "       0.00000000e+00, 0.00000000e+00, 0.00000000e+00, 0.00000000e+00,\n",
       "       0.00000000e+00, 0.00000000e+00, 0.00000000e+00, 0.00000000e+00,\n",
       "       0.00000000e+00, 3.81790479e-05, 0.00000000e+00, 0.00000000e+00,\n",
       "       0.00000000e+00, 0.00000000e+00, 0.00000000e+00, 2.83345336e-05,\n",
       "       0.00000000e+00, 5.57120190e-04, 3.32245580e-07, 1.11388383e-06,\n",
       "       0.00000000e+00, 4.24739578e-03, 0.00000000e+00, 0.00000000e+00,\n",
       "       3.67715943e-07, 0.00000000e+00, 0.00000000e+00, 4.04464965e-05,\n",
       "       0.00000000e+00, 3.12684526e-05, 0.00000000e+00, 0.00000000e+00,\n",
       "       0.00000000e+00, 8.82422707e-07, 6.42720381e-06, 2.98223998e-05,\n",
       "       0.00000000e+00, 5.10700466e-05, 1.48790205e-05, 0.00000000e+00,\n",
       "       4.37402731e-03, 0.00000000e+00, 0.00000000e+00, 0.00000000e+00,\n",
       "       1.41743406e-06, 0.00000000e+00, 0.00000000e+00, 0.00000000e+00,\n",
       "       6.61746890e-05, 0.00000000e+00, 0.00000000e+00, 7.50443680e-04,\n",
       "       0.00000000e+00, 1.13957064e-07, 9.69449801e-05, 0.00000000e+00,\n",
       "       0.00000000e+00, 1.05178390e-08, 0.00000000e+00, 3.13756598e-03,\n",
       "       9.95853777e-06, 0.00000000e+00, 0.00000000e+00, 0.00000000e+00,\n",
       "       2.54173614e-04, 2.03388519e-08, 0.00000000e+00, 0.00000000e+00,\n",
       "       0.00000000e+00, 1.22960293e-05, 1.63499926e-09, 0.00000000e+00,\n",
       "       0.00000000e+00, 0.00000000e+00, 4.36309410e-05, 0.00000000e+00,\n",
       "       0.00000000e+00, 0.00000000e+00, 0.00000000e+00, 8.54149628e-06,\n",
       "       0.00000000e+00, 0.00000000e+00, 0.00000000e+00, 5.89176869e-07,\n",
       "       0.00000000e+00, 0.00000000e+00, 0.00000000e+00, 0.00000000e+00,\n",
       "       0.00000000e+00, 2.09047592e-10, 0.00000000e+00, 5.01821283e-10,\n",
       "       0.00000000e+00, 6.42633703e-06, 0.00000000e+00, 0.00000000e+00,\n",
       "       0.00000000e+00])"
      ]
     },
     "execution_count": 1008,
     "metadata": {},
     "output_type": "execute_result"
    }
   ],
   "source": [
    "clf.feature_importances_"
   ]
  },
  {
   "cell_type": "markdown",
   "metadata": {},
   "source": [
    "#check for contamination by not dropping the npis and seeing if any of them overlap between training and testing\n",
    "train_nps = set(X_train['npi'])\n",
    "test_nps = set(X_test['npi'])\n",
    "print(len(train_nps.intersection(test_nps))) # should be zero"
   ]
  },
  {
   "cell_type": "code",
   "execution_count": 1009,
   "metadata": {},
   "outputs": [
    {
     "name": "stdout",
     "output_type": "stream",
     "text": [
      "1.0\n"
     ]
    },
    {
     "data": {
      "text/plain": [
       "array([[81980,     0],\n",
       "       [    0, 10000]], dtype=int64)"
      ]
     },
     "execution_count": 1009,
     "metadata": {},
     "output_type": "execute_result"
    }
   ],
   "source": [
    "y_pred = clf.predict(X_train)\n",
    "y_pred_prob = clf.predict_proba(X_train)\n",
    "print(roc_auc_score(y_train, y_pred_prob[:,1]))\n",
    "confusion_matrix(y_train, y_pred)"
   ]
  },
  {
   "cell_type": "code",
   "execution_count": 1010,
   "metadata": {},
   "outputs": [
    {
     "name": "stdout",
     "output_type": "stream",
     "text": [
      "0.6967899889989\n"
     ]
    },
    {
     "data": {
      "text/plain": [
       "array([[45000,     0],\n",
       "       [   96,     5]], dtype=int64)"
      ]
     },
     "execution_count": 1010,
     "metadata": {},
     "output_type": "execute_result"
    }
   ],
   "source": [
    "y_pred = clf.predict(X_test)\n",
    "y_pred_prob = clf.predict_proba(X_test)\n",
    "print(roc_auc_score(y_test, y_pred_prob[:,1]))\n",
    "confusion_matrix(y_test, y_pred)"
   ]
  },
  {
   "cell_type": "code",
   "execution_count": 1011,
   "metadata": {},
   "outputs": [
    {
     "data": {
      "text/plain": [
       "1    100000\n",
       "0     81980\n",
       "Name: is_excluded, dtype: int64"
      ]
     },
     "execution_count": 1011,
     "metadata": {},
     "output_type": "execute_result"
    }
   ],
   "source": [
    "#Upsampling/downsampling on training and testing on regular\n",
    "\n",
    "ag_2017_majority = ag_2017[ag_2017['is_excluded'] == 0]\n",
    "ag_2017_minority = ag_2017[ag_2017['is_excluded'] > 0]\n",
    "\n",
    "ag_2017_updownsampled = pd.concat([ag_2017_majority_downsampled, ag_2017_minority_upsampled]) \n",
    "ag_2017_updownsampled['is_excluded'].value_counts()"
   ]
  },
  {
   "cell_type": "code",
   "execution_count": 1012,
   "metadata": {},
   "outputs": [],
   "source": [
    "#fudged data (ag_2017) only for train, regular data (new_df) only for test\n",
    "\n",
    "X_train = ag_2017_updownsampled.drop(['is_excluded'], axis=1)\n",
    "y_train = ag_2017_updownsampled['is_excluded']\n",
    "X_test = new_df.drop(['is_excluded'], axis =1)\n",
    "y_test = new_df[\"is_excluded\"]\n",
    "#X_train, X_test, y_train, y_test = train_test_split(X, y, test_size=0.25, random_state=42)"
   ]
  },
  {
   "cell_type": "code",
   "execution_count": 1013,
   "metadata": {},
   "outputs": [],
   "source": [
    "#pca = decomposition.PCA(n_components='mle')\n",
    "#X_train = pca.fit_transform(X_train)\n",
    "#X_test = pca.fit_transform(X_test)"
   ]
  },
  {
   "cell_type": "code",
   "execution_count": 1014,
   "metadata": {},
   "outputs": [],
   "source": [
    "#print(pca.explained_variance_ratio_)"
   ]
  },
  {
   "cell_type": "code",
   "execution_count": 1015,
   "metadata": {},
   "outputs": [],
   "source": [
    "#Labels = df.drop([\"is_excluded\"],axis = 1).columns"
   ]
  },
  {
   "cell_type": "code",
   "execution_count": 1016,
   "metadata": {},
   "outputs": [],
   "source": [
    "#new Labels after PCA\n",
    "#most_important = [np.abs(pca.components_[i]).argmax() for i in range(len(pca.components_))]\n",
    "#most_important_names = [Labels[most_important[i]] for i in range(len(pca.components_))]\n",
    "#dic = {'PC{}'.format(i+1): most_important_names[i] for i in range(len(pca.components_))}\n",
    "#newLabels = list(dic.values())\n",
    "#newLabels"
   ]
  },
  {
   "cell_type": "code",
   "execution_count": 1017,
   "metadata": {},
   "outputs": [
    {
     "data": {
      "text/plain": [
       "RandomForestClassifier(bootstrap=True, class_weight=None, criterion='gini',\n",
       "            max_depth=None, max_features='auto', max_leaf_nodes=None,\n",
       "            min_impurity_decrease=0.0, min_impurity_split=None,\n",
       "            min_samples_leaf=1, min_samples_split=2,\n",
       "            min_weight_fraction_leaf=0.0, n_estimators=25, n_jobs=None,\n",
       "            oob_score=False, random_state=42, verbose=0, warm_start=False)"
      ]
     },
     "execution_count": 1017,
     "metadata": {},
     "output_type": "execute_result"
    }
   ],
   "source": [
    "clf = RandomForestClassifier(n_estimators=25, random_state=42)\n",
    "clf.fit(X_train, y_train)"
   ]
  },
  {
   "cell_type": "code",
   "execution_count": 1018,
   "metadata": {},
   "outputs": [
    {
     "name": "stdout",
     "output_type": "stream",
     "text": [
      "101\n"
     ]
    }
   ],
   "source": [
    "#excluded samples in test data\n",
    "count = 0\n",
    "for x in y_test:\n",
    "    if int(x)== 1:\n",
    "        count +=1\n",
    "print(count)"
   ]
  },
  {
   "cell_type": "code",
   "execution_count": 1019,
   "metadata": {},
   "outputs": [
    {
     "name": "stdout",
     "output_type": "stream",
     "text": [
      "100000\n"
     ]
    }
   ],
   "source": [
    "#excluded samples in train data\n",
    "count2 = 0\n",
    "for x in y_train:\n",
    "    if int(x)== 1:\n",
    "        count2 +=1\n",
    "print(count2)"
   ]
  },
  {
   "cell_type": "code",
   "execution_count": 1020,
   "metadata": {},
   "outputs": [
    {
     "data": {
      "text/plain": [
       "array([3.74039808e-02, 2.46856831e-02, 2.63192231e-02, 2.42197702e-02,\n",
       "       7.66672423e-03, 2.07871093e-02, 1.63440115e-02, 4.30809628e-03,\n",
       "       1.10724453e-02, 3.65096987e-02, 2.04375486e-02, 1.82263831e-02,\n",
       "       3.31764951e-03, 2.13220605e-02, 1.95423383e-02, 2.22099942e-02,\n",
       "       2.94877396e-02, 3.96808028e-02, 9.41842295e-02, 2.31707762e-01,\n",
       "       8.50136019e-02, 5.37605267e-02, 2.91085145e-02, 9.89096097e-03,\n",
       "       6.44001709e-02, 2.98395741e-02, 0.00000000e+00, 0.00000000e+00,\n",
       "       0.00000000e+00, 0.00000000e+00, 0.00000000e+00, 0.00000000e+00,\n",
       "       0.00000000e+00, 0.00000000e+00, 0.00000000e+00, 0.00000000e+00,\n",
       "       0.00000000e+00, 0.00000000e+00, 0.00000000e+00, 0.00000000e+00,\n",
       "       0.00000000e+00, 0.00000000e+00, 1.41615244e-06, 0.00000000e+00,\n",
       "       0.00000000e+00, 0.00000000e+00, 0.00000000e+00, 0.00000000e+00,\n",
       "       2.79128007e-05, 0.00000000e+00, 0.00000000e+00, 0.00000000e+00,\n",
       "       0.00000000e+00, 3.79210884e-04, 0.00000000e+00, 1.37700850e-05,\n",
       "       0.00000000e+00, 0.00000000e+00, 0.00000000e+00, 0.00000000e+00,\n",
       "       0.00000000e+00, 0.00000000e+00, 6.00827364e-07, 0.00000000e+00,\n",
       "       0.00000000e+00, 0.00000000e+00, 0.00000000e+00, 0.00000000e+00,\n",
       "       6.15081747e-07, 0.00000000e+00, 0.00000000e+00, 0.00000000e+00,\n",
       "       0.00000000e+00, 7.34692073e-06, 0.00000000e+00, 0.00000000e+00,\n",
       "       0.00000000e+00, 0.00000000e+00, 5.95938788e-05, 0.00000000e+00,\n",
       "       2.58936696e-05, 0.00000000e+00, 1.23972577e-04, 3.06299125e-06,\n",
       "       0.00000000e+00, 0.00000000e+00, 8.90427335e-04, 1.36250269e-05,\n",
       "       0.00000000e+00, 6.14380806e-06, 6.85469668e-04, 2.96205372e-05,\n",
       "       0.00000000e+00, 3.20599857e-04, 3.59792938e-04, 3.99581252e-04,\n",
       "       0.00000000e+00, 0.00000000e+00, 0.00000000e+00, 0.00000000e+00,\n",
       "       0.00000000e+00, 0.00000000e+00, 0.00000000e+00, 1.94876456e-04,\n",
       "       0.00000000e+00, 0.00000000e+00, 1.26816615e-05, 0.00000000e+00,\n",
       "       1.18358531e-05, 0.00000000e+00, 3.98529347e-06, 3.79728490e-03,\n",
       "       1.97389875e-05, 8.75079677e-04, 0.00000000e+00, 0.00000000e+00,\n",
       "       0.00000000e+00, 0.00000000e+00, 0.00000000e+00, 0.00000000e+00,\n",
       "       0.00000000e+00, 0.00000000e+00, 8.54238097e-09, 0.00000000e+00,\n",
       "       0.00000000e+00, 2.07712641e-06, 0.00000000e+00, 0.00000000e+00,\n",
       "       0.00000000e+00, 0.00000000e+00, 0.00000000e+00, 4.47534870e-05,\n",
       "       0.00000000e+00, 8.60995908e-05, 2.03498824e-07, 8.98591934e-08,\n",
       "       0.00000000e+00, 4.95073045e-03, 0.00000000e+00, 0.00000000e+00,\n",
       "       5.99185965e-06, 0.00000000e+00, 0.00000000e+00, 1.62045287e-05,\n",
       "       0.00000000e+00, 2.03399575e-08, 0.00000000e+00, 0.00000000e+00,\n",
       "       1.39692568e-06, 1.98008302e-05, 4.19922218e-05, 7.71883021e-06,\n",
       "       0.00000000e+00, 2.47132962e-04, 8.68111172e-05, 0.00000000e+00,\n",
       "       8.78719533e-05, 0.00000000e+00, 0.00000000e+00, 0.00000000e+00,\n",
       "       2.42005689e-07, 0.00000000e+00, 0.00000000e+00, 0.00000000e+00,\n",
       "       4.15913060e-05, 0.00000000e+00, 0.00000000e+00, 2.02019137e-03,\n",
       "       0.00000000e+00, 1.59680429e-06, 1.40971500e-04, 0.00000000e+00,\n",
       "       0.00000000e+00, 4.38586420e-08, 0.00000000e+00, 2.34597415e-03,\n",
       "       6.79153850e-05, 0.00000000e+00, 0.00000000e+00, 0.00000000e+00,\n",
       "       3.26322712e-05, 3.09803919e-07, 0.00000000e+00, 0.00000000e+00,\n",
       "       0.00000000e+00, 2.47392345e-07, 0.00000000e+00, 0.00000000e+00,\n",
       "       0.00000000e+00, 0.00000000e+00, 9.54245887e-06, 0.00000000e+00,\n",
       "       0.00000000e+00, 0.00000000e+00, 0.00000000e+00, 3.67740444e-06,\n",
       "       0.00000000e+00, 0.00000000e+00, 0.00000000e+00, 1.90293270e-05,\n",
       "       0.00000000e+00, 0.00000000e+00, 5.67336876e-09, 0.00000000e+00,\n",
       "       0.00000000e+00, 0.00000000e+00, 0.00000000e+00, 3.02391867e-09,\n",
       "       0.00000000e+00, 6.37359897e-06, 1.01592690e-08, 0.00000000e+00,\n",
       "       0.00000000e+00])"
      ]
     },
     "execution_count": 1020,
     "metadata": {},
     "output_type": "execute_result"
    }
   ],
   "source": [
    "clf.feature_importances_"
   ]
  },
  {
   "cell_type": "markdown",
   "metadata": {},
   "source": [
    "#check for contamination by not dropping the npis and seeing if any of them overlap between training and testing\n",
    "train_nps = set(X_train['npi'])\n",
    "test_nps = set(X_test['npi'])\n",
    "print(len(train_nps.intersection(test_nps))) # should be zero"
   ]
  },
  {
   "cell_type": "code",
   "execution_count": 1021,
   "metadata": {},
   "outputs": [
    {
     "name": "stdout",
     "output_type": "stream",
     "text": [
      "1.0\n"
     ]
    },
    {
     "data": {
      "text/plain": [
       "array([[ 81980,      0],\n",
       "       [     0, 100000]], dtype=int64)"
      ]
     },
     "execution_count": 1021,
     "metadata": {},
     "output_type": "execute_result"
    }
   ],
   "source": [
    "y_pred = clf.predict(X_train)\n",
    "y_pred_prob = clf.predict_proba(X_train)\n",
    "print(roc_auc_score(y_train, y_pred_prob[:,1]))\n",
    "confusion_matrix(y_train, y_pred)"
   ]
  },
  {
   "cell_type": "code",
   "execution_count": 1022,
   "metadata": {},
   "outputs": [
    {
     "name": "stdout",
     "output_type": "stream",
     "text": [
      "0.717469196919692\n"
     ]
    },
    {
     "data": {
      "text/plain": [
       "array([[45000,     0],\n",
       "       [   96,     5]], dtype=int64)"
      ]
     },
     "execution_count": 1022,
     "metadata": {},
     "output_type": "execute_result"
    }
   ],
   "source": [
    "y_pred = clf.predict(X_test)\n",
    "y_pred_prob = clf.predict_proba(X_test)\n",
    "print(roc_auc_score(y_test, y_pred_prob[:,1]))\n",
    "confusion_matrix(y_test, y_pred)"
   ]
  },
  {
   "cell_type": "markdown",
   "metadata": {},
   "source": [
    "In conclusion, results from downsampling is the best."
   ]
  }
 ],
 "metadata": {
  "kernelspec": {
   "display_name": "Python 3",
   "language": "python",
   "name": "python3"
  },
  "language_info": {
   "codemirror_mode": {
    "name": "ipython",
    "version": 3
   },
   "file_extension": ".py",
   "mimetype": "text/x-python",
   "name": "python",
   "nbconvert_exporter": "python",
   "pygments_lexer": "ipython3",
   "version": "3.7.3"
  }
 },
 "nbformat": 4,
 "nbformat_minor": 2
}
