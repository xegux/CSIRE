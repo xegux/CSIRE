{
 "cells": [
  {
   "cell_type": "code",
   "execution_count": 33,
   "metadata": {},
   "outputs": [],
   "source": [
    "import pandas as pd\n",
    "import numpy as np\n",
    "from tqdm import tqdm_notebook, tqdm"
   ]
  },
  {
   "cell_type": "code",
   "execution_count": 34,
   "metadata": {},
   "outputs": [
    {
     "name": "stdout",
     "output_type": "stream",
     "text": [
      "The data has a size of (904999, 32)\n"
     ]
    }
   ],
   "source": [
    "new_main_2017 = pd.read_csv('data/ml_2017.csv', low_memory=False)\n",
    "print(\"The data has a size of {}\".format(new_main_2017.shape))"
   ]
  },
  {
   "cell_type": "code",
   "execution_count": 35,
   "metadata": {},
   "outputs": [
    {
     "data": {
      "text/html": [
       "<div>\n",
       "<style scoped>\n",
       "    .dataframe tbody tr th:only-of-type {\n",
       "        vertical-align: middle;\n",
       "    }\n",
       "\n",
       "    .dataframe tbody tr th {\n",
       "        vertical-align: top;\n",
       "    }\n",
       "\n",
       "    .dataframe thead th {\n",
       "        text-align: right;\n",
       "    }\n",
       "</style>\n",
       "<table border=\"1\" class=\"dataframe\">\n",
       "  <thead>\n",
       "    <tr style=\"text-align: right;\">\n",
       "      <th></th>\n",
       "      <th>Unnamed: 0</th>\n",
       "      <th>npi</th>\n",
       "      <th>specialty_description</th>\n",
       "      <th>nppes_provider_state</th>\n",
       "      <th>t_cost_per_claim_excluded</th>\n",
       "      <th>t_claim_count_schedule2</th>\n",
       "      <th>t_claim_per_bene</th>\n",
       "      <th>%b2bg_claim_count</th>\n",
       "      <th>%b2bg_drug_cost</th>\n",
       "      <th>%b2t_claim_count</th>\n",
       "      <th>...</th>\n",
       "      <th>antipsych_cost_per_claim_ge65</th>\n",
       "      <th>antipsych_claim_per_bene_ge65</th>\n",
       "      <th>total_30_day_fill_count</th>\n",
       "      <th>total_day_supply</th>\n",
       "      <th>total_30_day_fill_count_ge65</th>\n",
       "      <th>total_day_supply_ge65</th>\n",
       "      <th>opioid_day_supply</th>\n",
       "      <th>opioid_prescriber_rate</th>\n",
       "      <th>is_excluded</th>\n",
       "      <th>year</th>\n",
       "    </tr>\n",
       "  </thead>\n",
       "  <tbody>\n",
       "    <tr>\n",
       "      <th>0</th>\n",
       "      <td>0</td>\n",
       "      <td>1023417649</td>\n",
       "      <td>Internal Medicine</td>\n",
       "      <td>PA</td>\n",
       "      <td>512.29</td>\n",
       "      <td>14</td>\n",
       "      <td>2.7</td>\n",
       "      <td>0.0</td>\n",
       "      <td>0.0</td>\n",
       "      <td>0.0</td>\n",
       "      <td>...</td>\n",
       "      <td>0.0</td>\n",
       "      <td>0.0</td>\n",
       "      <td>605.0</td>\n",
       "      <td>13547</td>\n",
       "      <td>533.9</td>\n",
       "      <td>12009.0</td>\n",
       "      <td>0.0</td>\n",
       "      <td>0.0</td>\n",
       "      <td>0</td>\n",
       "      <td>2017-2018</td>\n",
       "    </tr>\n",
       "  </tbody>\n",
       "</table>\n",
       "<p>1 rows × 32 columns</p>\n",
       "</div>"
      ],
      "text/plain": [
       "   Unnamed: 0         npi specialty_description nppes_provider_state  \\\n",
       "0           0  1023417649     Internal Medicine                   PA   \n",
       "\n",
       "   t_cost_per_claim_excluded  t_claim_count_schedule2  t_claim_per_bene  \\\n",
       "0                     512.29                       14               2.7   \n",
       "\n",
       "   %b2bg_claim_count  %b2bg_drug_cost  %b2t_claim_count  ...  \\\n",
       "0                0.0              0.0               0.0  ...   \n",
       "\n",
       "   antipsych_cost_per_claim_ge65  antipsych_claim_per_bene_ge65  \\\n",
       "0                            0.0                            0.0   \n",
       "\n",
       "   total_30_day_fill_count  total_day_supply  total_30_day_fill_count_ge65  \\\n",
       "0                    605.0             13547                         533.9   \n",
       "\n",
       "   total_day_supply_ge65  opioid_day_supply  opioid_prescriber_rate  \\\n",
       "0                12009.0                0.0                     0.0   \n",
       "\n",
       "   is_excluded       year  \n",
       "0            0  2017-2018  \n",
       "\n",
       "[1 rows x 32 columns]"
      ]
     },
     "execution_count": 35,
     "metadata": {},
     "output_type": "execute_result"
    }
   ],
   "source": [
    "new_main_2017.head(1)"
   ]
  },
  {
   "cell_type": "code",
   "execution_count": 36,
   "metadata": {},
   "outputs": [],
   "source": [
    "new_main_2017.drop(['Unnamed: 0'], axis=1, inplace = True)"
   ]
  },
  {
   "cell_type": "code",
   "execution_count": 37,
   "metadata": {},
   "outputs": [],
   "source": [
    "new_main_2017.drop(['npi', 'specialty_description','nppes_provider_state','year'], axis=1, inplace = True)"
   ]
  },
  {
   "cell_type": "code",
   "execution_count": 38,
   "metadata": {},
   "outputs": [
    {
     "data": {
      "text/html": [
       "<div>\n",
       "<style scoped>\n",
       "    .dataframe tbody tr th:only-of-type {\n",
       "        vertical-align: middle;\n",
       "    }\n",
       "\n",
       "    .dataframe tbody tr th {\n",
       "        vertical-align: top;\n",
       "    }\n",
       "\n",
       "    .dataframe thead th {\n",
       "        text-align: right;\n",
       "    }\n",
       "</style>\n",
       "<table border=\"1\" class=\"dataframe\">\n",
       "  <thead>\n",
       "    <tr style=\"text-align: right;\">\n",
       "      <th></th>\n",
       "      <th>t_cost_per_claim_excluded</th>\n",
       "      <th>t_claim_count_schedule2</th>\n",
       "      <th>t_claim_per_bene</th>\n",
       "      <th>%b2bg_claim_count</th>\n",
       "      <th>%b2bg_drug_cost</th>\n",
       "      <th>%b2t_claim_count</th>\n",
       "      <th>%b2t_drug_cost</th>\n",
       "      <th>t_cost_per_claim</th>\n",
       "      <th>t_cost_per_claim_ge65</th>\n",
       "      <th>t_claim_per_bene_ge65</th>\n",
       "      <th>...</th>\n",
       "      <th>antibiotic_claim_per_bene</th>\n",
       "      <th>antipsych_cost_per_claim_ge65</th>\n",
       "      <th>antipsych_claim_per_bene_ge65</th>\n",
       "      <th>total_30_day_fill_count</th>\n",
       "      <th>total_day_supply</th>\n",
       "      <th>total_30_day_fill_count_ge65</th>\n",
       "      <th>total_day_supply_ge65</th>\n",
       "      <th>opioid_day_supply</th>\n",
       "      <th>opioid_prescriber_rate</th>\n",
       "      <th>is_excluded</th>\n",
       "    </tr>\n",
       "  </thead>\n",
       "  <tbody>\n",
       "    <tr>\n",
       "      <th>0</th>\n",
       "      <td>512.29</td>\n",
       "      <td>14</td>\n",
       "      <td>2.7</td>\n",
       "      <td>0.0</td>\n",
       "      <td>0.0</td>\n",
       "      <td>0.0</td>\n",
       "      <td>0.0</td>\n",
       "      <td>6966.0</td>\n",
       "      <td>5285.0</td>\n",
       "      <td>269.0</td>\n",
       "      <td>...</td>\n",
       "      <td>116.0</td>\n",
       "      <td>0.0</td>\n",
       "      <td>0.0</td>\n",
       "      <td>605.0</td>\n",
       "      <td>13547</td>\n",
       "      <td>533.9</td>\n",
       "      <td>12009.0</td>\n",
       "      <td>0.0</td>\n",
       "      <td>0.0</td>\n",
       "      <td>0</td>\n",
       "    </tr>\n",
       "  </tbody>\n",
       "</table>\n",
       "<p>1 rows × 27 columns</p>\n",
       "</div>"
      ],
      "text/plain": [
       "   t_cost_per_claim_excluded  t_claim_count_schedule2  t_claim_per_bene  \\\n",
       "0                     512.29                       14               2.7   \n",
       "\n",
       "   %b2bg_claim_count  %b2bg_drug_cost  %b2t_claim_count  %b2t_drug_cost  \\\n",
       "0                0.0              0.0               0.0             0.0   \n",
       "\n",
       "   t_cost_per_claim  t_cost_per_claim_ge65  t_claim_per_bene_ge65  ...  \\\n",
       "0            6966.0                 5285.0                  269.0  ...   \n",
       "\n",
       "   antibiotic_claim_per_bene  antipsych_cost_per_claim_ge65  \\\n",
       "0                      116.0                            0.0   \n",
       "\n",
       "   antipsych_claim_per_bene_ge65  total_30_day_fill_count  total_day_supply  \\\n",
       "0                            0.0                    605.0             13547   \n",
       "\n",
       "   total_30_day_fill_count_ge65  total_day_supply_ge65  opioid_day_supply  \\\n",
       "0                         533.9                12009.0                0.0   \n",
       "\n",
       "   opioid_prescriber_rate  is_excluded  \n",
       "0                     0.0            0  \n",
       "\n",
       "[1 rows x 27 columns]"
      ]
     },
     "execution_count": 38,
     "metadata": {},
     "output_type": "execute_result"
    }
   ],
   "source": [
    "new_main_2017.head(1)"
   ]
  },
  {
   "cell_type": "code",
   "execution_count": 39,
   "metadata": {},
   "outputs": [
    {
     "data": {
      "text/plain": [
       "101"
      ]
     },
     "execution_count": 39,
     "metadata": {},
     "output_type": "execute_result"
    }
   ],
   "source": [
    "len(new_main_2017[new_main_2017['is_excluded'] == 1])"
   ]
  },
  {
   "cell_type": "code",
   "execution_count": 40,
   "metadata": {},
   "outputs": [],
   "source": [
    "dropIndex = new_main_2017[new_main_2017['is_excluded'] == 1].index"
   ]
  },
  {
   "cell_type": "code",
   "execution_count": 41,
   "metadata": {},
   "outputs": [
    {
     "data": {
      "text/plain": [
       "904898"
      ]
     },
     "execution_count": 41,
     "metadata": {},
     "output_type": "execute_result"
    }
   ],
   "source": [
    "len(new_main_2017[new_main_2017['is_excluded'] == 0])"
   ]
  },
  {
   "cell_type": "code",
   "execution_count": 42,
   "metadata": {},
   "outputs": [],
   "source": [
    "only_excluded = new_main_2017[new_main_2017['is_excluded'] == 1]\n",
    "new_main_2017.drop(dropIndex, inplace = True)\n",
    "new_main_2017 = new_main_2017.sample(frac=1)\n",
    "random_sample = new_main_2017.iloc[0:85000]\n",
    "new_df = pd.concat([only_excluded, random_sample])\n",
    "new_main_2017 = new_main_2017.drop(new_main_2017.iloc[0:85000].index, axis = 0)\n",
    "new_df = new_df.sample(frac=1)\n",
    "#part_d_df.iloc[0:85000].index"
   ]
  },
  {
   "cell_type": "code",
   "execution_count": 43,
   "metadata": {},
   "outputs": [
    {
     "data": {
      "text/html": [
       "<div>\n",
       "<style scoped>\n",
       "    .dataframe tbody tr th:only-of-type {\n",
       "        vertical-align: middle;\n",
       "    }\n",
       "\n",
       "    .dataframe tbody tr th {\n",
       "        vertical-align: top;\n",
       "    }\n",
       "\n",
       "    .dataframe thead th {\n",
       "        text-align: right;\n",
       "    }\n",
       "</style>\n",
       "<table border=\"1\" class=\"dataframe\">\n",
       "  <thead>\n",
       "    <tr style=\"text-align: right;\">\n",
       "      <th></th>\n",
       "      <th>t_cost_per_claim_excluded</th>\n",
       "      <th>t_claim_count_schedule2</th>\n",
       "      <th>t_claim_per_bene</th>\n",
       "      <th>%b2bg_claim_count</th>\n",
       "      <th>%b2bg_drug_cost</th>\n",
       "      <th>%b2t_claim_count</th>\n",
       "      <th>%b2t_drug_cost</th>\n",
       "      <th>t_cost_per_claim</th>\n",
       "      <th>t_cost_per_claim_ge65</th>\n",
       "      <th>t_claim_per_bene_ge65</th>\n",
       "      <th>...</th>\n",
       "      <th>antibiotic_claim_per_bene</th>\n",
       "      <th>antipsych_cost_per_claim_ge65</th>\n",
       "      <th>antipsych_claim_per_bene_ge65</th>\n",
       "      <th>total_30_day_fill_count</th>\n",
       "      <th>total_day_supply</th>\n",
       "      <th>total_30_day_fill_count_ge65</th>\n",
       "      <th>total_day_supply_ge65</th>\n",
       "      <th>opioid_day_supply</th>\n",
       "      <th>opioid_prescriber_rate</th>\n",
       "      <th>is_excluded</th>\n",
       "    </tr>\n",
       "  </thead>\n",
       "  <tbody>\n",
       "    <tr>\n",
       "      <th>297787</th>\n",
       "      <td>107.31</td>\n",
       "      <td>8</td>\n",
       "      <td>1.7</td>\n",
       "      <td>0.0</td>\n",
       "      <td>0.0</td>\n",
       "      <td>0.0</td>\n",
       "      <td>0.0</td>\n",
       "      <td>693.0</td>\n",
       "      <td>683.0</td>\n",
       "      <td>158.0</td>\n",
       "      <td>...</td>\n",
       "      <td>126.0</td>\n",
       "      <td>0.0</td>\n",
       "      <td>0.0</td>\n",
       "      <td>278.0</td>\n",
       "      <td>1843</td>\n",
       "      <td>133.0</td>\n",
       "      <td>1034.0</td>\n",
       "      <td>240.0</td>\n",
       "      <td>29.86</td>\n",
       "      <td>0</td>\n",
       "    </tr>\n",
       "    <tr>\n",
       "      <th>644611</th>\n",
       "      <td>1011.83</td>\n",
       "      <td>50</td>\n",
       "      <td>8.3</td>\n",
       "      <td>20.0</td>\n",
       "      <td>57.0</td>\n",
       "      <td>20.0</td>\n",
       "      <td>56.0</td>\n",
       "      <td>4455.0</td>\n",
       "      <td>4388.0</td>\n",
       "      <td>793.0</td>\n",
       "      <td>...</td>\n",
       "      <td>140.0</td>\n",
       "      <td>0.0</td>\n",
       "      <td>0.0</td>\n",
       "      <td>6575.6</td>\n",
       "      <td>191506</td>\n",
       "      <td>6148.4</td>\n",
       "      <td>179745.0</td>\n",
       "      <td>2006.0</td>\n",
       "      <td>3.46</td>\n",
       "      <td>0</td>\n",
       "    </tr>\n",
       "    <tr>\n",
       "      <th>608194</th>\n",
       "      <td>860.27</td>\n",
       "      <td>7</td>\n",
       "      <td>7.2</td>\n",
       "      <td>0.0</td>\n",
       "      <td>0.0</td>\n",
       "      <td>0.0</td>\n",
       "      <td>0.0</td>\n",
       "      <td>6298.0</td>\n",
       "      <td>6491.0</td>\n",
       "      <td>0.0</td>\n",
       "      <td>...</td>\n",
       "      <td>0.0</td>\n",
       "      <td>3819.0</td>\n",
       "      <td>0.0</td>\n",
       "      <td>300.8</td>\n",
       "      <td>6740</td>\n",
       "      <td>289.8</td>\n",
       "      <td>6428.0</td>\n",
       "      <td>0.0</td>\n",
       "      <td>0.00</td>\n",
       "      <td>0</td>\n",
       "    </tr>\n",
       "    <tr>\n",
       "      <th>891615</th>\n",
       "      <td>1584.81</td>\n",
       "      <td>1</td>\n",
       "      <td>0.0</td>\n",
       "      <td>0.0</td>\n",
       "      <td>0.0</td>\n",
       "      <td>0.0</td>\n",
       "      <td>0.0</td>\n",
       "      <td>9684.0</td>\n",
       "      <td>0.0</td>\n",
       "      <td>0.0</td>\n",
       "      <td>...</td>\n",
       "      <td>0.0</td>\n",
       "      <td>0.0</td>\n",
       "      <td>0.0</td>\n",
       "      <td>17.0</td>\n",
       "      <td>416</td>\n",
       "      <td>0.0</td>\n",
       "      <td>0.0</td>\n",
       "      <td>0.0</td>\n",
       "      <td>0.00</td>\n",
       "      <td>0</td>\n",
       "    </tr>\n",
       "    <tr>\n",
       "      <th>87009</th>\n",
       "      <td>4852.07</td>\n",
       "      <td>25</td>\n",
       "      <td>7.2</td>\n",
       "      <td>20.0</td>\n",
       "      <td>75.0</td>\n",
       "      <td>20.0</td>\n",
       "      <td>75.0</td>\n",
       "      <td>6442.0</td>\n",
       "      <td>5872.0</td>\n",
       "      <td>671.0</td>\n",
       "      <td>...</td>\n",
       "      <td>227.0</td>\n",
       "      <td>0.0</td>\n",
       "      <td>0.0</td>\n",
       "      <td>3462.9</td>\n",
       "      <td>96560</td>\n",
       "      <td>2747.0</td>\n",
       "      <td>76910.0</td>\n",
       "      <td>0.0</td>\n",
       "      <td>0.00</td>\n",
       "      <td>0</td>\n",
       "    </tr>\n",
       "  </tbody>\n",
       "</table>\n",
       "<p>5 rows × 27 columns</p>\n",
       "</div>"
      ],
      "text/plain": [
       "        t_cost_per_claim_excluded  t_claim_count_schedule2  t_claim_per_bene  \\\n",
       "297787                     107.31                        8               1.7   \n",
       "644611                    1011.83                       50               8.3   \n",
       "608194                     860.27                        7               7.2   \n",
       "891615                    1584.81                        1               0.0   \n",
       "87009                     4852.07                       25               7.2   \n",
       "\n",
       "        %b2bg_claim_count  %b2bg_drug_cost  %b2t_claim_count  %b2t_drug_cost  \\\n",
       "297787                0.0              0.0               0.0             0.0   \n",
       "644611               20.0             57.0              20.0            56.0   \n",
       "608194                0.0              0.0               0.0             0.0   \n",
       "891615                0.0              0.0               0.0             0.0   \n",
       "87009                20.0             75.0              20.0            75.0   \n",
       "\n",
       "        t_cost_per_claim  t_cost_per_claim_ge65  t_claim_per_bene_ge65  ...  \\\n",
       "297787             693.0                  683.0                  158.0  ...   \n",
       "644611            4455.0                 4388.0                  793.0  ...   \n",
       "608194            6298.0                 6491.0                    0.0  ...   \n",
       "891615            9684.0                    0.0                    0.0  ...   \n",
       "87009             6442.0                 5872.0                  671.0  ...   \n",
       "\n",
       "        antibiotic_claim_per_bene  antipsych_cost_per_claim_ge65  \\\n",
       "297787                      126.0                            0.0   \n",
       "644611                      140.0                            0.0   \n",
       "608194                        0.0                         3819.0   \n",
       "891615                        0.0                            0.0   \n",
       "87009                       227.0                            0.0   \n",
       "\n",
       "        antipsych_claim_per_bene_ge65  total_30_day_fill_count  \\\n",
       "297787                            0.0                    278.0   \n",
       "644611                            0.0                   6575.6   \n",
       "608194                            0.0                    300.8   \n",
       "891615                            0.0                     17.0   \n",
       "87009                             0.0                   3462.9   \n",
       "\n",
       "        total_day_supply  total_30_day_fill_count_ge65  total_day_supply_ge65  \\\n",
       "297787              1843                         133.0                 1034.0   \n",
       "644611            191506                        6148.4               179745.0   \n",
       "608194              6740                         289.8                 6428.0   \n",
       "891615               416                           0.0                    0.0   \n",
       "87009              96560                        2747.0                76910.0   \n",
       "\n",
       "        opioid_day_supply  opioid_prescriber_rate  is_excluded  \n",
       "297787              240.0                   29.86            0  \n",
       "644611             2006.0                    3.46            0  \n",
       "608194                0.0                    0.00            0  \n",
       "891615                0.0                    0.00            0  \n",
       "87009                 0.0                    0.00            0  \n",
       "\n",
       "[5 rows x 27 columns]"
      ]
     },
     "execution_count": 43,
     "metadata": {},
     "output_type": "execute_result"
    }
   ],
   "source": [
    "#new_df.drop(['Unnamed: 0'], axis=1, inplace = True)\n",
    "new_df.head()"
   ]
  },
  {
   "cell_type": "markdown",
   "metadata": {},
   "source": []
  },
  {
   "cell_type": "code",
   "execution_count": 44,
   "metadata": {},
   "outputs": [
    {
     "data": {
      "text/html": [
       "<div>\n",
       "<style scoped>\n",
       "    .dataframe tbody tr th:only-of-type {\n",
       "        vertical-align: middle;\n",
       "    }\n",
       "\n",
       "    .dataframe tbody tr th {\n",
       "        vertical-align: top;\n",
       "    }\n",
       "\n",
       "    .dataframe thead th {\n",
       "        text-align: right;\n",
       "    }\n",
       "</style>\n",
       "<table border=\"1\" class=\"dataframe\">\n",
       "  <thead>\n",
       "    <tr style=\"text-align: right;\">\n",
       "      <th></th>\n",
       "      <th>t_cost_per_claim_excluded</th>\n",
       "      <th>t_claim_count_schedule2</th>\n",
       "      <th>t_claim_per_bene</th>\n",
       "      <th>%b2bg_claim_count</th>\n",
       "      <th>%b2bg_drug_cost</th>\n",
       "      <th>%b2t_claim_count</th>\n",
       "      <th>%b2t_drug_cost</th>\n",
       "      <th>t_cost_per_claim</th>\n",
       "      <th>t_cost_per_claim_ge65</th>\n",
       "      <th>t_claim_per_bene_ge65</th>\n",
       "      <th>...</th>\n",
       "      <th>antibiotic_claim_per_bene</th>\n",
       "      <th>antipsych_cost_per_claim_ge65</th>\n",
       "      <th>antipsych_claim_per_bene_ge65</th>\n",
       "      <th>total_30_day_fill_count</th>\n",
       "      <th>total_day_supply</th>\n",
       "      <th>total_30_day_fill_count_ge65</th>\n",
       "      <th>total_day_supply_ge65</th>\n",
       "      <th>opioid_day_supply</th>\n",
       "      <th>opioid_prescriber_rate</th>\n",
       "      <th>is_excluded</th>\n",
       "    </tr>\n",
       "  </thead>\n",
       "  <tbody>\n",
       "    <tr>\n",
       "      <th>count</th>\n",
       "      <td>8.198980e+05</td>\n",
       "      <td>819898.000000</td>\n",
       "      <td>819898.000000</td>\n",
       "      <td>819898.000000</td>\n",
       "      <td>819898.000000</td>\n",
       "      <td>819898.000000</td>\n",
       "      <td>819898.000000</td>\n",
       "      <td>8.198980e+05</td>\n",
       "      <td>8.198980e+05</td>\n",
       "      <td>819898.000000</td>\n",
       "      <td>...</td>\n",
       "      <td>819898.000000</td>\n",
       "      <td>819898.000000</td>\n",
       "      <td>819898.000000</td>\n",
       "      <td>819898.000000</td>\n",
       "      <td>8.198980e+05</td>\n",
       "      <td>819898.000000</td>\n",
       "      <td>8.198980e+05</td>\n",
       "      <td>819898.000000</td>\n",
       "      <td>819898.000000</td>\n",
       "      <td>819898.0</td>\n",
       "    </tr>\n",
       "    <tr>\n",
       "      <th>mean</th>\n",
       "      <td>2.209397e+03</td>\n",
       "      <td>25.571760</td>\n",
       "      <td>6.395758</td>\n",
       "      <td>12.580431</td>\n",
       "      <td>38.951690</td>\n",
       "      <td>12.361099</td>\n",
       "      <td>38.894972</td>\n",
       "      <td>1.255493e+04</td>\n",
       "      <td>1.030051e+04</td>\n",
       "      <td>479.508627</td>\n",
       "      <td>...</td>\n",
       "      <td>92.354290</td>\n",
       "      <td>1388.965754</td>\n",
       "      <td>28.261118</td>\n",
       "      <td>2511.452801</td>\n",
       "      <td>6.982174e+04</td>\n",
       "      <td>2035.361320</td>\n",
       "      <td>5.690062e+04</td>\n",
       "      <td>1838.444004</td>\n",
       "      <td>8.749986</td>\n",
       "      <td>0.0</td>\n",
       "    </tr>\n",
       "    <tr>\n",
       "      <th>std</th>\n",
       "      <td>5.697890e+03</td>\n",
       "      <td>40.619923</td>\n",
       "      <td>7.124802</td>\n",
       "      <td>16.518460</td>\n",
       "      <td>37.128341</td>\n",
       "      <td>15.885783</td>\n",
       "      <td>36.904146</td>\n",
       "      <td>5.510932e+04</td>\n",
       "      <td>3.684677e+04</td>\n",
       "      <td>686.952454</td>\n",
       "      <td>...</td>\n",
       "      <td>82.658339</td>\n",
       "      <td>7006.366784</td>\n",
       "      <td>144.304301</td>\n",
       "      <td>5142.801557</td>\n",
       "      <td>1.441068e+05</td>\n",
       "      <td>4463.190532</td>\n",
       "      <td>1.254358e+05</td>\n",
       "      <td>8305.332316</td>\n",
       "      <td>18.400123</td>\n",
       "      <td>0.0</td>\n",
       "    </tr>\n",
       "    <tr>\n",
       "      <th>min</th>\n",
       "      <td>0.000000e+00</td>\n",
       "      <td>0.000000</td>\n",
       "      <td>0.000000</td>\n",
       "      <td>0.000000</td>\n",
       "      <td>0.000000</td>\n",
       "      <td>0.000000</td>\n",
       "      <td>0.000000</td>\n",
       "      <td>0.000000e+00</td>\n",
       "      <td>0.000000e+00</td>\n",
       "      <td>0.000000</td>\n",
       "      <td>...</td>\n",
       "      <td>0.000000</td>\n",
       "      <td>0.000000</td>\n",
       "      <td>0.000000</td>\n",
       "      <td>11.000000</td>\n",
       "      <td>1.100000e+01</td>\n",
       "      <td>0.000000</td>\n",
       "      <td>0.000000e+00</td>\n",
       "      <td>0.000000</td>\n",
       "      <td>0.000000</td>\n",
       "      <td>0.0</td>\n",
       "    </tr>\n",
       "    <tr>\n",
       "      <th>25%</th>\n",
       "      <td>1.670400e+02</td>\n",
       "      <td>2.000000</td>\n",
       "      <td>1.900000</td>\n",
       "      <td>0.000000</td>\n",
       "      <td>0.000000</td>\n",
       "      <td>0.000000</td>\n",
       "      <td>0.000000</td>\n",
       "      <td>2.354000e+03</td>\n",
       "      <td>1.396000e+03</td>\n",
       "      <td>0.000000</td>\n",
       "      <td>...</td>\n",
       "      <td>0.000000</td>\n",
       "      <td>0.000000</td>\n",
       "      <td>0.000000</td>\n",
       "      <td>141.000000</td>\n",
       "      <td>2.164000e+03</td>\n",
       "      <td>72.100000</td>\n",
       "      <td>9.720000e+02</td>\n",
       "      <td>0.000000</td>\n",
       "      <td>0.000000</td>\n",
       "      <td>0.0</td>\n",
       "    </tr>\n",
       "    <tr>\n",
       "      <th>50%</th>\n",
       "      <td>6.754350e+02</td>\n",
       "      <td>7.000000</td>\n",
       "      <td>3.600000</td>\n",
       "      <td>10.000000</td>\n",
       "      <td>42.000000</td>\n",
       "      <td>10.000000</td>\n",
       "      <td>43.000000</td>\n",
       "      <td>5.504000e+03</td>\n",
       "      <td>4.654000e+03</td>\n",
       "      <td>222.000000</td>\n",
       "      <td>...</td>\n",
       "      <td>113.000000</td>\n",
       "      <td>0.000000</td>\n",
       "      <td>0.000000</td>\n",
       "      <td>445.200000</td>\n",
       "      <td>1.028700e+04</td>\n",
       "      <td>298.200000</td>\n",
       "      <td>6.695000e+03</td>\n",
       "      <td>46.000000</td>\n",
       "      <td>0.810000</td>\n",
       "      <td>0.0</td>\n",
       "    </tr>\n",
       "    <tr>\n",
       "      <th>75%</th>\n",
       "      <td>2.372575e+03</td>\n",
       "      <td>29.000000</td>\n",
       "      <td>8.300000</td>\n",
       "      <td>20.000000</td>\n",
       "      <td>73.000000</td>\n",
       "      <td>20.000000</td>\n",
       "      <td>73.000000</td>\n",
       "      <td>9.329000e+03</td>\n",
       "      <td>7.989750e+03</td>\n",
       "      <td>652.000000</td>\n",
       "      <td>...</td>\n",
       "      <td>143.000000</td>\n",
       "      <td>0.000000</td>\n",
       "      <td>0.000000</td>\n",
       "      <td>2269.175000</td>\n",
       "      <td>6.289150e+04</td>\n",
       "      <td>1611.675000</td>\n",
       "      <td>4.444700e+04</td>\n",
       "      <td>632.000000</td>\n",
       "      <td>8.430000</td>\n",
       "      <td>0.0</td>\n",
       "    </tr>\n",
       "    <tr>\n",
       "      <th>max</th>\n",
       "      <td>1.713038e+06</td>\n",
       "      <td>394.000000</td>\n",
       "      <td>307.100000</td>\n",
       "      <td>100.000000</td>\n",
       "      <td>100.000000</td>\n",
       "      <td>100.000000</td>\n",
       "      <td>100.000000</td>\n",
       "      <td>1.712797e+07</td>\n",
       "      <td>7.622389e+06</td>\n",
       "      <td>27000.000000</td>\n",
       "      <td>...</td>\n",
       "      <td>3422.000000</td>\n",
       "      <td>479253.000000</td>\n",
       "      <td>6007.000000</td>\n",
       "      <td>447960.500000</td>\n",
       "      <td>5.634058e+06</td>\n",
       "      <td>379751.000000</td>\n",
       "      <td>4.737252e+06</td>\n",
       "      <td>615456.000000</td>\n",
       "      <td>909.000000</td>\n",
       "      <td>0.0</td>\n",
       "    </tr>\n",
       "  </tbody>\n",
       "</table>\n",
       "<p>8 rows × 27 columns</p>\n",
       "</div>"
      ],
      "text/plain": [
       "       t_cost_per_claim_excluded  t_claim_count_schedule2  t_claim_per_bene  \\\n",
       "count               8.198980e+05            819898.000000     819898.000000   \n",
       "mean                2.209397e+03                25.571760          6.395758   \n",
       "std                 5.697890e+03                40.619923          7.124802   \n",
       "min                 0.000000e+00                 0.000000          0.000000   \n",
       "25%                 1.670400e+02                 2.000000          1.900000   \n",
       "50%                 6.754350e+02                 7.000000          3.600000   \n",
       "75%                 2.372575e+03                29.000000          8.300000   \n",
       "max                 1.713038e+06               394.000000        307.100000   \n",
       "\n",
       "       %b2bg_claim_count  %b2bg_drug_cost  %b2t_claim_count  %b2t_drug_cost  \\\n",
       "count      819898.000000    819898.000000     819898.000000   819898.000000   \n",
       "mean           12.580431        38.951690         12.361099       38.894972   \n",
       "std            16.518460        37.128341         15.885783       36.904146   \n",
       "min             0.000000         0.000000          0.000000        0.000000   \n",
       "25%             0.000000         0.000000          0.000000        0.000000   \n",
       "50%            10.000000        42.000000         10.000000       43.000000   \n",
       "75%            20.000000        73.000000         20.000000       73.000000   \n",
       "max           100.000000       100.000000        100.000000      100.000000   \n",
       "\n",
       "       t_cost_per_claim  t_cost_per_claim_ge65  t_claim_per_bene_ge65  ...  \\\n",
       "count      8.198980e+05           8.198980e+05          819898.000000  ...   \n",
       "mean       1.255493e+04           1.030051e+04             479.508627  ...   \n",
       "std        5.510932e+04           3.684677e+04             686.952454  ...   \n",
       "min        0.000000e+00           0.000000e+00               0.000000  ...   \n",
       "25%        2.354000e+03           1.396000e+03               0.000000  ...   \n",
       "50%        5.504000e+03           4.654000e+03             222.000000  ...   \n",
       "75%        9.329000e+03           7.989750e+03             652.000000  ...   \n",
       "max        1.712797e+07           7.622389e+06           27000.000000  ...   \n",
       "\n",
       "       antibiotic_claim_per_bene  antipsych_cost_per_claim_ge65  \\\n",
       "count              819898.000000                  819898.000000   \n",
       "mean                   92.354290                    1388.965754   \n",
       "std                    82.658339                    7006.366784   \n",
       "min                     0.000000                       0.000000   \n",
       "25%                     0.000000                       0.000000   \n",
       "50%                   113.000000                       0.000000   \n",
       "75%                   143.000000                       0.000000   \n",
       "max                  3422.000000                  479253.000000   \n",
       "\n",
       "       antipsych_claim_per_bene_ge65  total_30_day_fill_count  \\\n",
       "count                  819898.000000            819898.000000   \n",
       "mean                       28.261118              2511.452801   \n",
       "std                       144.304301              5142.801557   \n",
       "min                         0.000000                11.000000   \n",
       "25%                         0.000000               141.000000   \n",
       "50%                         0.000000               445.200000   \n",
       "75%                         0.000000              2269.175000   \n",
       "max                      6007.000000            447960.500000   \n",
       "\n",
       "       total_day_supply  total_30_day_fill_count_ge65  total_day_supply_ge65  \\\n",
       "count      8.198980e+05                 819898.000000           8.198980e+05   \n",
       "mean       6.982174e+04                   2035.361320           5.690062e+04   \n",
       "std        1.441068e+05                   4463.190532           1.254358e+05   \n",
       "min        1.100000e+01                      0.000000           0.000000e+00   \n",
       "25%        2.164000e+03                     72.100000           9.720000e+02   \n",
       "50%        1.028700e+04                    298.200000           6.695000e+03   \n",
       "75%        6.289150e+04                   1611.675000           4.444700e+04   \n",
       "max        5.634058e+06                 379751.000000           4.737252e+06   \n",
       "\n",
       "       opioid_day_supply  opioid_prescriber_rate  is_excluded  \n",
       "count      819898.000000           819898.000000     819898.0  \n",
       "mean         1838.444004                8.749986          0.0  \n",
       "std          8305.332316               18.400123          0.0  \n",
       "min             0.000000                0.000000          0.0  \n",
       "25%             0.000000                0.000000          0.0  \n",
       "50%            46.000000                0.810000          0.0  \n",
       "75%           632.000000                8.430000          0.0  \n",
       "max        615456.000000              909.000000          0.0  \n",
       "\n",
       "[8 rows x 27 columns]"
      ]
     },
     "execution_count": 44,
     "metadata": {},
     "output_type": "execute_result"
    }
   ],
   "source": [
    "new_main_2017.describe()"
   ]
  },
  {
   "cell_type": "code",
   "execution_count": 45,
   "metadata": {},
   "outputs": [],
   "source": [
    "import math"
   ]
  },
  {
   "cell_type": "code",
   "execution_count": 46,
   "metadata": {},
   "outputs": [],
   "source": [
    "from sklearn import decomposition\n",
    "from sklearn.ensemble import RandomForestClassifier\n",
    "from sklearn.model_selection import train_test_split\n",
    "from sklearn.metrics import confusion_matrix, roc_curve, roc_auc_score, auc\n",
    "from sklearn.utils import resample\n",
    "from sklearn.preprocessing import label_binarize\n",
    "from sklearn.svm import SVC\n",
    "from scipy.stats import pointbiserialr"
   ]
  },
  {
   "cell_type": "code",
   "execution_count": 47,
   "metadata": {
    "scrolled": true
   },
   "outputs": [
    {
     "data": {
      "text/html": [
       "<div>\n",
       "<style scoped>\n",
       "    .dataframe tbody tr th:only-of-type {\n",
       "        vertical-align: middle;\n",
       "    }\n",
       "\n",
       "    .dataframe tbody tr th {\n",
       "        vertical-align: top;\n",
       "    }\n",
       "\n",
       "    .dataframe thead th {\n",
       "        text-align: right;\n",
       "    }\n",
       "</style>\n",
       "<table border=\"1\" class=\"dataframe\">\n",
       "  <thead>\n",
       "    <tr style=\"text-align: right;\">\n",
       "      <th></th>\n",
       "      <th>t_cost_per_claim_excluded</th>\n",
       "      <th>t_claim_count_schedule2</th>\n",
       "      <th>t_claim_per_bene</th>\n",
       "      <th>%b2bg_claim_count</th>\n",
       "      <th>%b2bg_drug_cost</th>\n",
       "      <th>%b2t_claim_count</th>\n",
       "      <th>%b2t_drug_cost</th>\n",
       "      <th>t_cost_per_claim</th>\n",
       "      <th>t_cost_per_claim_ge65</th>\n",
       "      <th>t_claim_per_bene_ge65</th>\n",
       "      <th>...</th>\n",
       "      <th>antibiotic_claim_per_bene</th>\n",
       "      <th>antipsych_cost_per_claim_ge65</th>\n",
       "      <th>antipsych_claim_per_bene_ge65</th>\n",
       "      <th>total_30_day_fill_count</th>\n",
       "      <th>total_day_supply</th>\n",
       "      <th>total_30_day_fill_count_ge65</th>\n",
       "      <th>total_day_supply_ge65</th>\n",
       "      <th>opioid_day_supply</th>\n",
       "      <th>opioid_prescriber_rate</th>\n",
       "      <th>is_excluded</th>\n",
       "    </tr>\n",
       "  </thead>\n",
       "  <tbody>\n",
       "    <tr>\n",
       "      <th>count</th>\n",
       "      <td>1000000.000000</td>\n",
       "      <td>1000000.000000</td>\n",
       "      <td>1000000.000000</td>\n",
       "      <td>1000000.000000</td>\n",
       "      <td>1000000.000000</td>\n",
       "      <td>1000000.000000</td>\n",
       "      <td>1000000.000000</td>\n",
       "      <td>1000000.000000</td>\n",
       "      <td>1000000.000000</td>\n",
       "      <td>1000000.000000</td>\n",
       "      <td>...</td>\n",
       "      <td>1000000.000000</td>\n",
       "      <td>1000000.000000</td>\n",
       "      <td>1000000.000000</td>\n",
       "      <td>1000000.000000</td>\n",
       "      <td>1000000.000000</td>\n",
       "      <td>1000000.000000</td>\n",
       "      <td>1000000.000000</td>\n",
       "      <td>1000000.000000</td>\n",
       "      <td>1000000.000000</td>\n",
       "      <td>1000000.0</td>\n",
       "    </tr>\n",
       "    <tr>\n",
       "      <th>mean</th>\n",
       "      <td>5194.967630</td>\n",
       "      <td>38.609067</td>\n",
       "      <td>9.485671</td>\n",
       "      <td>11.374050</td>\n",
       "      <td>36.234950</td>\n",
       "      <td>10.876360</td>\n",
       "      <td>36.026284</td>\n",
       "      <td>10551.133795</td>\n",
       "      <td>8908.213605</td>\n",
       "      <td>751.031469</td>\n",
       "      <td>...</td>\n",
       "      <td>77.438471</td>\n",
       "      <td>2743.050558</td>\n",
       "      <td>43.789287</td>\n",
       "      <td>3131.733322</td>\n",
       "      <td>88423.346199</td>\n",
       "      <td>2090.284659</td>\n",
       "      <td>59364.759391</td>\n",
       "      <td>5985.222628</td>\n",
       "      <td>8.280612</td>\n",
       "      <td>1.0</td>\n",
       "    </tr>\n",
       "    <tr>\n",
       "      <th>std</th>\n",
       "      <td>28249.745002</td>\n",
       "      <td>55.813583</td>\n",
       "      <td>9.620971</td>\n",
       "      <td>14.980311</td>\n",
       "      <td>36.168503</td>\n",
       "      <td>12.989995</td>\n",
       "      <td>35.937057</td>\n",
       "      <td>17528.724650</td>\n",
       "      <td>16454.262782</td>\n",
       "      <td>932.513383</td>\n",
       "      <td>...</td>\n",
       "      <td>88.433065</td>\n",
       "      <td>8561.702769</td>\n",
       "      <td>158.750327</td>\n",
       "      <td>5513.810033</td>\n",
       "      <td>156739.468845</td>\n",
       "      <td>4178.857341</td>\n",
       "      <td>118866.398677</td>\n",
       "      <td>22597.822680</td>\n",
       "      <td>14.853448</td>\n",
       "      <td>0.0</td>\n",
       "    </tr>\n",
       "    <tr>\n",
       "      <th>min</th>\n",
       "      <td>40.990000</td>\n",
       "      <td>1.000000</td>\n",
       "      <td>0.000000</td>\n",
       "      <td>0.000000</td>\n",
       "      <td>0.000000</td>\n",
       "      <td>0.000000</td>\n",
       "      <td>0.000000</td>\n",
       "      <td>294.000000</td>\n",
       "      <td>0.000000</td>\n",
       "      <td>0.000000</td>\n",
       "      <td>...</td>\n",
       "      <td>0.000000</td>\n",
       "      <td>0.000000</td>\n",
       "      <td>0.000000</td>\n",
       "      <td>13.000000</td>\n",
       "      <td>221.000000</td>\n",
       "      <td>0.000000</td>\n",
       "      <td>0.000000</td>\n",
       "      <td>0.000000</td>\n",
       "      <td>0.000000</td>\n",
       "      <td>1.0</td>\n",
       "    </tr>\n",
       "    <tr>\n",
       "      <th>25%</th>\n",
       "      <td>293.230000</td>\n",
       "      <td>3.000000</td>\n",
       "      <td>2.200000</td>\n",
       "      <td>0.000000</td>\n",
       "      <td>0.000000</td>\n",
       "      <td>0.000000</td>\n",
       "      <td>0.000000</td>\n",
       "      <td>4406.000000</td>\n",
       "      <td>2876.000000</td>\n",
       "      <td>0.000000</td>\n",
       "      <td>...</td>\n",
       "      <td>0.000000</td>\n",
       "      <td>0.000000</td>\n",
       "      <td>0.000000</td>\n",
       "      <td>109.000000</td>\n",
       "      <td>2955.000000</td>\n",
       "      <td>62.000000</td>\n",
       "      <td>1280.000000</td>\n",
       "      <td>0.000000</td>\n",
       "      <td>0.000000</td>\n",
       "      <td>1.0</td>\n",
       "    </tr>\n",
       "    <tr>\n",
       "      <th>50%</th>\n",
       "      <td>1206.820000</td>\n",
       "      <td>11.000000</td>\n",
       "      <td>5.800000</td>\n",
       "      <td>10.000000</td>\n",
       "      <td>43.000000</td>\n",
       "      <td>10.000000</td>\n",
       "      <td>43.000000</td>\n",
       "      <td>7223.000000</td>\n",
       "      <td>5345.000000</td>\n",
       "      <td>378.000000</td>\n",
       "      <td>...</td>\n",
       "      <td>0.000000</td>\n",
       "      <td>0.000000</td>\n",
       "      <td>0.000000</td>\n",
       "      <td>632.600000</td>\n",
       "      <td>18369.000000</td>\n",
       "      <td>368.400000</td>\n",
       "      <td>10843.000000</td>\n",
       "      <td>0.000000</td>\n",
       "      <td>0.000000</td>\n",
       "      <td>1.0</td>\n",
       "    </tr>\n",
       "    <tr>\n",
       "      <th>75%</th>\n",
       "      <td>3338.240000</td>\n",
       "      <td>54.000000</td>\n",
       "      <td>13.800000</td>\n",
       "      <td>20.000000</td>\n",
       "      <td>71.000000</td>\n",
       "      <td>20.000000</td>\n",
       "      <td>70.000000</td>\n",
       "      <td>10419.000000</td>\n",
       "      <td>7982.000000</td>\n",
       "      <td>1163.000000</td>\n",
       "      <td>...</td>\n",
       "      <td>157.000000</td>\n",
       "      <td>633.000000</td>\n",
       "      <td>0.000000</td>\n",
       "      <td>3164.200000</td>\n",
       "      <td>90194.000000</td>\n",
       "      <td>1882.600000</td>\n",
       "      <td>52000.000000</td>\n",
       "      <td>3107.000000</td>\n",
       "      <td>7.590000</td>\n",
       "      <td>1.0</td>\n",
       "    </tr>\n",
       "    <tr>\n",
       "      <th>max</th>\n",
       "      <td>286886.380000</td>\n",
       "      <td>299.000000</td>\n",
       "      <td>46.100000</td>\n",
       "      <td>100.000000</td>\n",
       "      <td>100.000000</td>\n",
       "      <td>60.000000</td>\n",
       "      <td>98.000000</td>\n",
       "      <td>141957.000000</td>\n",
       "      <td>125896.000000</td>\n",
       "      <td>4355.000000</td>\n",
       "      <td>...</td>\n",
       "      <td>322.000000</td>\n",
       "      <td>50758.000000</td>\n",
       "      <td>803.000000</td>\n",
       "      <td>33073.000000</td>\n",
       "      <td>934916.000000</td>\n",
       "      <td>22770.800000</td>\n",
       "      <td>647623.000000</td>\n",
       "      <td>213611.000000</td>\n",
       "      <td>68.220000</td>\n",
       "      <td>1.0</td>\n",
       "    </tr>\n",
       "  </tbody>\n",
       "</table>\n",
       "<p>8 rows × 27 columns</p>\n",
       "</div>"
      ],
      "text/plain": [
       "       t_cost_per_claim_excluded  t_claim_count_schedule2  t_claim_per_bene  \\\n",
       "count             1000000.000000           1000000.000000    1000000.000000   \n",
       "mean                 5194.967630                38.609067          9.485671   \n",
       "std                 28249.745002                55.813583          9.620971   \n",
       "min                    40.990000                 1.000000          0.000000   \n",
       "25%                   293.230000                 3.000000          2.200000   \n",
       "50%                  1206.820000                11.000000          5.800000   \n",
       "75%                  3338.240000                54.000000         13.800000   \n",
       "max                286886.380000               299.000000         46.100000   \n",
       "\n",
       "       %b2bg_claim_count  %b2bg_drug_cost  %b2t_claim_count  %b2t_drug_cost  \\\n",
       "count     1000000.000000   1000000.000000    1000000.000000  1000000.000000   \n",
       "mean           11.374050        36.234950         10.876360       36.026284   \n",
       "std            14.980311        36.168503         12.989995       35.937057   \n",
       "min             0.000000         0.000000          0.000000        0.000000   \n",
       "25%             0.000000         0.000000          0.000000        0.000000   \n",
       "50%            10.000000        43.000000         10.000000       43.000000   \n",
       "75%            20.000000        71.000000         20.000000       70.000000   \n",
       "max           100.000000       100.000000         60.000000       98.000000   \n",
       "\n",
       "       t_cost_per_claim  t_cost_per_claim_ge65  t_claim_per_bene_ge65  ...  \\\n",
       "count    1000000.000000         1000000.000000         1000000.000000  ...   \n",
       "mean       10551.133795            8908.213605             751.031469  ...   \n",
       "std        17528.724650           16454.262782             932.513383  ...   \n",
       "min          294.000000               0.000000               0.000000  ...   \n",
       "25%         4406.000000            2876.000000               0.000000  ...   \n",
       "50%         7223.000000            5345.000000             378.000000  ...   \n",
       "75%        10419.000000            7982.000000            1163.000000  ...   \n",
       "max       141957.000000          125896.000000            4355.000000  ...   \n",
       "\n",
       "       antibiotic_claim_per_bene  antipsych_cost_per_claim_ge65  \\\n",
       "count             1000000.000000                 1000000.000000   \n",
       "mean                   77.438471                    2743.050558   \n",
       "std                    88.433065                    8561.702769   \n",
       "min                     0.000000                       0.000000   \n",
       "25%                     0.000000                       0.000000   \n",
       "50%                     0.000000                       0.000000   \n",
       "75%                   157.000000                     633.000000   \n",
       "max                   322.000000                   50758.000000   \n",
       "\n",
       "       antipsych_claim_per_bene_ge65  total_30_day_fill_count  \\\n",
       "count                 1000000.000000           1000000.000000   \n",
       "mean                       43.789287              3131.733322   \n",
       "std                       158.750327              5513.810033   \n",
       "min                         0.000000                13.000000   \n",
       "25%                         0.000000               109.000000   \n",
       "50%                         0.000000               632.600000   \n",
       "75%                         0.000000              3164.200000   \n",
       "max                       803.000000             33073.000000   \n",
       "\n",
       "       total_day_supply  total_30_day_fill_count_ge65  total_day_supply_ge65  \\\n",
       "count    1000000.000000                1000000.000000         1000000.000000   \n",
       "mean       88423.346199                   2090.284659           59364.759391   \n",
       "std       156739.468845                   4178.857341          118866.398677   \n",
       "min          221.000000                      0.000000               0.000000   \n",
       "25%         2955.000000                     62.000000            1280.000000   \n",
       "50%        18369.000000                    368.400000           10843.000000   \n",
       "75%        90194.000000                   1882.600000           52000.000000   \n",
       "max       934916.000000                  22770.800000          647623.000000   \n",
       "\n",
       "       opioid_day_supply  opioid_prescriber_rate  is_excluded  \n",
       "count     1000000.000000          1000000.000000    1000000.0  \n",
       "mean         5985.222628                8.280612          1.0  \n",
       "std         22597.822680               14.853448          0.0  \n",
       "min             0.000000                0.000000          1.0  \n",
       "25%             0.000000                0.000000          1.0  \n",
       "50%             0.000000                0.000000          1.0  \n",
       "75%          3107.000000                7.590000          1.0  \n",
       "max        213611.000000               68.220000          1.0  \n",
       "\n",
       "[8 rows x 27 columns]"
      ]
     },
     "execution_count": 47,
     "metadata": {},
     "output_type": "execute_result"
    }
   ],
   "source": [
    "#part_d_excluded = new_df[new_df[\"is_excluded\"]==1]\n",
    "\n",
    "fudge = resample(only_excluded, replace=True, n_samples=1000000, random_state = 0)\n",
    "#fudge.drop(['Unnamed: 0'], axis=1, inplace = True)\n",
    "fudge.describe()"
   ]
  },
  {
   "cell_type": "code",
   "execution_count": 48,
   "metadata": {},
   "outputs": [],
   "source": [
    "std = fudge.describe().loc[\"std\"]\n",
    "std = std[0:26]"
   ]
  },
  {
   "cell_type": "code",
   "execution_count": 49,
   "metadata": {},
   "outputs": [],
   "source": [
    "rtstd = std.map(lambda x : math.sqrt(x)/2) #use half of square root of standard deviation as the range for gaussian normal\n",
    "rtstd = rtstd.to_dict()"
   ]
  },
  {
   "cell_type": "code",
   "execution_count": 50,
   "metadata": {},
   "outputs": [
    {
     "name": "stderr",
     "output_type": "stream",
     "text": [
      "C:\\ProgramData\\Anaconda3\\lib\\site-packages\\ipykernel_launcher.py:3: SettingWithCopyWarning: \n",
      "A value is trying to be set on a copy of a slice from a DataFrame.\n",
      "Try using .loc[row_indexer,col_indexer] = value instead\n",
      "\n",
      "See the caveats in the documentation: http://pandas.pydata.org/pandas-docs/stable/indexing.html#indexing-view-versus-copy\n",
      "  This is separate from the ipykernel package so we can avoid doing imports until\n"
     ]
    }
   ],
   "source": [
    "for key in rtstd:\n",
    "    #fudge[key] = fudge[key].map(lambda x: (np.random.normal(x, rtstd[key])))\n",
    "    fudge[key] = fudge[key].map(lambda x: (np.random.normal(x, 2)))\n",
    "fudge = fudge[fudge>=0]\n",
    "fudge.dropna(inplace = True)"
   ]
  },
  {
   "cell_type": "code",
   "execution_count": 51,
   "metadata": {},
   "outputs": [
    {
     "data": {
      "text/plain": [
       "{'t_cost_per_claim_excluded': 84.03830228283725,\n",
       " 't_claim_count_schedule2': 3.735424432090368,\n",
       " 't_claim_per_bene': 1.5508844893809823,\n",
       " '%b2bg_claim_count': 1.9352203219559672,\n",
       " '%b2bg_drug_cost': 3.007012758064355,\n",
       " '%b2t_claim_count': 1.802081760350314,\n",
       " '%b2t_drug_cost': 2.99737621069871,\n",
       " 't_cost_per_claim': 66.19804500548426,\n",
       " 't_cost_per_claim_ge65': 64.13708518052151,\n",
       " 't_claim_per_bene_ge65': 15.268541048298102,\n",
       " 'mapd_cost_per_claim': 64.61408506431768,\n",
       " 'pdp_cost_per_claim': 67.25735816485223,\n",
       " 'lis_cost_per_claim': 68.22596052313033,\n",
       " 'nonlis_cost_per_claim': 62.07153722436618,\n",
       " 'opioid_cost_per_claim': 46.504668620058595,\n",
       " 'opioid_claim_per_bene': 8.847407251096762,\n",
       " 'antibiotic_cost_per_claim': 29.817508674809556,\n",
       " 'antibiotic_claim_per_bene': 4.701942818546453,\n",
       " 'antipsych_cost_per_claim_ge65': 46.26473486591827,\n",
       " 'antipsych_claim_per_bene_ge65': 6.299808071086247,\n",
       " 'total_30_day_fill_count': 37.12751686106159,\n",
       " 'total_day_supply': 197.95167898077315,\n",
       " 'total_30_day_fill_count_ge65': 32.32204101305794,\n",
       " 'total_day_supply_ge65': 172.3850331940279,\n",
       " 'opioid_day_supply': 75.1628609755071,\n",
       " 'opioid_prescriber_rate': 1.9270085656978702}"
      ]
     },
     "execution_count": 51,
     "metadata": {},
     "output_type": "execute_result"
    }
   ],
   "source": [
    "rtstd"
   ]
  },
  {
   "cell_type": "code",
   "execution_count": 52,
   "metadata": {
    "scrolled": false
   },
   "outputs": [
    {
     "data": {
      "text/html": [
       "<div>\n",
       "<style scoped>\n",
       "    .dataframe tbody tr th:only-of-type {\n",
       "        vertical-align: middle;\n",
       "    }\n",
       "\n",
       "    .dataframe tbody tr th {\n",
       "        vertical-align: top;\n",
       "    }\n",
       "\n",
       "    .dataframe thead th {\n",
       "        text-align: right;\n",
       "    }\n",
       "</style>\n",
       "<table border=\"1\" class=\"dataframe\">\n",
       "  <thead>\n",
       "    <tr style=\"text-align: right;\">\n",
       "      <th></th>\n",
       "      <th>t_cost_per_claim_excluded</th>\n",
       "      <th>t_claim_count_schedule2</th>\n",
       "      <th>t_claim_per_bene</th>\n",
       "      <th>%b2bg_claim_count</th>\n",
       "      <th>%b2bg_drug_cost</th>\n",
       "      <th>%b2t_claim_count</th>\n",
       "      <th>%b2t_drug_cost</th>\n",
       "      <th>t_cost_per_claim</th>\n",
       "      <th>t_cost_per_claim_ge65</th>\n",
       "      <th>t_claim_per_bene_ge65</th>\n",
       "      <th>...</th>\n",
       "      <th>antibiotic_claim_per_bene</th>\n",
       "      <th>antipsych_cost_per_claim_ge65</th>\n",
       "      <th>antipsych_claim_per_bene_ge65</th>\n",
       "      <th>total_30_day_fill_count</th>\n",
       "      <th>total_day_supply</th>\n",
       "      <th>total_30_day_fill_count_ge65</th>\n",
       "      <th>total_day_supply_ge65</th>\n",
       "      <th>opioid_day_supply</th>\n",
       "      <th>opioid_prescriber_rate</th>\n",
       "      <th>is_excluded</th>\n",
       "    </tr>\n",
       "  </thead>\n",
       "  <tbody>\n",
       "    <tr>\n",
       "      <th>count</th>\n",
       "      <td>114622.000000</td>\n",
       "      <td>114622.000000</td>\n",
       "      <td>114622.000000</td>\n",
       "      <td>114622.000000</td>\n",
       "      <td>114622.000000</td>\n",
       "      <td>114622.000000</td>\n",
       "      <td>114622.000000</td>\n",
       "      <td>114622.000000</td>\n",
       "      <td>114622.000000</td>\n",
       "      <td>114622.000000</td>\n",
       "      <td>...</td>\n",
       "      <td>114622.000000</td>\n",
       "      <td>114622.000000</td>\n",
       "      <td>114622.000000</td>\n",
       "      <td>114622.000000</td>\n",
       "      <td>114622.000000</td>\n",
       "      <td>114622.000000</td>\n",
       "      <td>114622.000000</td>\n",
       "      <td>114622.000000</td>\n",
       "      <td>114622.000000</td>\n",
       "      <td>114622.0</td>\n",
       "    </tr>\n",
       "    <tr>\n",
       "      <th>mean</th>\n",
       "      <td>3602.969559</td>\n",
       "      <td>121.901658</td>\n",
       "      <td>21.031840</td>\n",
       "      <td>17.624841</td>\n",
       "      <td>66.621965</td>\n",
       "      <td>17.625948</td>\n",
       "      <td>66.132175</td>\n",
       "      <td>8191.107056</td>\n",
       "      <td>7527.705096</td>\n",
       "      <td>2018.186048</td>\n",
       "      <td>...</td>\n",
       "      <td>168.405030</td>\n",
       "      <td>8506.569113</td>\n",
       "      <td>247.987514</td>\n",
       "      <td>10445.311295</td>\n",
       "      <td>294465.927656</td>\n",
       "      <td>7274.268250</td>\n",
       "      <td>205755.499586</td>\n",
       "      <td>12082.865107</td>\n",
       "      <td>8.516171</td>\n",
       "      <td>1.0</td>\n",
       "    </tr>\n",
       "    <tr>\n",
       "      <th>std</th>\n",
       "      <td>3117.035020</td>\n",
       "      <td>76.030301</td>\n",
       "      <td>10.513412</td>\n",
       "      <td>6.728363</td>\n",
       "      <td>12.613858</td>\n",
       "      <td>6.733981</td>\n",
       "      <td>12.619541</td>\n",
       "      <td>5400.618416</td>\n",
       "      <td>4753.203695</td>\n",
       "      <td>1059.334484</td>\n",
       "      <td>...</td>\n",
       "      <td>51.573874</td>\n",
       "      <td>14305.137208</td>\n",
       "      <td>307.714449</td>\n",
       "      <td>8893.439995</td>\n",
       "      <td>251922.643219</td>\n",
       "      <td>6939.334237</td>\n",
       "      <td>196654.047690</td>\n",
       "      <td>13927.955606</td>\n",
       "      <td>9.864195</td>\n",
       "      <td>0.0</td>\n",
       "    </tr>\n",
       "    <tr>\n",
       "      <th>min</th>\n",
       "      <td>41.900375</td>\n",
       "      <td>0.002324</td>\n",
       "      <td>0.001408</td>\n",
       "      <td>0.000005</td>\n",
       "      <td>0.000335</td>\n",
       "      <td>0.000550</td>\n",
       "      <td>0.001690</td>\n",
       "      <td>366.269534</td>\n",
       "      <td>368.345807</td>\n",
       "      <td>0.002775</td>\n",
       "      <td>...</td>\n",
       "      <td>0.000056</td>\n",
       "      <td>0.000140</td>\n",
       "      <td>0.000020</td>\n",
       "      <td>34.417766</td>\n",
       "      <td>231.356380</td>\n",
       "      <td>12.502294</td>\n",
       "      <td>219.731061</td>\n",
       "      <td>0.000335</td>\n",
       "      <td>0.000092</td>\n",
       "      <td>1.0</td>\n",
       "    </tr>\n",
       "    <tr>\n",
       "      <th>25%</th>\n",
       "      <td>1819.196539</td>\n",
       "      <td>62.556297</td>\n",
       "      <td>14.024704</td>\n",
       "      <td>11.455060</td>\n",
       "      <td>63.797753</td>\n",
       "      <td>11.478050</td>\n",
       "      <td>63.455250</td>\n",
       "      <td>5312.905817</td>\n",
       "      <td>4754.006890</td>\n",
       "      <td>1418.654990</td>\n",
       "      <td>...</td>\n",
       "      <td>157.482380</td>\n",
       "      <td>754.672491</td>\n",
       "      <td>1.154530</td>\n",
       "      <td>3233.061530</td>\n",
       "      <td>91532.400571</td>\n",
       "      <td>2206.235567</td>\n",
       "      <td>63404.012801</td>\n",
       "      <td>4623.824675</td>\n",
       "      <td>3.482096</td>\n",
       "      <td>1.0</td>\n",
       "    </tr>\n",
       "    <tr>\n",
       "      <th>50%</th>\n",
       "      <td>2713.379803</td>\n",
       "      <td>117.695094</td>\n",
       "      <td>19.579685</td>\n",
       "      <td>18.963433</td>\n",
       "      <td>68.947357</td>\n",
       "      <td>18.975253</td>\n",
       "      <td>68.679309</td>\n",
       "      <td>5956.975795</td>\n",
       "      <td>5688.010614</td>\n",
       "      <td>1767.902759</td>\n",
       "      <td>...</td>\n",
       "      <td>172.300383</td>\n",
       "      <td>3287.751401</td>\n",
       "      <td>3.026954</td>\n",
       "      <td>9283.869231</td>\n",
       "      <td>268680.574462</td>\n",
       "      <td>5177.430789</td>\n",
       "      <td>147270.932853</td>\n",
       "      <td>10182.695097</td>\n",
       "      <td>6.255690</td>\n",
       "      <td>1.0</td>\n",
       "    </tr>\n",
       "    <tr>\n",
       "      <th>75%</th>\n",
       "      <td>4191.540625</td>\n",
       "      <td>152.224358</td>\n",
       "      <td>24.774101</td>\n",
       "      <td>21.202202</td>\n",
       "      <td>73.462212</td>\n",
       "      <td>21.212524</td>\n",
       "      <td>72.886967</td>\n",
       "      <td>10246.504468</td>\n",
       "      <td>9553.789328</td>\n",
       "      <td>2606.701512</td>\n",
       "      <td>...</td>\n",
       "      <td>209.815001</td>\n",
       "      <td>4982.156008</td>\n",
       "      <td>623.028572</td>\n",
       "      <td>13862.122713</td>\n",
       "      <td>390052.714176</td>\n",
       "      <td>9289.389705</td>\n",
       "      <td>270398.075516</td>\n",
       "      <td>19231.788273</td>\n",
       "      <td>9.579141</td>\n",
       "      <td>1.0</td>\n",
       "    </tr>\n",
       "    <tr>\n",
       "      <th>max</th>\n",
       "      <td>286887.451425</td>\n",
       "      <td>306.913061</td>\n",
       "      <td>53.851171</td>\n",
       "      <td>64.406384</td>\n",
       "      <td>102.945683</td>\n",
       "      <td>64.438949</td>\n",
       "      <td>103.074154</td>\n",
       "      <td>141956.546968</td>\n",
       "      <td>125895.187440</td>\n",
       "      <td>4363.680150</td>\n",
       "      <td>...</td>\n",
       "      <td>328.162467</td>\n",
       "      <td>50762.912598</td>\n",
       "      <td>811.423039</td>\n",
       "      <td>33080.540829</td>\n",
       "      <td>934924.454048</td>\n",
       "      <td>22777.887690</td>\n",
       "      <td>647629.701585</td>\n",
       "      <td>213616.993379</td>\n",
       "      <td>73.645954</td>\n",
       "      <td>1.0</td>\n",
       "    </tr>\n",
       "  </tbody>\n",
       "</table>\n",
       "<p>8 rows × 27 columns</p>\n",
       "</div>"
      ],
      "text/plain": [
       "       t_cost_per_claim_excluded  t_claim_count_schedule2  t_claim_per_bene  \\\n",
       "count              114622.000000            114622.000000     114622.000000   \n",
       "mean                 3602.969559               121.901658         21.031840   \n",
       "std                  3117.035020                76.030301         10.513412   \n",
       "min                    41.900375                 0.002324          0.001408   \n",
       "25%                  1819.196539                62.556297         14.024704   \n",
       "50%                  2713.379803               117.695094         19.579685   \n",
       "75%                  4191.540625               152.224358         24.774101   \n",
       "max                286887.451425               306.913061         53.851171   \n",
       "\n",
       "       %b2bg_claim_count  %b2bg_drug_cost  %b2t_claim_count  %b2t_drug_cost  \\\n",
       "count      114622.000000    114622.000000     114622.000000   114622.000000   \n",
       "mean           17.624841        66.621965         17.625948       66.132175   \n",
       "std             6.728363        12.613858          6.733981       12.619541   \n",
       "min             0.000005         0.000335          0.000550        0.001690   \n",
       "25%            11.455060        63.797753         11.478050       63.455250   \n",
       "50%            18.963433        68.947357         18.975253       68.679309   \n",
       "75%            21.202202        73.462212         21.212524       72.886967   \n",
       "max            64.406384       102.945683         64.438949      103.074154   \n",
       "\n",
       "       t_cost_per_claim  t_cost_per_claim_ge65  t_claim_per_bene_ge65  ...  \\\n",
       "count     114622.000000          114622.000000          114622.000000  ...   \n",
       "mean        8191.107056            7527.705096            2018.186048  ...   \n",
       "std         5400.618416            4753.203695            1059.334484  ...   \n",
       "min          366.269534             368.345807               0.002775  ...   \n",
       "25%         5312.905817            4754.006890            1418.654990  ...   \n",
       "50%         5956.975795            5688.010614            1767.902759  ...   \n",
       "75%        10246.504468            9553.789328            2606.701512  ...   \n",
       "max       141956.546968          125895.187440            4363.680150  ...   \n",
       "\n",
       "       antibiotic_claim_per_bene  antipsych_cost_per_claim_ge65  \\\n",
       "count              114622.000000                  114622.000000   \n",
       "mean                  168.405030                    8506.569113   \n",
       "std                    51.573874                   14305.137208   \n",
       "min                     0.000056                       0.000140   \n",
       "25%                   157.482380                     754.672491   \n",
       "50%                   172.300383                    3287.751401   \n",
       "75%                   209.815001                    4982.156008   \n",
       "max                   328.162467                   50762.912598   \n",
       "\n",
       "       antipsych_claim_per_bene_ge65  total_30_day_fill_count  \\\n",
       "count                  114622.000000            114622.000000   \n",
       "mean                      247.987514             10445.311295   \n",
       "std                       307.714449              8893.439995   \n",
       "min                         0.000020                34.417766   \n",
       "25%                         1.154530              3233.061530   \n",
       "50%                         3.026954              9283.869231   \n",
       "75%                       623.028572             13862.122713   \n",
       "max                       811.423039             33080.540829   \n",
       "\n",
       "       total_day_supply  total_30_day_fill_count_ge65  total_day_supply_ge65  \\\n",
       "count     114622.000000                 114622.000000          114622.000000   \n",
       "mean      294465.927656                   7274.268250          205755.499586   \n",
       "std       251922.643219                   6939.334237          196654.047690   \n",
       "min          231.356380                     12.502294             219.731061   \n",
       "25%        91532.400571                   2206.235567           63404.012801   \n",
       "50%       268680.574462                   5177.430789          147270.932853   \n",
       "75%       390052.714176                   9289.389705          270398.075516   \n",
       "max       934924.454048                  22777.887690          647629.701585   \n",
       "\n",
       "       opioid_day_supply  opioid_prescriber_rate  is_excluded  \n",
       "count      114622.000000           114622.000000     114622.0  \n",
       "mean        12082.865107                8.516171          1.0  \n",
       "std         13927.955606                9.864195          0.0  \n",
       "min             0.000335                0.000092          1.0  \n",
       "25%          4623.824675                3.482096          1.0  \n",
       "50%         10182.695097                6.255690          1.0  \n",
       "75%         19231.788273                9.579141          1.0  \n",
       "max        213616.993379               73.645954          1.0  \n",
       "\n",
       "[8 rows x 27 columns]"
      ]
     },
     "execution_count": 52,
     "metadata": {},
     "output_type": "execute_result"
    }
   ],
   "source": [
    "fudge.describe()"
   ]
  },
  {
   "cell_type": "code",
   "execution_count": 53,
   "metadata": {},
   "outputs": [
    {
     "data": {
      "text/html": [
       "<div>\n",
       "<style scoped>\n",
       "    .dataframe tbody tr th:only-of-type {\n",
       "        vertical-align: middle;\n",
       "    }\n",
       "\n",
       "    .dataframe tbody tr th {\n",
       "        vertical-align: top;\n",
       "    }\n",
       "\n",
       "    .dataframe thead th {\n",
       "        text-align: right;\n",
       "    }\n",
       "</style>\n",
       "<table border=\"1\" class=\"dataframe\">\n",
       "  <thead>\n",
       "    <tr style=\"text-align: right;\">\n",
       "      <th></th>\n",
       "      <th>t_cost_per_claim_excluded</th>\n",
       "      <th>t_claim_count_schedule2</th>\n",
       "      <th>t_claim_per_bene</th>\n",
       "      <th>%b2bg_claim_count</th>\n",
       "      <th>%b2bg_drug_cost</th>\n",
       "      <th>%b2t_claim_count</th>\n",
       "      <th>%b2t_drug_cost</th>\n",
       "      <th>t_cost_per_claim</th>\n",
       "      <th>t_cost_per_claim_ge65</th>\n",
       "      <th>t_claim_per_bene_ge65</th>\n",
       "      <th>...</th>\n",
       "      <th>antibiotic_claim_per_bene</th>\n",
       "      <th>antipsych_cost_per_claim_ge65</th>\n",
       "      <th>antipsych_claim_per_bene_ge65</th>\n",
       "      <th>total_30_day_fill_count</th>\n",
       "      <th>total_day_supply</th>\n",
       "      <th>total_30_day_fill_count_ge65</th>\n",
       "      <th>total_day_supply_ge65</th>\n",
       "      <th>opioid_day_supply</th>\n",
       "      <th>opioid_prescriber_rate</th>\n",
       "      <th>is_excluded</th>\n",
       "    </tr>\n",
       "  </thead>\n",
       "  <tbody>\n",
       "    <tr>\n",
       "      <th>count</th>\n",
       "      <td>101.000000</td>\n",
       "      <td>101.000000</td>\n",
       "      <td>101.000000</td>\n",
       "      <td>101.000000</td>\n",
       "      <td>101.000000</td>\n",
       "      <td>101.000000</td>\n",
       "      <td>101.000000</td>\n",
       "      <td>101.000000</td>\n",
       "      <td>101.000000</td>\n",
       "      <td>101.000000</td>\n",
       "      <td>...</td>\n",
       "      <td>101.000000</td>\n",
       "      <td>101.000000</td>\n",
       "      <td>101.000000</td>\n",
       "      <td>101.000000</td>\n",
       "      <td>101.000000</td>\n",
       "      <td>101.000000</td>\n",
       "      <td>101.000000</td>\n",
       "      <td>101.000000</td>\n",
       "      <td>101.000000</td>\n",
       "      <td>101.0</td>\n",
       "    </tr>\n",
       "    <tr>\n",
       "      <th>mean</th>\n",
       "      <td>5221.393465</td>\n",
       "      <td>38.673267</td>\n",
       "      <td>9.499010</td>\n",
       "      <td>11.386139</td>\n",
       "      <td>36.306931</td>\n",
       "      <td>10.891089</td>\n",
       "      <td>36.099010</td>\n",
       "      <td>10562.524752</td>\n",
       "      <td>8919.534653</td>\n",
       "      <td>751.980198</td>\n",
       "      <td>...</td>\n",
       "      <td>77.495050</td>\n",
       "      <td>2757.247525</td>\n",
       "      <td>44.079208</td>\n",
       "      <td>3136.292079</td>\n",
       "      <td>88552.960396</td>\n",
       "      <td>2093.873267</td>\n",
       "      <td>59466.841584</td>\n",
       "      <td>5972.128713</td>\n",
       "      <td>8.322871</td>\n",
       "      <td>1.0</td>\n",
       "    </tr>\n",
       "    <tr>\n",
       "      <th>std</th>\n",
       "      <td>28518.834547</td>\n",
       "      <td>56.116684</td>\n",
       "      <td>9.667021</td>\n",
       "      <td>15.035272</td>\n",
       "      <td>36.333935</td>\n",
       "      <td>13.045996</td>\n",
       "      <td>36.102771</td>\n",
       "      <td>17653.641240</td>\n",
       "      <td>16564.118105</td>\n",
       "      <td>937.517232</td>\n",
       "      <td>...</td>\n",
       "      <td>88.851182</td>\n",
       "      <td>8633.955942</td>\n",
       "      <td>159.991417</td>\n",
       "      <td>5542.441612</td>\n",
       "      <td>157554.695894</td>\n",
       "      <td>4202.779267</td>\n",
       "      <td>119551.162208</td>\n",
       "      <td>22570.729549</td>\n",
       "      <td>14.976968</td>\n",
       "      <td>0.0</td>\n",
       "    </tr>\n",
       "    <tr>\n",
       "      <th>min</th>\n",
       "      <td>40.990000</td>\n",
       "      <td>1.000000</td>\n",
       "      <td>0.000000</td>\n",
       "      <td>0.000000</td>\n",
       "      <td>0.000000</td>\n",
       "      <td>0.000000</td>\n",
       "      <td>0.000000</td>\n",
       "      <td>294.000000</td>\n",
       "      <td>0.000000</td>\n",
       "      <td>0.000000</td>\n",
       "      <td>...</td>\n",
       "      <td>0.000000</td>\n",
       "      <td>0.000000</td>\n",
       "      <td>0.000000</td>\n",
       "      <td>13.000000</td>\n",
       "      <td>221.000000</td>\n",
       "      <td>0.000000</td>\n",
       "      <td>0.000000</td>\n",
       "      <td>0.000000</td>\n",
       "      <td>0.000000</td>\n",
       "      <td>1.0</td>\n",
       "    </tr>\n",
       "    <tr>\n",
       "      <th>25%</th>\n",
       "      <td>293.230000</td>\n",
       "      <td>3.000000</td>\n",
       "      <td>2.200000</td>\n",
       "      <td>0.000000</td>\n",
       "      <td>0.000000</td>\n",
       "      <td>0.000000</td>\n",
       "      <td>0.000000</td>\n",
       "      <td>4406.000000</td>\n",
       "      <td>2876.000000</td>\n",
       "      <td>0.000000</td>\n",
       "      <td>...</td>\n",
       "      <td>0.000000</td>\n",
       "      <td>0.000000</td>\n",
       "      <td>0.000000</td>\n",
       "      <td>109.000000</td>\n",
       "      <td>2955.000000</td>\n",
       "      <td>62.000000</td>\n",
       "      <td>1280.000000</td>\n",
       "      <td>0.000000</td>\n",
       "      <td>0.000000</td>\n",
       "      <td>1.0</td>\n",
       "    </tr>\n",
       "    <tr>\n",
       "      <th>50%</th>\n",
       "      <td>1206.820000</td>\n",
       "      <td>11.000000</td>\n",
       "      <td>5.800000</td>\n",
       "      <td>10.000000</td>\n",
       "      <td>43.000000</td>\n",
       "      <td>10.000000</td>\n",
       "      <td>43.000000</td>\n",
       "      <td>7223.000000</td>\n",
       "      <td>5345.000000</td>\n",
       "      <td>378.000000</td>\n",
       "      <td>...</td>\n",
       "      <td>0.000000</td>\n",
       "      <td>0.000000</td>\n",
       "      <td>0.000000</td>\n",
       "      <td>632.600000</td>\n",
       "      <td>18369.000000</td>\n",
       "      <td>368.400000</td>\n",
       "      <td>10843.000000</td>\n",
       "      <td>0.000000</td>\n",
       "      <td>0.000000</td>\n",
       "      <td>1.0</td>\n",
       "    </tr>\n",
       "    <tr>\n",
       "      <th>75%</th>\n",
       "      <td>3338.240000</td>\n",
       "      <td>54.000000</td>\n",
       "      <td>13.800000</td>\n",
       "      <td>20.000000</td>\n",
       "      <td>71.000000</td>\n",
       "      <td>20.000000</td>\n",
       "      <td>70.000000</td>\n",
       "      <td>10419.000000</td>\n",
       "      <td>7982.000000</td>\n",
       "      <td>1163.000000</td>\n",
       "      <td>...</td>\n",
       "      <td>157.000000</td>\n",
       "      <td>633.000000</td>\n",
       "      <td>0.000000</td>\n",
       "      <td>3164.200000</td>\n",
       "      <td>90194.000000</td>\n",
       "      <td>1882.600000</td>\n",
       "      <td>52000.000000</td>\n",
       "      <td>3107.000000</td>\n",
       "      <td>7.590000</td>\n",
       "      <td>1.0</td>\n",
       "    </tr>\n",
       "    <tr>\n",
       "      <th>max</th>\n",
       "      <td>286886.380000</td>\n",
       "      <td>299.000000</td>\n",
       "      <td>46.100000</td>\n",
       "      <td>100.000000</td>\n",
       "      <td>100.000000</td>\n",
       "      <td>60.000000</td>\n",
       "      <td>98.000000</td>\n",
       "      <td>141957.000000</td>\n",
       "      <td>125896.000000</td>\n",
       "      <td>4355.000000</td>\n",
       "      <td>...</td>\n",
       "      <td>322.000000</td>\n",
       "      <td>50758.000000</td>\n",
       "      <td>803.000000</td>\n",
       "      <td>33073.000000</td>\n",
       "      <td>934916.000000</td>\n",
       "      <td>22770.800000</td>\n",
       "      <td>647623.000000</td>\n",
       "      <td>213611.000000</td>\n",
       "      <td>68.220000</td>\n",
       "      <td>1.0</td>\n",
       "    </tr>\n",
       "  </tbody>\n",
       "</table>\n",
       "<p>8 rows × 27 columns</p>\n",
       "</div>"
      ],
      "text/plain": [
       "       t_cost_per_claim_excluded  t_claim_count_schedule2  t_claim_per_bene  \\\n",
       "count                 101.000000               101.000000        101.000000   \n",
       "mean                 5221.393465                38.673267          9.499010   \n",
       "std                 28518.834547                56.116684          9.667021   \n",
       "min                    40.990000                 1.000000          0.000000   \n",
       "25%                   293.230000                 3.000000          2.200000   \n",
       "50%                  1206.820000                11.000000          5.800000   \n",
       "75%                  3338.240000                54.000000         13.800000   \n",
       "max                286886.380000               299.000000         46.100000   \n",
       "\n",
       "       %b2bg_claim_count  %b2bg_drug_cost  %b2t_claim_count  %b2t_drug_cost  \\\n",
       "count         101.000000       101.000000        101.000000      101.000000   \n",
       "mean           11.386139        36.306931         10.891089       36.099010   \n",
       "std            15.035272        36.333935         13.045996       36.102771   \n",
       "min             0.000000         0.000000          0.000000        0.000000   \n",
       "25%             0.000000         0.000000          0.000000        0.000000   \n",
       "50%            10.000000        43.000000         10.000000       43.000000   \n",
       "75%            20.000000        71.000000         20.000000       70.000000   \n",
       "max           100.000000       100.000000         60.000000       98.000000   \n",
       "\n",
       "       t_cost_per_claim  t_cost_per_claim_ge65  t_claim_per_bene_ge65  ...  \\\n",
       "count        101.000000             101.000000             101.000000  ...   \n",
       "mean       10562.524752            8919.534653             751.980198  ...   \n",
       "std        17653.641240           16564.118105             937.517232  ...   \n",
       "min          294.000000               0.000000               0.000000  ...   \n",
       "25%         4406.000000            2876.000000               0.000000  ...   \n",
       "50%         7223.000000            5345.000000             378.000000  ...   \n",
       "75%        10419.000000            7982.000000            1163.000000  ...   \n",
       "max       141957.000000          125896.000000            4355.000000  ...   \n",
       "\n",
       "       antibiotic_claim_per_bene  antipsych_cost_per_claim_ge65  \\\n",
       "count                 101.000000                     101.000000   \n",
       "mean                   77.495050                    2757.247525   \n",
       "std                    88.851182                    8633.955942   \n",
       "min                     0.000000                       0.000000   \n",
       "25%                     0.000000                       0.000000   \n",
       "50%                     0.000000                       0.000000   \n",
       "75%                   157.000000                     633.000000   \n",
       "max                   322.000000                   50758.000000   \n",
       "\n",
       "       antipsych_claim_per_bene_ge65  total_30_day_fill_count  \\\n",
       "count                     101.000000               101.000000   \n",
       "mean                       44.079208              3136.292079   \n",
       "std                       159.991417              5542.441612   \n",
       "min                         0.000000                13.000000   \n",
       "25%                         0.000000               109.000000   \n",
       "50%                         0.000000               632.600000   \n",
       "75%                         0.000000              3164.200000   \n",
       "max                       803.000000             33073.000000   \n",
       "\n",
       "       total_day_supply  total_30_day_fill_count_ge65  total_day_supply_ge65  \\\n",
       "count        101.000000                    101.000000             101.000000   \n",
       "mean       88552.960396                   2093.873267           59466.841584   \n",
       "std       157554.695894                   4202.779267          119551.162208   \n",
       "min          221.000000                      0.000000               0.000000   \n",
       "25%         2955.000000                     62.000000            1280.000000   \n",
       "50%        18369.000000                    368.400000           10843.000000   \n",
       "75%        90194.000000                   1882.600000           52000.000000   \n",
       "max       934916.000000                  22770.800000          647623.000000   \n",
       "\n",
       "       opioid_day_supply  opioid_prescriber_rate  is_excluded  \n",
       "count         101.000000              101.000000        101.0  \n",
       "mean         5972.128713                8.322871          1.0  \n",
       "std         22570.729549               14.976968          0.0  \n",
       "min             0.000000                0.000000          1.0  \n",
       "25%             0.000000                0.000000          1.0  \n",
       "50%             0.000000                0.000000          1.0  \n",
       "75%          3107.000000                7.590000          1.0  \n",
       "max        213611.000000               68.220000          1.0  \n",
       "\n",
       "[8 rows x 27 columns]"
      ]
     },
     "execution_count": 53,
     "metadata": {},
     "output_type": "execute_result"
    }
   ],
   "source": [
    "only_excluded.describe()"
   ]
  },
  {
   "cell_type": "code",
   "execution_count": 54,
   "metadata": {},
   "outputs": [
    {
     "data": {
      "text/plain": [
       "(114622, 27)"
      ]
     },
     "execution_count": 54,
     "metadata": {},
     "output_type": "execute_result"
    }
   ],
   "source": [
    "fudge.shape"
   ]
  },
  {
   "cell_type": "code",
   "execution_count": 55,
   "metadata": {},
   "outputs": [
    {
     "data": {
      "text/html": [
       "<div>\n",
       "<style scoped>\n",
       "    .dataframe tbody tr th:only-of-type {\n",
       "        vertical-align: middle;\n",
       "    }\n",
       "\n",
       "    .dataframe tbody tr th {\n",
       "        vertical-align: top;\n",
       "    }\n",
       "\n",
       "    .dataframe thead th {\n",
       "        text-align: right;\n",
       "    }\n",
       "</style>\n",
       "<table border=\"1\" class=\"dataframe\">\n",
       "  <thead>\n",
       "    <tr style=\"text-align: right;\">\n",
       "      <th></th>\n",
       "      <th>t_cost_per_claim_excluded</th>\n",
       "      <th>t_claim_count_schedule2</th>\n",
       "      <th>t_claim_per_bene</th>\n",
       "      <th>%b2bg_claim_count</th>\n",
       "      <th>%b2bg_drug_cost</th>\n",
       "      <th>%b2t_claim_count</th>\n",
       "      <th>%b2t_drug_cost</th>\n",
       "      <th>t_cost_per_claim</th>\n",
       "      <th>t_cost_per_claim_ge65</th>\n",
       "      <th>t_claim_per_bene_ge65</th>\n",
       "      <th>...</th>\n",
       "      <th>antibiotic_claim_per_bene</th>\n",
       "      <th>antipsych_cost_per_claim_ge65</th>\n",
       "      <th>antipsych_claim_per_bene_ge65</th>\n",
       "      <th>total_30_day_fill_count</th>\n",
       "      <th>total_day_supply</th>\n",
       "      <th>total_30_day_fill_count_ge65</th>\n",
       "      <th>total_day_supply_ge65</th>\n",
       "      <th>opioid_day_supply</th>\n",
       "      <th>opioid_prescriber_rate</th>\n",
       "      <th>is_excluded</th>\n",
       "    </tr>\n",
       "  </thead>\n",
       "  <tbody>\n",
       "    <tr>\n",
       "      <th>524064</th>\n",
       "      <td>2270.278661</td>\n",
       "      <td>61.466141</td>\n",
       "      <td>20.514117</td>\n",
       "      <td>18.206389</td>\n",
       "      <td>68.941691</td>\n",
       "      <td>18.962827</td>\n",
       "      <td>71.206752</td>\n",
       "      <td>11313.436305</td>\n",
       "      <td>6202.757955</td>\n",
       "      <td>1466.446691</td>\n",
       "      <td>...</td>\n",
       "      <td>220.252775</td>\n",
       "      <td>1.731196</td>\n",
       "      <td>2.087379</td>\n",
       "      <td>3126.343014</td>\n",
       "      <td>89839.994716</td>\n",
       "      <td>2202.194902</td>\n",
       "      <td>63399.085681</td>\n",
       "      <td>5443.459032</td>\n",
       "      <td>11.562675</td>\n",
       "      <td>1</td>\n",
       "    </tr>\n",
       "    <tr>\n",
       "      <th>44316</th>\n",
       "      <td>4191.113055</td>\n",
       "      <td>29.566353</td>\n",
       "      <td>7.718957</td>\n",
       "      <td>21.263597</td>\n",
       "      <td>73.252182</td>\n",
       "      <td>22.695988</td>\n",
       "      <td>72.160532</td>\n",
       "      <td>5915.161710</td>\n",
       "      <td>4176.826105</td>\n",
       "      <td>816.189716</td>\n",
       "      <td>...</td>\n",
       "      <td>166.714292</td>\n",
       "      <td>1.377174</td>\n",
       "      <td>2.213541</td>\n",
       "      <td>2566.287351</td>\n",
       "      <td>63728.317683</td>\n",
       "      <td>633.562809</td>\n",
       "      <td>16326.118847</td>\n",
       "      <td>25235.586282</td>\n",
       "      <td>48.325374</td>\n",
       "      <td>1</td>\n",
       "    </tr>\n",
       "    <tr>\n",
       "      <th>135853</th>\n",
       "      <td>3335.267448</td>\n",
       "      <td>8.362670</td>\n",
       "      <td>9.022023</td>\n",
       "      <td>18.197454</td>\n",
       "      <td>72.412914</td>\n",
       "      <td>18.031250</td>\n",
       "      <td>74.333978</td>\n",
       "      <td>12970.948312</td>\n",
       "      <td>6922.509588</td>\n",
       "      <td>1.017477</td>\n",
       "      <td>...</td>\n",
       "      <td>1.055160</td>\n",
       "      <td>1.890315</td>\n",
       "      <td>3.464168</td>\n",
       "      <td>267.743993</td>\n",
       "      <td>7542.130225</td>\n",
       "      <td>40.728987</td>\n",
       "      <td>997.335229</td>\n",
       "      <td>4622.965878</td>\n",
       "      <td>68.935422</td>\n",
       "      <td>1</td>\n",
       "    </tr>\n",
       "    <tr>\n",
       "      <th>250232</th>\n",
       "      <td>2056.803424</td>\n",
       "      <td>136.816904</td>\n",
       "      <td>24.040141</td>\n",
       "      <td>21.023476</td>\n",
       "      <td>67.062726</td>\n",
       "      <td>18.611447</td>\n",
       "      <td>66.874188</td>\n",
       "      <td>5318.414967</td>\n",
       "      <td>4752.670316</td>\n",
       "      <td>2071.069430</td>\n",
       "      <td>...</td>\n",
       "      <td>160.520699</td>\n",
       "      <td>4458.233736</td>\n",
       "      <td>461.948074</td>\n",
       "      <td>9671.062192</td>\n",
       "      <td>268681.029760</td>\n",
       "      <td>7810.786149</td>\n",
       "      <td>219080.235410</td>\n",
       "      <td>10878.165840</td>\n",
       "      <td>6.230274</td>\n",
       "      <td>1</td>\n",
       "    </tr>\n",
       "    <tr>\n",
       "      <th>250232</th>\n",
       "      <td>2055.886264</td>\n",
       "      <td>135.716226</td>\n",
       "      <td>18.276672</td>\n",
       "      <td>19.092386</td>\n",
       "      <td>68.301992</td>\n",
       "      <td>17.294433</td>\n",
       "      <td>68.608783</td>\n",
       "      <td>5321.272054</td>\n",
       "      <td>4757.036130</td>\n",
       "      <td>2067.327278</td>\n",
       "      <td>...</td>\n",
       "      <td>157.354584</td>\n",
       "      <td>4460.298079</td>\n",
       "      <td>460.540017</td>\n",
       "      <td>9667.768459</td>\n",
       "      <td>268681.068452</td>\n",
       "      <td>7811.857184</td>\n",
       "      <td>219079.981898</td>\n",
       "      <td>10876.820785</td>\n",
       "      <td>4.770959</td>\n",
       "      <td>1</td>\n",
       "    </tr>\n",
       "  </tbody>\n",
       "</table>\n",
       "<p>5 rows × 27 columns</p>\n",
       "</div>"
      ],
      "text/plain": [
       "        t_cost_per_claim_excluded  t_claim_count_schedule2  t_claim_per_bene  \\\n",
       "524064                2270.278661                61.466141         20.514117   \n",
       "44316                 4191.113055                29.566353          7.718957   \n",
       "135853                3335.267448                 8.362670          9.022023   \n",
       "250232                2056.803424               136.816904         24.040141   \n",
       "250232                2055.886264               135.716226         18.276672   \n",
       "\n",
       "        %b2bg_claim_count  %b2bg_drug_cost  %b2t_claim_count  %b2t_drug_cost  \\\n",
       "524064          18.206389        68.941691         18.962827       71.206752   \n",
       "44316           21.263597        73.252182         22.695988       72.160532   \n",
       "135853          18.197454        72.412914         18.031250       74.333978   \n",
       "250232          21.023476        67.062726         18.611447       66.874188   \n",
       "250232          19.092386        68.301992         17.294433       68.608783   \n",
       "\n",
       "        t_cost_per_claim  t_cost_per_claim_ge65  t_claim_per_bene_ge65  ...  \\\n",
       "524064      11313.436305            6202.757955            1466.446691  ...   \n",
       "44316        5915.161710            4176.826105             816.189716  ...   \n",
       "135853      12970.948312            6922.509588               1.017477  ...   \n",
       "250232       5318.414967            4752.670316            2071.069430  ...   \n",
       "250232       5321.272054            4757.036130            2067.327278  ...   \n",
       "\n",
       "        antibiotic_claim_per_bene  antipsych_cost_per_claim_ge65  \\\n",
       "524064                 220.252775                       1.731196   \n",
       "44316                  166.714292                       1.377174   \n",
       "135853                   1.055160                       1.890315   \n",
       "250232                 160.520699                    4458.233736   \n",
       "250232                 157.354584                    4460.298079   \n",
       "\n",
       "        antipsych_claim_per_bene_ge65  total_30_day_fill_count  \\\n",
       "524064                       2.087379              3126.343014   \n",
       "44316                        2.213541              2566.287351   \n",
       "135853                       3.464168               267.743993   \n",
       "250232                     461.948074              9671.062192   \n",
       "250232                     460.540017              9667.768459   \n",
       "\n",
       "        total_day_supply  total_30_day_fill_count_ge65  total_day_supply_ge65  \\\n",
       "524064      89839.994716                   2202.194902           63399.085681   \n",
       "44316       63728.317683                    633.562809           16326.118847   \n",
       "135853       7542.130225                     40.728987             997.335229   \n",
       "250232     268681.029760                   7810.786149          219080.235410   \n",
       "250232     268681.068452                   7811.857184          219079.981898   \n",
       "\n",
       "        opioid_day_supply  opioid_prescriber_rate  is_excluded  \n",
       "524064        5443.459032               11.562675            1  \n",
       "44316        25235.586282               48.325374            1  \n",
       "135853        4622.965878               68.935422            1  \n",
       "250232       10878.165840                6.230274            1  \n",
       "250232       10876.820785                4.770959            1  \n",
       "\n",
       "[5 rows x 27 columns]"
      ]
     },
     "execution_count": 55,
     "metadata": {},
     "output_type": "execute_result"
    }
   ],
   "source": [
    "fudge=fudge.sample(n=10000)\n",
    "fudge.head()"
   ]
  },
  {
   "cell_type": "code",
   "execution_count": 56,
   "metadata": {
    "scrolled": false
   },
   "outputs": [],
   "source": [
    "ag_2017 = pd.concat([new_main_2017, fudge])\n",
    "ag_2017.dropna(inplace=True)"
   ]
  },
  {
   "cell_type": "code",
   "execution_count": 57,
   "metadata": {},
   "outputs": [
    {
     "data": {
      "text/plain": [
       "(10000, 27)"
      ]
     },
     "execution_count": 57,
     "metadata": {},
     "output_type": "execute_result"
    }
   ],
   "source": [
    "ag_2017[ag_2017[\"is_excluded\"]==1].shape"
   ]
  },
  {
   "cell_type": "code",
   "execution_count": 58,
   "metadata": {},
   "outputs": [
    {
     "data": {
      "text/plain": [
       "(829898, 27)"
      ]
     },
     "execution_count": 58,
     "metadata": {},
     "output_type": "execute_result"
    }
   ],
   "source": [
    "ag_2017.shape"
   ]
  },
  {
   "cell_type": "markdown",
   "metadata": {},
   "source": [
    "#Applying PCA, 2 components and 3 components for variance visualization\n",
    "\n",
    "pca = decomposition.PCA(n_components='mle')\n",
    "pca.fit(part_d_df)\n",
    "npi_drug_df_transformed = pca.transform(part_d_df)\n",
    "plt.plot(np.cumsum(pca.explained_variance_ratio_), color='r')\n",
    "\n",
    "pca = decomposition.PCA(n_components='mle')\n",
    "pca.fit(part_d_df)\n",
    "npi_drug_cross_df_transformed = pca.transform(part_d_df)\n",
    "plt.plot(np.cumsum(pca.explained_variance_ratio_))\n",
    "plt.xlabel('number of components')\n",
    "plt.ylabel('cumulative explained variance')\n",
    "\n",
    "plt.vlines(1, color='grey', ymax=0.1, ymin=0, linestyle=':')\n",
    "plt.vlines(2, color='grey', ymax=0.1, ymin=0, linestyle=':')\n",
    "\n",
    "plt.annotate('1 components', xy=(0.6, 0.05), xytext=(0.9, 0.05), fontsize=15, rotation=90)\n",
    "plt.annotate('2 components', xy=(1.6, 0.05), xytext=(1.9, 0.05), fontsize=15, rotation=90)\n",
    "\n",
    "plt.savefig('VarExp.jpeg', dpi=1000)\n",
    "plt.tight_layout()\n",
    "plt.show()"
   ]
  },
  {
   "cell_type": "code",
   "execution_count": 59,
   "metadata": {},
   "outputs": [],
   "source": [
    "#Training without Upsampling or Downsampling\n",
    "#fudged data (ag_2017) only for train, regular data (new_df) only for test\n",
    "\n",
    "X_train = ag_2017.drop(['is_excluded'], axis=1)\n",
    "y_train = ag_2017['is_excluded']\n",
    "X_test = new_df.drop(['is_excluded'], axis =1)\n",
    "y_test = new_df[\"is_excluded\"]\n",
    "#X = new_main_2017.drop(['is_excluded'], axis=1)\n",
    "#y = new_main_2017['is_excluded']\n",
    "#X_train, X_test, y_train, y_test = train_test_split(X, y, test_size=0.33, random_state=42)"
   ]
  },
  {
   "cell_type": "code",
   "execution_count": 60,
   "metadata": {},
   "outputs": [],
   "source": [
    "pca = decomposition.PCA(n_components='mle')\n",
    "X_train = pca.fit_transform(X_train)\n",
    "X_test = pca.fit_transform(X_test)"
   ]
  },
  {
   "cell_type": "code",
   "execution_count": 61,
   "metadata": {
    "scrolled": true
   },
   "outputs": [
    {
     "name": "stdout",
     "output_type": "stream",
     "text": [
      "[7.55624846e-01 1.75888228e-01 2.25410162e-02 1.58776591e-02\n",
      " 1.04282443e-02 5.89805273e-03 5.55271872e-03 3.39409623e-03\n",
      " 2.01583979e-03 1.06416590e-03 8.18676546e-04 5.22530227e-04\n",
      " 3.55722779e-04 1.31748643e-05 4.19840119e-06 3.53842574e-07\n",
      " 2.47372171e-07 1.11584540e-07 5.49614505e-08 5.04209631e-08\n",
      " 5.30553423e-09 3.01414248e-09 2.68924110e-09 2.37384013e-10\n",
      " 1.53460003e-10]\n"
     ]
    }
   ],
   "source": [
    "print(pca.explained_variance_ratio_)"
   ]
  },
  {
   "cell_type": "code",
   "execution_count": 62,
   "metadata": {
    "scrolled": true
   },
   "outputs": [],
   "source": [
    "Labels = ag_2017.drop([\"is_excluded\"],axis = 1).columns"
   ]
  },
  {
   "cell_type": "code",
   "execution_count": 63,
   "metadata": {},
   "outputs": [
    {
     "data": {
      "text/plain": [
       "['total_day_supply',\n",
       " 'lis_cost_per_claim',\n",
       " 'mapd_cost_per_claim',\n",
       " 'nonlis_cost_per_claim',\n",
       " 'pdp_cost_per_claim',\n",
       " 't_cost_per_claim',\n",
       " 'total_day_supply_ge65',\n",
       " 'nonlis_cost_per_claim',\n",
       " 'antibiotic_cost_per_claim',\n",
       " 'opioid_day_supply',\n",
       " 'antipsych_cost_per_claim_ge65',\n",
       " 't_cost_per_claim_excluded',\n",
       " 'opioid_cost_per_claim',\n",
       " 'total_30_day_fill_count',\n",
       " 't_claim_per_bene_ge65',\n",
       " 'opioid_claim_per_bene',\n",
       " 'antipsych_claim_per_bene_ge65',\n",
       " 'antibiotic_claim_per_bene',\n",
       " 'total_30_day_fill_count_ge65',\n",
       " '%b2bg_drug_cost',\n",
       " 'opioid_prescriber_rate',\n",
       " '%b2bg_claim_count',\n",
       " 't_claim_count_schedule2',\n",
       " 't_claim_per_bene',\n",
       " '%b2t_drug_cost']"
      ]
     },
     "execution_count": 63,
     "metadata": {},
     "output_type": "execute_result"
    }
   ],
   "source": [
    "#new Labels after PCA\n",
    "most_important = [np.abs(pca.components_[i]).argmax() for i in range(len(pca.components_))]\n",
    "most_important_names = [Labels[most_important[i]] for i in range(len(pca.components_))]\n",
    "dic = {'PC{}'.format(i+1): most_important_names[i] for i in range(len(pca.components_))}\n",
    "newLabels = list(dic.values())\n",
    "newLabels"
   ]
  },
  {
   "cell_type": "code",
   "execution_count": 64,
   "metadata": {},
   "outputs": [
    {
     "data": {
      "text/plain": [
       "RandomForestClassifier(bootstrap=True, class_weight=None, criterion='gini',\n",
       "            max_depth=None, max_features='auto', max_leaf_nodes=None,\n",
       "            min_impurity_decrease=0.0, min_impurity_split=None,\n",
       "            min_samples_leaf=1, min_samples_split=2,\n",
       "            min_weight_fraction_leaf=0.0, n_estimators=25, n_jobs=None,\n",
       "            oob_score=False, random_state=None, verbose=0,\n",
       "            warm_start=False)"
      ]
     },
     "execution_count": 64,
     "metadata": {},
     "output_type": "execute_result"
    }
   ],
   "source": [
    "clf = RandomForestClassifier(n_estimators=25)\n",
    "clf.fit(X_train, y_train)"
   ]
  },
  {
   "cell_type": "code",
   "execution_count": 65,
   "metadata": {},
   "outputs": [
    {
     "name": "stdout",
     "output_type": "stream",
     "text": [
      "101\n"
     ]
    }
   ],
   "source": [
    "#excluded samples in test data\n",
    "count = 0\n",
    "for x in y_test:\n",
    "    if int(x)== 1:\n",
    "        count +=1\n",
    "print(count)"
   ]
  },
  {
   "cell_type": "code",
   "execution_count": 66,
   "metadata": {},
   "outputs": [
    {
     "name": "stdout",
     "output_type": "stream",
     "text": [
      "10000\n"
     ]
    }
   ],
   "source": [
    "#excluded samples in train data\n",
    "count2 = 0\n",
    "for x in y_train:\n",
    "    if int(x)== 1:\n",
    "        count2 +=1\n",
    "print(count2)"
   ]
  },
  {
   "cell_type": "code",
   "execution_count": 67,
   "metadata": {},
   "outputs": [
    {
     "data": {
      "text/plain": [
       "array([0.04922774, 0.02896428, 0.02686408, 0.02074517, 0.02184047,\n",
       "       0.03194073, 0.08563378, 0.0208111 , 0.01695076, 0.03840078,\n",
       "       0.04637532, 0.02607229, 0.05426006, 0.02640538, 0.04222551,\n",
       "       0.02833913, 0.0522174 , 0.03515179, 0.01988627, 0.02478147,\n",
       "       0.0129427 , 0.0190813 , 0.03762268, 0.01027842, 0.2229814 ])"
      ]
     },
     "execution_count": 67,
     "metadata": {},
     "output_type": "execute_result"
    }
   ],
   "source": [
    "clf.feature_importances_"
   ]
  },
  {
   "cell_type": "markdown",
   "metadata": {},
   "source": [
    "coef_df = pd.DataFrame(clf.feature_importances_, Labels, columns = [\"Importances\"])\n",
    "coef_df.sort_values(\"Importances\", ascending = False)"
   ]
  },
  {
   "cell_type": "markdown",
   "metadata": {},
   "source": [
    "check for contamination by not dropping the npis and seeing if any of them overlap between training and testing\n",
    "train_nps = set(X_train['npi'])\n",
    "test_nps = set(X_test['npi'])\n",
    "print(len(train_nps.intersection(test_nps))) # should be zero"
   ]
  },
  {
   "cell_type": "code",
   "execution_count": 68,
   "metadata": {
    "scrolled": false
   },
   "outputs": [
    {
     "name": "stdout",
     "output_type": "stream",
     "text": [
      "[[1. 0.]\n",
      " [1. 0.]\n",
      " [1. 0.]\n",
      " ...\n",
      " [0. 1.]\n",
      " [0. 1.]\n",
      " [0. 1.]]\n",
      "1.0\n"
     ]
    },
    {
     "data": {
      "text/plain": [
       "array([[819898,      0],\n",
       "       [     2,   9998]], dtype=int64)"
      ]
     },
     "execution_count": 68,
     "metadata": {},
     "output_type": "execute_result"
    }
   ],
   "source": [
    "y_pred = clf.predict(X_train)\n",
    "y_pred_prob = clf.predict_proba(X_train)\n",
    "print(y_pred_prob)\n",
    "print(roc_auc_score(y_train, y_pred_prob[:,1]))\n",
    "confusion_matrix(y_train, y_pred)"
   ]
  },
  {
   "cell_type": "code",
   "execution_count": 69,
   "metadata": {},
   "outputs": [
    {
     "name": "stdout",
     "output_type": "stream",
     "text": [
      "[[1. 0.]\n",
      " [1. 0.]\n",
      " [1. 0.]\n",
      " ...\n",
      " [1. 0.]\n",
      " [1. 0.]\n",
      " [1. 0.]]\n",
      "0.6933726266744321\n"
     ]
    },
    {
     "data": {
      "text/plain": [
       "array([[85000,     0],\n",
       "       [  100,     1]], dtype=int64)"
      ]
     },
     "execution_count": 69,
     "metadata": {},
     "output_type": "execute_result"
    }
   ],
   "source": [
    "y_pred = clf.predict(X_test)\n",
    "y_pred_prob = clf.predict_proba(X_test)\n",
    "print(y_pred_prob)\n",
    "print(roc_auc_score(y_test, y_pred_prob[:,1]))\n",
    "confusion_matrix(y_test, y_pred)"
   ]
  },
  {
   "cell_type": "code",
   "execution_count": 70,
   "metadata": {},
   "outputs": [
    {
     "data": {
      "text/plain": [
       "0    819898\n",
       "1    100000\n",
       "Name: is_excluded, dtype: int64"
      ]
     },
     "execution_count": 70,
     "metadata": {},
     "output_type": "execute_result"
    }
   ],
   "source": [
    "#Upsampling only\n",
    "\n",
    "ag_2017_majority = ag_2017[ag_2017['is_excluded'] == 0]\n",
    "ag_2017_minority = ag_2017[ag_2017['is_excluded'] > 0]\n",
    "\n",
    "# Increase by 10 times\n",
    "ag_2017_minority_upsampled = resample(ag_2017_minority, replace=True, n_samples=100000, random_state=42) \n",
    "ag_2017_upsampled = pd.concat([ag_2017_majority, ag_2017_minority_upsampled])  \n",
    "ag_2017_upsampled['is_excluded'].value_counts()"
   ]
  },
  {
   "cell_type": "code",
   "execution_count": 71,
   "metadata": {
    "scrolled": true
   },
   "outputs": [],
   "source": [
    "#fudged data (ag_2017) only for train, regular data (new_df) only for test\n",
    "X_train = ag_2017_upsampled.drop(['is_excluded'], axis=1)\n",
    "y_train = ag_2017_upsampled['is_excluded']\n",
    "X_test = new_df.drop(['is_excluded'], axis =1)\n",
    "y_test = new_df[\"is_excluded\"]\n",
    "\n",
    "#X_train, X_test, y_train, y_test = train_test_split(X, y, test_size=0.33, random_state=42)"
   ]
  },
  {
   "cell_type": "code",
   "execution_count": 72,
   "metadata": {},
   "outputs": [],
   "source": [
    "pca = decomposition.PCA(n_components='mle')\n",
    "X_train = pca.fit_transform(X_train)\n",
    "X_test = pca.fit_transform(X_test)"
   ]
  },
  {
   "cell_type": "code",
   "execution_count": 73,
   "metadata": {},
   "outputs": [
    {
     "name": "stdout",
     "output_type": "stream",
     "text": [
      "[7.55624846e-01 1.75888228e-01 2.25410162e-02 1.58776591e-02\n",
      " 1.04282443e-02 5.89805273e-03 5.55271872e-03 3.39409623e-03\n",
      " 2.01583979e-03 1.06416590e-03 8.18676546e-04 5.22530227e-04\n",
      " 3.55722779e-04 1.31748643e-05 4.19840119e-06 3.53842574e-07\n",
      " 2.47372171e-07 1.11584540e-07 5.49614505e-08 5.04209631e-08\n",
      " 5.30553423e-09 3.01414248e-09 2.68924110e-09 2.37384013e-10\n",
      " 1.53460003e-10]\n"
     ]
    }
   ],
   "source": [
    "print(pca.explained_variance_ratio_)"
   ]
  },
  {
   "cell_type": "code",
   "execution_count": 74,
   "metadata": {},
   "outputs": [],
   "source": [
    "Labels = ag_2017.drop([\"is_excluded\"],axis = 1).columns"
   ]
  },
  {
   "cell_type": "code",
   "execution_count": 75,
   "metadata": {},
   "outputs": [
    {
     "data": {
      "text/plain": [
       "['total_day_supply',\n",
       " 'lis_cost_per_claim',\n",
       " 'mapd_cost_per_claim',\n",
       " 'nonlis_cost_per_claim',\n",
       " 'pdp_cost_per_claim',\n",
       " 't_cost_per_claim',\n",
       " 'total_day_supply_ge65',\n",
       " 'nonlis_cost_per_claim',\n",
       " 'antibiotic_cost_per_claim',\n",
       " 'opioid_day_supply',\n",
       " 'antipsych_cost_per_claim_ge65',\n",
       " 't_cost_per_claim_excluded',\n",
       " 'opioid_cost_per_claim',\n",
       " 'total_30_day_fill_count',\n",
       " 't_claim_per_bene_ge65',\n",
       " 'opioid_claim_per_bene',\n",
       " 'antipsych_claim_per_bene_ge65',\n",
       " 'antibiotic_claim_per_bene',\n",
       " 'total_30_day_fill_count_ge65',\n",
       " '%b2bg_drug_cost',\n",
       " 'opioid_prescriber_rate',\n",
       " '%b2bg_claim_count',\n",
       " 't_claim_count_schedule2',\n",
       " 't_claim_per_bene',\n",
       " '%b2t_drug_cost']"
      ]
     },
     "execution_count": 75,
     "metadata": {},
     "output_type": "execute_result"
    }
   ],
   "source": [
    "#new Labels after PCA\n",
    "most_important = [np.abs(pca.components_[i]).argmax() for i in range(len(pca.components_))]\n",
    "most_important_names = [Labels[most_important[i]] for i in range(len(pca.components_))]\n",
    "dic = {'PC{}'.format(i+1): most_important_names[i] for i in range(len(pca.components_))}\n",
    "newLabels = list(dic.values())\n",
    "newLabels"
   ]
  },
  {
   "cell_type": "code",
   "execution_count": 76,
   "metadata": {},
   "outputs": [
    {
     "data": {
      "text/plain": [
       "RandomForestClassifier(bootstrap=True, class_weight=None, criterion='gini',\n",
       "            max_depth=None, max_features='auto', max_leaf_nodes=None,\n",
       "            min_impurity_decrease=0.0, min_impurity_split=None,\n",
       "            min_samples_leaf=1, min_samples_split=2,\n",
       "            min_weight_fraction_leaf=0.0, n_estimators=25, n_jobs=None,\n",
       "            oob_score=False, random_state=42, verbose=0, warm_start=False)"
      ]
     },
     "execution_count": 76,
     "metadata": {},
     "output_type": "execute_result"
    }
   ],
   "source": [
    "clf = RandomForestClassifier(n_estimators=25, random_state=42)\n",
    "clf.fit(X_train, y_train)"
   ]
  },
  {
   "cell_type": "code",
   "execution_count": 77,
   "metadata": {},
   "outputs": [
    {
     "name": "stdout",
     "output_type": "stream",
     "text": [
      "101\n"
     ]
    }
   ],
   "source": [
    "#excluded samples in test data\n",
    "count = 0\n",
    "for x in y_test:\n",
    "    if int(x)== 1:\n",
    "        count +=1\n",
    "print(count)"
   ]
  },
  {
   "cell_type": "code",
   "execution_count": 78,
   "metadata": {},
   "outputs": [
    {
     "name": "stdout",
     "output_type": "stream",
     "text": [
      "100000\n"
     ]
    }
   ],
   "source": [
    "#excluded samples in train data\n",
    "count2 = 0\n",
    "for x in y_train:\n",
    "    if int(x)== 1:\n",
    "        count2 +=1\n",
    "print(count2)"
   ]
  },
  {
   "cell_type": "code",
   "execution_count": 79,
   "metadata": {},
   "outputs": [
    {
     "data": {
      "text/plain": [
       "array([0.06874497, 0.0264882 , 0.02457834, 0.02186707, 0.10327989,\n",
       "       0.04318013, 0.01656931, 0.0202053 , 0.01561402, 0.0285029 ,\n",
       "       0.02629664, 0.02910601, 0.06932389, 0.02777577, 0.02400121,\n",
       "       0.07851918, 0.05135257, 0.03759006, 0.01299638, 0.01190349,\n",
       "       0.00785344, 0.0475888 , 0.00835924, 0.00599141, 0.19231179])"
      ]
     },
     "execution_count": 79,
     "metadata": {},
     "output_type": "execute_result"
    }
   ],
   "source": [
    "clf.feature_importances_"
   ]
  },
  {
   "cell_type": "code",
   "execution_count": 80,
   "metadata": {},
   "outputs": [
    {
     "name": "stdout",
     "output_type": "stream",
     "text": [
      "1.0\n"
     ]
    },
    {
     "data": {
      "text/plain": [
       "array([[819898,      0],\n",
       "       [     0, 100000]], dtype=int64)"
      ]
     },
     "execution_count": 80,
     "metadata": {},
     "output_type": "execute_result"
    }
   ],
   "source": [
    "y_pred = clf.predict(X_train)\n",
    "y_pred_prob = clf.predict_proba(X_train)\n",
    "print(roc_auc_score(y_train, y_pred_prob[:,1]))\n",
    "confusion_matrix(y_train, y_pred)"
   ]
  },
  {
   "cell_type": "code",
   "execution_count": 81,
   "metadata": {},
   "outputs": [
    {
     "name": "stdout",
     "output_type": "stream",
     "text": [
      "0.542018520675597\n"
     ]
    },
    {
     "data": {
      "text/plain": [
       "array([[85000,     0],\n",
       "       [  101,     0]], dtype=int64)"
      ]
     },
     "execution_count": 81,
     "metadata": {},
     "output_type": "execute_result"
    }
   ],
   "source": [
    "y_pred = clf.predict(X_test)\n",
    "y_pred_prob = clf.predict_proba(X_test)\n",
    "print(roc_auc_score(y_test, y_pred_prob[:,1]))\n",
    "confusion_matrix(y_test, y_pred)"
   ]
  },
  {
   "cell_type": "code",
   "execution_count": 82,
   "metadata": {},
   "outputs": [
    {
     "data": {
      "text/plain": [
       "0    81980\n",
       "1    10000\n",
       "Name: is_excluded, dtype: int64"
      ]
     },
     "execution_count": 82,
     "metadata": {},
     "output_type": "execute_result"
    }
   ],
   "source": [
    "#Training on downsampled only and testing on regular\n",
    "\n",
    "ag_2017_majority = ag_2017[ag_2017['is_excluded'] == 0]\n",
    "ag_2017_minority = ag_2017[ag_2017['is_excluded'] > 0]\n",
    "\n",
    "# Reduce by 10 times\n",
    "ag_2017_majority_downsampled = resample(ag_2017_majority, replace=True, n_samples=81980, random_state=42) \n",
    "ag_2017_downsampled = pd.concat([ag_2017_majority_downsampled, ag_2017_minority]) \n",
    "ag_2017_downsampled['is_excluded'].value_counts()"
   ]
  },
  {
   "cell_type": "code",
   "execution_count": 83,
   "metadata": {},
   "outputs": [],
   "source": [
    "#fudged data (ag_2017) only for train, regular data (new_df) only for test\n",
    "X_train = ag_2017_downsampled.drop(['is_excluded'], axis=1)\n",
    "y_train = ag_2017_downsampled['is_excluded']\n",
    "X_test = new_df.drop(['is_excluded'], axis =1)\n",
    "y_test = new_df[\"is_excluded\"]\n",
    "\n",
    "#X_train, X_test, y_train, y_test = train_test_split(X, y, test_size=0.33, random_state=42)"
   ]
  },
  {
   "cell_type": "code",
   "execution_count": 84,
   "metadata": {},
   "outputs": [],
   "source": [
    "pca = decomposition.PCA(n_components='mle')\n",
    "X_train = pca.fit_transform(X_train)\n",
    "X_test = pca.fit_transform(X_test)"
   ]
  },
  {
   "cell_type": "code",
   "execution_count": 85,
   "metadata": {},
   "outputs": [
    {
     "name": "stdout",
     "output_type": "stream",
     "text": [
      "[7.55624846e-01 1.75888228e-01 2.25410162e-02 1.58776591e-02\n",
      " 1.04282443e-02 5.89805273e-03 5.55271872e-03 3.39409623e-03\n",
      " 2.01583979e-03 1.06416590e-03 8.18676546e-04 5.22530227e-04\n",
      " 3.55722779e-04 1.31748643e-05 4.19840119e-06 3.53842574e-07\n",
      " 2.47372171e-07 1.11584540e-07 5.49614505e-08 5.04209631e-08\n",
      " 5.30553423e-09 3.01414248e-09 2.68924110e-09 2.37384013e-10\n",
      " 1.53460003e-10]\n"
     ]
    }
   ],
   "source": [
    "print(pca.explained_variance_ratio_)"
   ]
  },
  {
   "cell_type": "code",
   "execution_count": 86,
   "metadata": {},
   "outputs": [],
   "source": [
    "Labels = ag_2017.drop([\"is_excluded\"],axis = 1).columns"
   ]
  },
  {
   "cell_type": "code",
   "execution_count": 87,
   "metadata": {},
   "outputs": [
    {
     "data": {
      "text/plain": [
       "['total_day_supply',\n",
       " 'lis_cost_per_claim',\n",
       " 'mapd_cost_per_claim',\n",
       " 'nonlis_cost_per_claim',\n",
       " 'pdp_cost_per_claim',\n",
       " 't_cost_per_claim',\n",
       " 'total_day_supply_ge65',\n",
       " 'nonlis_cost_per_claim',\n",
       " 'antibiotic_cost_per_claim',\n",
       " 'opioid_day_supply',\n",
       " 'antipsych_cost_per_claim_ge65',\n",
       " 't_cost_per_claim_excluded',\n",
       " 'opioid_cost_per_claim',\n",
       " 'total_30_day_fill_count',\n",
       " 't_claim_per_bene_ge65',\n",
       " 'opioid_claim_per_bene',\n",
       " 'antipsych_claim_per_bene_ge65',\n",
       " 'antibiotic_claim_per_bene',\n",
       " 'total_30_day_fill_count_ge65',\n",
       " '%b2bg_drug_cost',\n",
       " 'opioid_prescriber_rate',\n",
       " '%b2bg_claim_count',\n",
       " 't_claim_count_schedule2',\n",
       " 't_claim_per_bene',\n",
       " '%b2t_drug_cost']"
      ]
     },
     "execution_count": 87,
     "metadata": {},
     "output_type": "execute_result"
    }
   ],
   "source": [
    "#new Labels after PCA\n",
    "most_important = [np.abs(pca.components_[i]).argmax() for i in range(len(pca.components_))]\n",
    "most_important_names = [Labels[most_important[i]] for i in range(len(pca.components_))]\n",
    "dic = {'PC{}'.format(i+1): most_important_names[i] for i in range(len(pca.components_))}\n",
    "newLabels = list(dic.values())\n",
    "newLabels"
   ]
  },
  {
   "cell_type": "code",
   "execution_count": 88,
   "metadata": {},
   "outputs": [
    {
     "data": {
      "text/plain": [
       "RandomForestClassifier(bootstrap=True, class_weight=None, criterion='gini',\n",
       "            max_depth=None, max_features='auto', max_leaf_nodes=None,\n",
       "            min_impurity_decrease=0.0, min_impurity_split=None,\n",
       "            min_samples_leaf=1, min_samples_split=2,\n",
       "            min_weight_fraction_leaf=0.0, n_estimators=25, n_jobs=None,\n",
       "            oob_score=False, random_state=42, verbose=0, warm_start=False)"
      ]
     },
     "execution_count": 88,
     "metadata": {},
     "output_type": "execute_result"
    }
   ],
   "source": [
    "clf = RandomForestClassifier(n_estimators=25, random_state=42)\n",
    "clf.fit(X_train, y_train)"
   ]
  },
  {
   "cell_type": "code",
   "execution_count": 89,
   "metadata": {},
   "outputs": [
    {
     "name": "stdout",
     "output_type": "stream",
     "text": [
      "101\n"
     ]
    }
   ],
   "source": [
    "#excluded samples in test data\n",
    "count = 0\n",
    "for x in y_test:\n",
    "    if int(x)== 1:\n",
    "        count +=1\n",
    "print(count)"
   ]
  },
  {
   "cell_type": "code",
   "execution_count": 90,
   "metadata": {},
   "outputs": [
    {
     "name": "stdout",
     "output_type": "stream",
     "text": [
      "10000\n"
     ]
    }
   ],
   "source": [
    "#excluded samples in train data\n",
    "count2 = 0\n",
    "for x in y_train:\n",
    "    if int(x)== 1:\n",
    "        count2 +=1\n",
    "print(count2)"
   ]
  },
  {
   "cell_type": "code",
   "execution_count": 91,
   "metadata": {},
   "outputs": [
    {
     "data": {
      "text/plain": [
       "array([0.04809911, 0.02670161, 0.0224888 , 0.01456178, 0.11102795,\n",
       "       0.01760979, 0.03626688, 0.01368643, 0.02377026, 0.04213942,\n",
       "       0.03337352, 0.0277199 , 0.07126094, 0.03895674, 0.03812661,\n",
       "       0.08614701, 0.05480246, 0.03227302, 0.01663207, 0.01653667,\n",
       "       0.00985061, 0.04548387, 0.00977167, 0.00505817, 0.15765471])"
      ]
     },
     "execution_count": 91,
     "metadata": {},
     "output_type": "execute_result"
    }
   ],
   "source": [
    "clf.feature_importances_"
   ]
  },
  {
   "cell_type": "code",
   "execution_count": 92,
   "metadata": {},
   "outputs": [
    {
     "name": "stdout",
     "output_type": "stream",
     "text": [
      "1.0\n"
     ]
    },
    {
     "data": {
      "text/plain": [
       "array([[81980,     0],\n",
       "       [    1,  9999]], dtype=int64)"
      ]
     },
     "execution_count": 92,
     "metadata": {},
     "output_type": "execute_result"
    }
   ],
   "source": [
    "y_pred = clf.predict(X_train)\n",
    "y_pred_prob = clf.predict_proba(X_train)\n",
    "print(roc_auc_score(y_train, y_pred_prob[:,1]))\n",
    "confusion_matrix(y_train, y_pred)"
   ]
  },
  {
   "cell_type": "code",
   "execution_count": 93,
   "metadata": {},
   "outputs": [
    {
     "name": "stdout",
     "output_type": "stream",
     "text": [
      "0.5780599883517764\n"
     ]
    },
    {
     "data": {
      "text/plain": [
       "array([[84225,   775],\n",
       "       [  100,     1]], dtype=int64)"
      ]
     },
     "execution_count": 93,
     "metadata": {},
     "output_type": "execute_result"
    }
   ],
   "source": [
    "y_pred = clf.predict(X_test)\n",
    "y_pred_prob = clf.predict_proba(X_test)\n",
    "print(roc_auc_score(y_test, y_pred_prob[:,1]))\n",
    "confusion_matrix(y_test, y_pred)"
   ]
  },
  {
   "cell_type": "code",
   "execution_count": 94,
   "metadata": {},
   "outputs": [
    {
     "data": {
      "text/plain": [
       "1    100000\n",
       "0     81980\n",
       "Name: is_excluded, dtype: int64"
      ]
     },
     "execution_count": 94,
     "metadata": {},
     "output_type": "execute_result"
    }
   ],
   "source": [
    "#Upsampling/downsampling on training and testing on regular\n",
    "\n",
    "ag_2017_majority = ag_2017[ag_2017['is_excluded'] == 0]\n",
    "ag_2017_minority = ag_2017[ag_2017['is_excluded'] > 0]\n",
    "\n",
    "ag_2017_updownsampled = pd.concat([ag_2017_majority_downsampled, ag_2017_minority_upsampled]) \n",
    "ag_2017_updownsampled['is_excluded'].value_counts()"
   ]
  },
  {
   "cell_type": "code",
   "execution_count": 95,
   "metadata": {},
   "outputs": [],
   "source": [
    "#fudged data (ag_2017) only for train, regular data (new_df) only for test\n",
    "\n",
    "X_train = ag_2017_updownsampled.drop(['is_excluded'], axis=1)\n",
    "y_train = ag_2017_updownsampled['is_excluded']\n",
    "X_test = new_df.drop(['is_excluded'], axis =1)\n",
    "y_test = new_df[\"is_excluded\"]\n",
    "#X_train, X_test, y_train, y_test = train_test_split(X, y, test_size=0.25, random_state=42)"
   ]
  },
  {
   "cell_type": "code",
   "execution_count": 96,
   "metadata": {},
   "outputs": [],
   "source": [
    "pca = decomposition.PCA(n_components='mle')\n",
    "X_train = pca.fit_transform(X_train)\n",
    "X_test = pca.fit_transform(X_test)"
   ]
  },
  {
   "cell_type": "code",
   "execution_count": 97,
   "metadata": {},
   "outputs": [
    {
     "name": "stdout",
     "output_type": "stream",
     "text": [
      "[7.55624846e-01 1.75888228e-01 2.25410162e-02 1.58776591e-02\n",
      " 1.04282443e-02 5.89805273e-03 5.55271872e-03 3.39409623e-03\n",
      " 2.01583979e-03 1.06416590e-03 8.18676546e-04 5.22530227e-04\n",
      " 3.55722779e-04 1.31748643e-05 4.19840119e-06 3.53842574e-07\n",
      " 2.47372171e-07 1.11584540e-07 5.49614505e-08 5.04209631e-08\n",
      " 5.30553423e-09 3.01414248e-09 2.68924110e-09 2.37384013e-10\n",
      " 1.53460003e-10]\n"
     ]
    }
   ],
   "source": [
    "print(pca.explained_variance_ratio_)"
   ]
  },
  {
   "cell_type": "code",
   "execution_count": 98,
   "metadata": {},
   "outputs": [],
   "source": [
    "Labels = ag_2017.drop([\"is_excluded\"],axis = 1).columns"
   ]
  },
  {
   "cell_type": "code",
   "execution_count": 99,
   "metadata": {},
   "outputs": [
    {
     "data": {
      "text/plain": [
       "['total_day_supply',\n",
       " 'lis_cost_per_claim',\n",
       " 'mapd_cost_per_claim',\n",
       " 'nonlis_cost_per_claim',\n",
       " 'pdp_cost_per_claim',\n",
       " 't_cost_per_claim',\n",
       " 'total_day_supply_ge65',\n",
       " 'nonlis_cost_per_claim',\n",
       " 'antibiotic_cost_per_claim',\n",
       " 'opioid_day_supply',\n",
       " 'antipsych_cost_per_claim_ge65',\n",
       " 't_cost_per_claim_excluded',\n",
       " 'opioid_cost_per_claim',\n",
       " 'total_30_day_fill_count',\n",
       " 't_claim_per_bene_ge65',\n",
       " 'opioid_claim_per_bene',\n",
       " 'antipsych_claim_per_bene_ge65',\n",
       " 'antibiotic_claim_per_bene',\n",
       " 'total_30_day_fill_count_ge65',\n",
       " '%b2bg_drug_cost',\n",
       " 'opioid_prescriber_rate',\n",
       " '%b2bg_claim_count',\n",
       " 't_claim_count_schedule2',\n",
       " 't_claim_per_bene',\n",
       " '%b2t_drug_cost']"
      ]
     },
     "execution_count": 99,
     "metadata": {},
     "output_type": "execute_result"
    }
   ],
   "source": [
    "#new Labels after PCA\n",
    "most_important = [np.abs(pca.components_[i]).argmax() for i in range(len(pca.components_))]\n",
    "most_important_names = [Labels[most_important[i]] for i in range(len(pca.components_))]\n",
    "dic = {'PC{}'.format(i+1): most_important_names[i] for i in range(len(pca.components_))}\n",
    "newLabels = list(dic.values())\n",
    "newLabels"
   ]
  },
  {
   "cell_type": "code",
   "execution_count": 100,
   "metadata": {},
   "outputs": [
    {
     "data": {
      "text/plain": [
       "RandomForestClassifier(bootstrap=True, class_weight=None, criterion='gini',\n",
       "            max_depth=None, max_features='auto', max_leaf_nodes=None,\n",
       "            min_impurity_decrease=0.0, min_impurity_split=None,\n",
       "            min_samples_leaf=1, min_samples_split=2,\n",
       "            min_weight_fraction_leaf=0.0, n_estimators=25, n_jobs=None,\n",
       "            oob_score=False, random_state=42, verbose=0, warm_start=False)"
      ]
     },
     "execution_count": 100,
     "metadata": {},
     "output_type": "execute_result"
    }
   ],
   "source": [
    "clf = RandomForestClassifier(n_estimators=25, random_state=42)\n",
    "clf.fit(X_train, y_train)"
   ]
  },
  {
   "cell_type": "code",
   "execution_count": 101,
   "metadata": {},
   "outputs": [
    {
     "name": "stdout",
     "output_type": "stream",
     "text": [
      "101\n"
     ]
    }
   ],
   "source": [
    "#excluded samples in test data\n",
    "count = 0\n",
    "for x in y_test:\n",
    "    if int(x)== 1:\n",
    "        count +=1\n",
    "print(count)"
   ]
  },
  {
   "cell_type": "code",
   "execution_count": 102,
   "metadata": {},
   "outputs": [
    {
     "name": "stdout",
     "output_type": "stream",
     "text": [
      "100000\n"
     ]
    }
   ],
   "source": [
    "#excluded samples in train data\n",
    "count2 = 0\n",
    "for x in y_train:\n",
    "    if int(x)== 1:\n",
    "        count2 +=1\n",
    "print(count2)"
   ]
  },
  {
   "cell_type": "code",
   "execution_count": 103,
   "metadata": {},
   "outputs": [
    {
     "data": {
      "text/plain": [
       "array([0.16369178, 0.02236719, 0.15741082, 0.0548665 , 0.02354605,\n",
       "       0.03439135, 0.05561815, 0.00961526, 0.02339643, 0.01660169,\n",
       "       0.01857692, 0.05758233, 0.01848202, 0.03919844, 0.01180195,\n",
       "       0.05084072, 0.02538314, 0.02036149, 0.01310358, 0.08717779,\n",
       "       0.01394692, 0.03371268, 0.02425228, 0.00123037, 0.02284417])"
      ]
     },
     "execution_count": 103,
     "metadata": {},
     "output_type": "execute_result"
    }
   ],
   "source": [
    "clf.feature_importances_"
   ]
  },
  {
   "cell_type": "code",
   "execution_count": 104,
   "metadata": {},
   "outputs": [
    {
     "name": "stdout",
     "output_type": "stream",
     "text": [
      "1.0\n"
     ]
    },
    {
     "data": {
      "text/plain": [
       "array([[ 81980,      0],\n",
       "       [     0, 100000]], dtype=int64)"
      ]
     },
     "execution_count": 104,
     "metadata": {},
     "output_type": "execute_result"
    }
   ],
   "source": [
    "y_pred = clf.predict(X_train)\n",
    "y_pred_prob = clf.predict_proba(X_train)\n",
    "print(roc_auc_score(y_train, y_pred_prob[:,1]))\n",
    "confusion_matrix(y_train, y_pred)"
   ]
  },
  {
   "cell_type": "code",
   "execution_count": 105,
   "metadata": {},
   "outputs": [
    {
     "name": "stdout",
     "output_type": "stream",
     "text": [
      "0.5052888759464181\n"
     ]
    },
    {
     "data": {
      "text/plain": [
       "array([[85000,     0],\n",
       "       [  101,     0]], dtype=int64)"
      ]
     },
     "execution_count": 105,
     "metadata": {},
     "output_type": "execute_result"
    }
   ],
   "source": [
    "y_pred = clf.predict(X_test)\n",
    "y_pred_prob = clf.predict_proba(X_test)\n",
    "print(roc_auc_score(y_test, y_pred_prob[:,1]))\n",
    "confusion_matrix(y_test, y_pred)"
   ]
  },
  {
   "cell_type": "markdown",
   "metadata": {},
   "source": [
    "In conclusion, results from downsampling is the best."
   ]
  }
 ],
 "metadata": {
  "kernelspec": {
   "display_name": "Python 3",
   "language": "python",
   "name": "python3"
  },
  "language_info": {
   "codemirror_mode": {
    "name": "ipython",
    "version": 3
   },
   "file_extension": ".py",
   "mimetype": "text/x-python",
   "name": "python",
   "nbconvert_exporter": "python",
   "pygments_lexer": "ipython3",
   "version": "3.7.3"
  }
 },
 "nbformat": 4,
 "nbformat_minor": 2
}
